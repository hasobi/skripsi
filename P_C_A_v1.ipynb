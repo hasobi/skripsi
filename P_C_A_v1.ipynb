{
 "cells": [
  {
   "cell_type": "markdown",
   "metadata": {
    "colab_type": "text",
    "id": "mGu3r_lkClIv"
   },
   "source": [
    "#**Initialization**"
   ]
  },
  {
   "cell_type": "code",
   "execution_count": 1,
   "metadata": {
    "colab": {},
    "colab_type": "code",
    "id": "iugcO6p3CDpo"
   },
   "outputs": [],
   "source": [
    "import numpy as np\n",
    "import pandas as pd\n",
    "import matplotlib.pyplot as plt\n",
    "import seaborn as sns\n",
    "import sklearn\n",
    "\n",
    "from sklearn.decomposition import PCA\n",
    "from sklearn.preprocessing import MinMaxScaler"
   ]
  },
  {
   "cell_type": "code",
   "execution_count": 2,
   "metadata": {
    "colab": {},
    "colab_type": "code",
    "id": "qWveepWMCgqp"
   },
   "outputs": [],
   "source": [
    "url = 'https://raw.githubusercontent.com/hasobi/skripsi/master/dataset/KDDTrain%2B_v1.csv'"
   ]
  },
  {
   "cell_type": "code",
   "execution_count": 3,
   "metadata": {
    "colab": {},
    "colab_type": "code",
    "id": "xrG7iWPuCv6M"
   },
   "outputs": [],
   "source": [
    "# from google.colab import drive\n",
    "# drive.mount('/content/drive')"
   ]
  },
  {
   "cell_type": "code",
   "execution_count": 4,
   "metadata": {
    "colab": {},
    "colab_type": "code",
    "id": "bsGCXcuHCyAL"
   },
   "outputs": [],
   "source": [
    "# df = pd.read_csv('/content/drive/My Drive/Tugas Akhir a.k.a SKRIPSI/dataset/KDDTrain+_v1.csv')\n",
    "\n",
    "df = pd.read_csv(url)"
   ]
  },
  {
   "cell_type": "code",
   "execution_count": 5,
   "metadata": {
    "colab": {},
    "colab_type": "code",
    "id": "bOfbLozWC4xl"
   },
   "outputs": [],
   "source": [
    "data = df"
   ]
  },
  {
   "cell_type": "code",
<<<<<<< HEAD
   "execution_count": 0,
=======
   "execution_count": 6,
>>>>>>> 69610178921cf0ec389a20cf29704c5effd1bf41
   "metadata": {
    "colab": {},
    "colab_type": "code",
    "id": "RpL3-6foC0hC"
   },
   "outputs": [],
   "source": [
    "# dicitionary untuk merubah tipe serangan menjadi lebih umum seperti Normal, DoS, Probe, U2R, dan R2L\n",
    "\n",
    "attack_dict={ #DOS\n",
    "    'back' : 'dos',\n",
    "    'land' : 'dos',\n",
    "    'neptune' : 'dos',\n",
    "    'pod' : 'dos',\n",
    "    'smurf' : 'dos',\n",
    "    'teardrop' : 'dos',\n",
    "    'apache2' : 'dos',\n",
    "    'udpstorm' : 'dos',\n",
    "    'processtable' : 'dos',\n",
    "    'worm' : 'dos',\n",
    "    'mailbomb' : 'dos',\n",
    "    \n",
    "    #probe\n",
    "    'satan' : 'probe',\n",
    "    'ipsweep' : 'probe',\n",
    "    'nmap' : 'probe',\n",
    "    'portsweep' : 'probe',\n",
    "    'mscan' : 'probe',\n",
    "    'saint' : 'probe',\n",
    "    \n",
    "    #R2L\n",
    "    'guess_passwd' : 'r2l',\n",
    "    'ftp_write' : 'r2l',\n",
    "    'imap' : 'r2l',\n",
    "    'phf' : 'r2l',\n",
    "    'multihop' : 'r2l',\n",
    "    'warezmaster' : 'r2l',\n",
    "    'warezclient' : 'r2l',\n",
    "    'spy' : 'r2l',\n",
    "    'xlock' : 'r2l',\n",
    "    'xsnoop': 'r2l',\n",
    "    'snmpguess' : 'r2l',\n",
    "    'snmpgetattack' : 'r2l',\n",
    "    'httptunnel' : 'r2l',\n",
    "    'sendmail' : 'r2l',\n",
    "    'named' : 'r2l',\n",
    "    \n",
    "    #U2R\n",
    "    'buffer_overflow' : 'u2r',\n",
    "    'loadmodule' : 'u2r',\n",
    "    'rootkit' : 'u2r',\n",
    "    'perl' : 'u2r',\n",
    "    'sqlattack' : 'u2r',\n",
    "    'xterm' : 'u2r',\n",
    "    'ps' : 'u2r'\n",
    "}\n",
    "\n",
    "data.replace(attack_dict, inplace = True)"
   ]
  },
  {
   "cell_type": "code",
<<<<<<< HEAD
   "execution_count": 33,
=======
   "execution_count": 7,
>>>>>>> 69610178921cf0ec389a20cf29704c5effd1bf41
   "metadata": {
    "colab": {
     "base_uri": "https://localhost:8080/",
     "height": 224
    },
    "colab_type": "code",
    "id": "L9uEWX5XC6v1",
    "outputId": "b4ef2e3c-492e-4e6f-c0b4-175624ddf68b"
   },
   "outputs": [
    {
     "data": {
      "text/html": [
       "<div>\n",
       "<style scoped>\n",
       "    .dataframe tbody tr th:only-of-type {\n",
       "        vertical-align: middle;\n",
       "    }\n",
       "\n",
       "    .dataframe tbody tr th {\n",
       "        vertical-align: top;\n",
       "    }\n",
       "\n",
       "    .dataframe thead th {\n",
       "        text-align: right;\n",
       "    }\n",
       "</style>\n",
       "<table border=\"1\" class=\"dataframe\">\n",
       "  <thead>\n",
       "    <tr style=\"text-align: right;\">\n",
       "      <th></th>\n",
       "      <th>duration</th>\n",
       "      <th>protocol_type</th>\n",
       "      <th>service</th>\n",
       "      <th>flag</th>\n",
       "      <th>src_bytes</th>\n",
       "      <th>dst_bytes</th>\n",
       "      <th>land</th>\n",
       "      <th>wrong_fragment</th>\n",
       "      <th>urgent</th>\n",
       "      <th>hot</th>\n",
<<<<<<< HEAD
       "      <th>num_failed_logins</th>\n",
       "      <th>logged_in</th>\n",
       "      <th>num_compromised</th>\n",
       "      <th>root_shell</th>\n",
       "      <th>su_attempted</th>\n",
       "      <th>num_root</th>\n",
       "      <th>num_file_creations</th>\n",
       "      <th>num_shells</th>\n",
       "      <th>num_access_files</th>\n",
       "      <th>num_outbound_cmds</th>\n",
       "      <th>is_host_login</th>\n",
       "      <th>is_guest_login</th>\n",
       "      <th>count</th>\n",
       "      <th>srv_count</th>\n",
       "      <th>serror_rate</th>\n",
       "      <th>srv_serror_rate</th>\n",
       "      <th>rerror_rate</th>\n",
       "      <th>srv_rerror_rate</th>\n",
       "      <th>same_srv_rate</th>\n",
       "      <th>diff_srv_rate</th>\n",
       "      <th>srv_diff_host_rate</th>\n",
       "      <th>dst_host_count</th>\n",
       "      <th>dst_host_srv_count</th>\n",
=======
       "      <th>...</th>\n",
>>>>>>> 69610178921cf0ec389a20cf29704c5effd1bf41
       "      <th>dst_host_same_srv_rate</th>\n",
       "      <th>dst_host_diff_srv_rate</th>\n",
       "      <th>dst_host_same_src_port_rate</th>\n",
       "      <th>dst_host_srv_diff_host_rate</th>\n",
       "      <th>dst_host_serror_rate</th>\n",
       "      <th>dst_host_srv_serror_rate</th>\n",
       "      <th>dst_host_rerror_rate</th>\n",
       "      <th>dst_host_srv_rerror_rate</th>\n",
       "      <th>num_packet</th>\n",
       "      <th>type_attack</th>\n",
       "    </tr>\n",
       "  </thead>\n",
       "  <tbody>\n",
       "    <tr>\n",
<<<<<<< HEAD
       "      <th>0</th>\n",
=======
       "      <td>0</td>\n",
>>>>>>> 69610178921cf0ec389a20cf29704c5effd1bf41
       "      <td>0</td>\n",
       "      <td>udp</td>\n",
       "      <td>other</td>\n",
       "      <td>SF</td>\n",
       "      <td>146</td>\n",
       "      <td>0</td>\n",
       "      <td>0</td>\n",
       "      <td>0</td>\n",
       "      <td>0</td>\n",
       "      <td>0</td>\n",
<<<<<<< HEAD
       "      <td>0</td>\n",
       "      <td>0</td>\n",
       "      <td>0</td>\n",
       "      <td>0</td>\n",
       "      <td>0</td>\n",
       "      <td>0</td>\n",
       "      <td>0</td>\n",
       "      <td>0</td>\n",
       "      <td>0</td>\n",
       "      <td>0</td>\n",
       "      <td>0</td>\n",
       "      <td>0</td>\n",
       "      <td>13</td>\n",
       "      <td>1</td>\n",
       "      <td>0.0</td>\n",
       "      <td>0.0</td>\n",
       "      <td>0.0</td>\n",
       "      <td>0.0</td>\n",
       "      <td>0.08</td>\n",
       "      <td>0.15</td>\n",
       "      <td>0.00</td>\n",
       "      <td>255</td>\n",
       "      <td>1</td>\n",
=======
       "      <td>...</td>\n",
>>>>>>> 69610178921cf0ec389a20cf29704c5effd1bf41
       "      <td>0.00</td>\n",
       "      <td>0.60</td>\n",
       "      <td>0.88</td>\n",
       "      <td>0.00</td>\n",
       "      <td>0.00</td>\n",
       "      <td>0.00</td>\n",
       "      <td>0.0</td>\n",
       "      <td>0.00</td>\n",
       "      <td>15</td>\n",
       "      <td>normal</td>\n",
       "    </tr>\n",
       "    <tr>\n",
<<<<<<< HEAD
       "      <th>1</th>\n",
=======
       "      <td>1</td>\n",
>>>>>>> 69610178921cf0ec389a20cf29704c5effd1bf41
       "      <td>0</td>\n",
       "      <td>tcp</td>\n",
       "      <td>private</td>\n",
       "      <td>S0</td>\n",
       "      <td>0</td>\n",
       "      <td>0</td>\n",
       "      <td>0</td>\n",
       "      <td>0</td>\n",
       "      <td>0</td>\n",
       "      <td>0</td>\n",
<<<<<<< HEAD
       "      <td>0</td>\n",
       "      <td>0</td>\n",
       "      <td>0</td>\n",
       "      <td>0</td>\n",
       "      <td>0</td>\n",
       "      <td>0</td>\n",
       "      <td>0</td>\n",
       "      <td>0</td>\n",
       "      <td>0</td>\n",
       "      <td>0</td>\n",
       "      <td>0</td>\n",
       "      <td>0</td>\n",
       "      <td>123</td>\n",
       "      <td>6</td>\n",
       "      <td>1.0</td>\n",
       "      <td>1.0</td>\n",
       "      <td>0.0</td>\n",
       "      <td>0.0</td>\n",
       "      <td>0.05</td>\n",
       "      <td>0.07</td>\n",
       "      <td>0.00</td>\n",
       "      <td>255</td>\n",
       "      <td>26</td>\n",
=======
       "      <td>...</td>\n",
>>>>>>> 69610178921cf0ec389a20cf29704c5effd1bf41
       "      <td>0.10</td>\n",
       "      <td>0.05</td>\n",
       "      <td>0.00</td>\n",
       "      <td>0.00</td>\n",
       "      <td>1.00</td>\n",
       "      <td>1.00</td>\n",
       "      <td>0.0</td>\n",
       "      <td>0.00</td>\n",
       "      <td>19</td>\n",
       "      <td>dos</td>\n",
       "    </tr>\n",
       "    <tr>\n",
<<<<<<< HEAD
       "      <th>2</th>\n",
=======
       "      <td>2</td>\n",
>>>>>>> 69610178921cf0ec389a20cf29704c5effd1bf41
       "      <td>0</td>\n",
       "      <td>tcp</td>\n",
       "      <td>http</td>\n",
       "      <td>SF</td>\n",
       "      <td>232</td>\n",
       "      <td>8153</td>\n",
       "      <td>0</td>\n",
       "      <td>0</td>\n",
       "      <td>0</td>\n",
       "      <td>0</td>\n",
<<<<<<< HEAD
       "      <td>0</td>\n",
       "      <td>1</td>\n",
       "      <td>0</td>\n",
       "      <td>0</td>\n",
       "      <td>0</td>\n",
       "      <td>0</td>\n",
       "      <td>0</td>\n",
       "      <td>0</td>\n",
       "      <td>0</td>\n",
       "      <td>0</td>\n",
       "      <td>0</td>\n",
       "      <td>0</td>\n",
       "      <td>5</td>\n",
       "      <td>5</td>\n",
       "      <td>0.2</td>\n",
       "      <td>0.2</td>\n",
       "      <td>0.0</td>\n",
       "      <td>0.0</td>\n",
       "      <td>1.00</td>\n",
       "      <td>0.00</td>\n",
       "      <td>0.00</td>\n",
       "      <td>30</td>\n",
       "      <td>255</td>\n",
=======
       "      <td>...</td>\n",
>>>>>>> 69610178921cf0ec389a20cf29704c5effd1bf41
       "      <td>1.00</td>\n",
       "      <td>0.00</td>\n",
       "      <td>0.03</td>\n",
       "      <td>0.04</td>\n",
       "      <td>0.03</td>\n",
       "      <td>0.01</td>\n",
       "      <td>0.0</td>\n",
       "      <td>0.01</td>\n",
       "      <td>21</td>\n",
       "      <td>normal</td>\n",
       "    </tr>\n",
       "    <tr>\n",
<<<<<<< HEAD
       "      <th>3</th>\n",
=======
       "      <td>3</td>\n",
>>>>>>> 69610178921cf0ec389a20cf29704c5effd1bf41
       "      <td>0</td>\n",
       "      <td>tcp</td>\n",
       "      <td>http</td>\n",
       "      <td>SF</td>\n",
       "      <td>199</td>\n",
       "      <td>420</td>\n",
       "      <td>0</td>\n",
       "      <td>0</td>\n",
       "      <td>0</td>\n",
       "      <td>0</td>\n",
<<<<<<< HEAD
       "      <td>0</td>\n",
       "      <td>1</td>\n",
       "      <td>0</td>\n",
       "      <td>0</td>\n",
       "      <td>0</td>\n",
       "      <td>0</td>\n",
       "      <td>0</td>\n",
       "      <td>0</td>\n",
       "      <td>0</td>\n",
       "      <td>0</td>\n",
       "      <td>0</td>\n",
       "      <td>0</td>\n",
       "      <td>30</td>\n",
       "      <td>32</td>\n",
       "      <td>0.0</td>\n",
       "      <td>0.0</td>\n",
       "      <td>0.0</td>\n",
       "      <td>0.0</td>\n",
       "      <td>1.00</td>\n",
       "      <td>0.00</td>\n",
       "      <td>0.09</td>\n",
       "      <td>255</td>\n",
       "      <td>255</td>\n",
=======
       "      <td>...</td>\n",
>>>>>>> 69610178921cf0ec389a20cf29704c5effd1bf41
       "      <td>1.00</td>\n",
       "      <td>0.00</td>\n",
       "      <td>0.00</td>\n",
       "      <td>0.00</td>\n",
       "      <td>0.00</td>\n",
       "      <td>0.00</td>\n",
       "      <td>0.0</td>\n",
       "      <td>0.00</td>\n",
       "      <td>21</td>\n",
       "      <td>normal</td>\n",
       "    </tr>\n",
       "    <tr>\n",
<<<<<<< HEAD
       "      <th>4</th>\n",
=======
       "      <td>4</td>\n",
>>>>>>> 69610178921cf0ec389a20cf29704c5effd1bf41
       "      <td>0</td>\n",
       "      <td>tcp</td>\n",
       "      <td>private</td>\n",
       "      <td>REJ</td>\n",
       "      <td>0</td>\n",
       "      <td>0</td>\n",
       "      <td>0</td>\n",
       "      <td>0</td>\n",
       "      <td>0</td>\n",
       "      <td>0</td>\n",
<<<<<<< HEAD
       "      <td>0</td>\n",
       "      <td>0</td>\n",
       "      <td>0</td>\n",
       "      <td>0</td>\n",
       "      <td>0</td>\n",
       "      <td>0</td>\n",
       "      <td>0</td>\n",
       "      <td>0</td>\n",
       "      <td>0</td>\n",
       "      <td>0</td>\n",
       "      <td>0</td>\n",
       "      <td>0</td>\n",
       "      <td>121</td>\n",
       "      <td>19</td>\n",
       "      <td>0.0</td>\n",
       "      <td>0.0</td>\n",
       "      <td>1.0</td>\n",
       "      <td>1.0</td>\n",
       "      <td>0.16</td>\n",
       "      <td>0.06</td>\n",
       "      <td>0.00</td>\n",
       "      <td>255</td>\n",
       "      <td>19</td>\n",
=======
       "      <td>...</td>\n",
>>>>>>> 69610178921cf0ec389a20cf29704c5effd1bf41
       "      <td>0.07</td>\n",
       "      <td>0.07</td>\n",
       "      <td>0.00</td>\n",
       "      <td>0.00</td>\n",
       "      <td>0.00</td>\n",
       "      <td>0.00</td>\n",
       "      <td>1.0</td>\n",
       "      <td>1.00</td>\n",
       "      <td>21</td>\n",
       "      <td>dos</td>\n",
       "    </tr>\n",
       "  </tbody>\n",
       "</table>\n",
<<<<<<< HEAD
       "</div>"
      ],
      "text/plain": [
       "   duration protocol_type  ... num_packet type_attack\n",
       "0         0           udp  ...         15      normal\n",
       "1         0           tcp  ...         19         dos\n",
       "2         0           tcp  ...         21      normal\n",
       "3         0           tcp  ...         21      normal\n",
       "4         0           tcp  ...         21         dos\n",
=======
       "<p>5 rows × 43 columns</p>\n",
       "</div>"
      ],
      "text/plain": [
       "   duration protocol_type  service flag  src_bytes  dst_bytes  land  \\\n",
       "0         0           udp    other   SF        146          0     0   \n",
       "1         0           tcp  private   S0          0          0     0   \n",
       "2         0           tcp     http   SF        232       8153     0   \n",
       "3         0           tcp     http   SF        199        420     0   \n",
       "4         0           tcp  private  REJ          0          0     0   \n",
       "\n",
       "   wrong_fragment  urgent  hot  ...  dst_host_same_srv_rate  \\\n",
       "0               0       0    0  ...                    0.00   \n",
       "1               0       0    0  ...                    0.10   \n",
       "2               0       0    0  ...                    1.00   \n",
       "3               0       0    0  ...                    1.00   \n",
       "4               0       0    0  ...                    0.07   \n",
       "\n",
       "   dst_host_diff_srv_rate  dst_host_same_src_port_rate  \\\n",
       "0                    0.60                         0.88   \n",
       "1                    0.05                         0.00   \n",
       "2                    0.00                         0.03   \n",
       "3                    0.00                         0.00   \n",
       "4                    0.07                         0.00   \n",
       "\n",
       "   dst_host_srv_diff_host_rate  dst_host_serror_rate  \\\n",
       "0                         0.00                  0.00   \n",
       "1                         0.00                  1.00   \n",
       "2                         0.04                  0.03   \n",
       "3                         0.00                  0.00   \n",
       "4                         0.00                  0.00   \n",
       "\n",
       "   dst_host_srv_serror_rate  dst_host_rerror_rate  dst_host_srv_rerror_rate  \\\n",
       "0                      0.00                   0.0                      0.00   \n",
       "1                      1.00                   0.0                      0.00   \n",
       "2                      0.01                   0.0                      0.01   \n",
       "3                      0.00                   0.0                      0.00   \n",
       "4                      0.00                   1.0                      1.00   \n",
       "\n",
       "   num_packet  type_attack  \n",
       "0          15       normal  \n",
       "1          19          dos  \n",
       "2          21       normal  \n",
       "3          21       normal  \n",
       "4          21          dos  \n",
>>>>>>> 69610178921cf0ec389a20cf29704c5effd1bf41
       "\n",
       "[5 rows x 43 columns]"
      ]
     },
<<<<<<< HEAD
     "execution_count": 33,
     "metadata": {
      "tags": []
     },
=======
     "execution_count": 7,
     "metadata": {},
>>>>>>> 69610178921cf0ec389a20cf29704c5effd1bf41
     "output_type": "execute_result"
    }
   ],
   "source": [
    "data.head()"
   ]
  },
  {
   "cell_type": "markdown",
   "metadata": {
    "colab_type": "text",
    "id": "FF2wwVT9DUeG"
   },
   "source": [
    "# Define Data"
   ]
  },
  {
   "cell_type": "code",
<<<<<<< HEAD
   "execution_count": 0,
=======
   "execution_count": 8,
>>>>>>> 69610178921cf0ec389a20cf29704c5effd1bf41
   "metadata": {
    "colab": {},
    "colab_type": "code",
    "id": "3Qq0_q5CDWOD"
   },
   "outputs": [],
   "source": [
    "data1 = data.loc[data['type_attack'].isin(['normal','dos'])]"
   ]
  },
  {
   "cell_type": "code",
<<<<<<< HEAD
   "execution_count": 35,
=======
   "execution_count": 9,
>>>>>>> 69610178921cf0ec389a20cf29704c5effd1bf41
   "metadata": {
    "colab": {
     "base_uri": "https://localhost:8080/",
     "height": 102
    },
    "colab_type": "code",
    "id": "rsofc4k6DgYb",
    "outputId": "31aab3e1-f614-4dee-9fea-385cbb4edce6"
   },
   "outputs": [
    {
     "name": "stderr",
     "output_type": "stream",
     "text": [
<<<<<<< HEAD
      "/usr/local/lib/python3.6/dist-packages/pandas/core/frame.py:4117: SettingWithCopyWarning: \n",
=======
      "C:\\Users\\sobi\\Anaconda3\\lib\\site-packages\\pandas\\core\\frame.py:4102: SettingWithCopyWarning: \n",
>>>>>>> 69610178921cf0ec389a20cf29704c5effd1bf41
      "A value is trying to be set on a copy of a slice from a DataFrame\n",
      "\n",
      "See the caveats in the documentation: http://pandas.pydata.org/pandas-docs/stable/user_guide/indexing.html#returning-a-view-versus-a-copy\n",
      "  errors=errors,\n"
     ]
    }
   ],
   "source": [
    "data1.drop('num_packet', axis=1, inplace=True)"
   ]
  },
  {
   "cell_type": "code",
<<<<<<< HEAD
   "execution_count": 36,
=======
   "execution_count": 10,
>>>>>>> 69610178921cf0ec389a20cf29704c5effd1bf41
   "metadata": {
    "colab": {
     "base_uri": "https://localhost:8080/",
     "height": 102
    },
    "colab_type": "code",
    "id": "C0y4RceTDh8a",
    "outputId": "d9ac21db-d78e-469c-d029-37db1240ee8b"
   },
<<<<<<< HEAD
   "outputs": [
    {
     "name": "stderr",
     "output_type": "stream",
     "text": [
      "/usr/local/lib/python3.6/dist-packages/pandas/core/frame.py:4117: SettingWithCopyWarning: \n",
      "A value is trying to be set on a copy of a slice from a DataFrame\n",
      "\n",
      "See the caveats in the documentation: http://pandas.pydata.org/pandas-docs/stable/user_guide/indexing.html#returning-a-view-versus-a-copy\n",
      "  errors=errors,\n"
     ]
    }
   ],
=======
   "outputs": [],
>>>>>>> 69610178921cf0ec389a20cf29704c5effd1bf41
   "source": [
    "data1.drop('type_attack', axis=1, inplace=True)"
   ]
  },
  {
   "cell_type": "code",
<<<<<<< HEAD
   "execution_count": 37,
=======
   "execution_count": 11,
>>>>>>> 69610178921cf0ec389a20cf29704c5effd1bf41
   "metadata": {
    "colab": {
     "base_uri": "https://localhost:8080/",
     "height": 102
    },
    "colab_type": "code",
    "id": "89aYXfD5Dmhv",
    "outputId": "48d75485-902d-4c03-b38e-e77f7e975e2c"
   },
   "outputs": [
    {
     "name": "stderr",
     "output_type": "stream",
     "text": [
<<<<<<< HEAD
      "/usr/local/lib/python3.6/dist-packages/pandas/core/frame.py:4278: SettingWithCopyWarning: \n",
=======
      "C:\\Users\\sobi\\Anaconda3\\lib\\site-packages\\pandas\\core\\frame.py:4263: SettingWithCopyWarning: \n",
>>>>>>> 69610178921cf0ec389a20cf29704c5effd1bf41
      "A value is trying to be set on a copy of a slice from a DataFrame\n",
      "\n",
      "See the caveats in the documentation: http://pandas.pydata.org/pandas-docs/stable/user_guide/indexing.html#returning-a-view-versus-a-copy\n",
      "  method=method,\n"
     ]
    }
   ],
   "source": [
    "protocol_dict ={\n",
    "    \"udp\" : 0,\n",
    "    \"tcp\" : 1,\n",
    "    \"icmp\": 2\n",
    "}\n",
    "\n",
    "service_dict={\n",
    "    \"Z39_50\" : 0,\n",
    "    \"X11\" : 1,\n",
    "    \"whois\" : 2,\n",
    "    \"vmnet\" : 3,\n",
    "    \"uucp_path\" : 4,\n",
    "    \"uucp\" : 5,\n",
    "    \"urp_i\" : 6,\n",
    "    \"urh_i\" : 7,\n",
    "    \"time\" : 8,\n",
    "    \"tim_i\" : 9,\n",
    "    \"tftp_u\" : 10,\n",
    "    \"telnet\" : 11,\n",
    "    \"systat\" : 12,\n",
    "    \"supdup\" : 13,\n",
    "    \"sunrpc\" : 14,\n",
    "    \"ssh\" : 15,\n",
    "    \"sql_net\" : 16,\n",
    "    \"smtp\" : 17,\n",
    "    \"shell\" : 18,\n",
    "    \"rje\" : 19,\n",
    "    \"remote_job\" : 20,\n",
    "    \"red_i\" : 21,\n",
    "    \"private\" : 22,\n",
    "    \"printer\" : 23,\n",
    "    \"pop_3\" : 24,\n",
    "    \"pop_2\" : 25,\n",
    "    \"pm_dump\" : 26,\n",
    "    \"other\" : 27,\n",
    "    \"ntp_u\" : 28,\n",
    "    \"nntp\" : 29,\n",
    "    \"nnsp\" : 30,\n",
    "    \"netstat\" : 31,\n",
    "    \"netbios_ssn\" : 32,\n",
    "    \"netbios_ns\" : 33,\n",
    "    \"netbios_dgm\" : 34,\n",
    "    \"name\" : 35,\n",
    "    \"mtp\" : 36,\n",
    "    \"login\" : 37,\n",
    "    \"link\" : 38,\n",
    "    \"ldap\" : 39,\n",
    "    \"kshell\" : 40,\n",
    "    \"klogin\" : 41,\n",
    "    \"iso_tsap\" : 42,\n",
    "    \"IRC\" : 43,\n",
    "    \"imap4\" : 44,\n",
    "    \"http_8001\" : 45,\n",
    "    \"http_443\" : 46,\n",
    "    \"http_2784\" : 47,\n",
    "    \"http\" : 48,\n",
    "    \"hostnames\" : 49,\n",
    "    \"harvest\" : 50,\n",
    "    \"gopher\" : 51,\n",
    "    \"ftp_data\" : 52,\n",
    "    \"ftp\" : 53,\n",
    "    \"finger\" :  54,\n",
    "    \"exec\" : 55,\n",
    "    \"efs\" : 56,\n",
    "    \"ecr_i\" : 57,\n",
    "    \"eco_i\" : 58,\n",
    "    \"echo\" : 59,\n",
    "    \"domain_u\" : 60,\n",
    "    \"domain\" : 61,\n",
    "    \"discard\" : 62,\n",
    "    \"daytime\" : 63,\n",
    "    \"ctf\" : 64,\n",
    "    \"csnet_ns\" : 65,\n",
    "    \"courier\" : 66,\n",
    "    \"bgp\" : 67,\n",
    "    \"auth\" : 68,\n",
    "    \"aol\" : 69\n",
    "\n",
    "}\n",
    "\n",
    "flag_dict={\n",
    "    \"SH\" : 0,\n",
    "    \"SF\" : 1,\n",
    "    \"S3\" : 2,\n",
    "    \"S2\" : 3,\n",
    "    \"S1\" : 4,\n",
    "    \"S0\" : 5,\n",
    "    \"RSTR\" : 6,\n",
    "    \"RSTOS0\" : 7,\n",
    "    \"RSTO\" : 8,\n",
    "    \"REJ\" : 9,\n",
    "    \"OTH\" : 10\n",
    "\n",
    "}\n",
    "\n",
    "data1.replace(flag_dict, inplace = True)\n",
    "data1.replace(service_dict, inplace = True)\n",
    "data1.replace(protocol_dict, inplace = True)\n"
   ]
  },
  {
   "cell_type": "markdown",
   "metadata": {
    "colab_type": "text",
    "id": "a5qksE3yDMyg"
   },
   "source": [
    "# PCA 41 column  cara lama"
   ]
  },
  {
   "cell_type": "code",
<<<<<<< HEAD
   "execution_count": 0,
=======
   "execution_count": 12,
>>>>>>> 69610178921cf0ec389a20cf29704c5effd1bf41
   "metadata": {
    "colab": {},
    "colab_type": "code",
    "id": "6YcOnyK9DQCT"
   },
   "outputs": [],
   "source": [
    "from sklearn.preprocessing import StandardScaler\n",
    "from sklearn.decomposition import PCA"
   ]
  },
  {
   "cell_type": "code",
<<<<<<< HEAD
   "execution_count": 39,
=======
   "execution_count": 13,
>>>>>>> 69610178921cf0ec389a20cf29704c5effd1bf41
   "metadata": {
    "colab": {
     "base_uri": "https://localhost:8080/",
     "height": 439
    },
    "colab_type": "code",
    "id": "BCKxdSB1F8he",
    "outputId": "9d305417-aa58-4de0-e610-e256220bcde4"
   },
   "outputs": [
    {
     "data": {
      "text/html": [
       "<div>\n",
       "<style scoped>\n",
       "    .dataframe tbody tr th:only-of-type {\n",
       "        vertical-align: middle;\n",
       "    }\n",
       "\n",
       "    .dataframe tbody tr th {\n",
       "        vertical-align: top;\n",
       "    }\n",
       "\n",
       "    .dataframe thead th {\n",
       "        text-align: right;\n",
       "    }\n",
       "</style>\n",
       "<table border=\"1\" class=\"dataframe\">\n",
       "  <thead>\n",
       "    <tr style=\"text-align: right;\">\n",
       "      <th></th>\n",
       "      <th>duration</th>\n",
       "      <th>protocol_type</th>\n",
       "      <th>service</th>\n",
       "      <th>flag</th>\n",
       "      <th>src_bytes</th>\n",
       "      <th>dst_bytes</th>\n",
       "      <th>land</th>\n",
       "      <th>wrong_fragment</th>\n",
       "      <th>urgent</th>\n",
       "      <th>hot</th>\n",
<<<<<<< HEAD
       "      <th>num_failed_logins</th>\n",
       "      <th>logged_in</th>\n",
       "      <th>num_compromised</th>\n",
       "      <th>root_shell</th>\n",
       "      <th>su_attempted</th>\n",
       "      <th>num_root</th>\n",
       "      <th>num_file_creations</th>\n",
       "      <th>num_shells</th>\n",
       "      <th>num_access_files</th>\n",
       "      <th>num_outbound_cmds</th>\n",
       "      <th>is_host_login</th>\n",
       "      <th>is_guest_login</th>\n",
       "      <th>count</th>\n",
       "      <th>srv_count</th>\n",
       "      <th>serror_rate</th>\n",
       "      <th>srv_serror_rate</th>\n",
       "      <th>rerror_rate</th>\n",
       "      <th>srv_rerror_rate</th>\n",
       "      <th>same_srv_rate</th>\n",
       "      <th>diff_srv_rate</th>\n",
       "      <th>srv_diff_host_rate</th>\n",
=======
       "      <th>...</th>\n",
>>>>>>> 69610178921cf0ec389a20cf29704c5effd1bf41
       "      <th>dst_host_count</th>\n",
       "      <th>dst_host_srv_count</th>\n",
       "      <th>dst_host_same_srv_rate</th>\n",
       "      <th>dst_host_diff_srv_rate</th>\n",
       "      <th>dst_host_same_src_port_rate</th>\n",
       "      <th>dst_host_srv_diff_host_rate</th>\n",
       "      <th>dst_host_serror_rate</th>\n",
       "      <th>dst_host_srv_serror_rate</th>\n",
       "      <th>dst_host_rerror_rate</th>\n",
       "      <th>dst_host_srv_rerror_rate</th>\n",
       "    </tr>\n",
       "  </thead>\n",
       "  <tbody>\n",
       "    <tr>\n",
<<<<<<< HEAD
       "      <th>0</th>\n",
=======
       "      <td>0</td>\n",
>>>>>>> 69610178921cf0ec389a20cf29704c5effd1bf41
       "      <td>0.572030</td>\n",
       "      <td>-0.113497</td>\n",
       "      <td>0.746554</td>\n",
       "      <td>-4.599044</td>\n",
       "      <td>-3.244708</td>\n",
       "      <td>-1.821022</td>\n",
       "      <td>-0.136741</td>\n",
       "      <td>-0.380010</td>\n",
       "      <td>1.291472</td>\n",
       "      <td>0.316671</td>\n",
<<<<<<< HEAD
       "      <td>0.089095</td>\n",
       "      <td>-1.150179</td>\n",
       "      <td>-0.233019</td>\n",
       "      <td>-0.135187</td>\n",
       "      <td>0.813926</td>\n",
       "      <td>-0.395637</td>\n",
       "      <td>-0.949406</td>\n",
       "      <td>0.158991</td>\n",
       "      <td>-0.654922</td>\n",
       "      <td>0.085304</td>\n",
       "      <td>0.162974</td>\n",
       "      <td>0.389737</td>\n",
       "      <td>1.099100</td>\n",
       "      <td>2.821310</td>\n",
       "      <td>-0.658022</td>\n",
       "      <td>0.846989</td>\n",
       "      <td>-0.385754</td>\n",
       "      <td>0.819159</td>\n",
       "      <td>0.113278</td>\n",
       "      <td>-0.352014</td>\n",
       "      <td>0.039969</td>\n",
=======
       "      <td>...</td>\n",
>>>>>>> 69610178921cf0ec389a20cf29704c5effd1bf41
       "      <td>-0.963147</td>\n",
       "      <td>0.722360</td>\n",
       "      <td>-0.006047</td>\n",
       "      <td>0.034227</td>\n",
       "      <td>-0.017748</td>\n",
       "      <td>0.042224</td>\n",
       "      <td>-0.018583</td>\n",
       "      <td>0.054031</td>\n",
       "      <td>-0.001606</td>\n",
       "      <td>-2.025396e-17</td>\n",
       "    </tr>\n",
       "    <tr>\n",
<<<<<<< HEAD
       "      <th>1</th>\n",
=======
       "      <td>1</td>\n",
>>>>>>> 69610178921cf0ec389a20cf29704c5effd1bf41
       "      <td>3.816695</td>\n",
       "      <td>-1.187686</td>\n",
       "      <td>-0.017001</td>\n",
       "      <td>0.596179</td>\n",
       "      <td>-0.071809</td>\n",
       "      <td>-0.208397</td>\n",
       "      <td>-0.091884</td>\n",
       "      <td>-0.023221</td>\n",
       "      <td>-0.002556</td>\n",
       "      <td>0.025236</td>\n",
<<<<<<< HEAD
       "      <td>-0.041730</td>\n",
       "      <td>0.059256</td>\n",
       "      <td>0.004599</td>\n",
       "      <td>0.007179</td>\n",
       "      <td>-0.120981</td>\n",
       "      <td>0.003342</td>\n",
       "      <td>-0.003555</td>\n",
       "      <td>-0.001279</td>\n",
       "      <td>-0.067978</td>\n",
       "      <td>-0.079793</td>\n",
       "      <td>0.188660</td>\n",
       "      <td>0.047949</td>\n",
       "      <td>0.275674</td>\n",
       "      <td>-0.235544</td>\n",
       "      <td>-0.326614</td>\n",
       "      <td>0.091240</td>\n",
       "      <td>-0.003796</td>\n",
       "      <td>-0.180178</td>\n",
       "      <td>-0.024542</td>\n",
       "      <td>0.027630</td>\n",
       "      <td>0.114135</td>\n",
=======
       "      <td>...</td>\n",
>>>>>>> 69610178921cf0ec389a20cf29704c5effd1bf41
       "      <td>-0.199279</td>\n",
       "      <td>0.154129</td>\n",
       "      <td>-0.038288</td>\n",
       "      <td>-0.016944</td>\n",
       "      <td>0.002379</td>\n",
       "      <td>0.001301</td>\n",
       "      <td>0.000755</td>\n",
       "      <td>0.004520</td>\n",
       "      <td>0.000848</td>\n",
       "      <td>-4.228949e-17</td>\n",
       "    </tr>\n",
       "    <tr>\n",
<<<<<<< HEAD
       "      <th>2</th>\n",
=======
       "      <td>2</td>\n",
>>>>>>> 69610178921cf0ec389a20cf29704c5effd1bf41
       "      <td>-2.627736</td>\n",
       "      <td>-0.588114</td>\n",
       "      <td>-0.146299</td>\n",
       "      <td>1.130697</td>\n",
       "      <td>0.096293</td>\n",
       "      <td>-0.276581</td>\n",
       "      <td>0.355233</td>\n",
       "      <td>-0.010468</td>\n",
       "      <td>-0.047542</td>\n",
       "      <td>-0.043964</td>\n",
<<<<<<< HEAD
       "      <td>-0.004172</td>\n",
       "      <td>0.155893</td>\n",
       "      <td>0.037547</td>\n",
       "      <td>0.006302</td>\n",
       "      <td>-0.143341</td>\n",
       "      <td>-0.812705</td>\n",
       "      <td>0.305968</td>\n",
       "      <td>-0.069074</td>\n",
       "      <td>-0.223923</td>\n",
       "      <td>-0.074521</td>\n",
       "      <td>-0.040766</td>\n",
       "      <td>0.007316</td>\n",
       "      <td>0.348449</td>\n",
       "      <td>-0.290969</td>\n",
       "      <td>0.767778</td>\n",
       "      <td>0.235028</td>\n",
       "      <td>-0.044065</td>\n",
       "      <td>0.014668</td>\n",
       "      <td>-0.021034</td>\n",
       "      <td>-0.038301</td>\n",
       "      <td>0.069913</td>\n",
=======
       "      <td>...</td>\n",
>>>>>>> 69610178921cf0ec389a20cf29704c5effd1bf41
       "      <td>-0.091170</td>\n",
       "      <td>-0.104928</td>\n",
       "      <td>0.052555</td>\n",
       "      <td>0.268434</td>\n",
       "      <td>-0.083797</td>\n",
       "      <td>-0.238098</td>\n",
       "      <td>-0.081580</td>\n",
       "      <td>0.025233</td>\n",
       "      <td>0.000425</td>\n",
       "      <td>-1.074602e-16</td>\n",
       "    </tr>\n",
       "    <tr>\n",
<<<<<<< HEAD
       "      <th>3</th>\n",
=======
       "      <td>3</td>\n",
>>>>>>> 69610178921cf0ec389a20cf29704c5effd1bf41
       "      <td>-2.408812</td>\n",
       "      <td>-0.591713</td>\n",
       "      <td>-0.251949</td>\n",
       "      <td>0.355271</td>\n",
       "      <td>0.661953</td>\n",
       "      <td>0.272510</td>\n",
       "      <td>-0.783401</td>\n",
       "      <td>0.097655</td>\n",
       "      <td>-0.204831</td>\n",
       "      <td>-0.258324</td>\n",
<<<<<<< HEAD
       "      <td>0.230269</td>\n",
       "      <td>-0.011730</td>\n",
       "      <td>-0.030603</td>\n",
       "      <td>0.002640</td>\n",
       "      <td>0.190818</td>\n",
       "      <td>0.240959</td>\n",
       "      <td>0.338712</td>\n",
       "      <td>-0.036573</td>\n",
       "      <td>-0.490890</td>\n",
       "      <td>0.020604</td>\n",
       "      <td>-0.023126</td>\n",
       "      <td>-0.081879</td>\n",
       "      <td>-0.571785</td>\n",
       "      <td>0.022220</td>\n",
       "      <td>-0.459966</td>\n",
       "      <td>0.439901</td>\n",
       "      <td>-0.076064</td>\n",
       "      <td>0.117838</td>\n",
       "      <td>-0.029749</td>\n",
       "      <td>0.089900</td>\n",
       "      <td>-0.037159</td>\n",
=======
       "      <td>...</td>\n",
>>>>>>> 69610178921cf0ec389a20cf29704c5effd1bf41
       "      <td>0.085304</td>\n",
       "      <td>0.065232</td>\n",
       "      <td>-0.015227</td>\n",
       "      <td>0.010703</td>\n",
       "      <td>0.008145</td>\n",
       "      <td>0.022565</td>\n",
       "      <td>-0.004970</td>\n",
       "      <td>-0.002273</td>\n",
       "      <td>0.001975</td>\n",
       "      <td>-1.472210e-16</td>\n",
       "    </tr>\n",
       "    <tr>\n",
<<<<<<< HEAD
       "      <th>4</th>\n",
=======
       "      <td>4</td>\n",
>>>>>>> 69610178921cf0ec389a20cf29704c5effd1bf41
       "      <td>2.144669</td>\n",
       "      <td>7.056901</td>\n",
       "      <td>-0.009669</td>\n",
       "      <td>0.002356</td>\n",
       "      <td>0.017880</td>\n",
       "      <td>0.173285</td>\n",
       "      <td>-0.796322</td>\n",
       "      <td>0.155840</td>\n",
       "      <td>-0.039598</td>\n",
       "      <td>-0.156570</td>\n",
<<<<<<< HEAD
       "      <td>0.217096</td>\n",
       "      <td>-0.249814</td>\n",
       "      <td>-0.000694</td>\n",
       "      <td>0.013126</td>\n",
       "      <td>-0.015900</td>\n",
       "      <td>0.468553</td>\n",
       "      <td>0.282538</td>\n",
       "      <td>-0.030999</td>\n",
       "      <td>-0.505910</td>\n",
       "      <td>-0.099720</td>\n",
       "      <td>0.344292</td>\n",
       "      <td>0.070317</td>\n",
       "      <td>0.165868</td>\n",
       "      <td>0.149263</td>\n",
       "      <td>-0.231662</td>\n",
       "      <td>-0.152185</td>\n",
       "      <td>-0.004025</td>\n",
       "      <td>-0.116074</td>\n",
       "      <td>-0.003736</td>\n",
       "      <td>0.152137</td>\n",
       "      <td>0.139572</td>\n",
=======
       "      <td>...</td>\n",
>>>>>>> 69610178921cf0ec389a20cf29704c5effd1bf41
       "      <td>-0.231718</td>\n",
       "      <td>0.117152</td>\n",
       "      <td>0.005072</td>\n",
       "      <td>0.041924</td>\n",
       "      <td>-0.002188</td>\n",
       "      <td>0.045803</td>\n",
       "      <td>0.018157</td>\n",
       "      <td>0.003892</td>\n",
       "      <td>0.000045</td>\n",
       "      <td>9.246184e-18</td>\n",
       "    </tr>\n",
       "    <tr>\n",
<<<<<<< HEAD
       "      <th>...</th>\n",
       "      <td>...</td>\n",
       "      <td>...</td>\n",
       "      <td>...</td>\n",
       "      <td>...</td>\n",
       "      <td>...</td>\n",
       "      <td>...</td>\n",
       "      <td>...</td>\n",
       "      <td>...</td>\n",
       "      <td>...</td>\n",
       "      <td>...</td>\n",
       "      <td>...</td>\n",
       "      <td>...</td>\n",
       "      <td>...</td>\n",
       "      <td>...</td>\n",
       "      <td>...</td>\n",
       "      <td>...</td>\n",
       "      <td>...</td>\n",
       "      <td>...</td>\n",
       "      <td>...</td>\n",
=======
>>>>>>> 69610178921cf0ec389a20cf29704c5effd1bf41
       "      <td>...</td>\n",
       "      <td>...</td>\n",
       "      <td>...</td>\n",
       "      <td>...</td>\n",
       "      <td>...</td>\n",
       "      <td>...</td>\n",
       "      <td>...</td>\n",
       "      <td>...</td>\n",
       "      <td>...</td>\n",
       "      <td>...</td>\n",
       "      <td>...</td>\n",
       "      <td>...</td>\n",
       "      <td>...</td>\n",
       "      <td>...</td>\n",
       "      <td>...</td>\n",
       "      <td>...</td>\n",
       "      <td>...</td>\n",
       "      <td>...</td>\n",
       "      <td>...</td>\n",
       "      <td>...</td>\n",
       "      <td>...</td>\n",
       "      <td>...</td>\n",
       "    </tr>\n",
       "    <tr>\n",
<<<<<<< HEAD
       "      <th>113264</th>\n",
=======
       "      <td>113264</td>\n",
>>>>>>> 69610178921cf0ec389a20cf29704c5effd1bf41
       "      <td>3.865583</td>\n",
       "      <td>-1.191075</td>\n",
       "      <td>-0.042497</td>\n",
       "      <td>0.322046</td>\n",
       "      <td>0.167070</td>\n",
       "      <td>-0.041572</td>\n",
       "      <td>0.061032</td>\n",
       "      <td>-0.005641</td>\n",
       "      <td>-0.047674</td>\n",
       "      <td>0.013842</td>\n",
<<<<<<< HEAD
       "      <td>-0.039643</td>\n",
       "      <td>0.078602</td>\n",
       "      <td>0.004109</td>\n",
       "      <td>0.028578</td>\n",
       "      <td>-0.256880</td>\n",
       "      <td>0.138282</td>\n",
       "      <td>-0.096101</td>\n",
       "      <td>-0.009268</td>\n",
       "      <td>-0.089200</td>\n",
       "      <td>-0.122971</td>\n",
       "      <td>0.340587</td>\n",
       "      <td>0.036036</td>\n",
       "      <td>0.230649</td>\n",
       "      <td>-0.217375</td>\n",
       "      <td>-0.111258</td>\n",
       "      <td>0.163923</td>\n",
       "      <td>-0.006923</td>\n",
       "      <td>-0.060366</td>\n",
       "      <td>-0.028417</td>\n",
       "      <td>0.031641</td>\n",
       "      <td>-0.001143</td>\n",
=======
       "      <td>...</td>\n",
>>>>>>> 69610178921cf0ec389a20cf29704c5effd1bf41
       "      <td>0.032640</td>\n",
       "      <td>-0.023388</td>\n",
       "      <td>0.008188</td>\n",
       "      <td>-0.015628</td>\n",
       "      <td>0.011346</td>\n",
       "      <td>-0.004801</td>\n",
       "      <td>0.002108</td>\n",
       "      <td>-0.001575</td>\n",
       "      <td>0.001031</td>\n",
       "      <td>7.793886e-19</td>\n",
       "    </tr>\n",
       "    <tr>\n",
<<<<<<< HEAD
       "      <th>113265</th>\n",
=======
       "      <td>113265</td>\n",
>>>>>>> 69610178921cf0ec389a20cf29704c5effd1bf41
       "      <td>-1.688780</td>\n",
       "      <td>-0.458238</td>\n",
       "      <td>-0.097977</td>\n",
       "      <td>-0.731804</td>\n",
       "      <td>0.159732</td>\n",
       "      <td>-0.270448</td>\n",
       "      <td>-2.055399</td>\n",
       "      <td>0.039122</td>\n",
       "      <td>0.189605</td>\n",
       "      <td>0.575613</td>\n",
<<<<<<< HEAD
       "      <td>-0.569094</td>\n",
       "      <td>0.645422</td>\n",
       "      <td>0.015243</td>\n",
       "      <td>-0.041264</td>\n",
       "      <td>0.698050</td>\n",
       "      <td>-0.310787</td>\n",
       "      <td>-0.224619</td>\n",
       "      <td>0.043507</td>\n",
       "      <td>-0.041683</td>\n",
       "      <td>-0.376423</td>\n",
       "      <td>1.394349</td>\n",
       "      <td>0.272395</td>\n",
       "      <td>1.095116</td>\n",
       "      <td>-0.170675</td>\n",
       "      <td>-1.121066</td>\n",
       "      <td>-0.118534</td>\n",
       "      <td>-0.017238</td>\n",
       "      <td>-0.259713</td>\n",
       "      <td>0.014642</td>\n",
       "      <td>-0.719093</td>\n",
       "      <td>0.029615</td>\n",
=======
       "      <td>...</td>\n",
>>>>>>> 69610178921cf0ec389a20cf29704c5effd1bf41
       "      <td>0.158109</td>\n",
       "      <td>-0.133378</td>\n",
       "      <td>0.029733</td>\n",
       "      <td>-0.037550</td>\n",
       "      <td>-0.002595</td>\n",
       "      <td>-0.047375</td>\n",
       "      <td>-0.003050</td>\n",
       "      <td>-0.009855</td>\n",
       "      <td>0.003209</td>\n",
       "      <td>5.707925e-19</td>\n",
       "    </tr>\n",
       "    <tr>\n",
<<<<<<< HEAD
       "      <th>113266</th>\n",
=======
       "      <td>113266</td>\n",
>>>>>>> 69610178921cf0ec389a20cf29704c5effd1bf41
       "      <td>-0.375499</td>\n",
       "      <td>-0.663823</td>\n",
       "      <td>0.153631</td>\n",
       "      <td>0.355446</td>\n",
       "      <td>-0.881606</td>\n",
       "      <td>-0.429550</td>\n",
       "      <td>-0.811276</td>\n",
       "      <td>0.099759</td>\n",
       "      <td>0.033982</td>\n",
       "      <td>-0.187322</td>\n",
<<<<<<< HEAD
       "      <td>0.366243</td>\n",
       "      <td>-0.414608</td>\n",
       "      <td>0.051816</td>\n",
       "      <td>0.071982</td>\n",
       "      <td>-0.485133</td>\n",
       "      <td>0.590965</td>\n",
       "      <td>0.575371</td>\n",
       "      <td>-0.137126</td>\n",
       "      <td>-1.150575</td>\n",
       "      <td>-0.139709</td>\n",
       "      <td>0.980048</td>\n",
       "      <td>0.044015</td>\n",
       "      <td>-0.399685</td>\n",
       "      <td>0.714535</td>\n",
       "      <td>-0.511080</td>\n",
       "      <td>-0.962211</td>\n",
       "      <td>0.053173</td>\n",
       "      <td>-0.193895</td>\n",
       "      <td>0.039694</td>\n",
       "      <td>0.851130</td>\n",
       "      <td>-0.117678</td>\n",
=======
       "      <td>...</td>\n",
>>>>>>> 69610178921cf0ec389a20cf29704c5effd1bf41
       "      <td>0.135953</td>\n",
       "      <td>-0.357977</td>\n",
       "      <td>0.148998</td>\n",
       "      <td>-0.878233</td>\n",
       "      <td>-0.861352</td>\n",
       "      <td>0.114385</td>\n",
       "      <td>-0.048985</td>\n",
       "      <td>0.138741</td>\n",
       "      <td>0.003102</td>\n",
       "      <td>1.190215e-18</td>\n",
       "    </tr>\n",
       "    <tr>\n",
<<<<<<< HEAD
       "      <th>113267</th>\n",
=======
       "      <td>113267</td>\n",
>>>>>>> 69610178921cf0ec389a20cf29704c5effd1bf41
       "      <td>3.756811</td>\n",
       "      <td>-1.188278</td>\n",
       "      <td>-0.092241</td>\n",
       "      <td>0.432825</td>\n",
       "      <td>0.211388</td>\n",
       "      <td>0.097048</td>\n",
       "      <td>0.092474</td>\n",
       "      <td>-0.018064</td>\n",
       "      <td>-0.046976</td>\n",
       "      <td>0.041462</td>\n",
<<<<<<< HEAD
       "      <td>-0.129616</td>\n",
       "      <td>0.234944</td>\n",
       "      <td>0.030499</td>\n",
       "      <td>-0.002030</td>\n",
       "      <td>0.063536</td>\n",
       "      <td>-0.351525</td>\n",
       "      <td>-0.172972</td>\n",
       "      <td>0.004237</td>\n",
       "      <td>0.042218</td>\n",
       "      <td>0.151027</td>\n",
       "      <td>-0.442713</td>\n",
       "      <td>-0.035783</td>\n",
       "      <td>-0.182475</td>\n",
       "      <td>0.065790</td>\n",
       "      <td>-0.080566</td>\n",
       "      <td>-0.131568</td>\n",
       "      <td>0.018105</td>\n",
       "      <td>-0.033670</td>\n",
       "      <td>0.011492</td>\n",
       "      <td>0.085532</td>\n",
       "      <td>0.072540</td>\n",
=======
       "      <td>...</td>\n",
>>>>>>> 69610178921cf0ec389a20cf29704c5effd1bf41
       "      <td>-0.162041</td>\n",
       "      <td>0.108997</td>\n",
       "      <td>-0.032067</td>\n",
       "      <td>0.000454</td>\n",
       "      <td>0.005022</td>\n",
       "      <td>0.007590</td>\n",
       "      <td>0.000365</td>\n",
       "      <td>0.004398</td>\n",
       "      <td>-0.000673</td>\n",
       "      <td>5.881840e-19</td>\n",
       "    </tr>\n",
       "    <tr>\n",
<<<<<<< HEAD
       "      <th>113268</th>\n",
=======
       "      <td>113268</td>\n",
>>>>>>> 69610178921cf0ec389a20cf29704c5effd1bf41
       "      <td>-1.568450</td>\n",
       "      <td>-0.462844</td>\n",
       "      <td>-0.008779</td>\n",
       "      <td>-0.336219</td>\n",
       "      <td>-0.341570</td>\n",
       "      <td>-0.011711</td>\n",
       "      <td>-0.122352</td>\n",
       "      <td>0.028041</td>\n",
       "      <td>0.043042</td>\n",
       "      <td>-0.258285</td>\n",
<<<<<<< HEAD
       "      <td>0.359587</td>\n",
       "      <td>-0.402526</td>\n",
       "      <td>0.036301</td>\n",
       "      <td>-0.006289</td>\n",
       "      <td>0.032658</td>\n",
       "      <td>-0.113493</td>\n",
       "      <td>0.447918</td>\n",
       "      <td>-0.073999</td>\n",
       "      <td>-0.813078</td>\n",
       "      <td>0.295889</td>\n",
       "      <td>-0.563736</td>\n",
       "      <td>0.003104</td>\n",
       "      <td>-0.569164</td>\n",
       "      <td>0.882211</td>\n",
       "      <td>-0.895485</td>\n",
       "      <td>-0.982360</td>\n",
       "      <td>0.039911</td>\n",
       "      <td>0.387850</td>\n",
       "      <td>0.052553</td>\n",
       "      <td>0.706026</td>\n",
       "      <td>-0.119032</td>\n",
=======
       "      <td>...</td>\n",
>>>>>>> 69610178921cf0ec389a20cf29704c5effd1bf41
       "      <td>0.005075</td>\n",
       "      <td>-0.225858</td>\n",
       "      <td>0.034254</td>\n",
       "      <td>0.125596</td>\n",
       "      <td>0.035482</td>\n",
       "      <td>0.026872</td>\n",
       "      <td>0.015610</td>\n",
       "      <td>-0.017377</td>\n",
       "      <td>-0.002864</td>\n",
       "      <td>1.168106e-18</td>\n",
       "    </tr>\n",
       "  </tbody>\n",
       "</table>\n",
       "<p>113269 rows × 41 columns</p>\n",
       "</div>"
      ],
      "text/plain": [
<<<<<<< HEAD
       "        duration  protocol_type  ...  dst_host_rerror_rate  dst_host_srv_rerror_rate\n",
       "0       0.572030      -0.113497  ...             -0.001606             -2.025396e-17\n",
       "1       3.816695      -1.187686  ...              0.000848             -4.228949e-17\n",
       "2      -2.627736      -0.588114  ...              0.000425             -1.074602e-16\n",
       "3      -2.408812      -0.591713  ...              0.001975             -1.472210e-16\n",
       "4       2.144669       7.056901  ...              0.000045              9.246184e-18\n",
       "...          ...            ...  ...                   ...                       ...\n",
       "113264  3.865583      -1.191075  ...              0.001031              7.793886e-19\n",
       "113265 -1.688780      -0.458238  ...              0.003209              5.707925e-19\n",
       "113266 -0.375499      -0.663823  ...              0.003102              1.190215e-18\n",
       "113267  3.756811      -1.188278  ...             -0.000673              5.881840e-19\n",
       "113268 -1.568450      -0.462844  ...             -0.002864              1.168106e-18\n",
=======
       "        duration  protocol_type   service      flag  src_bytes  dst_bytes  \\\n",
       "0       0.572030      -0.113497  0.746554 -4.599044  -3.244708  -1.821022   \n",
       "1       3.816695      -1.187686 -0.017001  0.596179  -0.071809  -0.208397   \n",
       "2      -2.627736      -0.588114 -0.146299  1.130697   0.096293  -0.276581   \n",
       "3      -2.408812      -0.591713 -0.251949  0.355271   0.661953   0.272510   \n",
       "4       2.144669       7.056901 -0.009669  0.002356   0.017880   0.173285   \n",
       "...          ...            ...       ...       ...        ...        ...   \n",
       "113264  3.865583      -1.191075 -0.042497  0.322046   0.167070  -0.041572   \n",
       "113265 -1.688780      -0.458238 -0.097977 -0.731804   0.159732  -0.270448   \n",
       "113266 -0.375499      -0.663823  0.153631  0.355446  -0.881606  -0.429550   \n",
       "113267  3.756811      -1.188278 -0.092241  0.432825   0.211388   0.097048   \n",
       "113268 -1.568450      -0.462844 -0.008779 -0.336219  -0.341570  -0.011711   \n",
       "\n",
       "            land  wrong_fragment    urgent       hot  ...  dst_host_count  \\\n",
       "0      -0.136741       -0.380010  1.291472  0.316671  ...       -0.963147   \n",
       "1      -0.091884       -0.023221 -0.002556  0.025236  ...       -0.199279   \n",
       "2       0.355233       -0.010468 -0.047542 -0.043964  ...       -0.091170   \n",
       "3      -0.783401        0.097655 -0.204831 -0.258324  ...        0.085304   \n",
       "4      -0.796322        0.155840 -0.039598 -0.156570  ...       -0.231718   \n",
       "...          ...             ...       ...       ...  ...             ...   \n",
       "113264  0.061032       -0.005641 -0.047674  0.013842  ...        0.032640   \n",
       "113265 -2.055399        0.039122  0.189605  0.575613  ...        0.158109   \n",
       "113266 -0.811276        0.099759  0.033982 -0.187322  ...        0.135953   \n",
       "113267  0.092474       -0.018064 -0.046976  0.041462  ...       -0.162041   \n",
       "113268 -0.122352        0.028041  0.043042 -0.258285  ...        0.005075   \n",
       "\n",
       "        dst_host_srv_count  dst_host_same_srv_rate  dst_host_diff_srv_rate  \\\n",
       "0                 0.722360               -0.006047                0.034227   \n",
       "1                 0.154129               -0.038288               -0.016944   \n",
       "2                -0.104928                0.052555                0.268434   \n",
       "3                 0.065232               -0.015227                0.010703   \n",
       "4                 0.117152                0.005072                0.041924   \n",
       "...                    ...                     ...                     ...   \n",
       "113264           -0.023388                0.008188               -0.015628   \n",
       "113265           -0.133378                0.029733               -0.037550   \n",
       "113266           -0.357977                0.148998               -0.878233   \n",
       "113267            0.108997               -0.032067                0.000454   \n",
       "113268           -0.225858                0.034254                0.125596   \n",
       "\n",
       "        dst_host_same_src_port_rate  dst_host_srv_diff_host_rate  \\\n",
       "0                         -0.017748                     0.042224   \n",
       "1                          0.002379                     0.001301   \n",
       "2                         -0.083797                    -0.238098   \n",
       "3                          0.008145                     0.022565   \n",
       "4                         -0.002188                     0.045803   \n",
       "...                             ...                          ...   \n",
       "113264                     0.011346                    -0.004801   \n",
       "113265                    -0.002595                    -0.047375   \n",
       "113266                    -0.861352                     0.114385   \n",
       "113267                     0.005022                     0.007590   \n",
       "113268                     0.035482                     0.026872   \n",
       "\n",
       "        dst_host_serror_rate  dst_host_srv_serror_rate  dst_host_rerror_rate  \\\n",
       "0                  -0.018583                  0.054031             -0.001606   \n",
       "1                   0.000755                  0.004520              0.000848   \n",
       "2                  -0.081580                  0.025233              0.000425   \n",
       "3                  -0.004970                 -0.002273              0.001975   \n",
       "4                   0.018157                  0.003892              0.000045   \n",
       "...                      ...                       ...                   ...   \n",
       "113264              0.002108                 -0.001575              0.001031   \n",
       "113265             -0.003050                 -0.009855              0.003209   \n",
       "113266             -0.048985                  0.138741              0.003102   \n",
       "113267              0.000365                  0.004398             -0.000673   \n",
       "113268              0.015610                 -0.017377             -0.002864   \n",
       "\n",
       "        dst_host_srv_rerror_rate  \n",
       "0                  -2.025396e-17  \n",
       "1                  -4.228949e-17  \n",
       "2                  -1.074602e-16  \n",
       "3                  -1.472210e-16  \n",
       "4                   9.246184e-18  \n",
       "...                          ...  \n",
       "113264              7.793886e-19  \n",
       "113265              5.707925e-19  \n",
       "113266              1.190215e-18  \n",
       "113267              5.881840e-19  \n",
       "113268              1.168106e-18  \n",
>>>>>>> 69610178921cf0ec389a20cf29704c5effd1bf41
       "\n",
       "[113269 rows x 41 columns]"
      ]
     },
<<<<<<< HEAD
     "execution_count": 39,
     "metadata": {
      "tags": []
     },
=======
     "execution_count": 13,
     "metadata": {},
>>>>>>> 69610178921cf0ec389a20cf29704c5effd1bf41
     "output_type": "execute_result"
    }
   ],
   "source": [
    "# data_src_bytes4 = data_src_bytes3[['normal','dos']]\n",
    "\n",
    "# Standardizing the features\n",
    "x = data1.values\n",
    "\n",
    "x = StandardScaler().fit_transform(x)\n",
    "\n",
    "pca = PCA(n_components=41)\n",
    "principalComponents = pca.fit_transform(x)\n",
    "\n",
    "# principalDf = pd.DataFrame(data = principalComponents)\n",
    "\n",
    "principalDf = pd.DataFrame(data = principalComponents, columns = ['duration','protocol_type','service','flag','src_bytes','dst_bytes','land','wrong_fragment','urgent','hot','num_failed_logins','logged_in','num_compromised','root_shell','su_attempted','num_root','num_file_creations','num_shells','num_access_files','num_outbound_cmds','is_host_login','is_guest_login','count','srv_count','serror_rate','srv_serror_rate','rerror_rate','srv_rerror_rate','same_srv_rate','diff_srv_rate','srv_diff_host_rate','dst_host_count','dst_host_srv_count','dst_host_same_srv_rate','dst_host_diff_srv_rate','dst_host_same_src_port_rate','dst_host_srv_diff_host_rate','dst_host_serror_rate','dst_host_srv_serror_rate','dst_host_rerror_rate','dst_host_srv_rerror_rate'])\n",
    "# finalDf = pd.concat([principalDf, df[['target']]], axis = 1)\n",
    "finalDF = principalDf\n",
    "\n",
    "# finalDF.reset_index(level=0, inplace=True)\n",
    "finalDF\n"
   ]
  },
  {
   "cell_type": "markdown",
   "metadata": {
    "colab_type": "text",
    "id": "QDsLYW9-kAGU"
   },
   "source": [
    "# PCA 5 terbaik dengan cara beda\n",
    "[towards datascience](https://towardsdatascience.com/an-approach-to-choosing-the-number-of-components-in-a-principal-component-analysis-pca-3b9f3d6e73fe)"
   ]
  },
  {
   "cell_type": "code",
<<<<<<< HEAD
   "execution_count": 40,
=======
   "execution_count": 14,
>>>>>>> 69610178921cf0ec389a20cf29704c5effd1bf41
   "metadata": {
    "colab": {
     "base_uri": "https://localhost:8080/",
     "height": 295
    },
    "colab_type": "code",
    "id": "x10DbqUVhQP2",
    "outputId": "7b3d0a40-79c9-4d8e-9564-97c36de8235b"
   },
   "outputs": [
    {
     "data": {
<<<<<<< HEAD
      "image/png": "iVBORw0KGgoAAAANSUhEUgAAAYIAAAEWCAYAAABrDZDcAAAABHNCSVQICAgIfAhkiAAAAAlwSFlz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\n50RgZpZzTgRmZjnnRGBmlnP/HwOMaJoGIUOsAAAAAElFTkSuQmCC\n",
=======
      "image/png": "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\n",
>>>>>>> 69610178921cf0ec389a20cf29704c5effd1bf41
      "text/plain": [
       "<Figure size 432x288 with 1 Axes>"
      ]
     },
     "metadata": {
<<<<<<< HEAD
      "tags": []
=======
      "needs_background": "light"
>>>>>>> 69610178921cf0ec389a20cf29704c5effd1bf41
     },
     "output_type": "display_data"
    }
   ],
   "source": [
    "scaler = MinMaxScaler(feature_range=[0, 1])\n",
    "data_rescaled = scaler.fit_transform(data1.iloc[:,:])\n",
    "\n",
    "#Fitting the PCA algorithm with our Data\n",
    "pca = PCA().fit(data_rescaled)\n",
    "#Plotting the Cumulative Summation of the Explained Variance\n",
    "plt.figure()\n",
    "plt.plot(np.cumsum(pca.explained_variance_ratio_))\n",
    "plt.xlabel('Number of Components')\n",
    "plt.ylabel('Variance (%)') #for each component\n",
    "plt.title('Pulsar Dataset Explained Variance')\n",
    "plt.show()"
   ]
  },
  {
   "cell_type": "code",
<<<<<<< HEAD
   "execution_count": 41,
=======
   "execution_count": 15,
>>>>>>> 69610178921cf0ec389a20cf29704c5effd1bf41
   "metadata": {
    "colab": {
     "base_uri": "https://localhost:8080/",
     "height": 204
    },
    "colab_type": "code",
    "id": "BVMnIExyj-US",
    "outputId": "0cec7f1a-a147-4026-d86d-f12759032d76"
   },
   "outputs": [
    {
     "data": {
      "text/html": [
       "<div>\n",
       "<style scoped>\n",
       "    .dataframe tbody tr th:only-of-type {\n",
       "        vertical-align: middle;\n",
       "    }\n",
       "\n",
       "    .dataframe tbody tr th {\n",
       "        vertical-align: top;\n",
       "    }\n",
       "\n",
       "    .dataframe thead th {\n",
       "        text-align: right;\n",
       "    }\n",
       "</style>\n",
       "<table border=\"1\" class=\"dataframe\">\n",
       "  <thead>\n",
       "    <tr style=\"text-align: right;\">\n",
       "      <th></th>\n",
       "      <th>column 0</th>\n",
       "      <th>column 1</th>\n",
       "      <th>column 2</th>\n",
       "      <th>column 3</th>\n",
       "      <th>column 4</th>\n",
       "    </tr>\n",
       "  </thead>\n",
       "  <tbody>\n",
       "    <tr>\n",
<<<<<<< HEAD
       "      <th>0</th>\n",
       "      <td>0.188473</td>\n",
       "      <td>0.444017</td>\n",
       "      <td>0.647421</td>\n",
       "      <td>1.096441</td>\n",
       "      <td>0.016609</td>\n",
       "    </tr>\n",
       "    <tr>\n",
       "      <th>1</th>\n",
=======
       "      <td>0</td>\n",
       "      <td>0.188473</td>\n",
       "      <td>0.444017</td>\n",
       "      <td>0.647420</td>\n",
       "      <td>1.096441</td>\n",
       "      <td>0.016607</td>\n",
       "    </tr>\n",
       "    <tr>\n",
       "      <td>1</td>\n",
>>>>>>> 69610178921cf0ec389a20cf29704c5effd1bf41
       "      <td>1.705068</td>\n",
       "      <td>-0.278734</td>\n",
       "      <td>-0.088502</td>\n",
       "      <td>-0.087677</td>\n",
       "      <td>-0.024046</td>\n",
       "    </tr>\n",
       "    <tr>\n",
<<<<<<< HEAD
       "      <th>2</th>\n",
       "      <td>-1.037544</td>\n",
       "      <td>-0.424769</td>\n",
       "      <td>-0.418468</td>\n",
       "      <td>-0.224334</td>\n",
       "      <td>0.235173</td>\n",
       "    </tr>\n",
       "    <tr>\n",
       "      <th>3</th>\n",
=======
       "      <td>2</td>\n",
       "      <td>-1.037544</td>\n",
       "      <td>-0.424769</td>\n",
       "      <td>-0.418469</td>\n",
       "      <td>-0.224334</td>\n",
       "      <td>0.235172</td>\n",
       "    </tr>\n",
       "    <tr>\n",
       "      <td>3</td>\n",
>>>>>>> 69610178921cf0ec389a20cf29704c5effd1bf41
       "      <td>-1.047677</td>\n",
       "      <td>-0.308790</td>\n",
       "      <td>0.089864</td>\n",
       "      <td>-0.252247</td>\n",
       "      <td>-0.453711</td>\n",
       "    </tr>\n",
       "    <tr>\n",
<<<<<<< HEAD
       "      <th>4</th>\n",
=======
       "      <td>4</td>\n",
>>>>>>> 69610178921cf0ec389a20cf29704c5effd1bf41
       "      <td>0.301972</td>\n",
       "      <td>2.193213</td>\n",
       "      <td>-0.179477</td>\n",
       "      <td>-0.052003</td>\n",
       "      <td>-0.301176</td>\n",
       "    </tr>\n",
       "  </tbody>\n",
       "</table>\n",
       "</div>"
      ],
      "text/plain": [
       "   column 0  column 1  column 2  column 3  column 4\n",
<<<<<<< HEAD
       "0  0.188473  0.444017  0.647421  1.096441  0.016609\n",
       "1  1.705068 -0.278734 -0.088502 -0.087677 -0.024046\n",
       "2 -1.037544 -0.424769 -0.418468 -0.224334  0.235173\n",
=======
       "0  0.188473  0.444017  0.647420  1.096441  0.016607\n",
       "1  1.705068 -0.278734 -0.088502 -0.087677 -0.024046\n",
       "2 -1.037544 -0.424769 -0.418469 -0.224334  0.235172\n",
>>>>>>> 69610178921cf0ec389a20cf29704c5effd1bf41
       "3 -1.047677 -0.308790  0.089864 -0.252247 -0.453711\n",
       "4  0.301972  2.193213 -0.179477 -0.052003 -0.301176"
      ]
     },
<<<<<<< HEAD
     "execution_count": 41,
     "metadata": {
      "tags": []
     },
=======
     "execution_count": 15,
     "metadata": {},
>>>>>>> 69610178921cf0ec389a20cf29704c5effd1bf41
     "output_type": "execute_result"
    }
   ],
   "source": [
    "pca = PCA(n_components=5)\n",
    "dataset = pca.fit_transform(data_rescaled)\n",
    "\n",
    "df=pd.DataFrame(data=dataset[0:,0:], index=[i for i in range(dataset.shape[0])], columns=['column '+str(i) for i in range(dataset.shape[1])])\n",
    "df.head()"
   ]
  },
  {
   "cell_type": "code",
<<<<<<< HEAD
   "execution_count": 0,
=======
   "execution_count": 16,
>>>>>>> 69610178921cf0ec389a20cf29704c5effd1bf41
   "metadata": {
    "colab": {},
    "colab_type": "code",
    "id": "J6bUYhpVkRKy"
   },
   "outputs": [],
   "source": [
    "# '''HOW IT WORKS?'''"
   ]
  },
  {
   "cell_type": "code",
<<<<<<< HEAD
   "execution_count": 0,
=======
   "execution_count": 17,
>>>>>>> 69610178921cf0ec389a20cf29704c5effd1bf41
   "metadata": {
    "colab": {},
    "colab_type": "code",
    "id": "l7R4lOD0kX2B"
   },
   "outputs": [],
   "source": [
    "# data_mean = np.mean(data_rescaled)"
   ]
  },
  {
   "cell_type": "code",
<<<<<<< HEAD
   "execution_count": 0,
=======
   "execution_count": 18,
>>>>>>> 69610178921cf0ec389a20cf29704c5effd1bf41
   "metadata": {
    "colab": {},
    "colab_type": "code",
    "id": "xJVTHxkSkbkd"
   },
   "outputs": [],
   "source": [
    "# data_center = data_rescaled - data_mean\n",
    "\n",
    "# data_center"
   ]
  },
  {
   "cell_type": "code",
<<<<<<< HEAD
   "execution_count": 45,
=======
   "execution_count": 19,
>>>>>>> 69610178921cf0ec389a20cf29704c5effd1bf41
   "metadata": {
    "colab": {
     "base_uri": "https://localhost:8080/",
     "height": 54
    },
    "colab_type": "code",
    "id": "4LLQsuznkelh",
    "outputId": "0d3db8b4-cb66-442d-b0fa-8a5d2a5cda1d"
   },
   "outputs": [
    {
     "data": {
      "text/plain": [
       "\"\\ncov_matrix = np.cov(data_center)\\n\\neigenval, eigenvec = np.linalg.eig(cov_matrix)\\n\\nsignificance = [np.abs(i)/np.sum(eigenval) for i in eigenval]\\n#Plotting the Cumulative Summation of the Explained Variance\\nplt.figure()\\nplt.plot(np.cumsum(significance))\\nplt.xlabel('Number of Components')\\nplt.ylabel('Variance (%)') #for each component\\nplt.title('Pulsar Dataset Explained Variance')\\nplt.show()\\n\\n\""
      ]
     },
<<<<<<< HEAD
     "execution_count": 45,
     "metadata": {
      "tags": []
     },
=======
     "execution_count": 19,
     "metadata": {},
>>>>>>> 69610178921cf0ec389a20cf29704c5effd1bf41
     "output_type": "execute_result"
    }
   ],
   "source": [
    "'''\n",
    "cov_matrix = np.cov(data_center)\n",
    "\n",
    "eigenval, eigenvec = np.linalg.eig(cov_matrix)\n",
    "\n",
    "significance = [np.abs(i)/np.sum(eigenval) for i in eigenval]\n",
    "#Plotting the Cumulative Summation of the Explained Variance\n",
    "plt.figure()\n",
    "plt.plot(np.cumsum(significance))\n",
    "plt.xlabel('Number of Components')\n",
    "plt.ylabel('Variance (%)') #for each component\n",
    "plt.title('Pulsar Dataset Explained Variance')\n",
    "plt.show()\n",
    "\n",
    "'''"
   ]
  },
  {
   "cell_type": "markdown",
   "metadata": {
    "colab_type": "text",
    "id": "afeG2jVTKkWp"
   },
   "source": [
    "# PCA 10 paling dominan\n"
   ]
  },
  {
   "cell_type": "code",
<<<<<<< HEAD
   "execution_count": 46,
=======
   "execution_count": 20,
>>>>>>> 69610178921cf0ec389a20cf29704c5effd1bf41
   "metadata": {
    "colab": {
     "base_uri": "https://localhost:8080/",
     "height": 621
    },
    "colab_type": "code",
    "id": "l3PDM4F-KvqR",
    "outputId": "3a6bd263-e5ab-4e47-ea3e-38adcf0ad692"
   },
   "outputs": [
    {
     "data": {
<<<<<<< HEAD
      "image/png": "iVBORw0KGgoAAAANSUhEUgAABI8AAAJcCAYAAABwj4S5AAAABHNCSVQICAgIfAhkiAAAAAlwSFlz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\nAABb+v+3fR97v49U8wAAAABJRU5ErkJggg==\n",
=======
      "image/png": "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\n",
>>>>>>> 69610178921cf0ec389a20cf29704c5effd1bf41
      "text/plain": [
       "<Figure size 1440x720 with 1 Axes>"
      ]
     },
     "metadata": {
<<<<<<< HEAD
      "tags": []
=======
      "needs_background": "light"
>>>>>>> 69610178921cf0ec389a20cf29704c5effd1bf41
     },
     "output_type": "display_data"
    }
   ],
   "source": [
    "scaler = MinMaxScaler(feature_range=[0, 1])\n",
    "data_rescaled = scaler.fit_transform(data1.iloc[:,:])\n",
    "\n",
    "#Fitting the PCA algorithm with our Data\n",
    "pca = PCA().fit(data_rescaled)\n",
    "#Plotting the Cumulative Summation of the Explained Variance\n",
    "\n",
    "plt.figure(figsize=(20,10)) \n",
    "\n",
    "# plt.figure()\n",
    "plt.plot(np.cumsum(pca.explained_variance_ratio_))\n",
    "plt.xlabel('Number of Components')\n",
    "plt.ylabel('Variance (%)') #for each component\n",
    "plt.title('Pulsar Dataset Explained Variance')\n",
    "plt.show()"
   ]
  },
  {
   "cell_type": "code",
<<<<<<< HEAD
   "execution_count": 47,
=======
   "execution_count": 21,
>>>>>>> 69610178921cf0ec389a20cf29704c5effd1bf41
   "metadata": {
    "colab": {
     "base_uri": "https://localhost:8080/",
     "height": 204
    },
    "colab_type": "code",
    "id": "GeeQDEEuK2_6",
    "outputId": "9e30e8af-fee6-448d-ff13-c4e98952b062"
   },
   "outputs": [
    {
     "data": {
      "text/html": [
       "<div>\n",
       "<style scoped>\n",
       "    .dataframe tbody tr th:only-of-type {\n",
       "        vertical-align: middle;\n",
       "    }\n",
       "\n",
       "    .dataframe tbody tr th {\n",
       "        vertical-align: top;\n",
       "    }\n",
       "\n",
       "    .dataframe thead th {\n",
       "        text-align: right;\n",
       "    }\n",
       "</style>\n",
       "<table border=\"1\" class=\"dataframe\">\n",
       "  <thead>\n",
       "    <tr style=\"text-align: right;\">\n",
       "      <th></th>\n",
       "      <th>column 0</th>\n",
       "      <th>column 1</th>\n",
       "      <th>column 2</th>\n",
       "      <th>column 3</th>\n",
       "      <th>column 4</th>\n",
       "      <th>column 5</th>\n",
       "      <th>column 6</th>\n",
       "      <th>column 7</th>\n",
       "      <th>column 8</th>\n",
       "      <th>column 9</th>\n",
       "    </tr>\n",
       "  </thead>\n",
       "  <tbody>\n",
       "    <tr>\n",
<<<<<<< HEAD
       "      <th>0</th>\n",
=======
       "      <td>0</td>\n",
>>>>>>> 69610178921cf0ec389a20cf29704c5effd1bf41
       "      <td>0.188473</td>\n",
       "      <td>0.444017</td>\n",
       "      <td>0.647420</td>\n",
       "      <td>1.096441</td>\n",
<<<<<<< HEAD
       "      <td>0.016608</td>\n",
       "      <td>0.109830</td>\n",
       "      <td>0.043726</td>\n",
       "      <td>-0.268809</td>\n",
       "      <td>-0.352874</td>\n",
       "      <td>0.717299</td>\n",
       "    </tr>\n",
       "    <tr>\n",
       "      <th>1</th>\n",
=======
       "      <td>0.016609</td>\n",
       "      <td>0.109830</td>\n",
       "      <td>0.043724</td>\n",
       "      <td>-0.268808</td>\n",
       "      <td>-0.352872</td>\n",
       "      <td>0.717292</td>\n",
       "    </tr>\n",
       "    <tr>\n",
       "      <td>1</td>\n",
>>>>>>> 69610178921cf0ec389a20cf29704c5effd1bf41
       "      <td>1.705068</td>\n",
       "      <td>-0.278734</td>\n",
       "      <td>-0.088502</td>\n",
       "      <td>-0.087677</td>\n",
       "      <td>-0.024046</td>\n",
       "      <td>0.086759</td>\n",
<<<<<<< HEAD
       "      <td>0.059994</td>\n",
       "      <td>-0.108643</td>\n",
       "      <td>-0.037670</td>\n",
       "      <td>0.019046</td>\n",
       "    </tr>\n",
       "    <tr>\n",
       "      <th>2</th>\n",
=======
       "      <td>0.059993</td>\n",
       "      <td>-0.108642</td>\n",
       "      <td>-0.037669</td>\n",
       "      <td>0.019043</td>\n",
       "    </tr>\n",
       "    <tr>\n",
       "      <td>2</td>\n",
>>>>>>> 69610178921cf0ec389a20cf29704c5effd1bf41
       "      <td>-1.037544</td>\n",
       "      <td>-0.424769</td>\n",
       "      <td>-0.418469</td>\n",
       "      <td>-0.224334</td>\n",
       "      <td>0.235172</td>\n",
<<<<<<< HEAD
       "      <td>-0.093547</td>\n",
       "      <td>-0.120637</td>\n",
       "      <td>-0.124779</td>\n",
       "      <td>0.085582</td>\n",
       "      <td>0.030096</td>\n",
       "    </tr>\n",
       "    <tr>\n",
       "      <th>3</th>\n",
=======
       "      <td>-0.093546</td>\n",
       "      <td>-0.120637</td>\n",
       "      <td>-0.124779</td>\n",
       "      <td>0.085580</td>\n",
       "      <td>0.030092</td>\n",
       "    </tr>\n",
       "    <tr>\n",
       "      <td>3</td>\n",
>>>>>>> 69610178921cf0ec389a20cf29704c5effd1bf41
       "      <td>-1.047677</td>\n",
       "      <td>-0.308790</td>\n",
       "      <td>0.089864</td>\n",
       "      <td>-0.252247</td>\n",
       "      <td>-0.453711</td>\n",
       "      <td>-0.065730</td>\n",
       "      <td>0.048992</td>\n",
       "      <td>0.006543</td>\n",
       "      <td>-0.101855</td>\n",
<<<<<<< HEAD
       "      <td>-0.023447</td>\n",
       "    </tr>\n",
       "    <tr>\n",
       "      <th>4</th>\n",
=======
       "      <td>-0.023445</td>\n",
       "    </tr>\n",
       "    <tr>\n",
       "      <td>4</td>\n",
>>>>>>> 69610178921cf0ec389a20cf29704c5effd1bf41
       "      <td>0.301972</td>\n",
       "      <td>2.193213</td>\n",
       "      <td>-0.179477</td>\n",
       "      <td>-0.052003</td>\n",
       "      <td>-0.301176</td>\n",
       "      <td>0.024948</td>\n",
<<<<<<< HEAD
       "      <td>0.052187</td>\n",
       "      <td>-0.109202</td>\n",
       "      <td>-0.002122</td>\n",
       "      <td>-0.004501</td>\n",
=======
       "      <td>0.052186</td>\n",
       "      <td>-0.109201</td>\n",
       "      <td>-0.002122</td>\n",
       "      <td>-0.004508</td>\n",
>>>>>>> 69610178921cf0ec389a20cf29704c5effd1bf41
       "    </tr>\n",
       "  </tbody>\n",
       "</table>\n",
       "</div>"
      ],
      "text/plain": [
<<<<<<< HEAD
       "   column 0  column 1  column 2  ...  column 7  column 8  column 9\n",
       "0  0.188473  0.444017  0.647420  ... -0.268809 -0.352874  0.717299\n",
       "1  1.705068 -0.278734 -0.088502  ... -0.108643 -0.037670  0.019046\n",
       "2 -1.037544 -0.424769 -0.418469  ... -0.124779  0.085582  0.030096\n",
       "3 -1.047677 -0.308790  0.089864  ...  0.006543 -0.101855 -0.023447\n",
       "4  0.301972  2.193213 -0.179477  ... -0.109202 -0.002122 -0.004501\n",
       "\n",
       "[5 rows x 10 columns]"
      ]
     },
     "execution_count": 47,
     "metadata": {
      "tags": []
     },
=======
       "   column 0  column 1  column 2  column 3  column 4  column 5  column 6  \\\n",
       "0  0.188473  0.444017  0.647420  1.096441  0.016609  0.109830  0.043724   \n",
       "1  1.705068 -0.278734 -0.088502 -0.087677 -0.024046  0.086759  0.059993   \n",
       "2 -1.037544 -0.424769 -0.418469 -0.224334  0.235172 -0.093546 -0.120637   \n",
       "3 -1.047677 -0.308790  0.089864 -0.252247 -0.453711 -0.065730  0.048992   \n",
       "4  0.301972  2.193213 -0.179477 -0.052003 -0.301176  0.024948  0.052186   \n",
       "\n",
       "   column 7  column 8  column 9  \n",
       "0 -0.268808 -0.352872  0.717292  \n",
       "1 -0.108642 -0.037669  0.019043  \n",
       "2 -0.124779  0.085580  0.030092  \n",
       "3  0.006543 -0.101855 -0.023445  \n",
       "4 -0.109201 -0.002122 -0.004508  "
      ]
     },
     "execution_count": 21,
     "metadata": {},
>>>>>>> 69610178921cf0ec389a20cf29704c5effd1bf41
     "output_type": "execute_result"
    }
   ],
   "source": [
    "pca = PCA(n_components=10)\n",
    "dataset = pca.fit_transform(data_rescaled)\n",
    "\n",
    "df=pd.DataFrame(data=dataset[0:,0:], index=[i for i in range(dataset.shape[0])], columns=['column '+str(i) for i in range(dataset.shape[1])])\n",
    "df.head()"
   ]
  },
  {
   "cell_type": "markdown",
   "metadata": {
    "colab_type": "text",
    "id": "TIqPop9eLFHZ"
   },
   "source": [
    "# PCA 20 paling dominan"
   ]
  },
  {
   "cell_type": "code",
<<<<<<< HEAD
   "execution_count": 48,
=======
   "execution_count": 22,
>>>>>>> 69610178921cf0ec389a20cf29704c5effd1bf41
   "metadata": {
    "colab": {
     "base_uri": "https://localhost:8080/",
     "height": 241
    },
    "colab_type": "code",
    "id": "pADcmjyqLLa7",
    "outputId": "c0157c18-4be7-4d1a-deb7-caba387fd5fa"
   },
   "outputs": [
    {
     "data": {
      "text/html": [
       "<div>\n",
       "<style scoped>\n",
       "    .dataframe tbody tr th:only-of-type {\n",
       "        vertical-align: middle;\n",
       "    }\n",
       "\n",
       "    .dataframe tbody tr th {\n",
       "        vertical-align: top;\n",
       "    }\n",
       "\n",
       "    .dataframe thead th {\n",
       "        text-align: right;\n",
       "    }\n",
       "</style>\n",
       "<table border=\"1\" class=\"dataframe\">\n",
       "  <thead>\n",
       "    <tr style=\"text-align: right;\">\n",
       "      <th></th>\n",
       "      <th>column 0</th>\n",
       "      <th>column 1</th>\n",
       "      <th>column 2</th>\n",
       "      <th>column 3</th>\n",
       "      <th>column 4</th>\n",
       "      <th>column 5</th>\n",
       "      <th>column 6</th>\n",
       "      <th>column 7</th>\n",
       "      <th>column 8</th>\n",
       "      <th>column 9</th>\n",
       "      <th>column 10</th>\n",
       "      <th>column 11</th>\n",
       "      <th>column 12</th>\n",
       "      <th>column 13</th>\n",
       "      <th>column 14</th>\n",
       "      <th>column 15</th>\n",
       "      <th>column 16</th>\n",
       "      <th>column 17</th>\n",
       "      <th>column 18</th>\n",
       "      <th>column 19</th>\n",
       "    </tr>\n",
       "  </thead>\n",
       "  <tbody>\n",
       "    <tr>\n",
<<<<<<< HEAD
       "      <th>0</th>\n",
=======
       "      <td>0</td>\n",
>>>>>>> 69610178921cf0ec389a20cf29704c5effd1bf41
       "      <td>0.188473</td>\n",
       "      <td>0.444017</td>\n",
       "      <td>0.647420</td>\n",
       "      <td>1.096441</td>\n",
       "      <td>0.016608</td>\n",
       "      <td>0.109829</td>\n",
       "      <td>0.043725</td>\n",
       "      <td>-0.268810</td>\n",
       "      <td>-0.352869</td>\n",
       "      <td>0.717304</td>\n",
       "      <td>-0.228226</td>\n",
       "      <td>0.090865</td>\n",
       "      <td>-0.148836</td>\n",
       "      <td>-0.143329</td>\n",
       "      <td>0.048137</td>\n",
       "      <td>0.150255</td>\n",
       "      <td>0.056156</td>\n",
       "      <td>0.109531</td>\n",
       "      <td>-0.036056</td>\n",
       "      <td>0.157321</td>\n",
       "    </tr>\n",
       "    <tr>\n",
<<<<<<< HEAD
       "      <th>1</th>\n",
=======
       "      <td>1</td>\n",
>>>>>>> 69610178921cf0ec389a20cf29704c5effd1bf41
       "      <td>1.705068</td>\n",
       "      <td>-0.278734</td>\n",
       "      <td>-0.088502</td>\n",
       "      <td>-0.087677</td>\n",
       "      <td>-0.024046</td>\n",
       "      <td>0.086759</td>\n",
       "      <td>0.059994</td>\n",
       "      <td>-0.108643</td>\n",
       "      <td>-0.037668</td>\n",
       "      <td>0.019047</td>\n",
       "      <td>0.045946</td>\n",
       "      <td>-0.009891</td>\n",
       "      <td>-0.028268</td>\n",
       "      <td>-0.009508</td>\n",
       "      <td>0.023706</td>\n",
       "      <td>-0.004859</td>\n",
       "      <td>0.010683</td>\n",
       "      <td>-0.014633</td>\n",
       "      <td>-0.025800</td>\n",
       "      <td>0.045801</td>\n",
       "    </tr>\n",
       "    <tr>\n",
<<<<<<< HEAD
       "      <th>2</th>\n",
=======
       "      <td>2</td>\n",
>>>>>>> 69610178921cf0ec389a20cf29704c5effd1bf41
       "      <td>-1.037544</td>\n",
       "      <td>-0.424769</td>\n",
       "      <td>-0.418469</td>\n",
       "      <td>-0.224334</td>\n",
       "      <td>0.235172</td>\n",
       "      <td>-0.093547</td>\n",
       "      <td>-0.120637</td>\n",
       "      <td>-0.124779</td>\n",
       "      <td>0.085581</td>\n",
       "      <td>0.030095</td>\n",
       "      <td>-0.006218</td>\n",
       "      <td>0.093513</td>\n",
       "      <td>0.021702</td>\n",
       "      <td>0.040413</td>\n",
       "      <td>0.018772</td>\n",
       "      <td>0.086065</td>\n",
       "      <td>-0.101129</td>\n",
       "      <td>-0.025409</td>\n",
       "      <td>0.015466</td>\n",
       "      <td>0.014262</td>\n",
       "    </tr>\n",
       "    <tr>\n",
<<<<<<< HEAD
       "      <th>3</th>\n",
=======
       "      <td>3</td>\n",
>>>>>>> 69610178921cf0ec389a20cf29704c5effd1bf41
       "      <td>-1.047677</td>\n",
       "      <td>-0.308790</td>\n",
       "      <td>0.089864</td>\n",
       "      <td>-0.252247</td>\n",
       "      <td>-0.453711</td>\n",
       "      <td>-0.065730</td>\n",
       "      <td>0.048992</td>\n",
       "      <td>0.006543</td>\n",
       "      <td>-0.101855</td>\n",
       "      <td>-0.023447</td>\n",
       "      <td>-0.005122</td>\n",
       "      <td>-0.033677</td>\n",
       "      <td>-0.001548</td>\n",
       "      <td>0.015780</td>\n",
       "      <td>-0.013601</td>\n",
       "      <td>0.014743</td>\n",
       "      <td>0.002431</td>\n",
       "      <td>0.020913</td>\n",
       "      <td>0.006496</td>\n",
       "      <td>-0.004352</td>\n",
       "    </tr>\n",
       "    <tr>\n",
<<<<<<< HEAD
       "      <th>4</th>\n",
=======
       "      <td>4</td>\n",
>>>>>>> 69610178921cf0ec389a20cf29704c5effd1bf41
       "      <td>0.301972</td>\n",
       "      <td>2.193213</td>\n",
       "      <td>-0.179477</td>\n",
       "      <td>-0.052003</td>\n",
       "      <td>-0.301176</td>\n",
       "      <td>0.024948</td>\n",
       "      <td>0.052187</td>\n",
       "      <td>-0.109202</td>\n",
       "      <td>-0.002120</td>\n",
       "      <td>-0.004501</td>\n",
       "      <td>0.008668</td>\n",
       "      <td>0.004576</td>\n",
       "      <td>-0.016279</td>\n",
       "      <td>-0.017508</td>\n",
       "      <td>0.011451</td>\n",
       "      <td>0.008284</td>\n",
       "      <td>-0.007846</td>\n",
       "      <td>-0.037247</td>\n",
       "      <td>-0.031509</td>\n",
       "      <td>0.058863</td>\n",
       "    </tr>\n",
       "  </tbody>\n",
       "</table>\n",
       "</div>"
      ],
      "text/plain": [
<<<<<<< HEAD
       "   column 0  column 1  column 2  ...  column 17  column 18  column 19\n",
       "0  0.188473  0.444017  0.647420  ...   0.109531  -0.036056   0.157321\n",
       "1  1.705068 -0.278734 -0.088502  ...  -0.014633  -0.025800   0.045801\n",
       "2 -1.037544 -0.424769 -0.418469  ...  -0.025409   0.015466   0.014262\n",
       "3 -1.047677 -0.308790  0.089864  ...   0.020913   0.006496  -0.004352\n",
       "4  0.301972  2.193213 -0.179477  ...  -0.037247  -0.031509   0.058863\n",
       "\n",
       "[5 rows x 20 columns]"
      ]
     },
     "execution_count": 48,
     "metadata": {
      "tags": []
     },
=======
       "   column 0  column 1  column 2  column 3  column 4  column 5  column 6  \\\n",
       "0  0.188473  0.444017  0.647420  1.096441  0.016608  0.109829  0.043725   \n",
       "1  1.705068 -0.278734 -0.088502 -0.087677 -0.024046  0.086759  0.059994   \n",
       "2 -1.037544 -0.424769 -0.418469 -0.224334  0.235172 -0.093547 -0.120637   \n",
       "3 -1.047677 -0.308790  0.089864 -0.252247 -0.453711 -0.065730  0.048992   \n",
       "4  0.301972  2.193213 -0.179477 -0.052003 -0.301176  0.024948  0.052187   \n",
       "\n",
       "   column 7  column 8  column 9  column 10  column 11  column 12  column 13  \\\n",
       "0 -0.268810 -0.352869  0.717304  -0.228226   0.090865  -0.148836  -0.143329   \n",
       "1 -0.108643 -0.037668  0.019047   0.045946  -0.009891  -0.028268  -0.009508   \n",
       "2 -0.124779  0.085581  0.030095  -0.006218   0.093513   0.021702   0.040413   \n",
       "3  0.006543 -0.101855 -0.023447  -0.005122  -0.033677  -0.001548   0.015780   \n",
       "4 -0.109202 -0.002120 -0.004501   0.008668   0.004576  -0.016279  -0.017508   \n",
       "\n",
       "   column 14  column 15  column 16  column 17  column 18  column 19  \n",
       "0   0.048137   0.150255   0.056156   0.109531  -0.036056   0.157321  \n",
       "1   0.023706  -0.004859   0.010683  -0.014633  -0.025800   0.045801  \n",
       "2   0.018772   0.086065  -0.101129  -0.025409   0.015466   0.014262  \n",
       "3  -0.013601   0.014743   0.002431   0.020913   0.006496  -0.004352  \n",
       "4   0.011451   0.008284  -0.007846  -0.037247  -0.031509   0.058863  "
      ]
     },
     "execution_count": 22,
     "metadata": {},
>>>>>>> 69610178921cf0ec389a20cf29704c5effd1bf41
     "output_type": "execute_result"
    }
   ],
   "source": [
    "pca = PCA(n_components=20)\n",
    "dataset = pca.fit_transform(data_rescaled)\n",
    "\n",
    "df=pd.DataFrame(data=dataset[0:,0:], index=[i for i in range(dataset.shape[0])], columns=['column '+str(i) for i in range(dataset.shape[1])])\n",
    "df.head()"
   ]
  },
  {
   "cell_type": "markdown",
   "metadata": {
    "colab_type": "text",
    "id": "2EeSmBpJLNiz"
   },
   "source": [
    "# PCA 41 atau semua atribut"
   ]
  },
  {
   "cell_type": "code",
<<<<<<< HEAD
   "execution_count": 49,
=======
   "execution_count": 23,
>>>>>>> 69610178921cf0ec389a20cf29704c5effd1bf41
   "metadata": {
    "colab": {
     "base_uri": "https://localhost:8080/",
     "height": 326
    },
    "colab_type": "code",
    "id": "hh8pudYHLSRm",
    "outputId": "08c5eb1c-f1c2-439c-b531-e19e2e7d3a00"
   },
   "outputs": [
    {
     "data": {
      "text/html": [
       "<div>\n",
       "<style scoped>\n",
       "    .dataframe tbody tr th:only-of-type {\n",
       "        vertical-align: middle;\n",
       "    }\n",
       "\n",
       "    .dataframe tbody tr th {\n",
       "        vertical-align: top;\n",
       "    }\n",
       "\n",
       "    .dataframe thead th {\n",
       "        text-align: right;\n",
       "    }\n",
       "</style>\n",
       "<table border=\"1\" class=\"dataframe\">\n",
       "  <thead>\n",
       "    <tr style=\"text-align: right;\">\n",
       "      <th></th>\n",
       "      <th>column 0</th>\n",
       "      <th>column 1</th>\n",
       "      <th>column 2</th>\n",
       "      <th>column 3</th>\n",
       "      <th>column 4</th>\n",
       "      <th>column 5</th>\n",
       "      <th>column 6</th>\n",
       "      <th>column 7</th>\n",
       "      <th>column 8</th>\n",
       "      <th>column 9</th>\n",
<<<<<<< HEAD
       "      <th>column 10</th>\n",
       "      <th>column 11</th>\n",
       "      <th>column 12</th>\n",
       "      <th>column 13</th>\n",
       "      <th>column 14</th>\n",
       "      <th>column 15</th>\n",
       "      <th>column 16</th>\n",
       "      <th>column 17</th>\n",
       "      <th>column 18</th>\n",
       "      <th>column 19</th>\n",
       "      <th>column 20</th>\n",
       "      <th>column 21</th>\n",
       "      <th>column 22</th>\n",
       "      <th>column 23</th>\n",
       "      <th>column 24</th>\n",
       "      <th>column 25</th>\n",
       "      <th>column 26</th>\n",
       "      <th>column 27</th>\n",
       "      <th>column 28</th>\n",
       "      <th>column 29</th>\n",
       "      <th>column 30</th>\n",
=======
       "      <th>...</th>\n",
>>>>>>> 69610178921cf0ec389a20cf29704c5effd1bf41
       "      <th>column 31</th>\n",
       "      <th>column 32</th>\n",
       "      <th>column 33</th>\n",
       "      <th>column 34</th>\n",
       "      <th>column 35</th>\n",
       "      <th>column 36</th>\n",
       "      <th>column 37</th>\n",
       "      <th>column 38</th>\n",
       "      <th>column 39</th>\n",
       "      <th>column 40</th>\n",
       "    </tr>\n",
       "  </thead>\n",
       "  <tbody>\n",
       "    <tr>\n",
<<<<<<< HEAD
       "      <th>0</th>\n",
=======
       "      <td>0</td>\n",
>>>>>>> 69610178921cf0ec389a20cf29704c5effd1bf41
       "      <td>0.188473</td>\n",
       "      <td>0.444017</td>\n",
       "      <td>0.647420</td>\n",
       "      <td>1.096441</td>\n",
       "      <td>0.016608</td>\n",
       "      <td>0.109829</td>\n",
       "      <td>0.043725</td>\n",
       "      <td>-0.268810</td>\n",
       "      <td>-0.352869</td>\n",
       "      <td>0.717304</td>\n",
<<<<<<< HEAD
       "      <td>-0.228226</td>\n",
       "      <td>0.090865</td>\n",
       "      <td>-0.148836</td>\n",
       "      <td>-0.143329</td>\n",
       "      <td>0.048137</td>\n",
       "      <td>0.150255</td>\n",
       "      <td>0.056156</td>\n",
       "      <td>0.109531</td>\n",
       "      <td>-0.036056</td>\n",
       "      <td>0.157321</td>\n",
       "      <td>0.057765</td>\n",
       "      <td>0.098332</td>\n",
       "      <td>-0.007642</td>\n",
       "      <td>0.037965</td>\n",
       "      <td>0.004564</td>\n",
       "      <td>-0.047922</td>\n",
       "      <td>0.018537</td>\n",
       "      <td>-0.013010</td>\n",
       "      <td>0.000136</td>\n",
       "      <td>0.005116</td>\n",
       "      <td>0.013664</td>\n",
=======
       "      <td>...</td>\n",
>>>>>>> 69610178921cf0ec389a20cf29704c5effd1bf41
       "      <td>-0.001390</td>\n",
       "      <td>0.001989</td>\n",
       "      <td>-0.001017</td>\n",
       "      <td>0.001911</td>\n",
       "      <td>0.000013</td>\n",
       "      <td>-0.000492</td>\n",
       "      <td>-0.000350</td>\n",
       "      <td>-0.000197</td>\n",
       "      <td>-5.412495e-06</td>\n",
       "      <td>-8.504976e-18</td>\n",
       "    </tr>\n",
       "    <tr>\n",
<<<<<<< HEAD
       "      <th>1</th>\n",
=======
       "      <td>1</td>\n",
>>>>>>> 69610178921cf0ec389a20cf29704c5effd1bf41
       "      <td>1.705068</td>\n",
       "      <td>-0.278734</td>\n",
       "      <td>-0.088502</td>\n",
       "      <td>-0.087677</td>\n",
       "      <td>-0.024046</td>\n",
       "      <td>0.086759</td>\n",
       "      <td>0.059994</td>\n",
       "      <td>-0.108643</td>\n",
       "      <td>-0.037668</td>\n",
       "      <td>0.019047</td>\n",
<<<<<<< HEAD
       "      <td>0.045946</td>\n",
       "      <td>-0.009891</td>\n",
       "      <td>-0.028268</td>\n",
       "      <td>-0.009508</td>\n",
       "      <td>0.023706</td>\n",
       "      <td>-0.004859</td>\n",
       "      <td>0.010683</td>\n",
       "      <td>-0.014633</td>\n",
       "      <td>-0.025800</td>\n",
       "      <td>0.045801</td>\n",
       "      <td>0.019274</td>\n",
       "      <td>0.021144</td>\n",
       "      <td>-0.000202</td>\n",
       "      <td>0.001778</td>\n",
       "      <td>-0.001125</td>\n",
       "      <td>0.001751</td>\n",
       "      <td>0.000585</td>\n",
       "      <td>0.000334</td>\n",
       "      <td>-0.000500</td>\n",
       "      <td>-0.000102</td>\n",
       "      <td>-0.000410</td>\n",
=======
       "      <td>...</td>\n",
>>>>>>> 69610178921cf0ec389a20cf29704c5effd1bf41
       "      <td>0.000182</td>\n",
       "      <td>0.000088</td>\n",
       "      <td>0.000074</td>\n",
       "      <td>-0.000025</td>\n",
       "      <td>-0.000013</td>\n",
       "      <td>-0.000006</td>\n",
       "      <td>0.000082</td>\n",
       "      <td>0.000004</td>\n",
       "      <td>2.883116e-06</td>\n",
       "      <td>-1.775807e-17</td>\n",
       "    </tr>\n",
       "    <tr>\n",
<<<<<<< HEAD
       "      <th>2</th>\n",
=======
       "      <td>2</td>\n",
>>>>>>> 69610178921cf0ec389a20cf29704c5effd1bf41
       "      <td>-1.037544</td>\n",
       "      <td>-0.424769</td>\n",
       "      <td>-0.418469</td>\n",
       "      <td>-0.224334</td>\n",
       "      <td>0.235172</td>\n",
       "      <td>-0.093547</td>\n",
       "      <td>-0.120637</td>\n",
       "      <td>-0.124779</td>\n",
       "      <td>0.085581</td>\n",
       "      <td>0.030095</td>\n",
<<<<<<< HEAD
       "      <td>-0.006218</td>\n",
       "      <td>0.093513</td>\n",
       "      <td>0.021702</td>\n",
       "      <td>0.040413</td>\n",
       "      <td>0.018772</td>\n",
       "      <td>0.086065</td>\n",
       "      <td>-0.101129</td>\n",
       "      <td>-0.025409</td>\n",
       "      <td>0.015466</td>\n",
       "      <td>0.014262</td>\n",
       "      <td>-0.034417</td>\n",
       "      <td>0.005172</td>\n",
       "      <td>0.001963</td>\n",
       "      <td>-0.011584</td>\n",
       "      <td>-0.062690</td>\n",
       "      <td>-0.004625</td>\n",
       "      <td>-0.012721</td>\n",
       "      <td>-0.000497</td>\n",
       "      <td>-0.001053</td>\n",
       "      <td>-0.000423</td>\n",
       "      <td>0.001127</td>\n",
=======
       "      <td>...</td>\n",
>>>>>>> 69610178921cf0ec389a20cf29704c5effd1bf41
       "      <td>0.000117</td>\n",
       "      <td>-0.000200</td>\n",
       "      <td>-0.000115</td>\n",
       "      <td>0.000689</td>\n",
       "      <td>-0.000071</td>\n",
       "      <td>0.000037</td>\n",
       "      <td>-0.000261</td>\n",
       "      <td>0.000065</td>\n",
       "      <td>1.239931e-06</td>\n",
       "      <td>-4.512433e-17</td>\n",
       "    </tr>\n",
       "    <tr>\n",
<<<<<<< HEAD
       "      <th>3</th>\n",
=======
       "      <td>3</td>\n",
>>>>>>> 69610178921cf0ec389a20cf29704c5effd1bf41
       "      <td>-1.047677</td>\n",
       "      <td>-0.308790</td>\n",
       "      <td>0.089864</td>\n",
       "      <td>-0.252247</td>\n",
       "      <td>-0.453711</td>\n",
       "      <td>-0.065730</td>\n",
       "      <td>0.048992</td>\n",
       "      <td>0.006543</td>\n",
       "      <td>-0.101855</td>\n",
       "      <td>-0.023447</td>\n",
<<<<<<< HEAD
       "      <td>-0.005122</td>\n",
       "      <td>-0.033677</td>\n",
       "      <td>-0.001548</td>\n",
       "      <td>0.015780</td>\n",
       "      <td>-0.013601</td>\n",
       "      <td>0.014743</td>\n",
       "      <td>0.002431</td>\n",
       "      <td>0.020913</td>\n",
       "      <td>0.006496</td>\n",
       "      <td>-0.004352</td>\n",
       "      <td>0.005187</td>\n",
       "      <td>0.002530</td>\n",
       "      <td>-0.001983</td>\n",
       "      <td>0.003487</td>\n",
       "      <td>0.005254</td>\n",
       "      <td>0.000758</td>\n",
       "      <td>-0.001913</td>\n",
       "      <td>0.000031</td>\n",
       "      <td>0.000164</td>\n",
       "      <td>-0.000838</td>\n",
       "      <td>-0.000659</td>\n",
=======
       "      <td>...</td>\n",
>>>>>>> 69610178921cf0ec389a20cf29704c5effd1bf41
       "      <td>-0.000083</td>\n",
       "      <td>0.000604</td>\n",
       "      <td>-0.000665</td>\n",
       "      <td>-0.000583</td>\n",
       "      <td>0.000113</td>\n",
       "      <td>-0.000051</td>\n",
       "      <td>0.000109</td>\n",
       "      <td>-0.000030</td>\n",
       "      <td>6.752815e-06</td>\n",
       "      <td>-6.182058e-17</td>\n",
       "    </tr>\n",
       "    <tr>\n",
<<<<<<< HEAD
       "      <th>4</th>\n",
=======
       "      <td>4</td>\n",
>>>>>>> 69610178921cf0ec389a20cf29704c5effd1bf41
       "      <td>0.301972</td>\n",
       "      <td>2.193213</td>\n",
       "      <td>-0.179477</td>\n",
       "      <td>-0.052003</td>\n",
       "      <td>-0.301176</td>\n",
       "      <td>0.024948</td>\n",
       "      <td>0.052187</td>\n",
       "      <td>-0.109202</td>\n",
       "      <td>-0.002120</td>\n",
       "      <td>-0.004501</td>\n",
<<<<<<< HEAD
       "      <td>0.008668</td>\n",
       "      <td>0.004576</td>\n",
       "      <td>-0.016279</td>\n",
       "      <td>-0.017508</td>\n",
       "      <td>0.011451</td>\n",
       "      <td>0.008284</td>\n",
       "      <td>-0.007846</td>\n",
       "      <td>-0.037247</td>\n",
       "      <td>-0.031509</td>\n",
       "      <td>0.058863</td>\n",
       "      <td>0.011057</td>\n",
       "      <td>0.008376</td>\n",
       "      <td>-0.002506</td>\n",
       "      <td>0.006438</td>\n",
       "      <td>0.012491</td>\n",
       "      <td>-0.000561</td>\n",
       "      <td>0.005368</td>\n",
       "      <td>-0.000130</td>\n",
       "      <td>0.002123</td>\n",
       "      <td>0.000359</td>\n",
       "      <td>0.000140</td>\n",
=======
       "      <td>...</td>\n",
>>>>>>> 69610178921cf0ec389a20cf29704c5effd1bf41
       "      <td>-0.000285</td>\n",
       "      <td>-0.000126</td>\n",
       "      <td>-0.000100</td>\n",
       "      <td>0.000030</td>\n",
       "      <td>0.000005</td>\n",
       "      <td>-0.000033</td>\n",
       "      <td>-0.000096</td>\n",
       "      <td>-0.000014</td>\n",
       "      <td>2.253994e-07</td>\n",
       "      <td>3.882628e-18</td>\n",
       "    </tr>\n",
       "  </tbody>\n",
       "</table>\n",
<<<<<<< HEAD
       "</div>"
      ],
      "text/plain": [
       "   column 0  column 1  column 2  ...  column 38     column 39     column 40\n",
       "0  0.188473  0.444017  0.647420  ...  -0.000197 -5.412495e-06 -8.504976e-18\n",
       "1  1.705068 -0.278734 -0.088502  ...   0.000004  2.883116e-06 -1.775807e-17\n",
       "2 -1.037544 -0.424769 -0.418469  ...   0.000065  1.239931e-06 -4.512433e-17\n",
       "3 -1.047677 -0.308790  0.089864  ...  -0.000030  6.752815e-06 -6.182058e-17\n",
       "4  0.301972  2.193213 -0.179477  ...  -0.000014  2.253994e-07  3.882628e-18\n",
=======
       "<p>5 rows × 41 columns</p>\n",
       "</div>"
      ],
      "text/plain": [
       "   column 0  column 1  column 2  column 3  column 4  column 5  column 6  \\\n",
       "0  0.188473  0.444017  0.647420  1.096441  0.016608  0.109829  0.043725   \n",
       "1  1.705068 -0.278734 -0.088502 -0.087677 -0.024046  0.086759  0.059994   \n",
       "2 -1.037544 -0.424769 -0.418469 -0.224334  0.235172 -0.093547 -0.120637   \n",
       "3 -1.047677 -0.308790  0.089864 -0.252247 -0.453711 -0.065730  0.048992   \n",
       "4  0.301972  2.193213 -0.179477 -0.052003 -0.301176  0.024948  0.052187   \n",
       "\n",
       "   column 7  column 8  column 9  ...  column 31  column 32  column 33  \\\n",
       "0 -0.268810 -0.352869  0.717304  ...  -0.001390   0.001989  -0.001017   \n",
       "1 -0.108643 -0.037668  0.019047  ...   0.000182   0.000088   0.000074   \n",
       "2 -0.124779  0.085581  0.030095  ...   0.000117  -0.000200  -0.000115   \n",
       "3  0.006543 -0.101855 -0.023447  ...  -0.000083   0.000604  -0.000665   \n",
       "4 -0.109202 -0.002120 -0.004501  ...  -0.000285  -0.000126  -0.000100   \n",
       "\n",
       "   column 34  column 35  column 36  column 37  column 38     column 39  \\\n",
       "0   0.001911   0.000013  -0.000492  -0.000350  -0.000197 -5.412495e-06   \n",
       "1  -0.000025  -0.000013  -0.000006   0.000082   0.000004  2.883116e-06   \n",
       "2   0.000689  -0.000071   0.000037  -0.000261   0.000065  1.239931e-06   \n",
       "3  -0.000583   0.000113  -0.000051   0.000109  -0.000030  6.752815e-06   \n",
       "4   0.000030   0.000005  -0.000033  -0.000096  -0.000014  2.253994e-07   \n",
       "\n",
       "      column 40  \n",
       "0 -8.504976e-18  \n",
       "1 -1.775807e-17  \n",
       "2 -4.512433e-17  \n",
       "3 -6.182058e-17  \n",
       "4  3.882628e-18  \n",
>>>>>>> 69610178921cf0ec389a20cf29704c5effd1bf41
       "\n",
       "[5 rows x 41 columns]"
      ]
     },
<<<<<<< HEAD
     "execution_count": 49,
     "metadata": {
      "tags": []
     },
=======
     "execution_count": 23,
     "metadata": {},
>>>>>>> 69610178921cf0ec389a20cf29704c5effd1bf41
     "output_type": "execute_result"
    }
   ],
   "source": [
    "pca = PCA(n_components=41)\n",
    "dataset = pca.fit_transform(data_rescaled)\n",
    "\n",
    "df=pd.DataFrame(data=dataset[0:,0:], index=[i for i in range(dataset.shape[0])], columns=['column '+str(i) for i in range(dataset.shape[1])])\n",
    "df.head()"
   ]
  },
  {
   "cell_type": "markdown",
   "metadata": {
    "colab_type": "text",
    "id": "5nc7yys4MtZ5"
   },
   "source": [
    "# PCA 15 komponen"
   ]
  },
  {
   "cell_type": "code",
<<<<<<< HEAD
   "execution_count": 50,
=======
   "execution_count": 24,
>>>>>>> 69610178921cf0ec389a20cf29704c5effd1bf41
   "metadata": {
    "colab": {
     "base_uri": "https://localhost:8080/",
     "height": 34
    },
    "colab_type": "code",
    "id": "5pfTTYSwMyG_",
    "outputId": "5b2e8128-d515-460f-d166-fa8ee9a0915f"
   },
   "outputs": [
    {
     "data": {
      "text/plain": [
       "(113269, 15)"
      ]
     },
<<<<<<< HEAD
     "execution_count": 50,
     "metadata": {
      "tags": []
     },
=======
     "execution_count": 24,
     "metadata": {},
>>>>>>> 69610178921cf0ec389a20cf29704c5effd1bf41
     "output_type": "execute_result"
    }
   ],
   "source": [
    "pca = PCA(n_components=15)\n",
    "dataset = pca.fit_transform(data_rescaled)\n",
    "\n",
    "df=pd.DataFrame(data=dataset[0:,0:], index=[i for i in range(dataset.shape[0])], columns=['column '+str(i) for i in range(dataset.shape[1])])\n",
    "df.shape"
   ]
  },
  {
   "cell_type": "markdown",
   "metadata": {
    "colab_type": "text",
    "id": "uP3tsBrxJIuG"
   },
   "source": [
    "# PCA 41 cara baru"
   ]
  },
  {
   "cell_type": "code",
<<<<<<< HEAD
   "execution_count": 51,
=======
   "execution_count": 25,
>>>>>>> 69610178921cf0ec389a20cf29704c5effd1bf41
   "metadata": {
    "colab": {
     "base_uri": "https://localhost:8080/",
     "height": 34
    },
    "colab_type": "code",
    "id": "UQHAiLmuJMTJ",
    "outputId": "59c7437b-0fca-4280-f8df-0bc1e64419f2"
   },
   "outputs": [
    {
     "data": {
      "text/plain": [
       "(113269, 41)"
      ]
     },
<<<<<<< HEAD
     "execution_count": 51,
     "metadata": {
      "tags": []
     },
=======
     "execution_count": 25,
     "metadata": {},
>>>>>>> 69610178921cf0ec389a20cf29704c5effd1bf41
     "output_type": "execute_result"
    }
   ],
   "source": [
    "pca = PCA(n_components=41)\n",
    "dataset = pca.fit_transform(data_rescaled)\n",
    "\n",
    "df=pd.DataFrame(data=dataset[0:,0:], index=[i for i in range(dataset.shape[0])], columns=['column '+str(i) for i in range(dataset.shape[1])])\n",
    "df.shape"
   ]
  }
 ],
 "metadata": {
  "accelerator": "GPU",
  "colab": {
   "collapsed_sections": [],
   "machine_shape": "hm",
   "name": "P.C.A-v1.ipynb",
   "provenance": [],
   "toc_visible": true
  },
  "kernelspec": {
   "display_name": "Python 3",
   "language": "python",
   "name": "python3"
  },
  "language_info": {
   "codemirror_mode": {
    "name": "ipython",
    "version": 3
   },
   "file_extension": ".py",
   "mimetype": "text/x-python",
   "name": "python",
   "nbconvert_exporter": "python",
   "pygments_lexer": "ipython3",
<<<<<<< HEAD
   "version": "3.7.3"
=======
   "version": "3.7.4"
>>>>>>> 69610178921cf0ec389a20cf29704c5effd1bf41
  }
 },
 "nbformat": 4,
 "nbformat_minor": 1
}
