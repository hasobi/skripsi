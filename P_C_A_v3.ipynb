{
  "nbformat": 4,
  "nbformat_minor": 0,
  "metadata": {
    "colab": {
      "name": "P_C_A_v3.ipynb",
      "provenance": [],
      "collapsed_sections": [
        "OjMJTd5poDxQ",
        "XvI3QTvMv7Bo"
      ],
      "machine_shape": "hm"
    },
    "kernelspec": {
      "name": "python3",
      "display_name": "Python 3"
    },
    "accelerator": "GPU"
  },
  "cells": [
    {
      "cell_type": "markdown",
      "metadata": {
        "id": "iSKK8ID8ylF0",
        "colab_type": "text"
      },
      "source": [
        "# Inisialisasi"
      ]
    },
    {
      "cell_type": "code",
      "metadata": {
        "id": "b6exrlgN8jAg",
        "colab_type": "code",
        "colab": {}
      },
      "source": [
        "# !pip install -q --upgrade ipython\n",
        "# !pip install -q --upgrade ipykernel\n",
        "\n",
        "# !pip install -q --upgrade ipython==5.5.0\n",
        "# !pip install -q --upgrade ipykernel==4.6.0"
      ],
      "execution_count": 0,
      "outputs": []
    },
    {
      "cell_type": "code",
      "metadata": {
        "id": "I1D8P--DiYS5",
        "colab_type": "code",
        "colab": {}
      },
      "source": [
        "import pandas as pd\n",
        "import numpy as np\n",
        "from sklearn.preprocessing import StandardScaler\n",
        "from matplotlib import*\n",
        "import matplotlib.pyplot as plt\n",
        "from matplotlib.cm import register_cmap\n",
        "from scipy import stats\n",
        "# from sklearn.decomposition import PCA as sklearnPCA\n",
        "import seaborn as sns\n",
        "\n",
        "from sklearn.decomposition import PCA\n",
        "from sklearn.preprocessing import MinMaxScaler\n",
        "\n",
        "import statsmodels.api as sm\n",
        "%matplotlib inline\n",
        "from sklearn.model_selection import train_test_split\n",
        "from sklearn.linear_model import LinearRegression\n",
        "from sklearn.feature_selection import RFE\n",
        "from sklearn.linear_model import RidgeCV, LassoCV, Ridge, Lasso\n",
        "\n",
        "from scipy.stats import zscore\n",
        "\n",
        "# from sklearn.decomposition import PCA as sklearnPCA\n",
        "# from sklearn.preprocessing import StandardScaler\n",
        "\n",
        "# from sklearn.datasets import make_classification\n",
        "from sklearn.ensemble import ExtraTreesClassifier\n",
        "import time"
      ],
      "execution_count": 0,
      "outputs": []
    },
    {
      "cell_type": "code",
      "metadata": {
        "id": "HklaiEBJSRHS",
        "colab_type": "code",
        "colab": {}
      },
      "source": [
        "from sklearn.model_selection import train_test_split\n",
        "from sklearn.metrics import accuracy_score\n",
        "\n",
        "from sklearn.model_selection import cross_validate\n",
        "from sklearn.metrics import accuracy_score, make_scorer\n",
        "from sklearn.model_selection import cross_validate, ShuffleSplit\n",
        "\n",
        "import time\n",
        "\n",
        "from sklearn.model_selection import KFold\n",
        "\n",
        "from sklearn.neural_network import MLPClassifier"
      ],
      "execution_count": 0,
      "outputs": []
    },
    {
      "cell_type": "code",
      "metadata": {
        "id": "uK2o4SwDiqCg",
        "colab_type": "code",
        "colab": {}
      },
      "source": [
        "# url = 'https://raw.githubusercontent.com/hasobi/skripsi/master/dataset/KDDTrain%2B_v1.csv'\n",
        "url = 'https://raw.githubusercontent.com/hasobi/skripsi/dev/dataset/gabungan_train_test-original.csv'"
      ],
      "execution_count": 0,
      "outputs": []
    },
    {
      "cell_type": "code",
      "metadata": {
        "id": "ievSqF_KisP8",
        "colab_type": "code",
        "colab": {}
      },
      "source": [
        "df = pd.read_csv(url)"
      ],
      "execution_count": 0,
      "outputs": []
    },
    {
      "cell_type": "code",
      "metadata": {
        "id": "GUoqcCOZitnL",
        "colab_type": "code",
        "colab": {}
      },
      "source": [
        "data = df"
      ],
      "execution_count": 0,
      "outputs": []
    },
    {
      "cell_type": "code",
      "metadata": {
        "id": "1EIo338TivP0",
        "colab_type": "code",
        "colab": {}
      },
      "source": [
        "# dicitionary untuk merubah tipe serangan menjadi lebih umum seperti Normal, DoS, Probe, U2R, dan R2L\n",
        "\n",
        "attack_dict={ #DOS\n",
        "    'back' : 'dos',\n",
        "    'land' : 'dos',\n",
        "    'neptune' : 'dos',\n",
        "    'pod' : 'dos',\n",
        "    'smurf' : 'dos',\n",
        "    'teardrop' : 'dos',\n",
        "    'apache2' : 'dos',\n",
        "    'udpstorm' : 'dos',\n",
        "    'processtable' : 'dos',\n",
        "    'worm' : 'dos',\n",
        "    'mailbomb' : 'dos',\n",
        "    \n",
        "    #probe\n",
        "    'satan' : 'probe',\n",
        "    'ipsweep' : 'probe',\n",
        "    'nmap' : 'probe',\n",
        "    'portsweep' : 'probe',\n",
        "    'mscan' : 'probe',\n",
        "    'saint' : 'probe',\n",
        "    \n",
        "    #R2L\n",
        "    'guess_passwd' : 'r2l',\n",
        "    'ftp_write' : 'r2l',\n",
        "    'imap' : 'r2l',\n",
        "    'phf' : 'r2l',\n",
        "    'multihop' : 'r2l',\n",
        "    'warezmaster' : 'r2l',\n",
        "    'warezclient' : 'r2l',\n",
        "    'spy' : 'r2l',\n",
        "    'xlock' : 'r2l',\n",
        "    'xsnoop': 'r2l',\n",
        "    'snmpguess' : 'r2l',\n",
        "    'snmpgetattack' : 'r2l',\n",
        "    'httptunnel' : 'r2l',\n",
        "    'sendmail' : 'r2l',\n",
        "    'named' : 'r2l',\n",
        "    \n",
        "    #U2R\n",
        "    'buffer_overflow' : 'u2r',\n",
        "    'loadmodule' : 'u2r',\n",
        "    'rootkit' : 'u2r',\n",
        "    'perl' : 'u2r',\n",
        "    'sqlattack' : 'u2r',\n",
        "    'xterm' : 'u2r',\n",
        "    'ps' : 'u2r'\n",
        "}\n",
        "\n",
        "data.replace(attack_dict, inplace = True)"
      ],
      "execution_count": 0,
      "outputs": []
    },
    {
      "cell_type": "code",
      "metadata": {
        "id": "XZN9CMemixSk",
        "colab_type": "code",
        "colab": {}
      },
      "source": [
        "# data_primary = data.loc[data['type_attack'].isin(['normal','dos'])]"
      ],
      "execution_count": 0,
      "outputs": []
    },
    {
      "cell_type": "code",
      "metadata": {
        "id": "fxU1NKQai0A0",
        "colab_type": "code",
        "colab": {}
      },
      "source": [
        "# data_primary.head()\n",
        "# data_primary = data"
      ],
      "execution_count": 0,
      "outputs": []
    },
    {
      "cell_type": "code",
      "metadata": {
        "id": "BhJjafDhi3TV",
        "colab_type": "code",
        "colab": {}
      },
      "source": [
        "protocol_dict ={\n",
        "    \"udp\" : 0,\n",
        "    \"tcp\" : 1,\n",
        "    \"icmp\": 2\n",
        "}\n",
        "\n",
        "service_dict={\n",
        "    \"Z39_50\" : 0,\n",
        "    \"X11\" : 1,\n",
        "    \"whois\" : 2,\n",
        "    \"vmnet\" : 3,\n",
        "    \"uucp_path\" : 4,\n",
        "    \"uucp\" : 5,\n",
        "    \"urp_i\" : 6,\n",
        "    \"urh_i\" : 7,\n",
        "    \"time\" : 8,\n",
        "    \"tim_i\" : 9,\n",
        "    \"tftp_u\" : 10,\n",
        "    \"telnet\" : 11,\n",
        "    \"systat\" : 12,\n",
        "    \"supdup\" : 13,\n",
        "    \"sunrpc\" : 14,\n",
        "    \"ssh\" : 15,\n",
        "    \"sql_net\" : 16,\n",
        "    \"smtp\" : 17,\n",
        "    \"shell\" : 18,\n",
        "    \"rje\" : 19,\n",
        "    \"remote_job\" : 20,\n",
        "    \"red_i\" : 21,\n",
        "    \"private\" : 22,\n",
        "    \"printer\" : 23,\n",
        "    \"pop_3\" : 24,\n",
        "    \"pop_2\" : 25,\n",
        "    \"pm_dump\" : 26,\n",
        "    \"other\" : 27,\n",
        "    \"ntp_u\" : 28,\n",
        "    \"nntp\" : 29,\n",
        "    \"nnsp\" : 30,\n",
        "    \"netstat\" : 31,\n",
        "    \"netbios_ssn\" : 32,\n",
        "    \"netbios_ns\" : 33,\n",
        "    \"netbios_dgm\" : 34,\n",
        "    \"name\" : 35,\n",
        "    \"mtp\" : 36,\n",
        "    \"login\" : 37,\n",
        "    \"link\" : 38,\n",
        "    \"ldap\" : 39,\n",
        "    \"kshell\" : 40,\n",
        "    \"klogin\" : 41,\n",
        "    \"iso_tsap\" : 42,\n",
        "    \"IRC\" : 43,\n",
        "    \"imap4\" : 44,\n",
        "    \"http_8001\" : 45,\n",
        "    \"http_443\" : 46,\n",
        "    \"http_2784\" : 47,\n",
        "    \"http\" : 48,\n",
        "    \"hostnames\" : 49,\n",
        "    \"harvest\" : 50,\n",
        "    \"gopher\" : 51,\n",
        "    \"ftp_data\" : 52,\n",
        "    \"ftp\" : 53,\n",
        "    \"finger\" :  54,\n",
        "    \"exec\" : 55,\n",
        "    \"efs\" : 56,\n",
        "    \"ecr_i\" : 57,\n",
        "    \"eco_i\" : 58,\n",
        "    \"echo\" : 59,\n",
        "    \"domain_u\" : 60,\n",
        "    \"domain\" : 61,\n",
        "    \"discard\" : 62,\n",
        "    \"daytime\" : 63,\n",
        "    \"ctf\" : 64,\n",
        "    \"csnet_ns\" : 65,\n",
        "    \"courier\" : 66,\n",
        "    \"bgp\" : 67,\n",
        "    \"auth\" : 68,\n",
        "    \"aol\" : 69\n",
        "\n",
        "}\n",
        "\n",
        "flag_dict={\n",
        "    \"SH\" : 0,\n",
        "    \"SF\" : 1,\n",
        "    \"S3\" : 2,\n",
        "    \"S2\" : 3,\n",
        "    \"S1\" : 4,\n",
        "    \"S0\" : 5,\n",
        "    \"RSTR\" : 6,\n",
        "    \"RSTOS0\" : 7,\n",
        "    \"RSTO\" : 8,\n",
        "    \"REJ\" : 9,\n",
        "    \"OTH\" : 10\n",
        "\n",
        "}\n",
        "\n",
        "# data_primary.replace(flag_dict, inplace = True)\n",
        "# data_primary.replace(service_dict, inplace = True)\n",
        "# data_primary.replace(protocol_dict, inplace = True)\n",
        "\n",
        "data.replace(flag_dict, inplace = True)\n",
        "data.replace(service_dict, inplace = True)\n",
        "data.replace(protocol_dict, inplace = True)\n"
      ],
      "execution_count": 0,
      "outputs": []
    },
    {
      "cell_type": "code",
      "metadata": {
        "id": "vUL1v7hEi4ws",
        "colab_type": "code",
        "colab": {
          "base_uri": "https://localhost:8080/",
          "height": 224
        },
        "outputId": "e618b8a5-4c55-4df8-99fc-9a42310384d6"
      },
      "source": [
        "data.head()"
      ],
      "execution_count": 11,
      "outputs": [
        {
          "output_type": "execute_result",
          "data": {
            "text/html": [
              "<div>\n",
              "<style scoped>\n",
              "    .dataframe tbody tr th:only-of-type {\n",
              "        vertical-align: middle;\n",
              "    }\n",
              "\n",
              "    .dataframe tbody tr th {\n",
              "        vertical-align: top;\n",
              "    }\n",
              "\n",
              "    .dataframe thead th {\n",
              "        text-align: right;\n",
              "    }\n",
              "</style>\n",
              "<table border=\"1\" class=\"dataframe\">\n",
              "  <thead>\n",
              "    <tr style=\"text-align: right;\">\n",
              "      <th></th>\n",
              "      <th>duration</th>\n",
              "      <th>protocol_type</th>\n",
              "      <th>service</th>\n",
              "      <th>flag</th>\n",
              "      <th>src_bytes</th>\n",
              "      <th>dst_bytes</th>\n",
              "      <th>land</th>\n",
              "      <th>wrong_fragment</th>\n",
              "      <th>urgent</th>\n",
              "      <th>hot</th>\n",
              "      <th>num_failed_logins</th>\n",
              "      <th>logged_in</th>\n",
              "      <th>num_compromised</th>\n",
              "      <th>root_shell</th>\n",
              "      <th>su_attempted</th>\n",
              "      <th>num_root</th>\n",
              "      <th>num_file_creations</th>\n",
              "      <th>num_shells</th>\n",
              "      <th>num_access_files</th>\n",
              "      <th>num_outbound_cmds</th>\n",
              "      <th>is_host_login</th>\n",
              "      <th>is_guest_login</th>\n",
              "      <th>count</th>\n",
              "      <th>srv_count</th>\n",
              "      <th>serror_rate</th>\n",
              "      <th>srv_serror_rate</th>\n",
              "      <th>rerror_rate</th>\n",
              "      <th>srv_rerror_rate</th>\n",
              "      <th>same_srv_rate</th>\n",
              "      <th>diff_srv_rate</th>\n",
              "      <th>srv_diff_host_rate</th>\n",
              "      <th>dst_host_count</th>\n",
              "      <th>dst_host_srv_count</th>\n",
              "      <th>dst_host_same_srv_rate</th>\n",
              "      <th>dst_host_diff_srv_rate</th>\n",
              "      <th>dst_host_same_src_port_rate</th>\n",
              "      <th>dst_host_srv_diff_host_rate</th>\n",
              "      <th>dst_host_serror_rate</th>\n",
              "      <th>dst_host_srv_serror_rate</th>\n",
              "      <th>dst_host_rerror_rate</th>\n",
              "      <th>dst_host_srv_rerror_rate</th>\n",
              "      <th>num_packet</th>\n",
              "      <th>type_attack</th>\n",
              "    </tr>\n",
              "  </thead>\n",
              "  <tbody>\n",
              "    <tr>\n",
              "      <th>0</th>\n",
              "      <td>0</td>\n",
              "      <td>1</td>\n",
              "      <td>52</td>\n",
              "      <td>1</td>\n",
              "      <td>491</td>\n",
              "      <td>0</td>\n",
              "      <td>0</td>\n",
              "      <td>0</td>\n",
              "      <td>0</td>\n",
              "      <td>0</td>\n",
              "      <td>0</td>\n",
              "      <td>0</td>\n",
              "      <td>0</td>\n",
              "      <td>0</td>\n",
              "      <td>0</td>\n",
              "      <td>0</td>\n",
              "      <td>0</td>\n",
              "      <td>0</td>\n",
              "      <td>0</td>\n",
              "      <td>0</td>\n",
              "      <td>0</td>\n",
              "      <td>0</td>\n",
              "      <td>2</td>\n",
              "      <td>2</td>\n",
              "      <td>0.0</td>\n",
              "      <td>0.0</td>\n",
              "      <td>0.0</td>\n",
              "      <td>0.0</td>\n",
              "      <td>1.00</td>\n",
              "      <td>0.00</td>\n",
              "      <td>0.00</td>\n",
              "      <td>150</td>\n",
              "      <td>25</td>\n",
              "      <td>0.17</td>\n",
              "      <td>0.03</td>\n",
              "      <td>0.17</td>\n",
              "      <td>0.00</td>\n",
              "      <td>0.00</td>\n",
              "      <td>0.00</td>\n",
              "      <td>0.05</td>\n",
              "      <td>0.00</td>\n",
              "      <td>20</td>\n",
              "      <td>normal</td>\n",
              "    </tr>\n",
              "    <tr>\n",
              "      <th>1</th>\n",
              "      <td>0</td>\n",
              "      <td>0</td>\n",
              "      <td>27</td>\n",
              "      <td>1</td>\n",
              "      <td>146</td>\n",
              "      <td>0</td>\n",
              "      <td>0</td>\n",
              "      <td>0</td>\n",
              "      <td>0</td>\n",
              "      <td>0</td>\n",
              "      <td>0</td>\n",
              "      <td>0</td>\n",
              "      <td>0</td>\n",
              "      <td>0</td>\n",
              "      <td>0</td>\n",
              "      <td>0</td>\n",
              "      <td>0</td>\n",
              "      <td>0</td>\n",
              "      <td>0</td>\n",
              "      <td>0</td>\n",
              "      <td>0</td>\n",
              "      <td>0</td>\n",
              "      <td>13</td>\n",
              "      <td>1</td>\n",
              "      <td>0.0</td>\n",
              "      <td>0.0</td>\n",
              "      <td>0.0</td>\n",
              "      <td>0.0</td>\n",
              "      <td>0.08</td>\n",
              "      <td>0.15</td>\n",
              "      <td>0.00</td>\n",
              "      <td>255</td>\n",
              "      <td>1</td>\n",
              "      <td>0.00</td>\n",
              "      <td>0.60</td>\n",
              "      <td>0.88</td>\n",
              "      <td>0.00</td>\n",
              "      <td>0.00</td>\n",
              "      <td>0.00</td>\n",
              "      <td>0.00</td>\n",
              "      <td>0.00</td>\n",
              "      <td>15</td>\n",
              "      <td>normal</td>\n",
              "    </tr>\n",
              "    <tr>\n",
              "      <th>2</th>\n",
              "      <td>0</td>\n",
              "      <td>1</td>\n",
              "      <td>22</td>\n",
              "      <td>5</td>\n",
              "      <td>0</td>\n",
              "      <td>0</td>\n",
              "      <td>0</td>\n",
              "      <td>0</td>\n",
              "      <td>0</td>\n",
              "      <td>0</td>\n",
              "      <td>0</td>\n",
              "      <td>0</td>\n",
              "      <td>0</td>\n",
              "      <td>0</td>\n",
              "      <td>0</td>\n",
              "      <td>0</td>\n",
              "      <td>0</td>\n",
              "      <td>0</td>\n",
              "      <td>0</td>\n",
              "      <td>0</td>\n",
              "      <td>0</td>\n",
              "      <td>0</td>\n",
              "      <td>123</td>\n",
              "      <td>6</td>\n",
              "      <td>1.0</td>\n",
              "      <td>1.0</td>\n",
              "      <td>0.0</td>\n",
              "      <td>0.0</td>\n",
              "      <td>0.05</td>\n",
              "      <td>0.07</td>\n",
              "      <td>0.00</td>\n",
              "      <td>255</td>\n",
              "      <td>26</td>\n",
              "      <td>0.10</td>\n",
              "      <td>0.05</td>\n",
              "      <td>0.00</td>\n",
              "      <td>0.00</td>\n",
              "      <td>1.00</td>\n",
              "      <td>1.00</td>\n",
              "      <td>0.00</td>\n",
              "      <td>0.00</td>\n",
              "      <td>19</td>\n",
              "      <td>dos</td>\n",
              "    </tr>\n",
              "    <tr>\n",
              "      <th>3</th>\n",
              "      <td>0</td>\n",
              "      <td>1</td>\n",
              "      <td>48</td>\n",
              "      <td>1</td>\n",
              "      <td>232</td>\n",
              "      <td>8153</td>\n",
              "      <td>0</td>\n",
              "      <td>0</td>\n",
              "      <td>0</td>\n",
              "      <td>0</td>\n",
              "      <td>0</td>\n",
              "      <td>1</td>\n",
              "      <td>0</td>\n",
              "      <td>0</td>\n",
              "      <td>0</td>\n",
              "      <td>0</td>\n",
              "      <td>0</td>\n",
              "      <td>0</td>\n",
              "      <td>0</td>\n",
              "      <td>0</td>\n",
              "      <td>0</td>\n",
              "      <td>0</td>\n",
              "      <td>5</td>\n",
              "      <td>5</td>\n",
              "      <td>0.2</td>\n",
              "      <td>0.2</td>\n",
              "      <td>0.0</td>\n",
              "      <td>0.0</td>\n",
              "      <td>1.00</td>\n",
              "      <td>0.00</td>\n",
              "      <td>0.00</td>\n",
              "      <td>30</td>\n",
              "      <td>255</td>\n",
              "      <td>1.00</td>\n",
              "      <td>0.00</td>\n",
              "      <td>0.03</td>\n",
              "      <td>0.04</td>\n",
              "      <td>0.03</td>\n",
              "      <td>0.01</td>\n",
              "      <td>0.00</td>\n",
              "      <td>0.01</td>\n",
              "      <td>21</td>\n",
              "      <td>normal</td>\n",
              "    </tr>\n",
              "    <tr>\n",
              "      <th>4</th>\n",
              "      <td>0</td>\n",
              "      <td>1</td>\n",
              "      <td>48</td>\n",
              "      <td>1</td>\n",
              "      <td>199</td>\n",
              "      <td>420</td>\n",
              "      <td>0</td>\n",
              "      <td>0</td>\n",
              "      <td>0</td>\n",
              "      <td>0</td>\n",
              "      <td>0</td>\n",
              "      <td>1</td>\n",
              "      <td>0</td>\n",
              "      <td>0</td>\n",
              "      <td>0</td>\n",
              "      <td>0</td>\n",
              "      <td>0</td>\n",
              "      <td>0</td>\n",
              "      <td>0</td>\n",
              "      <td>0</td>\n",
              "      <td>0</td>\n",
              "      <td>0</td>\n",
              "      <td>30</td>\n",
              "      <td>32</td>\n",
              "      <td>0.0</td>\n",
              "      <td>0.0</td>\n",
              "      <td>0.0</td>\n",
              "      <td>0.0</td>\n",
              "      <td>1.00</td>\n",
              "      <td>0.00</td>\n",
              "      <td>0.09</td>\n",
              "      <td>255</td>\n",
              "      <td>255</td>\n",
              "      <td>1.00</td>\n",
              "      <td>0.00</td>\n",
              "      <td>0.00</td>\n",
              "      <td>0.00</td>\n",
              "      <td>0.00</td>\n",
              "      <td>0.00</td>\n",
              "      <td>0.00</td>\n",
              "      <td>0.00</td>\n",
              "      <td>21</td>\n",
              "      <td>normal</td>\n",
              "    </tr>\n",
              "  </tbody>\n",
              "</table>\n",
              "</div>"
            ],
            "text/plain": [
              "   duration  protocol_type  ...  num_packet  type_attack\n",
              "0         0              1  ...          20       normal\n",
              "1         0              0  ...          15       normal\n",
              "2         0              1  ...          19          dos\n",
              "3         0              1  ...          21       normal\n",
              "4         0              1  ...          21       normal\n",
              "\n",
              "[5 rows x 43 columns]"
            ]
          },
          "metadata": {
            "tags": []
          },
          "execution_count": 11
        }
      ]
    },
    {
      "cell_type": "code",
      "metadata": {
        "id": "58fbl2oqi7X6",
        "colab_type": "code",
        "colab": {}
      },
      "source": [
        "data_all = data#.drop(columns=['num_packet', 'type_attack'])"
      ],
      "execution_count": 0,
      "outputs": []
    },
    {
      "cell_type": "code",
      "metadata": {
        "id": "LnFGaHBli9hD",
        "colab_type": "code",
        "colab": {
          "base_uri": "https://localhost:8080/",
          "height": 224
        },
        "outputId": "3fede464-2722-4610-d95e-21e05e458088"
      },
      "source": [
        "data_all.head()"
      ],
      "execution_count": 13,
      "outputs": [
        {
          "output_type": "execute_result",
          "data": {
            "text/html": [
              "<div>\n",
              "<style scoped>\n",
              "    .dataframe tbody tr th:only-of-type {\n",
              "        vertical-align: middle;\n",
              "    }\n",
              "\n",
              "    .dataframe tbody tr th {\n",
              "        vertical-align: top;\n",
              "    }\n",
              "\n",
              "    .dataframe thead th {\n",
              "        text-align: right;\n",
              "    }\n",
              "</style>\n",
              "<table border=\"1\" class=\"dataframe\">\n",
              "  <thead>\n",
              "    <tr style=\"text-align: right;\">\n",
              "      <th></th>\n",
              "      <th>duration</th>\n",
              "      <th>protocol_type</th>\n",
              "      <th>service</th>\n",
              "      <th>flag</th>\n",
              "      <th>src_bytes</th>\n",
              "      <th>dst_bytes</th>\n",
              "      <th>land</th>\n",
              "      <th>wrong_fragment</th>\n",
              "      <th>urgent</th>\n",
              "      <th>hot</th>\n",
              "      <th>num_failed_logins</th>\n",
              "      <th>logged_in</th>\n",
              "      <th>num_compromised</th>\n",
              "      <th>root_shell</th>\n",
              "      <th>su_attempted</th>\n",
              "      <th>num_root</th>\n",
              "      <th>num_file_creations</th>\n",
              "      <th>num_shells</th>\n",
              "      <th>num_access_files</th>\n",
              "      <th>num_outbound_cmds</th>\n",
              "      <th>is_host_login</th>\n",
              "      <th>is_guest_login</th>\n",
              "      <th>count</th>\n",
              "      <th>srv_count</th>\n",
              "      <th>serror_rate</th>\n",
              "      <th>srv_serror_rate</th>\n",
              "      <th>rerror_rate</th>\n",
              "      <th>srv_rerror_rate</th>\n",
              "      <th>same_srv_rate</th>\n",
              "      <th>diff_srv_rate</th>\n",
              "      <th>srv_diff_host_rate</th>\n",
              "      <th>dst_host_count</th>\n",
              "      <th>dst_host_srv_count</th>\n",
              "      <th>dst_host_same_srv_rate</th>\n",
              "      <th>dst_host_diff_srv_rate</th>\n",
              "      <th>dst_host_same_src_port_rate</th>\n",
              "      <th>dst_host_srv_diff_host_rate</th>\n",
              "      <th>dst_host_serror_rate</th>\n",
              "      <th>dst_host_srv_serror_rate</th>\n",
              "      <th>dst_host_rerror_rate</th>\n",
              "      <th>dst_host_srv_rerror_rate</th>\n",
              "      <th>num_packet</th>\n",
              "      <th>type_attack</th>\n",
              "    </tr>\n",
              "  </thead>\n",
              "  <tbody>\n",
              "    <tr>\n",
              "      <th>0</th>\n",
              "      <td>0</td>\n",
              "      <td>1</td>\n",
              "      <td>52</td>\n",
              "      <td>1</td>\n",
              "      <td>491</td>\n",
              "      <td>0</td>\n",
              "      <td>0</td>\n",
              "      <td>0</td>\n",
              "      <td>0</td>\n",
              "      <td>0</td>\n",
              "      <td>0</td>\n",
              "      <td>0</td>\n",
              "      <td>0</td>\n",
              "      <td>0</td>\n",
              "      <td>0</td>\n",
              "      <td>0</td>\n",
              "      <td>0</td>\n",
              "      <td>0</td>\n",
              "      <td>0</td>\n",
              "      <td>0</td>\n",
              "      <td>0</td>\n",
              "      <td>0</td>\n",
              "      <td>2</td>\n",
              "      <td>2</td>\n",
              "      <td>0.0</td>\n",
              "      <td>0.0</td>\n",
              "      <td>0.0</td>\n",
              "      <td>0.0</td>\n",
              "      <td>1.00</td>\n",
              "      <td>0.00</td>\n",
              "      <td>0.00</td>\n",
              "      <td>150</td>\n",
              "      <td>25</td>\n",
              "      <td>0.17</td>\n",
              "      <td>0.03</td>\n",
              "      <td>0.17</td>\n",
              "      <td>0.00</td>\n",
              "      <td>0.00</td>\n",
              "      <td>0.00</td>\n",
              "      <td>0.05</td>\n",
              "      <td>0.00</td>\n",
              "      <td>20</td>\n",
              "      <td>normal</td>\n",
              "    </tr>\n",
              "    <tr>\n",
              "      <th>1</th>\n",
              "      <td>0</td>\n",
              "      <td>0</td>\n",
              "      <td>27</td>\n",
              "      <td>1</td>\n",
              "      <td>146</td>\n",
              "      <td>0</td>\n",
              "      <td>0</td>\n",
              "      <td>0</td>\n",
              "      <td>0</td>\n",
              "      <td>0</td>\n",
              "      <td>0</td>\n",
              "      <td>0</td>\n",
              "      <td>0</td>\n",
              "      <td>0</td>\n",
              "      <td>0</td>\n",
              "      <td>0</td>\n",
              "      <td>0</td>\n",
              "      <td>0</td>\n",
              "      <td>0</td>\n",
              "      <td>0</td>\n",
              "      <td>0</td>\n",
              "      <td>0</td>\n",
              "      <td>13</td>\n",
              "      <td>1</td>\n",
              "      <td>0.0</td>\n",
              "      <td>0.0</td>\n",
              "      <td>0.0</td>\n",
              "      <td>0.0</td>\n",
              "      <td>0.08</td>\n",
              "      <td>0.15</td>\n",
              "      <td>0.00</td>\n",
              "      <td>255</td>\n",
              "      <td>1</td>\n",
              "      <td>0.00</td>\n",
              "      <td>0.60</td>\n",
              "      <td>0.88</td>\n",
              "      <td>0.00</td>\n",
              "      <td>0.00</td>\n",
              "      <td>0.00</td>\n",
              "      <td>0.00</td>\n",
              "      <td>0.00</td>\n",
              "      <td>15</td>\n",
              "      <td>normal</td>\n",
              "    </tr>\n",
              "    <tr>\n",
              "      <th>2</th>\n",
              "      <td>0</td>\n",
              "      <td>1</td>\n",
              "      <td>22</td>\n",
              "      <td>5</td>\n",
              "      <td>0</td>\n",
              "      <td>0</td>\n",
              "      <td>0</td>\n",
              "      <td>0</td>\n",
              "      <td>0</td>\n",
              "      <td>0</td>\n",
              "      <td>0</td>\n",
              "      <td>0</td>\n",
              "      <td>0</td>\n",
              "      <td>0</td>\n",
              "      <td>0</td>\n",
              "      <td>0</td>\n",
              "      <td>0</td>\n",
              "      <td>0</td>\n",
              "      <td>0</td>\n",
              "      <td>0</td>\n",
              "      <td>0</td>\n",
              "      <td>0</td>\n",
              "      <td>123</td>\n",
              "      <td>6</td>\n",
              "      <td>1.0</td>\n",
              "      <td>1.0</td>\n",
              "      <td>0.0</td>\n",
              "      <td>0.0</td>\n",
              "      <td>0.05</td>\n",
              "      <td>0.07</td>\n",
              "      <td>0.00</td>\n",
              "      <td>255</td>\n",
              "      <td>26</td>\n",
              "      <td>0.10</td>\n",
              "      <td>0.05</td>\n",
              "      <td>0.00</td>\n",
              "      <td>0.00</td>\n",
              "      <td>1.00</td>\n",
              "      <td>1.00</td>\n",
              "      <td>0.00</td>\n",
              "      <td>0.00</td>\n",
              "      <td>19</td>\n",
              "      <td>dos</td>\n",
              "    </tr>\n",
              "    <tr>\n",
              "      <th>3</th>\n",
              "      <td>0</td>\n",
              "      <td>1</td>\n",
              "      <td>48</td>\n",
              "      <td>1</td>\n",
              "      <td>232</td>\n",
              "      <td>8153</td>\n",
              "      <td>0</td>\n",
              "      <td>0</td>\n",
              "      <td>0</td>\n",
              "      <td>0</td>\n",
              "      <td>0</td>\n",
              "      <td>1</td>\n",
              "      <td>0</td>\n",
              "      <td>0</td>\n",
              "      <td>0</td>\n",
              "      <td>0</td>\n",
              "      <td>0</td>\n",
              "      <td>0</td>\n",
              "      <td>0</td>\n",
              "      <td>0</td>\n",
              "      <td>0</td>\n",
              "      <td>0</td>\n",
              "      <td>5</td>\n",
              "      <td>5</td>\n",
              "      <td>0.2</td>\n",
              "      <td>0.2</td>\n",
              "      <td>0.0</td>\n",
              "      <td>0.0</td>\n",
              "      <td>1.00</td>\n",
              "      <td>0.00</td>\n",
              "      <td>0.00</td>\n",
              "      <td>30</td>\n",
              "      <td>255</td>\n",
              "      <td>1.00</td>\n",
              "      <td>0.00</td>\n",
              "      <td>0.03</td>\n",
              "      <td>0.04</td>\n",
              "      <td>0.03</td>\n",
              "      <td>0.01</td>\n",
              "      <td>0.00</td>\n",
              "      <td>0.01</td>\n",
              "      <td>21</td>\n",
              "      <td>normal</td>\n",
              "    </tr>\n",
              "    <tr>\n",
              "      <th>4</th>\n",
              "      <td>0</td>\n",
              "      <td>1</td>\n",
              "      <td>48</td>\n",
              "      <td>1</td>\n",
              "      <td>199</td>\n",
              "      <td>420</td>\n",
              "      <td>0</td>\n",
              "      <td>0</td>\n",
              "      <td>0</td>\n",
              "      <td>0</td>\n",
              "      <td>0</td>\n",
              "      <td>1</td>\n",
              "      <td>0</td>\n",
              "      <td>0</td>\n",
              "      <td>0</td>\n",
              "      <td>0</td>\n",
              "      <td>0</td>\n",
              "      <td>0</td>\n",
              "      <td>0</td>\n",
              "      <td>0</td>\n",
              "      <td>0</td>\n",
              "      <td>0</td>\n",
              "      <td>30</td>\n",
              "      <td>32</td>\n",
              "      <td>0.0</td>\n",
              "      <td>0.0</td>\n",
              "      <td>0.0</td>\n",
              "      <td>0.0</td>\n",
              "      <td>1.00</td>\n",
              "      <td>0.00</td>\n",
              "      <td>0.09</td>\n",
              "      <td>255</td>\n",
              "      <td>255</td>\n",
              "      <td>1.00</td>\n",
              "      <td>0.00</td>\n",
              "      <td>0.00</td>\n",
              "      <td>0.00</td>\n",
              "      <td>0.00</td>\n",
              "      <td>0.00</td>\n",
              "      <td>0.00</td>\n",
              "      <td>0.00</td>\n",
              "      <td>21</td>\n",
              "      <td>normal</td>\n",
              "    </tr>\n",
              "  </tbody>\n",
              "</table>\n",
              "</div>"
            ],
            "text/plain": [
              "   duration  protocol_type  ...  num_packet  type_attack\n",
              "0         0              1  ...          20       normal\n",
              "1         0              0  ...          15       normal\n",
              "2         0              1  ...          19          dos\n",
              "3         0              1  ...          21       normal\n",
              "4         0              1  ...          21       normal\n",
              "\n",
              "[5 rows x 43 columns]"
            ]
          },
          "metadata": {
            "tags": []
          },
          "execution_count": 13
        }
      ]
    },
    {
      "cell_type": "code",
      "metadata": {
        "id": "XY_iELMCtLUL",
        "colab_type": "code",
        "colab": {
          "base_uri": "https://localhost:8080/",
          "height": 34
        },
        "outputId": "9381c11b-c165-41fd-cca2-361787025d74"
      },
      "source": [
        "data_all.type_attack.unique()"
      ],
      "execution_count": 14,
      "outputs": [
        {
          "output_type": "execute_result",
          "data": {
            "text/plain": [
              "array(['normal', 'dos', 'r2l', 'probe', 'u2r'], dtype=object)"
            ]
          },
          "metadata": {
            "tags": []
          },
          "execution_count": 14
        }
      ]
    },
    {
      "cell_type": "code",
      "metadata": {
        "id": "-9lQ83E4tRPw",
        "colab_type": "code",
        "colab": {}
      },
      "source": [
        "# attck_dict={\n",
        "#     \"normal\" : 0,\n",
        "#     \"dos\" : 1,\n",
        "#     \"probe\" : 2,\n",
        "#     \"r2l\" : 3,\n",
        "#     \"u2r\" : 4\n",
        "    \n",
        "# }\n",
        "# data_all.replace(attck_dict, inplace = True)"
      ],
      "execution_count": 0,
      "outputs": []
    },
    {
      "cell_type": "code",
      "metadata": {
        "id": "8iiFk66qQlUC",
        "colab_type": "code",
        "outputId": "bbb17f5d-8afd-4494-9261-9bfac045a075",
        "colab": {
          "base_uri": "https://localhost:8080/",
          "height": 224
        }
      },
      "source": [
        "data_all.head()"
      ],
      "execution_count": 16,
      "outputs": [
        {
          "output_type": "execute_result",
          "data": {
            "text/html": [
              "<div>\n",
              "<style scoped>\n",
              "    .dataframe tbody tr th:only-of-type {\n",
              "        vertical-align: middle;\n",
              "    }\n",
              "\n",
              "    .dataframe tbody tr th {\n",
              "        vertical-align: top;\n",
              "    }\n",
              "\n",
              "    .dataframe thead th {\n",
              "        text-align: right;\n",
              "    }\n",
              "</style>\n",
              "<table border=\"1\" class=\"dataframe\">\n",
              "  <thead>\n",
              "    <tr style=\"text-align: right;\">\n",
              "      <th></th>\n",
              "      <th>duration</th>\n",
              "      <th>protocol_type</th>\n",
              "      <th>service</th>\n",
              "      <th>flag</th>\n",
              "      <th>src_bytes</th>\n",
              "      <th>dst_bytes</th>\n",
              "      <th>land</th>\n",
              "      <th>wrong_fragment</th>\n",
              "      <th>urgent</th>\n",
              "      <th>hot</th>\n",
              "      <th>num_failed_logins</th>\n",
              "      <th>logged_in</th>\n",
              "      <th>num_compromised</th>\n",
              "      <th>root_shell</th>\n",
              "      <th>su_attempted</th>\n",
              "      <th>num_root</th>\n",
              "      <th>num_file_creations</th>\n",
              "      <th>num_shells</th>\n",
              "      <th>num_access_files</th>\n",
              "      <th>num_outbound_cmds</th>\n",
              "      <th>is_host_login</th>\n",
              "      <th>is_guest_login</th>\n",
              "      <th>count</th>\n",
              "      <th>srv_count</th>\n",
              "      <th>serror_rate</th>\n",
              "      <th>srv_serror_rate</th>\n",
              "      <th>rerror_rate</th>\n",
              "      <th>srv_rerror_rate</th>\n",
              "      <th>same_srv_rate</th>\n",
              "      <th>diff_srv_rate</th>\n",
              "      <th>srv_diff_host_rate</th>\n",
              "      <th>dst_host_count</th>\n",
              "      <th>dst_host_srv_count</th>\n",
              "      <th>dst_host_same_srv_rate</th>\n",
              "      <th>dst_host_diff_srv_rate</th>\n",
              "      <th>dst_host_same_src_port_rate</th>\n",
              "      <th>dst_host_srv_diff_host_rate</th>\n",
              "      <th>dst_host_serror_rate</th>\n",
              "      <th>dst_host_srv_serror_rate</th>\n",
              "      <th>dst_host_rerror_rate</th>\n",
              "      <th>dst_host_srv_rerror_rate</th>\n",
              "      <th>num_packet</th>\n",
              "      <th>type_attack</th>\n",
              "    </tr>\n",
              "  </thead>\n",
              "  <tbody>\n",
              "    <tr>\n",
              "      <th>0</th>\n",
              "      <td>0</td>\n",
              "      <td>1</td>\n",
              "      <td>52</td>\n",
              "      <td>1</td>\n",
              "      <td>491</td>\n",
              "      <td>0</td>\n",
              "      <td>0</td>\n",
              "      <td>0</td>\n",
              "      <td>0</td>\n",
              "      <td>0</td>\n",
              "      <td>0</td>\n",
              "      <td>0</td>\n",
              "      <td>0</td>\n",
              "      <td>0</td>\n",
              "      <td>0</td>\n",
              "      <td>0</td>\n",
              "      <td>0</td>\n",
              "      <td>0</td>\n",
              "      <td>0</td>\n",
              "      <td>0</td>\n",
              "      <td>0</td>\n",
              "      <td>0</td>\n",
              "      <td>2</td>\n",
              "      <td>2</td>\n",
              "      <td>0.0</td>\n",
              "      <td>0.0</td>\n",
              "      <td>0.0</td>\n",
              "      <td>0.0</td>\n",
              "      <td>1.00</td>\n",
              "      <td>0.00</td>\n",
              "      <td>0.00</td>\n",
              "      <td>150</td>\n",
              "      <td>25</td>\n",
              "      <td>0.17</td>\n",
              "      <td>0.03</td>\n",
              "      <td>0.17</td>\n",
              "      <td>0.00</td>\n",
              "      <td>0.00</td>\n",
              "      <td>0.00</td>\n",
              "      <td>0.05</td>\n",
              "      <td>0.00</td>\n",
              "      <td>20</td>\n",
              "      <td>normal</td>\n",
              "    </tr>\n",
              "    <tr>\n",
              "      <th>1</th>\n",
              "      <td>0</td>\n",
              "      <td>0</td>\n",
              "      <td>27</td>\n",
              "      <td>1</td>\n",
              "      <td>146</td>\n",
              "      <td>0</td>\n",
              "      <td>0</td>\n",
              "      <td>0</td>\n",
              "      <td>0</td>\n",
              "      <td>0</td>\n",
              "      <td>0</td>\n",
              "      <td>0</td>\n",
              "      <td>0</td>\n",
              "      <td>0</td>\n",
              "      <td>0</td>\n",
              "      <td>0</td>\n",
              "      <td>0</td>\n",
              "      <td>0</td>\n",
              "      <td>0</td>\n",
              "      <td>0</td>\n",
              "      <td>0</td>\n",
              "      <td>0</td>\n",
              "      <td>13</td>\n",
              "      <td>1</td>\n",
              "      <td>0.0</td>\n",
              "      <td>0.0</td>\n",
              "      <td>0.0</td>\n",
              "      <td>0.0</td>\n",
              "      <td>0.08</td>\n",
              "      <td>0.15</td>\n",
              "      <td>0.00</td>\n",
              "      <td>255</td>\n",
              "      <td>1</td>\n",
              "      <td>0.00</td>\n",
              "      <td>0.60</td>\n",
              "      <td>0.88</td>\n",
              "      <td>0.00</td>\n",
              "      <td>0.00</td>\n",
              "      <td>0.00</td>\n",
              "      <td>0.00</td>\n",
              "      <td>0.00</td>\n",
              "      <td>15</td>\n",
              "      <td>normal</td>\n",
              "    </tr>\n",
              "    <tr>\n",
              "      <th>2</th>\n",
              "      <td>0</td>\n",
              "      <td>1</td>\n",
              "      <td>22</td>\n",
              "      <td>5</td>\n",
              "      <td>0</td>\n",
              "      <td>0</td>\n",
              "      <td>0</td>\n",
              "      <td>0</td>\n",
              "      <td>0</td>\n",
              "      <td>0</td>\n",
              "      <td>0</td>\n",
              "      <td>0</td>\n",
              "      <td>0</td>\n",
              "      <td>0</td>\n",
              "      <td>0</td>\n",
              "      <td>0</td>\n",
              "      <td>0</td>\n",
              "      <td>0</td>\n",
              "      <td>0</td>\n",
              "      <td>0</td>\n",
              "      <td>0</td>\n",
              "      <td>0</td>\n",
              "      <td>123</td>\n",
              "      <td>6</td>\n",
              "      <td>1.0</td>\n",
              "      <td>1.0</td>\n",
              "      <td>0.0</td>\n",
              "      <td>0.0</td>\n",
              "      <td>0.05</td>\n",
              "      <td>0.07</td>\n",
              "      <td>0.00</td>\n",
              "      <td>255</td>\n",
              "      <td>26</td>\n",
              "      <td>0.10</td>\n",
              "      <td>0.05</td>\n",
              "      <td>0.00</td>\n",
              "      <td>0.00</td>\n",
              "      <td>1.00</td>\n",
              "      <td>1.00</td>\n",
              "      <td>0.00</td>\n",
              "      <td>0.00</td>\n",
              "      <td>19</td>\n",
              "      <td>dos</td>\n",
              "    </tr>\n",
              "    <tr>\n",
              "      <th>3</th>\n",
              "      <td>0</td>\n",
              "      <td>1</td>\n",
              "      <td>48</td>\n",
              "      <td>1</td>\n",
              "      <td>232</td>\n",
              "      <td>8153</td>\n",
              "      <td>0</td>\n",
              "      <td>0</td>\n",
              "      <td>0</td>\n",
              "      <td>0</td>\n",
              "      <td>0</td>\n",
              "      <td>1</td>\n",
              "      <td>0</td>\n",
              "      <td>0</td>\n",
              "      <td>0</td>\n",
              "      <td>0</td>\n",
              "      <td>0</td>\n",
              "      <td>0</td>\n",
              "      <td>0</td>\n",
              "      <td>0</td>\n",
              "      <td>0</td>\n",
              "      <td>0</td>\n",
              "      <td>5</td>\n",
              "      <td>5</td>\n",
              "      <td>0.2</td>\n",
              "      <td>0.2</td>\n",
              "      <td>0.0</td>\n",
              "      <td>0.0</td>\n",
              "      <td>1.00</td>\n",
              "      <td>0.00</td>\n",
              "      <td>0.00</td>\n",
              "      <td>30</td>\n",
              "      <td>255</td>\n",
              "      <td>1.00</td>\n",
              "      <td>0.00</td>\n",
              "      <td>0.03</td>\n",
              "      <td>0.04</td>\n",
              "      <td>0.03</td>\n",
              "      <td>0.01</td>\n",
              "      <td>0.00</td>\n",
              "      <td>0.01</td>\n",
              "      <td>21</td>\n",
              "      <td>normal</td>\n",
              "    </tr>\n",
              "    <tr>\n",
              "      <th>4</th>\n",
              "      <td>0</td>\n",
              "      <td>1</td>\n",
              "      <td>48</td>\n",
              "      <td>1</td>\n",
              "      <td>199</td>\n",
              "      <td>420</td>\n",
              "      <td>0</td>\n",
              "      <td>0</td>\n",
              "      <td>0</td>\n",
              "      <td>0</td>\n",
              "      <td>0</td>\n",
              "      <td>1</td>\n",
              "      <td>0</td>\n",
              "      <td>0</td>\n",
              "      <td>0</td>\n",
              "      <td>0</td>\n",
              "      <td>0</td>\n",
              "      <td>0</td>\n",
              "      <td>0</td>\n",
              "      <td>0</td>\n",
              "      <td>0</td>\n",
              "      <td>0</td>\n",
              "      <td>30</td>\n",
              "      <td>32</td>\n",
              "      <td>0.0</td>\n",
              "      <td>0.0</td>\n",
              "      <td>0.0</td>\n",
              "      <td>0.0</td>\n",
              "      <td>1.00</td>\n",
              "      <td>0.00</td>\n",
              "      <td>0.09</td>\n",
              "      <td>255</td>\n",
              "      <td>255</td>\n",
              "      <td>1.00</td>\n",
              "      <td>0.00</td>\n",
              "      <td>0.00</td>\n",
              "      <td>0.00</td>\n",
              "      <td>0.00</td>\n",
              "      <td>0.00</td>\n",
              "      <td>0.00</td>\n",
              "      <td>0.00</td>\n",
              "      <td>21</td>\n",
              "      <td>normal</td>\n",
              "    </tr>\n",
              "  </tbody>\n",
              "</table>\n",
              "</div>"
            ],
            "text/plain": [
              "   duration  protocol_type  ...  num_packet  type_attack\n",
              "0         0              1  ...          20       normal\n",
              "1         0              0  ...          15       normal\n",
              "2         0              1  ...          19          dos\n",
              "3         0              1  ...          21       normal\n",
              "4         0              1  ...          21       normal\n",
              "\n",
              "[5 rows x 43 columns]"
            ]
          },
          "metadata": {
            "tags": []
          },
          "execution_count": 16
        }
      ]
    },
    {
      "cell_type": "code",
      "metadata": {
        "id": "E5BILIxpez2I",
        "colab_type": "code",
        "outputId": "e6267e3a-5366-44ac-b7f5-f81d8fbc27b5",
        "colab": {
          "base_uri": "https://localhost:8080/",
          "height": 34
        }
      },
      "source": [
        "data_all.type_attack.unique()"
      ],
      "execution_count": 17,
      "outputs": [
        {
          "output_type": "execute_result",
          "data": {
            "text/plain": [
              "array(['normal', 'dos', 'r2l', 'probe', 'u2r'], dtype=object)"
            ]
          },
          "metadata": {
            "tags": []
          },
          "execution_count": 17
        }
      ]
    },
    {
      "cell_type": "markdown",
      "metadata": {
        "id": "OjMJTd5poDxQ",
        "colab_type": "text"
      },
      "source": [
        "# Original"
      ]
    },
    {
      "cell_type": "code",
      "metadata": {
        "id": "-kzDXYXXjAgS",
        "colab_type": "code",
        "colab": {
          "base_uri": "https://localhost:8080/",
          "height": 374
        },
        "outputId": "4ee35ae8-8e46-4b0c-94b1-c27428e7d108"
      },
      "source": [
        "## MULAI PCA\n",
        "\n",
        "scaler = MinMaxScaler(feature_range=[0, 1])\n",
        "data_rescaled = scaler.fit_transform(data_all.iloc[:,:])\n",
        "\n",
        "#Fitting the PCA algorithm with our Data\n",
        "pca = PCA().fit(data_rescaled)\n",
        "#Plotting the Cumulative Summation of the Explained Variance\n",
        "# plt.figure()\n",
        "plt.figure(figsize=(20,10)) \n",
        "\n",
        "plt.plot(np.cumsum(pca.explained_variance_ratio_))\n",
        "plt.xlabel('Number of Components')\n",
        "plt.ylabel('Variance (%)') #for each component\n",
        "plt.title('Pulsar Dataset Explained Variance')\n",
        "plt.show()"
      ],
      "execution_count": 19,
      "outputs": [
        {
          "output_type": "error",
          "ename": "ValueError",
          "evalue": "ignored",
          "traceback": [
            "\u001b[0;31m---------------------------------------------------------------------------\u001b[0m",
            "\u001b[0;31mValueError\u001b[0m                                Traceback (most recent call last)",
            "\u001b[0;32m<ipython-input-19-d2ed0dde10fc>\u001b[0m in \u001b[0;36m<module>\u001b[0;34m()\u001b[0m\n\u001b[1;32m      1\u001b[0m \u001b[0;34m\u001b[0m\u001b[0m\n\u001b[1;32m      2\u001b[0m \u001b[0mscaler\u001b[0m \u001b[0;34m=\u001b[0m \u001b[0mMinMaxScaler\u001b[0m\u001b[0;34m(\u001b[0m\u001b[0mfeature_range\u001b[0m\u001b[0;34m=\u001b[0m\u001b[0;34m[\u001b[0m\u001b[0;36m0\u001b[0m\u001b[0;34m,\u001b[0m \u001b[0;36m1\u001b[0m\u001b[0;34m]\u001b[0m\u001b[0;34m)\u001b[0m\u001b[0;34m\u001b[0m\u001b[0;34m\u001b[0m\u001b[0m\n\u001b[0;32m----> 3\u001b[0;31m \u001b[0mdata_rescaled\u001b[0m \u001b[0;34m=\u001b[0m \u001b[0mscaler\u001b[0m\u001b[0;34m.\u001b[0m\u001b[0mfit_transform\u001b[0m\u001b[0;34m(\u001b[0m\u001b[0mdata_all\u001b[0m\u001b[0;34m.\u001b[0m\u001b[0miloc\u001b[0m\u001b[0;34m[\u001b[0m\u001b[0;34m:\u001b[0m\u001b[0;34m,\u001b[0m\u001b[0;34m:\u001b[0m\u001b[0;34m]\u001b[0m\u001b[0;34m)\u001b[0m\u001b[0;34m\u001b[0m\u001b[0;34m\u001b[0m\u001b[0m\n\u001b[0m\u001b[1;32m      4\u001b[0m \u001b[0;34m\u001b[0m\u001b[0m\n\u001b[1;32m      5\u001b[0m \u001b[0;31m#Fitting the PCA algorithm with our Data\u001b[0m\u001b[0;34m\u001b[0m\u001b[0;34m\u001b[0m\u001b[0;34m\u001b[0m\u001b[0m\n",
            "\u001b[0;32m/usr/local/lib/python3.6/dist-packages/sklearn/base.py\u001b[0m in \u001b[0;36mfit_transform\u001b[0;34m(self, X, y, **fit_params)\u001b[0m\n\u001b[1;32m    551\u001b[0m         \u001b[0;32mif\u001b[0m \u001b[0my\u001b[0m \u001b[0;32mis\u001b[0m \u001b[0;32mNone\u001b[0m\u001b[0;34m:\u001b[0m\u001b[0;34m\u001b[0m\u001b[0;34m\u001b[0m\u001b[0m\n\u001b[1;32m    552\u001b[0m             \u001b[0;31m# fit method of arity 1 (unsupervised transformation)\u001b[0m\u001b[0;34m\u001b[0m\u001b[0;34m\u001b[0m\u001b[0;34m\u001b[0m\u001b[0m\n\u001b[0;32m--> 553\u001b[0;31m             \u001b[0;32mreturn\u001b[0m \u001b[0mself\u001b[0m\u001b[0;34m.\u001b[0m\u001b[0mfit\u001b[0m\u001b[0;34m(\u001b[0m\u001b[0mX\u001b[0m\u001b[0;34m,\u001b[0m \u001b[0;34m**\u001b[0m\u001b[0mfit_params\u001b[0m\u001b[0;34m)\u001b[0m\u001b[0;34m.\u001b[0m\u001b[0mtransform\u001b[0m\u001b[0;34m(\u001b[0m\u001b[0mX\u001b[0m\u001b[0;34m)\u001b[0m\u001b[0;34m\u001b[0m\u001b[0;34m\u001b[0m\u001b[0m\n\u001b[0m\u001b[1;32m    554\u001b[0m         \u001b[0;32melse\u001b[0m\u001b[0;34m:\u001b[0m\u001b[0;34m\u001b[0m\u001b[0;34m\u001b[0m\u001b[0m\n\u001b[1;32m    555\u001b[0m             \u001b[0;31m# fit method of arity 2 (supervised transformation)\u001b[0m\u001b[0;34m\u001b[0m\u001b[0;34m\u001b[0m\u001b[0;34m\u001b[0m\u001b[0m\n",
            "\u001b[0;32m/usr/local/lib/python3.6/dist-packages/sklearn/preprocessing/data.py\u001b[0m in \u001b[0;36mfit\u001b[0;34m(self, X, y)\u001b[0m\n\u001b[1;32m    323\u001b[0m         \u001b[0;31m# Reset internal state before fitting\u001b[0m\u001b[0;34m\u001b[0m\u001b[0;34m\u001b[0m\u001b[0;34m\u001b[0m\u001b[0m\n\u001b[1;32m    324\u001b[0m         \u001b[0mself\u001b[0m\u001b[0;34m.\u001b[0m\u001b[0m_reset\u001b[0m\u001b[0;34m(\u001b[0m\u001b[0;34m)\u001b[0m\u001b[0;34m\u001b[0m\u001b[0;34m\u001b[0m\u001b[0m\n\u001b[0;32m--> 325\u001b[0;31m         \u001b[0;32mreturn\u001b[0m \u001b[0mself\u001b[0m\u001b[0;34m.\u001b[0m\u001b[0mpartial_fit\u001b[0m\u001b[0;34m(\u001b[0m\u001b[0mX\u001b[0m\u001b[0;34m,\u001b[0m \u001b[0my\u001b[0m\u001b[0;34m)\u001b[0m\u001b[0;34m\u001b[0m\u001b[0;34m\u001b[0m\u001b[0m\n\u001b[0m\u001b[1;32m    326\u001b[0m \u001b[0;34m\u001b[0m\u001b[0m\n\u001b[1;32m    327\u001b[0m     \u001b[0;32mdef\u001b[0m \u001b[0mpartial_fit\u001b[0m\u001b[0;34m(\u001b[0m\u001b[0mself\u001b[0m\u001b[0;34m,\u001b[0m \u001b[0mX\u001b[0m\u001b[0;34m,\u001b[0m \u001b[0my\u001b[0m\u001b[0;34m=\u001b[0m\u001b[0;32mNone\u001b[0m\u001b[0;34m)\u001b[0m\u001b[0;34m:\u001b[0m\u001b[0;34m\u001b[0m\u001b[0;34m\u001b[0m\u001b[0m\n",
            "\u001b[0;32m/usr/local/lib/python3.6/dist-packages/sklearn/preprocessing/data.py\u001b[0m in \u001b[0;36mpartial_fit\u001b[0;34m(self, X, y)\u001b[0m\n\u001b[1;32m    351\u001b[0m         X = check_array(X, copy=self.copy,\n\u001b[1;32m    352\u001b[0m                         \u001b[0mestimator\u001b[0m\u001b[0;34m=\u001b[0m\u001b[0mself\u001b[0m\u001b[0;34m,\u001b[0m \u001b[0mdtype\u001b[0m\u001b[0;34m=\u001b[0m\u001b[0mFLOAT_DTYPES\u001b[0m\u001b[0;34m,\u001b[0m\u001b[0;34m\u001b[0m\u001b[0;34m\u001b[0m\u001b[0m\n\u001b[0;32m--> 353\u001b[0;31m                         force_all_finite=\"allow-nan\")\n\u001b[0m\u001b[1;32m    354\u001b[0m \u001b[0;34m\u001b[0m\u001b[0m\n\u001b[1;32m    355\u001b[0m         \u001b[0mdata_min\u001b[0m \u001b[0;34m=\u001b[0m \u001b[0mnp\u001b[0m\u001b[0;34m.\u001b[0m\u001b[0mnanmin\u001b[0m\u001b[0;34m(\u001b[0m\u001b[0mX\u001b[0m\u001b[0;34m,\u001b[0m \u001b[0maxis\u001b[0m\u001b[0;34m=\u001b[0m\u001b[0;36m0\u001b[0m\u001b[0;34m)\u001b[0m\u001b[0;34m\u001b[0m\u001b[0;34m\u001b[0m\u001b[0m\n",
            "\u001b[0;32m/usr/local/lib/python3.6/dist-packages/sklearn/utils/validation.py\u001b[0m in \u001b[0;36mcheck_array\u001b[0;34m(array, accept_sparse, accept_large_sparse, dtype, order, copy, force_all_finite, ensure_2d, allow_nd, ensure_min_samples, ensure_min_features, warn_on_dtype, estimator)\u001b[0m\n\u001b[1;32m    494\u001b[0m             \u001b[0;32mtry\u001b[0m\u001b[0;34m:\u001b[0m\u001b[0;34m\u001b[0m\u001b[0;34m\u001b[0m\u001b[0m\n\u001b[1;32m    495\u001b[0m                 \u001b[0mwarnings\u001b[0m\u001b[0;34m.\u001b[0m\u001b[0msimplefilter\u001b[0m\u001b[0;34m(\u001b[0m\u001b[0;34m'error'\u001b[0m\u001b[0;34m,\u001b[0m \u001b[0mComplexWarning\u001b[0m\u001b[0;34m)\u001b[0m\u001b[0;34m\u001b[0m\u001b[0;34m\u001b[0m\u001b[0m\n\u001b[0;32m--> 496\u001b[0;31m                 \u001b[0marray\u001b[0m \u001b[0;34m=\u001b[0m \u001b[0mnp\u001b[0m\u001b[0;34m.\u001b[0m\u001b[0masarray\u001b[0m\u001b[0;34m(\u001b[0m\u001b[0marray\u001b[0m\u001b[0;34m,\u001b[0m \u001b[0mdtype\u001b[0m\u001b[0;34m=\u001b[0m\u001b[0mdtype\u001b[0m\u001b[0;34m,\u001b[0m \u001b[0morder\u001b[0m\u001b[0;34m=\u001b[0m\u001b[0morder\u001b[0m\u001b[0;34m)\u001b[0m\u001b[0;34m\u001b[0m\u001b[0;34m\u001b[0m\u001b[0m\n\u001b[0m\u001b[1;32m    497\u001b[0m             \u001b[0;32mexcept\u001b[0m \u001b[0mComplexWarning\u001b[0m\u001b[0;34m:\u001b[0m\u001b[0;34m\u001b[0m\u001b[0;34m\u001b[0m\u001b[0m\n\u001b[1;32m    498\u001b[0m                 raise ValueError(\"Complex data not supported\\n\"\n",
            "\u001b[0;32m/usr/local/lib/python3.6/dist-packages/numpy/core/_asarray.py\u001b[0m in \u001b[0;36masarray\u001b[0;34m(a, dtype, order)\u001b[0m\n\u001b[1;32m     83\u001b[0m \u001b[0;34m\u001b[0m\u001b[0m\n\u001b[1;32m     84\u001b[0m     \"\"\"\n\u001b[0;32m---> 85\u001b[0;31m     \u001b[0;32mreturn\u001b[0m \u001b[0marray\u001b[0m\u001b[0;34m(\u001b[0m\u001b[0ma\u001b[0m\u001b[0;34m,\u001b[0m \u001b[0mdtype\u001b[0m\u001b[0;34m,\u001b[0m \u001b[0mcopy\u001b[0m\u001b[0;34m=\u001b[0m\u001b[0;32mFalse\u001b[0m\u001b[0;34m,\u001b[0m \u001b[0morder\u001b[0m\u001b[0;34m=\u001b[0m\u001b[0morder\u001b[0m\u001b[0;34m)\u001b[0m\u001b[0;34m\u001b[0m\u001b[0;34m\u001b[0m\u001b[0m\n\u001b[0m\u001b[1;32m     86\u001b[0m \u001b[0;34m\u001b[0m\u001b[0m\n\u001b[1;32m     87\u001b[0m \u001b[0;34m\u001b[0m\u001b[0m\n",
            "\u001b[0;31mValueError\u001b[0m: could not convert string to float: 'normal'"
          ]
        }
      ]
    },
    {
      "cell_type": "code",
      "metadata": {
        "id": "WwIW4IDKjEOF",
        "colab_type": "code",
        "colab": {}
      },
      "source": [
        "pca = PCA(n_components=43)\n",
        "dataset = pca.fit_transform(data_rescaled)\n",
        "\n",
        "df=pd.DataFrame(data=dataset[0:,0:], index=[i for i in range(dataset.shape[0])], columns=['column '+str(i) for i in range(dataset.shape[1])])\n",
        "df.head()"
      ],
      "execution_count": 0,
      "outputs": []
    },
    {
      "cell_type": "code",
      "metadata": {
        "id": "MR03bgNLja_l",
        "colab_type": "code",
        "colab": {}
      },
      "source": [
        "df.shape"
      ],
      "execution_count": 0,
      "outputs": []
    },
    {
      "cell_type": "code",
      "metadata": {
        "id": "eYQgYjBJjdar",
        "colab_type": "code",
        "colab": {}
      },
      "source": [
        "df.mean(axis = 0) "
      ],
      "execution_count": 0,
      "outputs": []
    },
    {
      "cell_type": "code",
      "metadata": {
        "id": "9Wv4cWWEjkJx",
        "colab_type": "code",
        "colab": {}
      },
      "source": [
        "df2 = df.drop(columns=['column 0',\n",
        "                       'column 4',\n",
        "                       'column 5',\n",
        "                       'column 7',\n",
        "                       'column 9',\n",
        "                       'column 10',\n",
        "                       'column 11',\n",
        "                       'column 13',\n",
        "                       'column 14',\n",
        "                       'column 15',\n",
        "                       'column 17',\n",
        "                       'column 22',\n",
        "                       'column 25',\n",
        "                       'column 26',\n",
        "                       'column 30',\n",
        "                       'column 31',\n",
        "                       'column 33',\n",
        "                       'column 34',\n",
        "                       'column 35',\n",
        "                       'column 36',\n",
        "                       'column 37',\n",
        "                       'column 38',\n",
        "                       'column 40',\n",
        "                       'column 41'])"
      ],
      "execution_count": 0,
      "outputs": []
    },
    {
      "cell_type": "code",
      "metadata": {
        "id": "QtdjnyUrkxFY",
        "colab_type": "code",
        "colab": {}
      },
      "source": [
        "# df2.head()\n",
        "df2.mean(axis = 0) \n",
        "\n",
        "# 12,3,6,8,12,16,18,19,20,21,23,24,27,28,29,32,39"
      ],
      "execution_count": 0,
      "outputs": []
    },
    {
      "cell_type": "code",
      "metadata": {
        "id": "t6xAJX6ok81S",
        "colab_type": "code",
        "colab": {}
      },
      "source": [
        "df2.head()"
      ],
      "execution_count": 0,
      "outputs": []
    },
    {
      "cell_type": "code",
      "metadata": {
        "id": "2htXDTMAsaZ-",
        "colab_type": "code",
        "colab": {}
      },
      "source": [
        "# 5 most significant\n",
        "# col 2,3,6,20,8 + target 42\n"
      ],
      "execution_count": 0,
      "outputs": []
    },
    {
      "cell_type": "code",
      "metadata": {
        "id": "F-8mFR5_-WhJ",
        "colab_type": "code",
        "colab": {}
      },
      "source": [
        "dfv1 = df.drop(columns=['column 41'])"
      ],
      "execution_count": 0,
      "outputs": []
    },
    {
      "cell_type": "code",
      "metadata": {
        "id": "bXBoIQdUGJ4Z",
        "colab_type": "code",
        "colab": {}
      },
      "source": [
        "dfv1.head()"
      ],
      "execution_count": 0,
      "outputs": []
    },
    {
      "cell_type": "code",
      "metadata": {
        "id": "nhYLNQ8SvNST",
        "colab_type": "code",
        "colab": {}
      },
      "source": [
        "dfv1.mean(axis=0)"
      ],
      "execution_count": 0,
      "outputs": []
    },
    {
      "cell_type": "code",
      "metadata": {
        "id": "FRFZ5of-30v9",
        "colab_type": "code",
        "colab": {}
      },
      "source": [
        "dfv1.head()"
      ],
      "execution_count": 0,
      "outputs": []
    },
    {
      "cell_type": "code",
      "metadata": {
        "id": "fsdhegun4_Oj",
        "colab_type": "code",
        "colab": {}
      },
      "source": [
        "df.head()"
      ],
      "execution_count": 0,
      "outputs": []
    },
    {
      "cell_type": "code",
      "metadata": {
        "id": "yaBvChIr3EHS",
        "colab_type": "code",
        "colab": {}
      },
      "source": [
        "X = df.loc[:, :'column 40']\n",
        "y = df.loc[:, 'column 42']"
      ],
      "execution_count": 0,
      "outputs": []
    },
    {
      "cell_type": "code",
      "metadata": {
        "id": "NCSLVf8u4uok",
        "colab_type": "code",
        "colab": {}
      },
      "source": [
        "y = y.astype(str)\n",
        "\n",
        "temp = set(y)"
      ],
      "execution_count": 0,
      "outputs": []
    },
    {
      "cell_type": "code",
      "metadata": {
        "id": "Z_fRZ8B93QZK",
        "colab_type": "code",
        "colab": {}
      },
      "source": [
        "X_train, X_test, y_train, y_test = train_test_split(X, y, test_size=0.3, train_size =0.7, random_state=5)"
      ],
      "execution_count": 0,
      "outputs": []
    },
    {
      "cell_type": "code",
      "metadata": {
        "id": "63QM99Tg3UpB",
        "colab_type": "code",
        "colab": {}
      },
      "source": [
        "clf = MLPClassifier(random_state = 5)"
      ],
      "execution_count": 0,
      "outputs": []
    },
    {
      "cell_type": "code",
      "metadata": {
        "id": "Ul1UrJnD3WIJ",
        "colab_type": "code",
        "colab": {}
      },
      "source": [
        "start = time.time()"
      ],
      "execution_count": 0,
      "outputs": []
    },
    {
      "cell_type": "code",
      "metadata": {
        "id": "RndHOcqW3XSB",
        "colab_type": "code",
        "colab": {}
      },
      "source": [
        "clf.fit(X_train, y_train)"
      ],
      "execution_count": 0,
      "outputs": []
    },
    {
      "cell_type": "code",
      "metadata": {
        "id": "fEnYz5T83Yrp",
        "colab_type": "code",
        "colab": {}
      },
      "source": [
        "stop = time.time()\n",
        "print(f\"training time : {stop - start}s\")"
      ],
      "execution_count": 0,
      "outputs": []
    },
    {
      "cell_type": "code",
      "metadata": {
        "id": "pUuFfkIa3aZK",
        "colab_type": "code",
        "colab": {}
      },
      "source": [
        "pred = clf.predict(X_test)\n",
        "\n",
        "accuracy_score(y_test,pred)"
      ],
      "execution_count": 0,
      "outputs": []
    },
    {
      "cell_type": "code",
      "metadata": {
        "id": "liTFRAwm3eOh",
        "colab_type": "code",
        "colab": {}
      },
      "source": [
        "clf = MLPClassifier(random_state = 5, max_iter=300)\n",
        "\n",
        "scoring = {'accuracy': make_scorer(accuracy_score)}"
      ],
      "execution_count": 0,
      "outputs": []
    },
    {
      "cell_type": "code",
      "metadata": {
        "id": "wcskayBr3hOa",
        "colab_type": "code",
        "colab": {}
      },
      "source": [
        "start = time.time()"
      ],
      "execution_count": 0,
      "outputs": []
    },
    {
      "cell_type": "code",
      "metadata": {
        "id": "OOSMNPOM3iwj",
        "colab_type": "code",
        "colab": {}
      },
      "source": [
        "cv = ShuffleSplit(n_splits=3, test_size=0.33, random_state=5)\n",
        "scores = cross_validate(clf, X, y, cv=cv, scoring=scoring, return_train_score=True)"
      ],
      "execution_count": 0,
      "outputs": []
    },
    {
      "cell_type": "code",
      "metadata": {
        "id": "qy31JiVP3kIR",
        "colab_type": "code",
        "colab": {}
      },
      "source": [
        "stop = time.time()\n",
        "print(f\"Cross Validation time : {stop - start}s\")"
      ],
      "execution_count": 0,
      "outputs": []
    },
    {
      "cell_type": "code",
      "metadata": {
        "id": "yScf5zLF3ljL",
        "colab_type": "code",
        "colab": {}
      },
      "source": [
        "print(scores)"
      ],
      "execution_count": 0,
      "outputs": []
    },
    {
      "cell_type": "markdown",
      "metadata": {
        "id": "mZxRpS1CPuqd",
        "colab_type": "text"
      },
      "source": [
        "# 41"
      ]
    },
    {
      "cell_type": "code",
      "metadata": {
        "id": "nTR5dUeaP6VF",
        "colab_type": "code",
        "outputId": "74c5c2f3-ff82-4459-c6d0-5c01f42147a2",
        "colab": {
          "base_uri": "https://localhost:8080/",
          "height": 224
        }
      },
      "source": [
        "data_all.head()"
      ],
      "execution_count": 20,
      "outputs": [
        {
          "output_type": "execute_result",
          "data": {
            "text/html": [
              "<div>\n",
              "<style scoped>\n",
              "    .dataframe tbody tr th:only-of-type {\n",
              "        vertical-align: middle;\n",
              "    }\n",
              "\n",
              "    .dataframe tbody tr th {\n",
              "        vertical-align: top;\n",
              "    }\n",
              "\n",
              "    .dataframe thead th {\n",
              "        text-align: right;\n",
              "    }\n",
              "</style>\n",
              "<table border=\"1\" class=\"dataframe\">\n",
              "  <thead>\n",
              "    <tr style=\"text-align: right;\">\n",
              "      <th></th>\n",
              "      <th>duration</th>\n",
              "      <th>protocol_type</th>\n",
              "      <th>service</th>\n",
              "      <th>flag</th>\n",
              "      <th>src_bytes</th>\n",
              "      <th>dst_bytes</th>\n",
              "      <th>land</th>\n",
              "      <th>wrong_fragment</th>\n",
              "      <th>urgent</th>\n",
              "      <th>hot</th>\n",
              "      <th>num_failed_logins</th>\n",
              "      <th>logged_in</th>\n",
              "      <th>num_compromised</th>\n",
              "      <th>root_shell</th>\n",
              "      <th>su_attempted</th>\n",
              "      <th>num_root</th>\n",
              "      <th>num_file_creations</th>\n",
              "      <th>num_shells</th>\n",
              "      <th>num_access_files</th>\n",
              "      <th>num_outbound_cmds</th>\n",
              "      <th>is_host_login</th>\n",
              "      <th>is_guest_login</th>\n",
              "      <th>count</th>\n",
              "      <th>srv_count</th>\n",
              "      <th>serror_rate</th>\n",
              "      <th>srv_serror_rate</th>\n",
              "      <th>rerror_rate</th>\n",
              "      <th>srv_rerror_rate</th>\n",
              "      <th>same_srv_rate</th>\n",
              "      <th>diff_srv_rate</th>\n",
              "      <th>srv_diff_host_rate</th>\n",
              "      <th>dst_host_count</th>\n",
              "      <th>dst_host_srv_count</th>\n",
              "      <th>dst_host_same_srv_rate</th>\n",
              "      <th>dst_host_diff_srv_rate</th>\n",
              "      <th>dst_host_same_src_port_rate</th>\n",
              "      <th>dst_host_srv_diff_host_rate</th>\n",
              "      <th>dst_host_serror_rate</th>\n",
              "      <th>dst_host_srv_serror_rate</th>\n",
              "      <th>dst_host_rerror_rate</th>\n",
              "      <th>dst_host_srv_rerror_rate</th>\n",
              "      <th>num_packet</th>\n",
              "      <th>type_attack</th>\n",
              "    </tr>\n",
              "  </thead>\n",
              "  <tbody>\n",
              "    <tr>\n",
              "      <th>0</th>\n",
              "      <td>0</td>\n",
              "      <td>1</td>\n",
              "      <td>52</td>\n",
              "      <td>1</td>\n",
              "      <td>491</td>\n",
              "      <td>0</td>\n",
              "      <td>0</td>\n",
              "      <td>0</td>\n",
              "      <td>0</td>\n",
              "      <td>0</td>\n",
              "      <td>0</td>\n",
              "      <td>0</td>\n",
              "      <td>0</td>\n",
              "      <td>0</td>\n",
              "      <td>0</td>\n",
              "      <td>0</td>\n",
              "      <td>0</td>\n",
              "      <td>0</td>\n",
              "      <td>0</td>\n",
              "      <td>0</td>\n",
              "      <td>0</td>\n",
              "      <td>0</td>\n",
              "      <td>2</td>\n",
              "      <td>2</td>\n",
              "      <td>0.0</td>\n",
              "      <td>0.0</td>\n",
              "      <td>0.0</td>\n",
              "      <td>0.0</td>\n",
              "      <td>1.00</td>\n",
              "      <td>0.00</td>\n",
              "      <td>0.00</td>\n",
              "      <td>150</td>\n",
              "      <td>25</td>\n",
              "      <td>0.17</td>\n",
              "      <td>0.03</td>\n",
              "      <td>0.17</td>\n",
              "      <td>0.00</td>\n",
              "      <td>0.00</td>\n",
              "      <td>0.00</td>\n",
              "      <td>0.05</td>\n",
              "      <td>0.00</td>\n",
              "      <td>20</td>\n",
              "      <td>normal</td>\n",
              "    </tr>\n",
              "    <tr>\n",
              "      <th>1</th>\n",
              "      <td>0</td>\n",
              "      <td>0</td>\n",
              "      <td>27</td>\n",
              "      <td>1</td>\n",
              "      <td>146</td>\n",
              "      <td>0</td>\n",
              "      <td>0</td>\n",
              "      <td>0</td>\n",
              "      <td>0</td>\n",
              "      <td>0</td>\n",
              "      <td>0</td>\n",
              "      <td>0</td>\n",
              "      <td>0</td>\n",
              "      <td>0</td>\n",
              "      <td>0</td>\n",
              "      <td>0</td>\n",
              "      <td>0</td>\n",
              "      <td>0</td>\n",
              "      <td>0</td>\n",
              "      <td>0</td>\n",
              "      <td>0</td>\n",
              "      <td>0</td>\n",
              "      <td>13</td>\n",
              "      <td>1</td>\n",
              "      <td>0.0</td>\n",
              "      <td>0.0</td>\n",
              "      <td>0.0</td>\n",
              "      <td>0.0</td>\n",
              "      <td>0.08</td>\n",
              "      <td>0.15</td>\n",
              "      <td>0.00</td>\n",
              "      <td>255</td>\n",
              "      <td>1</td>\n",
              "      <td>0.00</td>\n",
              "      <td>0.60</td>\n",
              "      <td>0.88</td>\n",
              "      <td>0.00</td>\n",
              "      <td>0.00</td>\n",
              "      <td>0.00</td>\n",
              "      <td>0.00</td>\n",
              "      <td>0.00</td>\n",
              "      <td>15</td>\n",
              "      <td>normal</td>\n",
              "    </tr>\n",
              "    <tr>\n",
              "      <th>2</th>\n",
              "      <td>0</td>\n",
              "      <td>1</td>\n",
              "      <td>22</td>\n",
              "      <td>5</td>\n",
              "      <td>0</td>\n",
              "      <td>0</td>\n",
              "      <td>0</td>\n",
              "      <td>0</td>\n",
              "      <td>0</td>\n",
              "      <td>0</td>\n",
              "      <td>0</td>\n",
              "      <td>0</td>\n",
              "      <td>0</td>\n",
              "      <td>0</td>\n",
              "      <td>0</td>\n",
              "      <td>0</td>\n",
              "      <td>0</td>\n",
              "      <td>0</td>\n",
              "      <td>0</td>\n",
              "      <td>0</td>\n",
              "      <td>0</td>\n",
              "      <td>0</td>\n",
              "      <td>123</td>\n",
              "      <td>6</td>\n",
              "      <td>1.0</td>\n",
              "      <td>1.0</td>\n",
              "      <td>0.0</td>\n",
              "      <td>0.0</td>\n",
              "      <td>0.05</td>\n",
              "      <td>0.07</td>\n",
              "      <td>0.00</td>\n",
              "      <td>255</td>\n",
              "      <td>26</td>\n",
              "      <td>0.10</td>\n",
              "      <td>0.05</td>\n",
              "      <td>0.00</td>\n",
              "      <td>0.00</td>\n",
              "      <td>1.00</td>\n",
              "      <td>1.00</td>\n",
              "      <td>0.00</td>\n",
              "      <td>0.00</td>\n",
              "      <td>19</td>\n",
              "      <td>dos</td>\n",
              "    </tr>\n",
              "    <tr>\n",
              "      <th>3</th>\n",
              "      <td>0</td>\n",
              "      <td>1</td>\n",
              "      <td>48</td>\n",
              "      <td>1</td>\n",
              "      <td>232</td>\n",
              "      <td>8153</td>\n",
              "      <td>0</td>\n",
              "      <td>0</td>\n",
              "      <td>0</td>\n",
              "      <td>0</td>\n",
              "      <td>0</td>\n",
              "      <td>1</td>\n",
              "      <td>0</td>\n",
              "      <td>0</td>\n",
              "      <td>0</td>\n",
              "      <td>0</td>\n",
              "      <td>0</td>\n",
              "      <td>0</td>\n",
              "      <td>0</td>\n",
              "      <td>0</td>\n",
              "      <td>0</td>\n",
              "      <td>0</td>\n",
              "      <td>5</td>\n",
              "      <td>5</td>\n",
              "      <td>0.2</td>\n",
              "      <td>0.2</td>\n",
              "      <td>0.0</td>\n",
              "      <td>0.0</td>\n",
              "      <td>1.00</td>\n",
              "      <td>0.00</td>\n",
              "      <td>0.00</td>\n",
              "      <td>30</td>\n",
              "      <td>255</td>\n",
              "      <td>1.00</td>\n",
              "      <td>0.00</td>\n",
              "      <td>0.03</td>\n",
              "      <td>0.04</td>\n",
              "      <td>0.03</td>\n",
              "      <td>0.01</td>\n",
              "      <td>0.00</td>\n",
              "      <td>0.01</td>\n",
              "      <td>21</td>\n",
              "      <td>normal</td>\n",
              "    </tr>\n",
              "    <tr>\n",
              "      <th>4</th>\n",
              "      <td>0</td>\n",
              "      <td>1</td>\n",
              "      <td>48</td>\n",
              "      <td>1</td>\n",
              "      <td>199</td>\n",
              "      <td>420</td>\n",
              "      <td>0</td>\n",
              "      <td>0</td>\n",
              "      <td>0</td>\n",
              "      <td>0</td>\n",
              "      <td>0</td>\n",
              "      <td>1</td>\n",
              "      <td>0</td>\n",
              "      <td>0</td>\n",
              "      <td>0</td>\n",
              "      <td>0</td>\n",
              "      <td>0</td>\n",
              "      <td>0</td>\n",
              "      <td>0</td>\n",
              "      <td>0</td>\n",
              "      <td>0</td>\n",
              "      <td>0</td>\n",
              "      <td>30</td>\n",
              "      <td>32</td>\n",
              "      <td>0.0</td>\n",
              "      <td>0.0</td>\n",
              "      <td>0.0</td>\n",
              "      <td>0.0</td>\n",
              "      <td>1.00</td>\n",
              "      <td>0.00</td>\n",
              "      <td>0.09</td>\n",
              "      <td>255</td>\n",
              "      <td>255</td>\n",
              "      <td>1.00</td>\n",
              "      <td>0.00</td>\n",
              "      <td>0.00</td>\n",
              "      <td>0.00</td>\n",
              "      <td>0.00</td>\n",
              "      <td>0.00</td>\n",
              "      <td>0.00</td>\n",
              "      <td>0.00</td>\n",
              "      <td>21</td>\n",
              "      <td>normal</td>\n",
              "    </tr>\n",
              "  </tbody>\n",
              "</table>\n",
              "</div>"
            ],
            "text/plain": [
              "   duration  protocol_type  ...  num_packet  type_attack\n",
              "0         0              1  ...          20       normal\n",
              "1         0              0  ...          15       normal\n",
              "2         0              1  ...          19          dos\n",
              "3         0              1  ...          21       normal\n",
              "4         0              1  ...          21       normal\n",
              "\n",
              "[5 rows x 43 columns]"
            ]
          },
          "metadata": {
            "tags": []
          },
          "execution_count": 20
        }
      ]
    },
    {
      "cell_type": "code",
      "metadata": {
        "id": "OSGZphfhQy2D",
        "colab_type": "code",
        "outputId": "2d0823e0-03a0-4aa1-e978-d4b2ad0307d3",
        "colab": {
          "base_uri": "https://localhost:8080/",
          "height": 34
        }
      },
      "source": [
        "data_all.shape"
      ],
      "execution_count": 22,
      "outputs": [
        {
          "output_type": "execute_result",
          "data": {
            "text/plain": [
              "(173708, 43)"
            ]
          },
          "metadata": {
            "tags": []
          },
          "execution_count": 22
        }
      ]
    },
    {
      "cell_type": "code",
      "metadata": {
        "id": "uZSAEDP4QLKO",
        "colab_type": "code",
        "colab": {}
      },
      "source": [
        "data_all1 = data_all.drop(columns=['type_attack'])"
      ],
      "execution_count": 0,
      "outputs": []
    },
    {
      "cell_type": "code",
      "metadata": {
        "id": "LsDz56jCQZUu",
        "colab_type": "code",
        "outputId": "d291811b-2cfc-48cc-8567-83548f08a87a",
        "colab": {
          "base_uri": "https://localhost:8080/",
          "height": 224
        }
      },
      "source": [
        "data_all1.head()"
      ],
      "execution_count": 24,
      "outputs": [
        {
          "output_type": "execute_result",
          "data": {
            "text/html": [
              "<div>\n",
              "<style scoped>\n",
              "    .dataframe tbody tr th:only-of-type {\n",
              "        vertical-align: middle;\n",
              "    }\n",
              "\n",
              "    .dataframe tbody tr th {\n",
              "        vertical-align: top;\n",
              "    }\n",
              "\n",
              "    .dataframe thead th {\n",
              "        text-align: right;\n",
              "    }\n",
              "</style>\n",
              "<table border=\"1\" class=\"dataframe\">\n",
              "  <thead>\n",
              "    <tr style=\"text-align: right;\">\n",
              "      <th></th>\n",
              "      <th>duration</th>\n",
              "      <th>protocol_type</th>\n",
              "      <th>service</th>\n",
              "      <th>flag</th>\n",
              "      <th>src_bytes</th>\n",
              "      <th>dst_bytes</th>\n",
              "      <th>land</th>\n",
              "      <th>wrong_fragment</th>\n",
              "      <th>urgent</th>\n",
              "      <th>hot</th>\n",
              "      <th>num_failed_logins</th>\n",
              "      <th>logged_in</th>\n",
              "      <th>num_compromised</th>\n",
              "      <th>root_shell</th>\n",
              "      <th>su_attempted</th>\n",
              "      <th>num_root</th>\n",
              "      <th>num_file_creations</th>\n",
              "      <th>num_shells</th>\n",
              "      <th>num_access_files</th>\n",
              "      <th>num_outbound_cmds</th>\n",
              "      <th>is_host_login</th>\n",
              "      <th>is_guest_login</th>\n",
              "      <th>count</th>\n",
              "      <th>srv_count</th>\n",
              "      <th>serror_rate</th>\n",
              "      <th>srv_serror_rate</th>\n",
              "      <th>rerror_rate</th>\n",
              "      <th>srv_rerror_rate</th>\n",
              "      <th>same_srv_rate</th>\n",
              "      <th>diff_srv_rate</th>\n",
              "      <th>srv_diff_host_rate</th>\n",
              "      <th>dst_host_count</th>\n",
              "      <th>dst_host_srv_count</th>\n",
              "      <th>dst_host_same_srv_rate</th>\n",
              "      <th>dst_host_diff_srv_rate</th>\n",
              "      <th>dst_host_same_src_port_rate</th>\n",
              "      <th>dst_host_srv_diff_host_rate</th>\n",
              "      <th>dst_host_serror_rate</th>\n",
              "      <th>dst_host_srv_serror_rate</th>\n",
              "      <th>dst_host_rerror_rate</th>\n",
              "      <th>dst_host_srv_rerror_rate</th>\n",
              "      <th>num_packet</th>\n",
              "    </tr>\n",
              "  </thead>\n",
              "  <tbody>\n",
              "    <tr>\n",
              "      <th>0</th>\n",
              "      <td>0</td>\n",
              "      <td>1</td>\n",
              "      <td>52</td>\n",
              "      <td>1</td>\n",
              "      <td>491</td>\n",
              "      <td>0</td>\n",
              "      <td>0</td>\n",
              "      <td>0</td>\n",
              "      <td>0</td>\n",
              "      <td>0</td>\n",
              "      <td>0</td>\n",
              "      <td>0</td>\n",
              "      <td>0</td>\n",
              "      <td>0</td>\n",
              "      <td>0</td>\n",
              "      <td>0</td>\n",
              "      <td>0</td>\n",
              "      <td>0</td>\n",
              "      <td>0</td>\n",
              "      <td>0</td>\n",
              "      <td>0</td>\n",
              "      <td>0</td>\n",
              "      <td>2</td>\n",
              "      <td>2</td>\n",
              "      <td>0.0</td>\n",
              "      <td>0.0</td>\n",
              "      <td>0.0</td>\n",
              "      <td>0.0</td>\n",
              "      <td>1.00</td>\n",
              "      <td>0.00</td>\n",
              "      <td>0.00</td>\n",
              "      <td>150</td>\n",
              "      <td>25</td>\n",
              "      <td>0.17</td>\n",
              "      <td>0.03</td>\n",
              "      <td>0.17</td>\n",
              "      <td>0.00</td>\n",
              "      <td>0.00</td>\n",
              "      <td>0.00</td>\n",
              "      <td>0.05</td>\n",
              "      <td>0.00</td>\n",
              "      <td>20</td>\n",
              "    </tr>\n",
              "    <tr>\n",
              "      <th>1</th>\n",
              "      <td>0</td>\n",
              "      <td>0</td>\n",
              "      <td>27</td>\n",
              "      <td>1</td>\n",
              "      <td>146</td>\n",
              "      <td>0</td>\n",
              "      <td>0</td>\n",
              "      <td>0</td>\n",
              "      <td>0</td>\n",
              "      <td>0</td>\n",
              "      <td>0</td>\n",
              "      <td>0</td>\n",
              "      <td>0</td>\n",
              "      <td>0</td>\n",
              "      <td>0</td>\n",
              "      <td>0</td>\n",
              "      <td>0</td>\n",
              "      <td>0</td>\n",
              "      <td>0</td>\n",
              "      <td>0</td>\n",
              "      <td>0</td>\n",
              "      <td>0</td>\n",
              "      <td>13</td>\n",
              "      <td>1</td>\n",
              "      <td>0.0</td>\n",
              "      <td>0.0</td>\n",
              "      <td>0.0</td>\n",
              "      <td>0.0</td>\n",
              "      <td>0.08</td>\n",
              "      <td>0.15</td>\n",
              "      <td>0.00</td>\n",
              "      <td>255</td>\n",
              "      <td>1</td>\n",
              "      <td>0.00</td>\n",
              "      <td>0.60</td>\n",
              "      <td>0.88</td>\n",
              "      <td>0.00</td>\n",
              "      <td>0.00</td>\n",
              "      <td>0.00</td>\n",
              "      <td>0.00</td>\n",
              "      <td>0.00</td>\n",
              "      <td>15</td>\n",
              "    </tr>\n",
              "    <tr>\n",
              "      <th>2</th>\n",
              "      <td>0</td>\n",
              "      <td>1</td>\n",
              "      <td>22</td>\n",
              "      <td>5</td>\n",
              "      <td>0</td>\n",
              "      <td>0</td>\n",
              "      <td>0</td>\n",
              "      <td>0</td>\n",
              "      <td>0</td>\n",
              "      <td>0</td>\n",
              "      <td>0</td>\n",
              "      <td>0</td>\n",
              "      <td>0</td>\n",
              "      <td>0</td>\n",
              "      <td>0</td>\n",
              "      <td>0</td>\n",
              "      <td>0</td>\n",
              "      <td>0</td>\n",
              "      <td>0</td>\n",
              "      <td>0</td>\n",
              "      <td>0</td>\n",
              "      <td>0</td>\n",
              "      <td>123</td>\n",
              "      <td>6</td>\n",
              "      <td>1.0</td>\n",
              "      <td>1.0</td>\n",
              "      <td>0.0</td>\n",
              "      <td>0.0</td>\n",
              "      <td>0.05</td>\n",
              "      <td>0.07</td>\n",
              "      <td>0.00</td>\n",
              "      <td>255</td>\n",
              "      <td>26</td>\n",
              "      <td>0.10</td>\n",
              "      <td>0.05</td>\n",
              "      <td>0.00</td>\n",
              "      <td>0.00</td>\n",
              "      <td>1.00</td>\n",
              "      <td>1.00</td>\n",
              "      <td>0.00</td>\n",
              "      <td>0.00</td>\n",
              "      <td>19</td>\n",
              "    </tr>\n",
              "    <tr>\n",
              "      <th>3</th>\n",
              "      <td>0</td>\n",
              "      <td>1</td>\n",
              "      <td>48</td>\n",
              "      <td>1</td>\n",
              "      <td>232</td>\n",
              "      <td>8153</td>\n",
              "      <td>0</td>\n",
              "      <td>0</td>\n",
              "      <td>0</td>\n",
              "      <td>0</td>\n",
              "      <td>0</td>\n",
              "      <td>1</td>\n",
              "      <td>0</td>\n",
              "      <td>0</td>\n",
              "      <td>0</td>\n",
              "      <td>0</td>\n",
              "      <td>0</td>\n",
              "      <td>0</td>\n",
              "      <td>0</td>\n",
              "      <td>0</td>\n",
              "      <td>0</td>\n",
              "      <td>0</td>\n",
              "      <td>5</td>\n",
              "      <td>5</td>\n",
              "      <td>0.2</td>\n",
              "      <td>0.2</td>\n",
              "      <td>0.0</td>\n",
              "      <td>0.0</td>\n",
              "      <td>1.00</td>\n",
              "      <td>0.00</td>\n",
              "      <td>0.00</td>\n",
              "      <td>30</td>\n",
              "      <td>255</td>\n",
              "      <td>1.00</td>\n",
              "      <td>0.00</td>\n",
              "      <td>0.03</td>\n",
              "      <td>0.04</td>\n",
              "      <td>0.03</td>\n",
              "      <td>0.01</td>\n",
              "      <td>0.00</td>\n",
              "      <td>0.01</td>\n",
              "      <td>21</td>\n",
              "    </tr>\n",
              "    <tr>\n",
              "      <th>4</th>\n",
              "      <td>0</td>\n",
              "      <td>1</td>\n",
              "      <td>48</td>\n",
              "      <td>1</td>\n",
              "      <td>199</td>\n",
              "      <td>420</td>\n",
              "      <td>0</td>\n",
              "      <td>0</td>\n",
              "      <td>0</td>\n",
              "      <td>0</td>\n",
              "      <td>0</td>\n",
              "      <td>1</td>\n",
              "      <td>0</td>\n",
              "      <td>0</td>\n",
              "      <td>0</td>\n",
              "      <td>0</td>\n",
              "      <td>0</td>\n",
              "      <td>0</td>\n",
              "      <td>0</td>\n",
              "      <td>0</td>\n",
              "      <td>0</td>\n",
              "      <td>0</td>\n",
              "      <td>30</td>\n",
              "      <td>32</td>\n",
              "      <td>0.0</td>\n",
              "      <td>0.0</td>\n",
              "      <td>0.0</td>\n",
              "      <td>0.0</td>\n",
              "      <td>1.00</td>\n",
              "      <td>0.00</td>\n",
              "      <td>0.09</td>\n",
              "      <td>255</td>\n",
              "      <td>255</td>\n",
              "      <td>1.00</td>\n",
              "      <td>0.00</td>\n",
              "      <td>0.00</td>\n",
              "      <td>0.00</td>\n",
              "      <td>0.00</td>\n",
              "      <td>0.00</td>\n",
              "      <td>0.00</td>\n",
              "      <td>0.00</td>\n",
              "      <td>21</td>\n",
              "    </tr>\n",
              "  </tbody>\n",
              "</table>\n",
              "</div>"
            ],
            "text/plain": [
              "   duration  protocol_type  ...  dst_host_srv_rerror_rate  num_packet\n",
              "0         0              1  ...                      0.00          20\n",
              "1         0              0  ...                      0.00          15\n",
              "2         0              1  ...                      0.00          19\n",
              "3         0              1  ...                      0.01          21\n",
              "4         0              1  ...                      0.00          21\n",
              "\n",
              "[5 rows x 42 columns]"
            ]
          },
          "metadata": {
            "tags": []
          },
          "execution_count": 24
        }
      ]
    },
    {
      "cell_type": "code",
      "metadata": {
        "id": "PA_aLiSxQNcB",
        "colab_type": "code",
        "outputId": "391a37e7-92d9-472a-f5bb-e8404cc4ce29",
        "colab": {
          "base_uri": "https://localhost:8080/",
          "height": 621
        }
      },
      "source": [
        "## MULAI PCA\n",
        "\n",
        "scaler = MinMaxScaler(feature_range=[0, 1])\n",
        "data_rescaled = scaler.fit_transform(data_all1.iloc[:,:])\n",
        "\n",
        "#Fitting the PCA algorithm with our Data\n",
        "pca = PCA().fit(data_rescaled)\n",
        "#Plotting the Cumulative Summation of the Explained Variance\n",
        "# plt.figure()\n",
        "plt.figure(figsize=(20,10)) \n",
        "\n",
        "plt.plot(np.cumsum(pca.explained_variance_ratio_))\n",
        "plt.xlabel('Number of Components')\n",
        "plt.ylabel('Variance (%)') #for each component\n",
        "plt.title('Pulsar Dataset Explained Variance')\n",
        "plt.show()"
      ],
      "execution_count": 25,
      "outputs": [
        {
          "output_type": "display_data",
          "data": {
            "image/png": "[encoded data removed]",
            "text/plain": [
              "<Figure size 1440x720 with 1 Axes>"
            ]
          },
          "metadata": {
            "tags": []
          }
        }
      ]
    },
    {
      "cell_type": "code",
      "metadata": {
        "id": "QtQBd2N_Qh_U",
        "colab_type": "code",
        "outputId": "16af4242-4984-46bb-fd8d-99da56bf0201",
        "colab": {
          "base_uri": "https://localhost:8080/",
          "height": 326
        }
      },
      "source": [
        "pca = PCA(n_components=42)\n",
        "dataset = pca.fit_transform(data_rescaled)\n",
        "\n",
        "df=pd.DataFrame(data=dataset[0:,0:], index=[i for i in range(dataset.shape[0])], columns=['column '+str(i) for i in range(dataset.shape[1])])\n",
        "df.head()"
      ],
      "execution_count": 26,
      "outputs": [
        {
          "output_type": "execute_result",
          "data": {
            "text/html": [
              "<div>\n",
              "<style scoped>\n",
              "    .dataframe tbody tr th:only-of-type {\n",
              "        vertical-align: middle;\n",
              "    }\n",
              "\n",
              "    .dataframe tbody tr th {\n",
              "        vertical-align: top;\n",
              "    }\n",
              "\n",
              "    .dataframe thead th {\n",
              "        text-align: right;\n",
              "    }\n",
              "</style>\n",
              "<table border=\"1\" class=\"dataframe\">\n",
              "  <thead>\n",
              "    <tr style=\"text-align: right;\">\n",
              "      <th></th>\n",
              "      <th>column 0</th>\n",
              "      <th>column 1</th>\n",
              "      <th>column 2</th>\n",
              "      <th>column 3</th>\n",
              "      <th>column 4</th>\n",
              "      <th>column 5</th>\n",
              "      <th>column 6</th>\n",
              "      <th>column 7</th>\n",
              "      <th>column 8</th>\n",
              "      <th>column 9</th>\n",
              "      <th>column 10</th>\n",
              "      <th>column 11</th>\n",
              "      <th>column 12</th>\n",
              "      <th>column 13</th>\n",
              "      <th>column 14</th>\n",
              "      <th>column 15</th>\n",
              "      <th>column 16</th>\n",
              "      <th>column 17</th>\n",
              "      <th>column 18</th>\n",
              "      <th>column 19</th>\n",
              "      <th>column 20</th>\n",
              "      <th>column 21</th>\n",
              "      <th>column 22</th>\n",
              "      <th>column 23</th>\n",
              "      <th>column 24</th>\n",
              "      <th>column 25</th>\n",
              "      <th>column 26</th>\n",
              "      <th>column 27</th>\n",
              "      <th>column 28</th>\n",
              "      <th>column 29</th>\n",
              "      <th>column 30</th>\n",
              "      <th>column 31</th>\n",
              "      <th>column 32</th>\n",
              "      <th>column 33</th>\n",
              "      <th>column 34</th>\n",
              "      <th>column 35</th>\n",
              "      <th>column 36</th>\n",
              "      <th>column 37</th>\n",
              "      <th>column 38</th>\n",
              "      <th>column 39</th>\n",
              "      <th>column 40</th>\n",
              "      <th>column 41</th>\n",
              "    </tr>\n",
              "  </thead>\n",
              "  <tbody>\n",
              "    <tr>\n",
              "      <th>0</th>\n",
              "      <td>-0.220263</td>\n",
              "      <td>0.117158</td>\n",
              "      <td>0.551728</td>\n",
              "      <td>-0.220319</td>\n",
              "      <td>0.398608</td>\n",
              "      <td>-0.221070</td>\n",
              "      <td>-0.213131</td>\n",
              "      <td>0.009363</td>\n",
              "      <td>-0.470655</td>\n",
              "      <td>-0.053478</td>\n",
              "      <td>-0.030418</td>\n",
              "      <td>0.174920</td>\n",
              "      <td>-0.227275</td>\n",
              "      <td>-0.083463</td>\n",
              "      <td>0.003182</td>\n",
              "      <td>-0.009925</td>\n",
              "      <td>0.081712</td>\n",
              "      <td>-0.020905</td>\n",
              "      <td>-0.075399</td>\n",
              "      <td>-0.036697</td>\n",
              "      <td>0.008401</td>\n",
              "      <td>0.083407</td>\n",
              "      <td>-0.044415</td>\n",
              "      <td>-0.004790</td>\n",
              "      <td>-0.001110</td>\n",
              "      <td>-0.012266</td>\n",
              "      <td>-0.019738</td>\n",
              "      <td>-0.001655</td>\n",
              "      <td>-0.001751</td>\n",
              "      <td>0.003431</td>\n",
              "      <td>0.003058</td>\n",
              "      <td>-0.004125</td>\n",
              "      <td>-0.000117</td>\n",
              "      <td>0.000086</td>\n",
              "      <td>0.000089</td>\n",
              "      <td>-0.000254</td>\n",
              "      <td>0.000107</td>\n",
              "      <td>-0.000090</td>\n",
              "      <td>-0.000057</td>\n",
              "      <td>1.729124e-05</td>\n",
              "      <td>-0.000013</td>\n",
              "      <td>-9.125242e-18</td>\n",
              "    </tr>\n",
              "    <tr>\n",
              "      <th>1</th>\n",
              "      <td>0.283156</td>\n",
              "      <td>0.374941</td>\n",
              "      <td>0.763011</td>\n",
              "      <td>-0.568851</td>\n",
              "      <td>0.879016</td>\n",
              "      <td>-0.059989</td>\n",
              "      <td>0.040570</td>\n",
              "      <td>0.248593</td>\n",
              "      <td>0.326108</td>\n",
              "      <td>0.228155</td>\n",
              "      <td>-0.409901</td>\n",
              "      <td>-0.355404</td>\n",
              "      <td>-0.021435</td>\n",
              "      <td>0.115609</td>\n",
              "      <td>0.088787</td>\n",
              "      <td>-0.154795</td>\n",
              "      <td>-0.275540</td>\n",
              "      <td>0.064058</td>\n",
              "      <td>-0.155165</td>\n",
              "      <td>0.015133</td>\n",
              "      <td>0.008818</td>\n",
              "      <td>-0.178190</td>\n",
              "      <td>0.069323</td>\n",
              "      <td>0.056943</td>\n",
              "      <td>-0.007894</td>\n",
              "      <td>0.035091</td>\n",
              "      <td>0.004748</td>\n",
              "      <td>0.005742</td>\n",
              "      <td>0.004283</td>\n",
              "      <td>-0.000537</td>\n",
              "      <td>0.002308</td>\n",
              "      <td>-0.000051</td>\n",
              "      <td>-0.000483</td>\n",
              "      <td>-0.001212</td>\n",
              "      <td>-0.000659</td>\n",
              "      <td>0.000214</td>\n",
              "      <td>0.000673</td>\n",
              "      <td>0.000034</td>\n",
              "      <td>-0.000019</td>\n",
              "      <td>-1.012244e-05</td>\n",
              "      <td>-0.000002</td>\n",
              "      <td>1.099643e-17</td>\n",
              "    </tr>\n",
              "    <tr>\n",
              "      <th>2</th>\n",
              "      <td>1.730035</td>\n",
              "      <td>-0.559688</td>\n",
              "      <td>-0.083644</td>\n",
              "      <td>0.074427</td>\n",
              "      <td>-0.062983</td>\n",
              "      <td>0.018016</td>\n",
              "      <td>-0.060557</td>\n",
              "      <td>-0.029682</td>\n",
              "      <td>0.110748</td>\n",
              "      <td>-0.042880</td>\n",
              "      <td>-0.095699</td>\n",
              "      <td>0.035051</td>\n",
              "      <td>0.016367</td>\n",
              "      <td>0.028254</td>\n",
              "      <td>0.025794</td>\n",
              "      <td>-0.008829</td>\n",
              "      <td>-0.016795</td>\n",
              "      <td>-0.009805</td>\n",
              "      <td>-0.006691</td>\n",
              "      <td>0.011112</td>\n",
              "      <td>-0.002559</td>\n",
              "      <td>-0.049455</td>\n",
              "      <td>0.018049</td>\n",
              "      <td>0.005833</td>\n",
              "      <td>0.000053</td>\n",
              "      <td>0.000893</td>\n",
              "      <td>0.003837</td>\n",
              "      <td>0.001250</td>\n",
              "      <td>0.000104</td>\n",
              "      <td>0.000766</td>\n",
              "      <td>-0.000042</td>\n",
              "      <td>-0.000727</td>\n",
              "      <td>-0.000108</td>\n",
              "      <td>-0.000015</td>\n",
              "      <td>-0.000040</td>\n",
              "      <td>-0.000016</td>\n",
              "      <td>-0.000081</td>\n",
              "      <td>-0.000006</td>\n",
              "      <td>0.000004</td>\n",
              "      <td>5.134467e-07</td>\n",
              "      <td>0.000004</td>\n",
              "      <td>4.163820e-17</td>\n",
              "    </tr>\n",
              "    <tr>\n",
              "      <th>3</th>\n",
              "      <td>-1.012294</td>\n",
              "      <td>-0.477584</td>\n",
              "      <td>-0.223981</td>\n",
              "      <td>0.417013</td>\n",
              "      <td>-0.195976</td>\n",
              "      <td>-0.268309</td>\n",
              "      <td>0.066899</td>\n",
              "      <td>0.123135</td>\n",
              "      <td>0.059971</td>\n",
              "      <td>0.013308</td>\n",
              "      <td>0.045549</td>\n",
              "      <td>0.008524</td>\n",
              "      <td>-0.057806</td>\n",
              "      <td>0.000559</td>\n",
              "      <td>0.065084</td>\n",
              "      <td>-0.028309</td>\n",
              "      <td>0.049561</td>\n",
              "      <td>0.127100</td>\n",
              "      <td>-0.050662</td>\n",
              "      <td>0.003982</td>\n",
              "      <td>0.003672</td>\n",
              "      <td>-0.000636</td>\n",
              "      <td>-0.004593</td>\n",
              "      <td>-0.071792</td>\n",
              "      <td>-0.010979</td>\n",
              "      <td>0.019011</td>\n",
              "      <td>-0.010778</td>\n",
              "      <td>0.012576</td>\n",
              "      <td>0.000145</td>\n",
              "      <td>-0.000248</td>\n",
              "      <td>-0.001030</td>\n",
              "      <td>0.000185</td>\n",
              "      <td>0.000296</td>\n",
              "      <td>0.000078</td>\n",
              "      <td>0.000062</td>\n",
              "      <td>0.000581</td>\n",
              "      <td>0.000280</td>\n",
              "      <td>-0.000076</td>\n",
              "      <td>-0.000024</td>\n",
              "      <td>-1.872262e-06</td>\n",
              "      <td>-0.000002</td>\n",
              "      <td>-5.220283e-17</td>\n",
              "    </tr>\n",
              "    <tr>\n",
              "      <th>4</th>\n",
              "      <td>-1.002430</td>\n",
              "      <td>-0.347474</td>\n",
              "      <td>-0.500375</td>\n",
              "      <td>-0.228183</td>\n",
              "      <td>0.022351</td>\n",
              "      <td>0.162668</td>\n",
              "      <td>0.103342</td>\n",
              "      <td>-0.144793</td>\n",
              "      <td>0.027530</td>\n",
              "      <td>0.063156</td>\n",
              "      <td>-0.031413</td>\n",
              "      <td>0.015841</td>\n",
              "      <td>-0.013468</td>\n",
              "      <td>0.016299</td>\n",
              "      <td>-0.063706</td>\n",
              "      <td>0.027563</td>\n",
              "      <td>-0.008439</td>\n",
              "      <td>0.010717</td>\n",
              "      <td>0.009364</td>\n",
              "      <td>-0.006652</td>\n",
              "      <td>0.000444</td>\n",
              "      <td>-0.005027</td>\n",
              "      <td>0.004548</td>\n",
              "      <td>0.006820</td>\n",
              "      <td>-0.000173</td>\n",
              "      <td>0.001510</td>\n",
              "      <td>0.003748</td>\n",
              "      <td>-0.002281</td>\n",
              "      <td>-0.000019</td>\n",
              "      <td>-0.000959</td>\n",
              "      <td>-0.000108</td>\n",
              "      <td>0.000036</td>\n",
              "      <td>-0.000914</td>\n",
              "      <td>0.000192</td>\n",
              "      <td>0.000077</td>\n",
              "      <td>-0.000009</td>\n",
              "      <td>-0.000009</td>\n",
              "      <td>0.000062</td>\n",
              "      <td>0.000077</td>\n",
              "      <td>4.686759e-06</td>\n",
              "      <td>0.000006</td>\n",
              "      <td>-5.195947e-19</td>\n",
              "    </tr>\n",
              "  </tbody>\n",
              "</table>\n",
              "</div>"
            ],
            "text/plain": [
              "   column 0  column 1  column 2  ...     column 39  column 40     column 41\n",
              "0 -0.220263  0.117158  0.551728  ...  1.729124e-05  -0.000013 -9.125242e-18\n",
              "1  0.283156  0.374941  0.763011  ... -1.012244e-05  -0.000002  1.099643e-17\n",
              "2  1.730035 -0.559688 -0.083644  ...  5.134467e-07   0.000004  4.163820e-17\n",
              "3 -1.012294 -0.477584 -0.223981  ... -1.872262e-06  -0.000002 -5.220283e-17\n",
              "4 -1.002430 -0.347474 -0.500375  ...  4.686759e-06   0.000006 -5.195947e-19\n",
              "\n",
              "[5 rows x 42 columns]"
            ]
          },
          "metadata": {
            "tags": []
          },
          "execution_count": 26
        }
      ]
    },
    {
      "cell_type": "code",
      "metadata": {
        "id": "3W6xWy1tQt0a",
        "colab_type": "code",
        "outputId": "2be50e57-dc67-413d-ff2e-4e5c2b0c56ee",
        "colab": {
          "base_uri": "https://localhost:8080/",
          "height": 34
        }
      },
      "source": [
        "df.shape"
      ],
      "execution_count": 27,
      "outputs": [
        {
          "output_type": "execute_result",
          "data": {
            "text/plain": [
              "(173708, 42)"
            ]
          },
          "metadata": {
            "tags": []
          },
          "execution_count": 27
        }
      ]
    },
    {
      "cell_type": "code",
      "metadata": {
        "id": "Zs54IzFURR_5",
        "colab_type": "code",
        "outputId": "d56556ea-4fb2-4cd3-e54c-96c81ad57b51",
        "colab": {
          "base_uri": "https://localhost:8080/",
          "height": 34
        }
      },
      "source": [
        "data_attack = data_all['type_attack']\n",
        "data_attack.shape"
      ],
      "execution_count": 28,
      "outputs": [
        {
          "output_type": "execute_result",
          "data": {
            "text/plain": [
              "(173708,)"
            ]
          },
          "metadata": {
            "tags": []
          },
          "execution_count": 28
        }
      ]
    },
    {
      "cell_type": "code",
      "metadata": {
        "id": "vVUYzeAARf4F",
        "colab_type": "code",
        "outputId": "790c0559-fa7e-436d-a957-7b8b08409f00",
        "colab": {
          "base_uri": "https://localhost:8080/",
          "height": 326
        }
      },
      "source": [
        "data_all2 = pd.concat([df, data_attack], axis=1)\n",
        "data_all2.head()"
      ],
      "execution_count": 29,
      "outputs": [
        {
          "output_type": "execute_result",
          "data": {
            "text/html": [
              "<div>\n",
              "<style scoped>\n",
              "    .dataframe tbody tr th:only-of-type {\n",
              "        vertical-align: middle;\n",
              "    }\n",
              "\n",
              "    .dataframe tbody tr th {\n",
              "        vertical-align: top;\n",
              "    }\n",
              "\n",
              "    .dataframe thead th {\n",
              "        text-align: right;\n",
              "    }\n",
              "</style>\n",
              "<table border=\"1\" class=\"dataframe\">\n",
              "  <thead>\n",
              "    <tr style=\"text-align: right;\">\n",
              "      <th></th>\n",
              "      <th>column 0</th>\n",
              "      <th>column 1</th>\n",
              "      <th>column 2</th>\n",
              "      <th>column 3</th>\n",
              "      <th>column 4</th>\n",
              "      <th>column 5</th>\n",
              "      <th>column 6</th>\n",
              "      <th>column 7</th>\n",
              "      <th>column 8</th>\n",
              "      <th>column 9</th>\n",
              "      <th>column 10</th>\n",
              "      <th>column 11</th>\n",
              "      <th>column 12</th>\n",
              "      <th>column 13</th>\n",
              "      <th>column 14</th>\n",
              "      <th>column 15</th>\n",
              "      <th>column 16</th>\n",
              "      <th>column 17</th>\n",
              "      <th>column 18</th>\n",
              "      <th>column 19</th>\n",
              "      <th>column 20</th>\n",
              "      <th>column 21</th>\n",
              "      <th>column 22</th>\n",
              "      <th>column 23</th>\n",
              "      <th>column 24</th>\n",
              "      <th>column 25</th>\n",
              "      <th>column 26</th>\n",
              "      <th>column 27</th>\n",
              "      <th>column 28</th>\n",
              "      <th>column 29</th>\n",
              "      <th>column 30</th>\n",
              "      <th>column 31</th>\n",
              "      <th>column 32</th>\n",
              "      <th>column 33</th>\n",
              "      <th>column 34</th>\n",
              "      <th>column 35</th>\n",
              "      <th>column 36</th>\n",
              "      <th>column 37</th>\n",
              "      <th>column 38</th>\n",
              "      <th>column 39</th>\n",
              "      <th>column 40</th>\n",
              "      <th>column 41</th>\n",
              "      <th>type_attack</th>\n",
              "    </tr>\n",
              "  </thead>\n",
              "  <tbody>\n",
              "    <tr>\n",
              "      <th>0</th>\n",
              "      <td>-0.220263</td>\n",
              "      <td>0.117158</td>\n",
              "      <td>0.551728</td>\n",
              "      <td>-0.220319</td>\n",
              "      <td>0.398608</td>\n",
              "      <td>-0.221070</td>\n",
              "      <td>-0.213131</td>\n",
              "      <td>0.009363</td>\n",
              "      <td>-0.470655</td>\n",
              "      <td>-0.053478</td>\n",
              "      <td>-0.030418</td>\n",
              "      <td>0.174920</td>\n",
              "      <td>-0.227275</td>\n",
              "      <td>-0.083463</td>\n",
              "      <td>0.003182</td>\n",
              "      <td>-0.009925</td>\n",
              "      <td>0.081712</td>\n",
              "      <td>-0.020905</td>\n",
              "      <td>-0.075399</td>\n",
              "      <td>-0.036697</td>\n",
              "      <td>0.008401</td>\n",
              "      <td>0.083407</td>\n",
              "      <td>-0.044415</td>\n",
              "      <td>-0.004790</td>\n",
              "      <td>-0.001110</td>\n",
              "      <td>-0.012266</td>\n",
              "      <td>-0.019738</td>\n",
              "      <td>-0.001655</td>\n",
              "      <td>-0.001751</td>\n",
              "      <td>0.003431</td>\n",
              "      <td>0.003058</td>\n",
              "      <td>-0.004125</td>\n",
              "      <td>-0.000117</td>\n",
              "      <td>0.000086</td>\n",
              "      <td>0.000089</td>\n",
              "      <td>-0.000254</td>\n",
              "      <td>0.000107</td>\n",
              "      <td>-0.000090</td>\n",
              "      <td>-0.000057</td>\n",
              "      <td>1.729124e-05</td>\n",
              "      <td>-0.000013</td>\n",
              "      <td>-9.125242e-18</td>\n",
              "      <td>normal</td>\n",
              "    </tr>\n",
              "    <tr>\n",
              "      <th>1</th>\n",
              "      <td>0.283156</td>\n",
              "      <td>0.374941</td>\n",
              "      <td>0.763011</td>\n",
              "      <td>-0.568851</td>\n",
              "      <td>0.879016</td>\n",
              "      <td>-0.059989</td>\n",
              "      <td>0.040570</td>\n",
              "      <td>0.248593</td>\n",
              "      <td>0.326108</td>\n",
              "      <td>0.228155</td>\n",
              "      <td>-0.409901</td>\n",
              "      <td>-0.355404</td>\n",
              "      <td>-0.021435</td>\n",
              "      <td>0.115609</td>\n",
              "      <td>0.088787</td>\n",
              "      <td>-0.154795</td>\n",
              "      <td>-0.275540</td>\n",
              "      <td>0.064058</td>\n",
              "      <td>-0.155165</td>\n",
              "      <td>0.015133</td>\n",
              "      <td>0.008818</td>\n",
              "      <td>-0.178190</td>\n",
              "      <td>0.069323</td>\n",
              "      <td>0.056943</td>\n",
              "      <td>-0.007894</td>\n",
              "      <td>0.035091</td>\n",
              "      <td>0.004748</td>\n",
              "      <td>0.005742</td>\n",
              "      <td>0.004283</td>\n",
              "      <td>-0.000537</td>\n",
              "      <td>0.002308</td>\n",
              "      <td>-0.000051</td>\n",
              "      <td>-0.000483</td>\n",
              "      <td>-0.001212</td>\n",
              "      <td>-0.000659</td>\n",
              "      <td>0.000214</td>\n",
              "      <td>0.000673</td>\n",
              "      <td>0.000034</td>\n",
              "      <td>-0.000019</td>\n",
              "      <td>-1.012244e-05</td>\n",
              "      <td>-0.000002</td>\n",
              "      <td>1.099643e-17</td>\n",
              "      <td>normal</td>\n",
              "    </tr>\n",
              "    <tr>\n",
              "      <th>2</th>\n",
              "      <td>1.730035</td>\n",
              "      <td>-0.559688</td>\n",
              "      <td>-0.083644</td>\n",
              "      <td>0.074427</td>\n",
              "      <td>-0.062983</td>\n",
              "      <td>0.018016</td>\n",
              "      <td>-0.060557</td>\n",
              "      <td>-0.029682</td>\n",
              "      <td>0.110748</td>\n",
              "      <td>-0.042880</td>\n",
              "      <td>-0.095699</td>\n",
              "      <td>0.035051</td>\n",
              "      <td>0.016367</td>\n",
              "      <td>0.028254</td>\n",
              "      <td>0.025794</td>\n",
              "      <td>-0.008829</td>\n",
              "      <td>-0.016795</td>\n",
              "      <td>-0.009805</td>\n",
              "      <td>-0.006691</td>\n",
              "      <td>0.011112</td>\n",
              "      <td>-0.002559</td>\n",
              "      <td>-0.049455</td>\n",
              "      <td>0.018049</td>\n",
              "      <td>0.005833</td>\n",
              "      <td>0.000053</td>\n",
              "      <td>0.000893</td>\n",
              "      <td>0.003837</td>\n",
              "      <td>0.001250</td>\n",
              "      <td>0.000104</td>\n",
              "      <td>0.000766</td>\n",
              "      <td>-0.000042</td>\n",
              "      <td>-0.000727</td>\n",
              "      <td>-0.000108</td>\n",
              "      <td>-0.000015</td>\n",
              "      <td>-0.000040</td>\n",
              "      <td>-0.000016</td>\n",
              "      <td>-0.000081</td>\n",
              "      <td>-0.000006</td>\n",
              "      <td>0.000004</td>\n",
              "      <td>5.134467e-07</td>\n",
              "      <td>0.000004</td>\n",
              "      <td>4.163820e-17</td>\n",
              "      <td>dos</td>\n",
              "    </tr>\n",
              "    <tr>\n",
              "      <th>3</th>\n",
              "      <td>-1.012294</td>\n",
              "      <td>-0.477584</td>\n",
              "      <td>-0.223981</td>\n",
              "      <td>0.417013</td>\n",
              "      <td>-0.195976</td>\n",
              "      <td>-0.268309</td>\n",
              "      <td>0.066899</td>\n",
              "      <td>0.123135</td>\n",
              "      <td>0.059971</td>\n",
              "      <td>0.013308</td>\n",
              "      <td>0.045549</td>\n",
              "      <td>0.008524</td>\n",
              "      <td>-0.057806</td>\n",
              "      <td>0.000559</td>\n",
              "      <td>0.065084</td>\n",
              "      <td>-0.028309</td>\n",
              "      <td>0.049561</td>\n",
              "      <td>0.127100</td>\n",
              "      <td>-0.050662</td>\n",
              "      <td>0.003982</td>\n",
              "      <td>0.003672</td>\n",
              "      <td>-0.000636</td>\n",
              "      <td>-0.004593</td>\n",
              "      <td>-0.071792</td>\n",
              "      <td>-0.010979</td>\n",
              "      <td>0.019011</td>\n",
              "      <td>-0.010778</td>\n",
              "      <td>0.012576</td>\n",
              "      <td>0.000145</td>\n",
              "      <td>-0.000248</td>\n",
              "      <td>-0.001030</td>\n",
              "      <td>0.000185</td>\n",
              "      <td>0.000296</td>\n",
              "      <td>0.000078</td>\n",
              "      <td>0.000062</td>\n",
              "      <td>0.000581</td>\n",
              "      <td>0.000280</td>\n",
              "      <td>-0.000076</td>\n",
              "      <td>-0.000024</td>\n",
              "      <td>-1.872262e-06</td>\n",
              "      <td>-0.000002</td>\n",
              "      <td>-5.220283e-17</td>\n",
              "      <td>normal</td>\n",
              "    </tr>\n",
              "    <tr>\n",
              "      <th>4</th>\n",
              "      <td>-1.002430</td>\n",
              "      <td>-0.347474</td>\n",
              "      <td>-0.500375</td>\n",
              "      <td>-0.228183</td>\n",
              "      <td>0.022351</td>\n",
              "      <td>0.162668</td>\n",
              "      <td>0.103342</td>\n",
              "      <td>-0.144793</td>\n",
              "      <td>0.027530</td>\n",
              "      <td>0.063156</td>\n",
              "      <td>-0.031413</td>\n",
              "      <td>0.015841</td>\n",
              "      <td>-0.013468</td>\n",
              "      <td>0.016299</td>\n",
              "      <td>-0.063706</td>\n",
              "      <td>0.027563</td>\n",
              "      <td>-0.008439</td>\n",
              "      <td>0.010717</td>\n",
              "      <td>0.009364</td>\n",
              "      <td>-0.006652</td>\n",
              "      <td>0.000444</td>\n",
              "      <td>-0.005027</td>\n",
              "      <td>0.004548</td>\n",
              "      <td>0.006820</td>\n",
              "      <td>-0.000173</td>\n",
              "      <td>0.001510</td>\n",
              "      <td>0.003748</td>\n",
              "      <td>-0.002281</td>\n",
              "      <td>-0.000019</td>\n",
              "      <td>-0.000959</td>\n",
              "      <td>-0.000108</td>\n",
              "      <td>0.000036</td>\n",
              "      <td>-0.000914</td>\n",
              "      <td>0.000192</td>\n",
              "      <td>0.000077</td>\n",
              "      <td>-0.000009</td>\n",
              "      <td>-0.000009</td>\n",
              "      <td>0.000062</td>\n",
              "      <td>0.000077</td>\n",
              "      <td>4.686759e-06</td>\n",
              "      <td>0.000006</td>\n",
              "      <td>-5.195947e-19</td>\n",
              "      <td>normal</td>\n",
              "    </tr>\n",
              "  </tbody>\n",
              "</table>\n",
              "</div>"
            ],
            "text/plain": [
              "   column 0  column 1  column 2  ...  column 40     column 41  type_attack\n",
              "0 -0.220263  0.117158  0.551728  ...  -0.000013 -9.125242e-18       normal\n",
              "1  0.283156  0.374941  0.763011  ...  -0.000002  1.099643e-17       normal\n",
              "2  1.730035 -0.559688 -0.083644  ...   0.000004  4.163820e-17          dos\n",
              "3 -1.012294 -0.477584 -0.223981  ...  -0.000002 -5.220283e-17       normal\n",
              "4 -1.002430 -0.347474 -0.500375  ...   0.000006 -5.195947e-19       normal\n",
              "\n",
              "[5 rows x 43 columns]"
            ]
          },
          "metadata": {
            "tags": []
          },
          "execution_count": 29
        }
      ]
    },
    {
      "cell_type": "code",
      "metadata": {
        "id": "TxjC4IR6Rs2O",
        "colab_type": "code",
        "outputId": "2fe1f64d-065f-4d36-ad13-8c0abd76140b",
        "colab": {
          "base_uri": "https://localhost:8080/",
          "height": 34
        }
      },
      "source": [
        "data_all2.shape"
      ],
      "execution_count": 30,
      "outputs": [
        {
          "output_type": "execute_result",
          "data": {
            "text/plain": [
              "(173708, 43)"
            ]
          },
          "metadata": {
            "tags": []
          },
          "execution_count": 30
        }
      ]
    },
    {
      "cell_type": "code",
      "metadata": {
        "id": "zyABNY_6o0di",
        "colab_type": "code",
        "outputId": "b576fe85-7381-4500-a3e9-f809a96ee57f",
        "colab": {
          "base_uri": "https://localhost:8080/",
          "height": 748
        }
      },
      "source": [
        "data_all2.mean()\n",
        "# column 2,3,6,11,12,13,16,17,19,25,26,27,28,29,31,32,35,40\n",
        "\n",
        "# 5 terbaik = column 12 13 16 26 27"
      ],
      "execution_count": 31,
      "outputs": [
        {
          "output_type": "execute_result",
          "data": {
            "text/plain": [
              "column 0    -7.532232e-17\n",
              "column 1    -3.286364e-16\n",
              "column 2     4.575457e-17\n",
              "column 3     2.663694e-17\n",
              "column 4    -3.315967e-17\n",
              "column 5     3.974121e-18\n",
              "column 6    -1.190223e-17\n",
              "column 7    -2.073312e-17\n",
              "column 8    -1.487196e-17\n",
              "column 9    -2.520672e-17\n",
              "column 10   -6.468373e-17\n",
              "column 11    3.138457e-17\n",
              "column 12    1.079193e-16\n",
              "column 13    1.365729e-17\n",
              "column 14   -1.147897e-17\n",
              "column 15   -1.421525e-17\n",
              "column 16    2.102009e-17\n",
              "column 17    6.922412e-17\n",
              "column 18   -2.582436e-17\n",
              "column 19    8.157718e-19\n",
              "column 20   -2.161314e-17\n",
              "column 21   -7.697082e-17\n",
              "column 22   -5.745643e-17\n",
              "column 23   -3.999695e-17\n",
              "column 24   -1.446844e-17\n",
              "column 25    5.756749e-17\n",
              "column 26    2.151973e-17\n",
              "column 27    2.140984e-17\n",
              "column 28    3.647383e-19\n",
              "column 29    1.478337e-18\n",
              "column 30   -1.520502e-18\n",
              "column 31    6.350423e-19\n",
              "column 32    2.612359e-19\n",
              "column 33   -1.215981e-19\n",
              "column 34   -2.920096e-20\n",
              "column 35    6.463336e-19\n",
              "column 36   -9.048310e-20\n",
              "column 37   -7.020463e-21\n",
              "column 38    2.303480e-20\n",
              "column 39   -9.287449e-20\n",
              "column 40    8.264379e-21\n",
              "column 41    2.029468e-19\n",
              "dtype: float64"
            ]
          },
          "metadata": {
            "tags": []
          },
          "execution_count": 31
        }
      ]
    },
    {
      "cell_type": "code",
      "metadata": {
        "id": "gHwk_l6jSA00",
        "colab_type": "code",
        "colab": {}
      },
      "source": [
        "X = data_all2.loc[:, :'column 40']\n",
        "y = data_all2.loc[:, 'type_attack']"
      ],
      "execution_count": 0,
      "outputs": []
    },
    {
      "cell_type": "code",
      "metadata": {
        "id": "O5S2GcI4SMXS",
        "colab_type": "code",
        "colab": {}
      },
      "source": [
        "y = y.astype(str)\n",
        "\n",
        "temp = set(y)"
      ],
      "execution_count": 0,
      "outputs": []
    },
    {
      "cell_type": "code",
      "metadata": {
        "id": "DF2mOcr4SOmR",
        "colab_type": "code",
        "colab": {}
      },
      "source": [
        "X_train, X_test, y_train, y_test = train_test_split(X, y, test_size=0.3, train_size =0.7, random_state=5)"
      ],
      "execution_count": 0,
      "outputs": []
    },
    {
      "cell_type": "code",
      "metadata": {
        "id": "EAqCLvH0SUJJ",
        "colab_type": "code",
        "colab": {}
      },
      "source": [
        "clf = MLPClassifier(random_state = 5)"
      ],
      "execution_count": 0,
      "outputs": []
    },
    {
      "cell_type": "code",
      "metadata": {
        "id": "keJGz0zUSWb4",
        "colab_type": "code",
        "colab": {}
      },
      "source": [
        "start = time.time()"
      ],
      "execution_count": 0,
      "outputs": []
    },
    {
      "cell_type": "code",
      "metadata": {
        "id": "A0r7v4k5SYT9",
        "colab_type": "code",
        "outputId": "157b865c-7c1e-471a-fab4-9f41728b8d3a",
        "colab": {
          "base_uri": "https://localhost:8080/",
          "height": 136
        }
      },
      "source": [
        "clf.fit(X_train, y_train)"
      ],
      "execution_count": 37,
      "outputs": [
        {
          "output_type": "execute_result",
          "data": {
            "text/plain": [
              "MLPClassifier(activation='relu', alpha=0.0001, batch_size='auto', beta_1=0.9,\n",
              "              beta_2=0.999, early_stopping=False, epsilon=1e-08,\n",
              "              hidden_layer_sizes=(100,), learning_rate='constant',\n",
              "              learning_rate_init=0.001, max_iter=200, momentum=0.9,\n",
              "              n_iter_no_change=10, nesterovs_momentum=True, power_t=0.5,\n",
              "              random_state=5, shuffle=True, solver='adam', tol=0.0001,\n",
              "              validation_fraction=0.1, verbose=False, warm_start=False)"
            ]
          },
          "metadata": {
            "tags": []
          },
          "execution_count": 37
        }
      ]
    },
    {
      "cell_type": "code",
      "metadata": {
        "id": "ciUdfl5ISZ6A",
        "colab_type": "code",
        "outputId": "d979efea-d5b4-4dc4-8d5d-b6772ee82bdf",
        "colab": {
          "base_uri": "https://localhost:8080/",
          "height": 34
        }
      },
      "source": [
        "stop = time.time()\n",
        "print(f\"training time : {stop - start}s\")"
      ],
      "execution_count": 38,
      "outputs": [
        {
          "output_type": "stream",
          "text": [
            "training time : 87.17526507377625s\n"
          ],
          "name": "stdout"
        }
      ]
    },
    {
      "cell_type": "code",
      "metadata": {
        "id": "K7of0nMVSdct",
        "colab_type": "code",
        "outputId": "60ea8ab1-a9eb-4ce7-91a1-190b4b7781a3",
        "colab": {
          "base_uri": "https://localhost:8080/",
          "height": 34
        }
      },
      "source": [
        "pred = clf.predict(X_test)\n",
        "\n",
        "accuracy_score(y_test,pred)"
      ],
      "execution_count": 39,
      "outputs": [
        {
          "output_type": "execute_result",
          "data": {
            "text/plain": [
              "0.9968721816053576"
            ]
          },
          "metadata": {
            "tags": []
          },
          "execution_count": 39
        }
      ]
    },
    {
      "cell_type": "code",
      "metadata": {
        "id": "2X6QpGbnskXp",
        "colab_type": "code",
        "colab": {}
      },
      "source": [
        "clf = MLPClassifier(random_state = 5, max_iter=300)\n",
        "\n",
        "scoring = {'accuracy': make_scorer(accuracy_score)}"
      ],
      "execution_count": 0,
      "outputs": []
    },
    {
      "cell_type": "code",
      "metadata": {
        "id": "MqtwXg8msX__",
        "colab_type": "code",
        "colab": {}
      },
      "source": [
        "start = time.time()"
      ],
      "execution_count": 0,
      "outputs": []
    },
    {
      "cell_type": "code",
      "metadata": {
        "id": "wMxo0qm-saUM",
        "colab_type": "code",
        "colab": {}
      },
      "source": [
        "cv = ShuffleSplit(n_splits=3, test_size=0.3,train_size = 0.7, random_state=5)\n",
        "scores = cross_validate(clf, X, y, cv=cv, scoring=scoring, return_train_score=True)"
      ],
      "execution_count": 0,
      "outputs": []
    },
    {
      "cell_type": "code",
      "metadata": {
        "id": "HKyPhbY6sZql",
        "colab_type": "code",
        "colab": {
          "base_uri": "https://localhost:8080/",
          "height": 34
        },
        "outputId": "4777bf70-8f63-455d-86aa-5b6fcc3d46bb"
      },
      "source": [
        "stop = time.time()\n",
        "print(f\"Cross Validation time : {stop - start}s\")"
      ],
      "execution_count": 43,
      "outputs": [
        {
          "output_type": "stream",
          "text": [
            "Cross Validation time : 211.93347668647766s\n"
          ],
          "name": "stdout"
        }
      ]
    },
    {
      "cell_type": "code",
      "metadata": {
        "id": "5-egN2xMsdHr",
        "colab_type": "code",
        "colab": {
          "base_uri": "https://localhost:8080/",
          "height": 54
        },
        "outputId": "9f13d0ff-bd80-44e6-a17d-86ca1c95e192"
      },
      "source": [
        "print(scores)"
      ],
      "execution_count": 44,
      "outputs": [
        {
          "output_type": "stream",
          "text": [
            "{'fit_time': array([87.18795848, 54.13334179, 68.98507214]), 'score_time': array([0.17235327, 0.17238808, 0.16806602]), 'test_accuracy': array([0.99687218, 0.99731353, 0.9966611 ]), 'train_accuracy': array([0.99840454, 0.99833052, 0.99833875])}\n"
          ],
          "name": "stdout"
        }
      ]
    },
    {
      "cell_type": "markdown",
      "metadata": {
        "id": "VAUbZOLcpedk",
        "colab_type": "text"
      },
      "source": [
        "# Take 18"
      ]
    },
    {
      "cell_type": "code",
      "metadata": {
        "id": "vMpV7yw1pgeb",
        "colab_type": "code",
        "outputId": "88905744-7e4f-497f-91c7-d112ffd26afa",
        "colab": {
          "base_uri": "https://localhost:8080/",
          "height": 326
        }
      },
      "source": [
        "# column 2,3,6,11,12,13,16,17,19,25,26,27,28,29,31,32,35,40\n",
        "data_all2.head(5)"
      ],
      "execution_count": 45,
      "outputs": [
        {
          "output_type": "execute_result",
          "data": {
            "text/html": [
              "<div>\n",
              "<style scoped>\n",
              "    .dataframe tbody tr th:only-of-type {\n",
              "        vertical-align: middle;\n",
              "    }\n",
              "\n",
              "    .dataframe tbody tr th {\n",
              "        vertical-align: top;\n",
              "    }\n",
              "\n",
              "    .dataframe thead th {\n",
              "        text-align: right;\n",
              "    }\n",
              "</style>\n",
              "<table border=\"1\" class=\"dataframe\">\n",
              "  <thead>\n",
              "    <tr style=\"text-align: right;\">\n",
              "      <th></th>\n",
              "      <th>column 0</th>\n",
              "      <th>column 1</th>\n",
              "      <th>column 2</th>\n",
              "      <th>column 3</th>\n",
              "      <th>column 4</th>\n",
              "      <th>column 5</th>\n",
              "      <th>column 6</th>\n",
              "      <th>column 7</th>\n",
              "      <th>column 8</th>\n",
              "      <th>column 9</th>\n",
              "      <th>column 10</th>\n",
              "      <th>column 11</th>\n",
              "      <th>column 12</th>\n",
              "      <th>column 13</th>\n",
              "      <th>column 14</th>\n",
              "      <th>column 15</th>\n",
              "      <th>column 16</th>\n",
              "      <th>column 17</th>\n",
              "      <th>column 18</th>\n",
              "      <th>column 19</th>\n",
              "      <th>column 20</th>\n",
              "      <th>column 21</th>\n",
              "      <th>column 22</th>\n",
              "      <th>column 23</th>\n",
              "      <th>column 24</th>\n",
              "      <th>column 25</th>\n",
              "      <th>column 26</th>\n",
              "      <th>column 27</th>\n",
              "      <th>column 28</th>\n",
              "      <th>column 29</th>\n",
              "      <th>column 30</th>\n",
              "      <th>column 31</th>\n",
              "      <th>column 32</th>\n",
              "      <th>column 33</th>\n",
              "      <th>column 34</th>\n",
              "      <th>column 35</th>\n",
              "      <th>column 36</th>\n",
              "      <th>column 37</th>\n",
              "      <th>column 38</th>\n",
              "      <th>column 39</th>\n",
              "      <th>column 40</th>\n",
              "      <th>column 41</th>\n",
              "      <th>type_attack</th>\n",
              "    </tr>\n",
              "  </thead>\n",
              "  <tbody>\n",
              "    <tr>\n",
              "      <th>0</th>\n",
              "      <td>-0.220263</td>\n",
              "      <td>0.117158</td>\n",
              "      <td>0.551728</td>\n",
              "      <td>-0.220319</td>\n",
              "      <td>0.398608</td>\n",
              "      <td>-0.221070</td>\n",
              "      <td>-0.213131</td>\n",
              "      <td>0.009363</td>\n",
              "      <td>-0.470655</td>\n",
              "      <td>-0.053478</td>\n",
              "      <td>-0.030418</td>\n",
              "      <td>0.174920</td>\n",
              "      <td>-0.227275</td>\n",
              "      <td>-0.083463</td>\n",
              "      <td>0.003182</td>\n",
              "      <td>-0.009925</td>\n",
              "      <td>0.081712</td>\n",
              "      <td>-0.020905</td>\n",
              "      <td>-0.075399</td>\n",
              "      <td>-0.036697</td>\n",
              "      <td>0.008401</td>\n",
              "      <td>0.083407</td>\n",
              "      <td>-0.044415</td>\n",
              "      <td>-0.004790</td>\n",
              "      <td>-0.001110</td>\n",
              "      <td>-0.012266</td>\n",
              "      <td>-0.019738</td>\n",
              "      <td>-0.001655</td>\n",
              "      <td>-0.001751</td>\n",
              "      <td>0.003431</td>\n",
              "      <td>0.003058</td>\n",
              "      <td>-0.004125</td>\n",
              "      <td>-0.000117</td>\n",
              "      <td>0.000086</td>\n",
              "      <td>0.000089</td>\n",
              "      <td>-0.000254</td>\n",
              "      <td>0.000107</td>\n",
              "      <td>-0.000090</td>\n",
              "      <td>-0.000057</td>\n",
              "      <td>1.729124e-05</td>\n",
              "      <td>-0.000013</td>\n",
              "      <td>-9.125242e-18</td>\n",
              "      <td>normal</td>\n",
              "    </tr>\n",
              "    <tr>\n",
              "      <th>1</th>\n",
              "      <td>0.283156</td>\n",
              "      <td>0.374941</td>\n",
              "      <td>0.763011</td>\n",
              "      <td>-0.568851</td>\n",
              "      <td>0.879016</td>\n",
              "      <td>-0.059989</td>\n",
              "      <td>0.040570</td>\n",
              "      <td>0.248593</td>\n",
              "      <td>0.326108</td>\n",
              "      <td>0.228155</td>\n",
              "      <td>-0.409901</td>\n",
              "      <td>-0.355404</td>\n",
              "      <td>-0.021435</td>\n",
              "      <td>0.115609</td>\n",
              "      <td>0.088787</td>\n",
              "      <td>-0.154795</td>\n",
              "      <td>-0.275540</td>\n",
              "      <td>0.064058</td>\n",
              "      <td>-0.155165</td>\n",
              "      <td>0.015133</td>\n",
              "      <td>0.008818</td>\n",
              "      <td>-0.178190</td>\n",
              "      <td>0.069323</td>\n",
              "      <td>0.056943</td>\n",
              "      <td>-0.007894</td>\n",
              "      <td>0.035091</td>\n",
              "      <td>0.004748</td>\n",
              "      <td>0.005742</td>\n",
              "      <td>0.004283</td>\n",
              "      <td>-0.000537</td>\n",
              "      <td>0.002308</td>\n",
              "      <td>-0.000051</td>\n",
              "      <td>-0.000483</td>\n",
              "      <td>-0.001212</td>\n",
              "      <td>-0.000659</td>\n",
              "      <td>0.000214</td>\n",
              "      <td>0.000673</td>\n",
              "      <td>0.000034</td>\n",
              "      <td>-0.000019</td>\n",
              "      <td>-1.012244e-05</td>\n",
              "      <td>-0.000002</td>\n",
              "      <td>1.099643e-17</td>\n",
              "      <td>normal</td>\n",
              "    </tr>\n",
              "    <tr>\n",
              "      <th>2</th>\n",
              "      <td>1.730035</td>\n",
              "      <td>-0.559688</td>\n",
              "      <td>-0.083644</td>\n",
              "      <td>0.074427</td>\n",
              "      <td>-0.062983</td>\n",
              "      <td>0.018016</td>\n",
              "      <td>-0.060557</td>\n",
              "      <td>-0.029682</td>\n",
              "      <td>0.110748</td>\n",
              "      <td>-0.042880</td>\n",
              "      <td>-0.095699</td>\n",
              "      <td>0.035051</td>\n",
              "      <td>0.016367</td>\n",
              "      <td>0.028254</td>\n",
              "      <td>0.025794</td>\n",
              "      <td>-0.008829</td>\n",
              "      <td>-0.016795</td>\n",
              "      <td>-0.009805</td>\n",
              "      <td>-0.006691</td>\n",
              "      <td>0.011112</td>\n",
              "      <td>-0.002559</td>\n",
              "      <td>-0.049455</td>\n",
              "      <td>0.018049</td>\n",
              "      <td>0.005833</td>\n",
              "      <td>0.000053</td>\n",
              "      <td>0.000893</td>\n",
              "      <td>0.003837</td>\n",
              "      <td>0.001250</td>\n",
              "      <td>0.000104</td>\n",
              "      <td>0.000766</td>\n",
              "      <td>-0.000042</td>\n",
              "      <td>-0.000727</td>\n",
              "      <td>-0.000108</td>\n",
              "      <td>-0.000015</td>\n",
              "      <td>-0.000040</td>\n",
              "      <td>-0.000016</td>\n",
              "      <td>-0.000081</td>\n",
              "      <td>-0.000006</td>\n",
              "      <td>0.000004</td>\n",
              "      <td>5.134467e-07</td>\n",
              "      <td>0.000004</td>\n",
              "      <td>4.163820e-17</td>\n",
              "      <td>dos</td>\n",
              "    </tr>\n",
              "    <tr>\n",
              "      <th>3</th>\n",
              "      <td>-1.012294</td>\n",
              "      <td>-0.477584</td>\n",
              "      <td>-0.223981</td>\n",
              "      <td>0.417013</td>\n",
              "      <td>-0.195976</td>\n",
              "      <td>-0.268309</td>\n",
              "      <td>0.066899</td>\n",
              "      <td>0.123135</td>\n",
              "      <td>0.059971</td>\n",
              "      <td>0.013308</td>\n",
              "      <td>0.045549</td>\n",
              "      <td>0.008524</td>\n",
              "      <td>-0.057806</td>\n",
              "      <td>0.000559</td>\n",
              "      <td>0.065084</td>\n",
              "      <td>-0.028309</td>\n",
              "      <td>0.049561</td>\n",
              "      <td>0.127100</td>\n",
              "      <td>-0.050662</td>\n",
              "      <td>0.003982</td>\n",
              "      <td>0.003672</td>\n",
              "      <td>-0.000636</td>\n",
              "      <td>-0.004593</td>\n",
              "      <td>-0.071792</td>\n",
              "      <td>-0.010979</td>\n",
              "      <td>0.019011</td>\n",
              "      <td>-0.010778</td>\n",
              "      <td>0.012576</td>\n",
              "      <td>0.000145</td>\n",
              "      <td>-0.000248</td>\n",
              "      <td>-0.001030</td>\n",
              "      <td>0.000185</td>\n",
              "      <td>0.000296</td>\n",
              "      <td>0.000078</td>\n",
              "      <td>0.000062</td>\n",
              "      <td>0.000581</td>\n",
              "      <td>0.000280</td>\n",
              "      <td>-0.000076</td>\n",
              "      <td>-0.000024</td>\n",
              "      <td>-1.872262e-06</td>\n",
              "      <td>-0.000002</td>\n",
              "      <td>-5.220283e-17</td>\n",
              "      <td>normal</td>\n",
              "    </tr>\n",
              "    <tr>\n",
              "      <th>4</th>\n",
              "      <td>-1.002430</td>\n",
              "      <td>-0.347474</td>\n",
              "      <td>-0.500375</td>\n",
              "      <td>-0.228183</td>\n",
              "      <td>0.022351</td>\n",
              "      <td>0.162668</td>\n",
              "      <td>0.103342</td>\n",
              "      <td>-0.144793</td>\n",
              "      <td>0.027530</td>\n",
              "      <td>0.063156</td>\n",
              "      <td>-0.031413</td>\n",
              "      <td>0.015841</td>\n",
              "      <td>-0.013468</td>\n",
              "      <td>0.016299</td>\n",
              "      <td>-0.063706</td>\n",
              "      <td>0.027563</td>\n",
              "      <td>-0.008439</td>\n",
              "      <td>0.010717</td>\n",
              "      <td>0.009364</td>\n",
              "      <td>-0.006652</td>\n",
              "      <td>0.000444</td>\n",
              "      <td>-0.005027</td>\n",
              "      <td>0.004548</td>\n",
              "      <td>0.006820</td>\n",
              "      <td>-0.000173</td>\n",
              "      <td>0.001510</td>\n",
              "      <td>0.003748</td>\n",
              "      <td>-0.002281</td>\n",
              "      <td>-0.000019</td>\n",
              "      <td>-0.000959</td>\n",
              "      <td>-0.000108</td>\n",
              "      <td>0.000036</td>\n",
              "      <td>-0.000914</td>\n",
              "      <td>0.000192</td>\n",
              "      <td>0.000077</td>\n",
              "      <td>-0.000009</td>\n",
              "      <td>-0.000009</td>\n",
              "      <td>0.000062</td>\n",
              "      <td>0.000077</td>\n",
              "      <td>4.686759e-06</td>\n",
              "      <td>0.000006</td>\n",
              "      <td>-5.195947e-19</td>\n",
              "      <td>normal</td>\n",
              "    </tr>\n",
              "  </tbody>\n",
              "</table>\n",
              "</div>"
            ],
            "text/plain": [
              "   column 0  column 1  column 2  ...  column 40     column 41  type_attack\n",
              "0 -0.220263  0.117158  0.551728  ...  -0.000013 -9.125242e-18       normal\n",
              "1  0.283156  0.374941  0.763011  ...  -0.000002  1.099643e-17       normal\n",
              "2  1.730035 -0.559688 -0.083644  ...   0.000004  4.163820e-17          dos\n",
              "3 -1.012294 -0.477584 -0.223981  ...  -0.000002 -5.220283e-17       normal\n",
              "4 -1.002430 -0.347474 -0.500375  ...   0.000006 -5.195947e-19       normal\n",
              "\n",
              "[5 rows x 43 columns]"
            ]
          },
          "metadata": {
            "tags": []
          },
          "execution_count": 45
        }
      ]
    },
    {
      "cell_type": "code",
      "metadata": {
        "id": "p7O_oKdTrd-t",
        "colab_type": "code",
        "outputId": "fb928d8f-cf7a-40c8-9185-9e3a56c8b5e3",
        "colab": {
          "base_uri": "https://localhost:8080/",
          "height": 34
        }
      },
      "source": [
        "data_all2.shape"
      ],
      "execution_count": 46,
      "outputs": [
        {
          "output_type": "execute_result",
          "data": {
            "text/plain": [
              "(173708, 43)"
            ]
          },
          "metadata": {
            "tags": []
          },
          "execution_count": 46
        }
      ]
    },
    {
      "cell_type": "code",
      "metadata": {
        "id": "K_xvI0tpqN6l",
        "colab_type": "code",
        "colab": {}
      },
      "source": [
        "df18 = data_all2[['column 2',\n",
        "                  'column 3',\n",
        "                  'column 6',\n",
        "                  'column 11',\n",
        "                  'column 12',\n",
        "                  'column 13',\n",
        "                  'column 16',\n",
        "                  'column 17',\n",
        "                  'column 19',\n",
        "                  'column 25',\n",
        "                  'column 26',\n",
        "                  'column 27',\n",
        "                  'column 28',\n",
        "                  'column 29',\n",
        "                  'column 31',\n",
        "                  'column 32',\n",
        "                  'column 35',\n",
        "                  'column 40']]"
      ],
      "execution_count": 0,
      "outputs": []
    },
    {
      "cell_type": "code",
      "metadata": {
        "id": "EApFHlLxrS1i",
        "colab_type": "code",
        "outputId": "2220b169-3905-4454-a51c-79f67bc7507d",
        "colab": {
          "base_uri": "https://localhost:8080/",
          "height": 204
        }
      },
      "source": [
        "df18.head()"
      ],
      "execution_count": 48,
      "outputs": [
        {
          "output_type": "execute_result",
          "data": {
            "text/html": [
              "<div>\n",
              "<style scoped>\n",
              "    .dataframe tbody tr th:only-of-type {\n",
              "        vertical-align: middle;\n",
              "    }\n",
              "\n",
              "    .dataframe tbody tr th {\n",
              "        vertical-align: top;\n",
              "    }\n",
              "\n",
              "    .dataframe thead th {\n",
              "        text-align: right;\n",
              "    }\n",
              "</style>\n",
              "<table border=\"1\" class=\"dataframe\">\n",
              "  <thead>\n",
              "    <tr style=\"text-align: right;\">\n",
              "      <th></th>\n",
              "      <th>column 2</th>\n",
              "      <th>column 3</th>\n",
              "      <th>column 6</th>\n",
              "      <th>column 11</th>\n",
              "      <th>column 12</th>\n",
              "      <th>column 13</th>\n",
              "      <th>column 16</th>\n",
              "      <th>column 17</th>\n",
              "      <th>column 19</th>\n",
              "      <th>column 25</th>\n",
              "      <th>column 26</th>\n",
              "      <th>column 27</th>\n",
              "      <th>column 28</th>\n",
              "      <th>column 29</th>\n",
              "      <th>column 31</th>\n",
              "      <th>column 32</th>\n",
              "      <th>column 35</th>\n",
              "      <th>column 40</th>\n",
              "    </tr>\n",
              "  </thead>\n",
              "  <tbody>\n",
              "    <tr>\n",
              "      <th>0</th>\n",
              "      <td>0.551728</td>\n",
              "      <td>-0.220319</td>\n",
              "      <td>-0.213131</td>\n",
              "      <td>0.174920</td>\n",
              "      <td>-0.227275</td>\n",
              "      <td>-0.083463</td>\n",
              "      <td>0.081712</td>\n",
              "      <td>-0.020905</td>\n",
              "      <td>-0.036697</td>\n",
              "      <td>-0.012266</td>\n",
              "      <td>-0.019738</td>\n",
              "      <td>-0.001655</td>\n",
              "      <td>-0.001751</td>\n",
              "      <td>0.003431</td>\n",
              "      <td>-0.004125</td>\n",
              "      <td>-0.000117</td>\n",
              "      <td>-0.000254</td>\n",
              "      <td>-0.000013</td>\n",
              "    </tr>\n",
              "    <tr>\n",
              "      <th>1</th>\n",
              "      <td>0.763011</td>\n",
              "      <td>-0.568851</td>\n",
              "      <td>0.040570</td>\n",
              "      <td>-0.355404</td>\n",
              "      <td>-0.021435</td>\n",
              "      <td>0.115609</td>\n",
              "      <td>-0.275540</td>\n",
              "      <td>0.064058</td>\n",
              "      <td>0.015133</td>\n",
              "      <td>0.035091</td>\n",
              "      <td>0.004748</td>\n",
              "      <td>0.005742</td>\n",
              "      <td>0.004283</td>\n",
              "      <td>-0.000537</td>\n",
              "      <td>-0.000051</td>\n",
              "      <td>-0.000483</td>\n",
              "      <td>0.000214</td>\n",
              "      <td>-0.000002</td>\n",
              "    </tr>\n",
              "    <tr>\n",
              "      <th>2</th>\n",
              "      <td>-0.083644</td>\n",
              "      <td>0.074427</td>\n",
              "      <td>-0.060557</td>\n",
              "      <td>0.035051</td>\n",
              "      <td>0.016367</td>\n",
              "      <td>0.028254</td>\n",
              "      <td>-0.016795</td>\n",
              "      <td>-0.009805</td>\n",
              "      <td>0.011112</td>\n",
              "      <td>0.000893</td>\n",
              "      <td>0.003837</td>\n",
              "      <td>0.001250</td>\n",
              "      <td>0.000104</td>\n",
              "      <td>0.000766</td>\n",
              "      <td>-0.000727</td>\n",
              "      <td>-0.000108</td>\n",
              "      <td>-0.000016</td>\n",
              "      <td>0.000004</td>\n",
              "    </tr>\n",
              "    <tr>\n",
              "      <th>3</th>\n",
              "      <td>-0.223981</td>\n",
              "      <td>0.417013</td>\n",
              "      <td>0.066899</td>\n",
              "      <td>0.008524</td>\n",
              "      <td>-0.057806</td>\n",
              "      <td>0.000559</td>\n",
              "      <td>0.049561</td>\n",
              "      <td>0.127100</td>\n",
              "      <td>0.003982</td>\n",
              "      <td>0.019011</td>\n",
              "      <td>-0.010778</td>\n",
              "      <td>0.012576</td>\n",
              "      <td>0.000145</td>\n",
              "      <td>-0.000248</td>\n",
              "      <td>0.000185</td>\n",
              "      <td>0.000296</td>\n",
              "      <td>0.000581</td>\n",
              "      <td>-0.000002</td>\n",
              "    </tr>\n",
              "    <tr>\n",
              "      <th>4</th>\n",
              "      <td>-0.500375</td>\n",
              "      <td>-0.228183</td>\n",
              "      <td>0.103342</td>\n",
              "      <td>0.015841</td>\n",
              "      <td>-0.013468</td>\n",
              "      <td>0.016299</td>\n",
              "      <td>-0.008439</td>\n",
              "      <td>0.010717</td>\n",
              "      <td>-0.006652</td>\n",
              "      <td>0.001510</td>\n",
              "      <td>0.003748</td>\n",
              "      <td>-0.002281</td>\n",
              "      <td>-0.000019</td>\n",
              "      <td>-0.000959</td>\n",
              "      <td>0.000036</td>\n",
              "      <td>-0.000914</td>\n",
              "      <td>-0.000009</td>\n",
              "      <td>0.000006</td>\n",
              "    </tr>\n",
              "  </tbody>\n",
              "</table>\n",
              "</div>"
            ],
            "text/plain": [
              "   column 2  column 3  column 6  ...  column 32  column 35  column 40\n",
              "0  0.551728 -0.220319 -0.213131  ...  -0.000117  -0.000254  -0.000013\n",
              "1  0.763011 -0.568851  0.040570  ...  -0.000483   0.000214  -0.000002\n",
              "2 -0.083644  0.074427 -0.060557  ...  -0.000108  -0.000016   0.000004\n",
              "3 -0.223981  0.417013  0.066899  ...   0.000296   0.000581  -0.000002\n",
              "4 -0.500375 -0.228183  0.103342  ...  -0.000914  -0.000009   0.000006\n",
              "\n",
              "[5 rows x 18 columns]"
            ]
          },
          "metadata": {
            "tags": []
          },
          "execution_count": 48
        }
      ]
    },
    {
      "cell_type": "code",
      "metadata": {
        "id": "tagERdfvrVZr",
        "colab_type": "code",
        "colab": {}
      },
      "source": [
        "df18v2 = pd.concat([df18, data_attack], axis=1)"
      ],
      "execution_count": 0,
      "outputs": []
    },
    {
      "cell_type": "code",
      "metadata": {
        "id": "KYUzwcohr06e",
        "colab_type": "code",
        "outputId": "ebdaa21c-9ad2-4789-b94c-284f9de20734",
        "colab": {
          "base_uri": "https://localhost:8080/",
          "height": 204
        }
      },
      "source": [
        "df18v2.head(5)"
      ],
      "execution_count": 50,
      "outputs": [
        {
          "output_type": "execute_result",
          "data": {
            "text/html": [
              "<div>\n",
              "<style scoped>\n",
              "    .dataframe tbody tr th:only-of-type {\n",
              "        vertical-align: middle;\n",
              "    }\n",
              "\n",
              "    .dataframe tbody tr th {\n",
              "        vertical-align: top;\n",
              "    }\n",
              "\n",
              "    .dataframe thead th {\n",
              "        text-align: right;\n",
              "    }\n",
              "</style>\n",
              "<table border=\"1\" class=\"dataframe\">\n",
              "  <thead>\n",
              "    <tr style=\"text-align: right;\">\n",
              "      <th></th>\n",
              "      <th>column 2</th>\n",
              "      <th>column 3</th>\n",
              "      <th>column 6</th>\n",
              "      <th>column 11</th>\n",
              "      <th>column 12</th>\n",
              "      <th>column 13</th>\n",
              "      <th>column 16</th>\n",
              "      <th>column 17</th>\n",
              "      <th>column 19</th>\n",
              "      <th>column 25</th>\n",
              "      <th>column 26</th>\n",
              "      <th>column 27</th>\n",
              "      <th>column 28</th>\n",
              "      <th>column 29</th>\n",
              "      <th>column 31</th>\n",
              "      <th>column 32</th>\n",
              "      <th>column 35</th>\n",
              "      <th>column 40</th>\n",
              "      <th>type_attack</th>\n",
              "    </tr>\n",
              "  </thead>\n",
              "  <tbody>\n",
              "    <tr>\n",
              "      <th>0</th>\n",
              "      <td>0.551728</td>\n",
              "      <td>-0.220319</td>\n",
              "      <td>-0.213131</td>\n",
              "      <td>0.174920</td>\n",
              "      <td>-0.227275</td>\n",
              "      <td>-0.083463</td>\n",
              "      <td>0.081712</td>\n",
              "      <td>-0.020905</td>\n",
              "      <td>-0.036697</td>\n",
              "      <td>-0.012266</td>\n",
              "      <td>-0.019738</td>\n",
              "      <td>-0.001655</td>\n",
              "      <td>-0.001751</td>\n",
              "      <td>0.003431</td>\n",
              "      <td>-0.004125</td>\n",
              "      <td>-0.000117</td>\n",
              "      <td>-0.000254</td>\n",
              "      <td>-0.000013</td>\n",
              "      <td>normal</td>\n",
              "    </tr>\n",
              "    <tr>\n",
              "      <th>1</th>\n",
              "      <td>0.763011</td>\n",
              "      <td>-0.568851</td>\n",
              "      <td>0.040570</td>\n",
              "      <td>-0.355404</td>\n",
              "      <td>-0.021435</td>\n",
              "      <td>0.115609</td>\n",
              "      <td>-0.275540</td>\n",
              "      <td>0.064058</td>\n",
              "      <td>0.015133</td>\n",
              "      <td>0.035091</td>\n",
              "      <td>0.004748</td>\n",
              "      <td>0.005742</td>\n",
              "      <td>0.004283</td>\n",
              "      <td>-0.000537</td>\n",
              "      <td>-0.000051</td>\n",
              "      <td>-0.000483</td>\n",
              "      <td>0.000214</td>\n",
              "      <td>-0.000002</td>\n",
              "      <td>normal</td>\n",
              "    </tr>\n",
              "    <tr>\n",
              "      <th>2</th>\n",
              "      <td>-0.083644</td>\n",
              "      <td>0.074427</td>\n",
              "      <td>-0.060557</td>\n",
              "      <td>0.035051</td>\n",
              "      <td>0.016367</td>\n",
              "      <td>0.028254</td>\n",
              "      <td>-0.016795</td>\n",
              "      <td>-0.009805</td>\n",
              "      <td>0.011112</td>\n",
              "      <td>0.000893</td>\n",
              "      <td>0.003837</td>\n",
              "      <td>0.001250</td>\n",
              "      <td>0.000104</td>\n",
              "      <td>0.000766</td>\n",
              "      <td>-0.000727</td>\n",
              "      <td>-0.000108</td>\n",
              "      <td>-0.000016</td>\n",
              "      <td>0.000004</td>\n",
              "      <td>dos</td>\n",
              "    </tr>\n",
              "    <tr>\n",
              "      <th>3</th>\n",
              "      <td>-0.223981</td>\n",
              "      <td>0.417013</td>\n",
              "      <td>0.066899</td>\n",
              "      <td>0.008524</td>\n",
              "      <td>-0.057806</td>\n",
              "      <td>0.000559</td>\n",
              "      <td>0.049561</td>\n",
              "      <td>0.127100</td>\n",
              "      <td>0.003982</td>\n",
              "      <td>0.019011</td>\n",
              "      <td>-0.010778</td>\n",
              "      <td>0.012576</td>\n",
              "      <td>0.000145</td>\n",
              "      <td>-0.000248</td>\n",
              "      <td>0.000185</td>\n",
              "      <td>0.000296</td>\n",
              "      <td>0.000581</td>\n",
              "      <td>-0.000002</td>\n",
              "      <td>normal</td>\n",
              "    </tr>\n",
              "    <tr>\n",
              "      <th>4</th>\n",
              "      <td>-0.500375</td>\n",
              "      <td>-0.228183</td>\n",
              "      <td>0.103342</td>\n",
              "      <td>0.015841</td>\n",
              "      <td>-0.013468</td>\n",
              "      <td>0.016299</td>\n",
              "      <td>-0.008439</td>\n",
              "      <td>0.010717</td>\n",
              "      <td>-0.006652</td>\n",
              "      <td>0.001510</td>\n",
              "      <td>0.003748</td>\n",
              "      <td>-0.002281</td>\n",
              "      <td>-0.000019</td>\n",
              "      <td>-0.000959</td>\n",
              "      <td>0.000036</td>\n",
              "      <td>-0.000914</td>\n",
              "      <td>-0.000009</td>\n",
              "      <td>0.000006</td>\n",
              "      <td>normal</td>\n",
              "    </tr>\n",
              "  </tbody>\n",
              "</table>\n",
              "</div>"
            ],
            "text/plain": [
              "   column 2  column 3  column 6  ...  column 35  column 40  type_attack\n",
              "0  0.551728 -0.220319 -0.213131  ...  -0.000254  -0.000013       normal\n",
              "1  0.763011 -0.568851  0.040570  ...   0.000214  -0.000002       normal\n",
              "2 -0.083644  0.074427 -0.060557  ...  -0.000016   0.000004          dos\n",
              "3 -0.223981  0.417013  0.066899  ...   0.000581  -0.000002       normal\n",
              "4 -0.500375 -0.228183  0.103342  ...  -0.000009   0.000006       normal\n",
              "\n",
              "[5 rows x 19 columns]"
            ]
          },
          "metadata": {
            "tags": []
          },
          "execution_count": 50
        }
      ]
    },
    {
      "cell_type": "code",
      "metadata": {
        "id": "ivhLNKZArrfG",
        "colab_type": "code",
        "outputId": "22f88def-87ae-40b1-f69c-f883fa94ddfc",
        "colab": {
          "base_uri": "https://localhost:8080/",
          "height": 34
        }
      },
      "source": [
        "df18v2.shape"
      ],
      "execution_count": 51,
      "outputs": [
        {
          "output_type": "execute_result",
          "data": {
            "text/plain": [
              "(173708, 19)"
            ]
          },
          "metadata": {
            "tags": []
          },
          "execution_count": 51
        }
      ]
    },
    {
      "cell_type": "code",
      "metadata": {
        "id": "xx3EkceorylG",
        "colab_type": "code",
        "colab": {}
      },
      "source": [
        "X = df18v2.loc[:, :'column 40']\n",
        "y = df18v2.loc[:, 'type_attack']"
      ],
      "execution_count": 0,
      "outputs": []
    },
    {
      "cell_type": "code",
      "metadata": {
        "id": "h7-EWhFYsG3Z",
        "colab_type": "code",
        "colab": {}
      },
      "source": [
        "y = y.astype(str)\n",
        "\n",
        "temp = set(y)"
      ],
      "execution_count": 0,
      "outputs": []
    },
    {
      "cell_type": "code",
      "metadata": {
        "id": "-8KqlDp3sJEE",
        "colab_type": "code",
        "colab": {}
      },
      "source": [
        "X_train, X_test, y_train, y_test = train_test_split(X, y, test_size=0.3, train_size =0.7, random_state=5)"
      ],
      "execution_count": 0,
      "outputs": []
    },
    {
      "cell_type": "code",
      "metadata": {
        "id": "D1aYPD2jsLvn",
        "colab_type": "code",
        "colab": {}
      },
      "source": [
        "clf = MLPClassifier(random_state = 5)"
      ],
      "execution_count": 0,
      "outputs": []
    },
    {
      "cell_type": "code",
      "metadata": {
        "id": "UEfio3X9sNyn",
        "colab_type": "code",
        "colab": {}
      },
      "source": [
        "start = time.time()"
      ],
      "execution_count": 0,
      "outputs": []
    },
    {
      "cell_type": "code",
      "metadata": {
        "id": "UM9UQXiDsPp5",
        "colab_type": "code",
        "outputId": "7ae37b61-ad88-41e2-e44b-404ceacfedf7",
        "colab": {
          "base_uri": "https://localhost:8080/",
          "height": 170
        }
      },
      "source": [
        "clf.fit(X_train, y_train)"
      ],
      "execution_count": 57,
      "outputs": [
        {
          "output_type": "stream",
          "text": [
            "/usr/local/lib/python3.6/dist-packages/sklearn/neural_network/multilayer_perceptron.py:566: ConvergenceWarning: Stochastic Optimizer: Maximum iterations (200) reached and the optimization hasn't converged yet.\n",
            "  % self.max_iter, ConvergenceWarning)\n"
          ],
          "name": "stderr"
        },
        {
          "output_type": "execute_result",
          "data": {
            "text/plain": [
              "MLPClassifier(activation='relu', alpha=0.0001, batch_size='auto', beta_1=0.9,\n",
              "              beta_2=0.999, early_stopping=False, epsilon=1e-08,\n",
              "              hidden_layer_sizes=(100,), learning_rate='constant',\n",
              "              learning_rate_init=0.001, max_iter=200, momentum=0.9,\n",
              "              n_iter_no_change=10, nesterovs_momentum=True, power_t=0.5,\n",
              "              random_state=5, shuffle=True, solver='adam', tol=0.0001,\n",
              "              validation_fraction=0.1, verbose=False, warm_start=False)"
            ]
          },
          "metadata": {
            "tags": []
          },
          "execution_count": 57
        }
      ]
    },
    {
      "cell_type": "code",
      "metadata": {
        "id": "NZEg934_sRIB",
        "colab_type": "code",
        "outputId": "1af9e6a2-2277-417e-e335-b92e5be9677e",
        "colab": {
          "base_uri": "https://localhost:8080/",
          "height": 34
        }
      },
      "source": [
        "stop = time.time()\n",
        "print(f\"training time : {stop - start}s\")"
      ],
      "execution_count": 58,
      "outputs": [
        {
          "output_type": "stream",
          "text": [
            "training time : 180.59806966781616s\n"
          ],
          "name": "stdout"
        }
      ]
    },
    {
      "cell_type": "code",
      "metadata": {
        "id": "XH7fLOyesSgB",
        "colab_type": "code",
        "outputId": "7a9af07c-a4f7-4d0e-9b42-2e0419f11345",
        "colab": {
          "base_uri": "https://localhost:8080/",
          "height": 34
        }
      },
      "source": [
        "pred = clf.predict(X_test)\n",
        "\n",
        "accuracy_score(y_test,pred)"
      ],
      "execution_count": 59,
      "outputs": [
        {
          "output_type": "execute_result",
          "data": {
            "text/plain": [
              "0.9940321992593019"
            ]
          },
          "metadata": {
            "tags": []
          },
          "execution_count": 59
        }
      ]
    },
    {
      "cell_type": "code",
      "metadata": {
        "id": "ak7GWIS0sfMO",
        "colab_type": "code",
        "colab": {}
      },
      "source": [
        "clf = MLPClassifier(random_state = 5, max_iter=300)\n",
        "\n",
        "scoring = {'accuracy': make_scorer(accuracy_score)}"
      ],
      "execution_count": 0,
      "outputs": []
    },
    {
      "cell_type": "code",
      "metadata": {
        "id": "giavfKqxsvqA",
        "colab_type": "code",
        "colab": {}
      },
      "source": [
        "start = time.time()"
      ],
      "execution_count": 0,
      "outputs": []
    },
    {
      "cell_type": "code",
      "metadata": {
        "id": "KJlyp9fhsxD7",
        "colab_type": "code",
        "colab": {}
      },
      "source": [
        "cv = ShuffleSplit(n_splits=3, test_size=0.3, train_size = 0.7, random_state=5)\n",
        "scores = cross_validate(clf, X, y, cv=cv, scoring=scoring, return_train_score=True)"
      ],
      "execution_count": 0,
      "outputs": []
    },
    {
      "cell_type": "code",
      "metadata": {
        "id": "TbiSSoYosyWP",
        "colab_type": "code",
        "outputId": "7f19c896-c777-493e-f08c-9b141ce8087d",
        "colab": {
          "base_uri": "https://localhost:8080/",
          "height": 34
        }
      },
      "source": [
        "stop = time.time()\n",
        "print(f\"Cross Validation time : {stop - start}s\")"
      ],
      "execution_count": 0,
      "outputs": [
        {
          "output_type": "stream",
          "text": [
            "Cross Validation time : 536.0830881595612s\n"
          ],
          "name": "stdout"
        }
      ]
    },
    {
      "cell_type": "code",
      "metadata": {
        "id": "kEh6MLx-sz6E",
        "colab_type": "code",
        "outputId": "c0ef21ea-8dd3-4df0-d57d-1a2fd9afb9cd",
        "colab": {
          "base_uri": "https://localhost:8080/",
          "height": 54
        }
      },
      "source": [
        "print(scores)"
      ],
      "execution_count": 0,
      "outputs": [
        {
          "output_type": "stream",
          "text": [
            "{'fit_time': array([198.56192827, 174.99538183, 159.85665798]), 'score_time': array([0.20029044, 0.18027925, 0.18645763]), 'test_accuracy': array([0.99405136, 0.9934059 , 0.99337101]), 'train_accuracy': array([0.99683805, 0.99609912, 0.99591009])}\n"
          ],
          "name": "stdout"
        }
      ]
    },
    {
      "cell_type": "markdown",
      "metadata": {
        "id": "apRsAaa0v8-A",
        "colab_type": "text"
      },
      "source": [
        "# 5 data"
      ]
    },
    {
      "cell_type": "code",
      "metadata": {
        "id": "a_O-lTHFv_1y",
        "colab_type": "code",
        "outputId": "9c31a919-7e3b-482b-e4f6-b27061e37a81",
        "colab": {
          "base_uri": "https://localhost:8080/",
          "height": 326
        }
      },
      "source": [
        "data_all2.head(5)"
      ],
      "execution_count": 60,
      "outputs": [
        {
          "output_type": "execute_result",
          "data": {
            "text/html": [
              "<div>\n",
              "<style scoped>\n",
              "    .dataframe tbody tr th:only-of-type {\n",
              "        vertical-align: middle;\n",
              "    }\n",
              "\n",
              "    .dataframe tbody tr th {\n",
              "        vertical-align: top;\n",
              "    }\n",
              "\n",
              "    .dataframe thead th {\n",
              "        text-align: right;\n",
              "    }\n",
              "</style>\n",
              "<table border=\"1\" class=\"dataframe\">\n",
              "  <thead>\n",
              "    <tr style=\"text-align: right;\">\n",
              "      <th></th>\n",
              "      <th>column 0</th>\n",
              "      <th>column 1</th>\n",
              "      <th>column 2</th>\n",
              "      <th>column 3</th>\n",
              "      <th>column 4</th>\n",
              "      <th>column 5</th>\n",
              "      <th>column 6</th>\n",
              "      <th>column 7</th>\n",
              "      <th>column 8</th>\n",
              "      <th>column 9</th>\n",
              "      <th>column 10</th>\n",
              "      <th>column 11</th>\n",
              "      <th>column 12</th>\n",
              "      <th>column 13</th>\n",
              "      <th>column 14</th>\n",
              "      <th>column 15</th>\n",
              "      <th>column 16</th>\n",
              "      <th>column 17</th>\n",
              "      <th>column 18</th>\n",
              "      <th>column 19</th>\n",
              "      <th>column 20</th>\n",
              "      <th>column 21</th>\n",
              "      <th>column 22</th>\n",
              "      <th>column 23</th>\n",
              "      <th>column 24</th>\n",
              "      <th>column 25</th>\n",
              "      <th>column 26</th>\n",
              "      <th>column 27</th>\n",
              "      <th>column 28</th>\n",
              "      <th>column 29</th>\n",
              "      <th>column 30</th>\n",
              "      <th>column 31</th>\n",
              "      <th>column 32</th>\n",
              "      <th>column 33</th>\n",
              "      <th>column 34</th>\n",
              "      <th>column 35</th>\n",
              "      <th>column 36</th>\n",
              "      <th>column 37</th>\n",
              "      <th>column 38</th>\n",
              "      <th>column 39</th>\n",
              "      <th>column 40</th>\n",
              "      <th>column 41</th>\n",
              "      <th>type_attack</th>\n",
              "    </tr>\n",
              "  </thead>\n",
              "  <tbody>\n",
              "    <tr>\n",
              "      <th>0</th>\n",
              "      <td>-0.220263</td>\n",
              "      <td>0.117158</td>\n",
              "      <td>0.551728</td>\n",
              "      <td>-0.220319</td>\n",
              "      <td>0.398608</td>\n",
              "      <td>-0.221070</td>\n",
              "      <td>-0.213131</td>\n",
              "      <td>0.009363</td>\n",
              "      <td>-0.470655</td>\n",
              "      <td>-0.053478</td>\n",
              "      <td>-0.030418</td>\n",
              "      <td>0.174920</td>\n",
              "      <td>-0.227275</td>\n",
              "      <td>-0.083463</td>\n",
              "      <td>0.003182</td>\n",
              "      <td>-0.009925</td>\n",
              "      <td>0.081712</td>\n",
              "      <td>-0.020905</td>\n",
              "      <td>-0.075399</td>\n",
              "      <td>-0.036697</td>\n",
              "      <td>0.008401</td>\n",
              "      <td>0.083407</td>\n",
              "      <td>-0.044415</td>\n",
              "      <td>-0.004790</td>\n",
              "      <td>-0.001110</td>\n",
              "      <td>-0.012266</td>\n",
              "      <td>-0.019738</td>\n",
              "      <td>-0.001655</td>\n",
              "      <td>-0.001751</td>\n",
              "      <td>0.003431</td>\n",
              "      <td>0.003058</td>\n",
              "      <td>-0.004125</td>\n",
              "      <td>-0.000117</td>\n",
              "      <td>0.000086</td>\n",
              "      <td>0.000089</td>\n",
              "      <td>-0.000254</td>\n",
              "      <td>0.000107</td>\n",
              "      <td>-0.000090</td>\n",
              "      <td>-0.000057</td>\n",
              "      <td>1.729124e-05</td>\n",
              "      <td>-0.000013</td>\n",
              "      <td>-9.125242e-18</td>\n",
              "      <td>normal</td>\n",
              "    </tr>\n",
              "    <tr>\n",
              "      <th>1</th>\n",
              "      <td>0.283156</td>\n",
              "      <td>0.374941</td>\n",
              "      <td>0.763011</td>\n",
              "      <td>-0.568851</td>\n",
              "      <td>0.879016</td>\n",
              "      <td>-0.059989</td>\n",
              "      <td>0.040570</td>\n",
              "      <td>0.248593</td>\n",
              "      <td>0.326108</td>\n",
              "      <td>0.228155</td>\n",
              "      <td>-0.409901</td>\n",
              "      <td>-0.355404</td>\n",
              "      <td>-0.021435</td>\n",
              "      <td>0.115609</td>\n",
              "      <td>0.088787</td>\n",
              "      <td>-0.154795</td>\n",
              "      <td>-0.275540</td>\n",
              "      <td>0.064058</td>\n",
              "      <td>-0.155165</td>\n",
              "      <td>0.015133</td>\n",
              "      <td>0.008818</td>\n",
              "      <td>-0.178190</td>\n",
              "      <td>0.069323</td>\n",
              "      <td>0.056943</td>\n",
              "      <td>-0.007894</td>\n",
              "      <td>0.035091</td>\n",
              "      <td>0.004748</td>\n",
              "      <td>0.005742</td>\n",
              "      <td>0.004283</td>\n",
              "      <td>-0.000537</td>\n",
              "      <td>0.002308</td>\n",
              "      <td>-0.000051</td>\n",
              "      <td>-0.000483</td>\n",
              "      <td>-0.001212</td>\n",
              "      <td>-0.000659</td>\n",
              "      <td>0.000214</td>\n",
              "      <td>0.000673</td>\n",
              "      <td>0.000034</td>\n",
              "      <td>-0.000019</td>\n",
              "      <td>-1.012244e-05</td>\n",
              "      <td>-0.000002</td>\n",
              "      <td>1.099643e-17</td>\n",
              "      <td>normal</td>\n",
              "    </tr>\n",
              "    <tr>\n",
              "      <th>2</th>\n",
              "      <td>1.730035</td>\n",
              "      <td>-0.559688</td>\n",
              "      <td>-0.083644</td>\n",
              "      <td>0.074427</td>\n",
              "      <td>-0.062983</td>\n",
              "      <td>0.018016</td>\n",
              "      <td>-0.060557</td>\n",
              "      <td>-0.029682</td>\n",
              "      <td>0.110748</td>\n",
              "      <td>-0.042880</td>\n",
              "      <td>-0.095699</td>\n",
              "      <td>0.035051</td>\n",
              "      <td>0.016367</td>\n",
              "      <td>0.028254</td>\n",
              "      <td>0.025794</td>\n",
              "      <td>-0.008829</td>\n",
              "      <td>-0.016795</td>\n",
              "      <td>-0.009805</td>\n",
              "      <td>-0.006691</td>\n",
              "      <td>0.011112</td>\n",
              "      <td>-0.002559</td>\n",
              "      <td>-0.049455</td>\n",
              "      <td>0.018049</td>\n",
              "      <td>0.005833</td>\n",
              "      <td>0.000053</td>\n",
              "      <td>0.000893</td>\n",
              "      <td>0.003837</td>\n",
              "      <td>0.001250</td>\n",
              "      <td>0.000104</td>\n",
              "      <td>0.000766</td>\n",
              "      <td>-0.000042</td>\n",
              "      <td>-0.000727</td>\n",
              "      <td>-0.000108</td>\n",
              "      <td>-0.000015</td>\n",
              "      <td>-0.000040</td>\n",
              "      <td>-0.000016</td>\n",
              "      <td>-0.000081</td>\n",
              "      <td>-0.000006</td>\n",
              "      <td>0.000004</td>\n",
              "      <td>5.134467e-07</td>\n",
              "      <td>0.000004</td>\n",
              "      <td>4.163820e-17</td>\n",
              "      <td>dos</td>\n",
              "    </tr>\n",
              "    <tr>\n",
              "      <th>3</th>\n",
              "      <td>-1.012294</td>\n",
              "      <td>-0.477584</td>\n",
              "      <td>-0.223981</td>\n",
              "      <td>0.417013</td>\n",
              "      <td>-0.195976</td>\n",
              "      <td>-0.268309</td>\n",
              "      <td>0.066899</td>\n",
              "      <td>0.123135</td>\n",
              "      <td>0.059971</td>\n",
              "      <td>0.013308</td>\n",
              "      <td>0.045549</td>\n",
              "      <td>0.008524</td>\n",
              "      <td>-0.057806</td>\n",
              "      <td>0.000559</td>\n",
              "      <td>0.065084</td>\n",
              "      <td>-0.028309</td>\n",
              "      <td>0.049561</td>\n",
              "      <td>0.127100</td>\n",
              "      <td>-0.050662</td>\n",
              "      <td>0.003982</td>\n",
              "      <td>0.003672</td>\n",
              "      <td>-0.000636</td>\n",
              "      <td>-0.004593</td>\n",
              "      <td>-0.071792</td>\n",
              "      <td>-0.010979</td>\n",
              "      <td>0.019011</td>\n",
              "      <td>-0.010778</td>\n",
              "      <td>0.012576</td>\n",
              "      <td>0.000145</td>\n",
              "      <td>-0.000248</td>\n",
              "      <td>-0.001030</td>\n",
              "      <td>0.000185</td>\n",
              "      <td>0.000296</td>\n",
              "      <td>0.000078</td>\n",
              "      <td>0.000062</td>\n",
              "      <td>0.000581</td>\n",
              "      <td>0.000280</td>\n",
              "      <td>-0.000076</td>\n",
              "      <td>-0.000024</td>\n",
              "      <td>-1.872262e-06</td>\n",
              "      <td>-0.000002</td>\n",
              "      <td>-5.220283e-17</td>\n",
              "      <td>normal</td>\n",
              "    </tr>\n",
              "    <tr>\n",
              "      <th>4</th>\n",
              "      <td>-1.002430</td>\n",
              "      <td>-0.347474</td>\n",
              "      <td>-0.500375</td>\n",
              "      <td>-0.228183</td>\n",
              "      <td>0.022351</td>\n",
              "      <td>0.162668</td>\n",
              "      <td>0.103342</td>\n",
              "      <td>-0.144793</td>\n",
              "      <td>0.027530</td>\n",
              "      <td>0.063156</td>\n",
              "      <td>-0.031413</td>\n",
              "      <td>0.015841</td>\n",
              "      <td>-0.013468</td>\n",
              "      <td>0.016299</td>\n",
              "      <td>-0.063706</td>\n",
              "      <td>0.027563</td>\n",
              "      <td>-0.008439</td>\n",
              "      <td>0.010717</td>\n",
              "      <td>0.009364</td>\n",
              "      <td>-0.006652</td>\n",
              "      <td>0.000444</td>\n",
              "      <td>-0.005027</td>\n",
              "      <td>0.004548</td>\n",
              "      <td>0.006820</td>\n",
              "      <td>-0.000173</td>\n",
              "      <td>0.001510</td>\n",
              "      <td>0.003748</td>\n",
              "      <td>-0.002281</td>\n",
              "      <td>-0.000019</td>\n",
              "      <td>-0.000959</td>\n",
              "      <td>-0.000108</td>\n",
              "      <td>0.000036</td>\n",
              "      <td>-0.000914</td>\n",
              "      <td>0.000192</td>\n",
              "      <td>0.000077</td>\n",
              "      <td>-0.000009</td>\n",
              "      <td>-0.000009</td>\n",
              "      <td>0.000062</td>\n",
              "      <td>0.000077</td>\n",
              "      <td>4.686759e-06</td>\n",
              "      <td>0.000006</td>\n",
              "      <td>-5.195947e-19</td>\n",
              "      <td>normal</td>\n",
              "    </tr>\n",
              "  </tbody>\n",
              "</table>\n",
              "</div>"
            ],
            "text/plain": [
              "   column 0  column 1  column 2  ...  column 40     column 41  type_attack\n",
              "0 -0.220263  0.117158  0.551728  ...  -0.000013 -9.125242e-18       normal\n",
              "1  0.283156  0.374941  0.763011  ...  -0.000002  1.099643e-17       normal\n",
              "2  1.730035 -0.559688 -0.083644  ...   0.000004  4.163820e-17          dos\n",
              "3 -1.012294 -0.477584 -0.223981  ...  -0.000002 -5.220283e-17       normal\n",
              "4 -1.002430 -0.347474 -0.500375  ...   0.000006 -5.195947e-19       normal\n",
              "\n",
              "[5 rows x 43 columns]"
            ]
          },
          "metadata": {
            "tags": []
          },
          "execution_count": 60
        }
      ]
    },
    {
      "cell_type": "code",
      "metadata": {
        "id": "gGNj9tuewxMo",
        "colab_type": "code",
        "colab": {}
      },
      "source": [
        "# column 12 13 16 26 27\n",
        "\n",
        "df5 = data_all2[['column 12',\n",
        "                  'column 13',\n",
        "                  'column 16',\n",
        "                  'column 26',\n",
        "                  'column 27']]"
      ],
      "execution_count": 0,
      "outputs": []
    },
    {
      "cell_type": "code",
      "metadata": {
        "id": "niF3Ht5UxBYS",
        "colab_type": "code",
        "colab": {}
      },
      "source": [
        "df5v2 = pd.concat([df5, data_attack], axis=1)"
      ],
      "execution_count": 0,
      "outputs": []
    },
    {
      "cell_type": "code",
      "metadata": {
        "id": "Sr_5W8WixEsc",
        "colab_type": "code",
        "outputId": "c705ef41-c20e-47cf-d04e-5d1d7f27ba54",
        "colab": {
          "base_uri": "https://localhost:8080/",
          "height": 204
        }
      },
      "source": [
        "df5v2.head(5)"
      ],
      "execution_count": 63,
      "outputs": [
        {
          "output_type": "execute_result",
          "data": {
            "text/html": [
              "<div>\n",
              "<style scoped>\n",
              "    .dataframe tbody tr th:only-of-type {\n",
              "        vertical-align: middle;\n",
              "    }\n",
              "\n",
              "    .dataframe tbody tr th {\n",
              "        vertical-align: top;\n",
              "    }\n",
              "\n",
              "    .dataframe thead th {\n",
              "        text-align: right;\n",
              "    }\n",
              "</style>\n",
              "<table border=\"1\" class=\"dataframe\">\n",
              "  <thead>\n",
              "    <tr style=\"text-align: right;\">\n",
              "      <th></th>\n",
              "      <th>column 12</th>\n",
              "      <th>column 13</th>\n",
              "      <th>column 16</th>\n",
              "      <th>column 26</th>\n",
              "      <th>column 27</th>\n",
              "      <th>type_attack</th>\n",
              "    </tr>\n",
              "  </thead>\n",
              "  <tbody>\n",
              "    <tr>\n",
              "      <th>0</th>\n",
              "      <td>-0.227275</td>\n",
              "      <td>-0.083463</td>\n",
              "      <td>0.081712</td>\n",
              "      <td>-0.019738</td>\n",
              "      <td>-0.001655</td>\n",
              "      <td>normal</td>\n",
              "    </tr>\n",
              "    <tr>\n",
              "      <th>1</th>\n",
              "      <td>-0.021435</td>\n",
              "      <td>0.115609</td>\n",
              "      <td>-0.275540</td>\n",
              "      <td>0.004748</td>\n",
              "      <td>0.005742</td>\n",
              "      <td>normal</td>\n",
              "    </tr>\n",
              "    <tr>\n",
              "      <th>2</th>\n",
              "      <td>0.016367</td>\n",
              "      <td>0.028254</td>\n",
              "      <td>-0.016795</td>\n",
              "      <td>0.003837</td>\n",
              "      <td>0.001250</td>\n",
              "      <td>dos</td>\n",
              "    </tr>\n",
              "    <tr>\n",
              "      <th>3</th>\n",
              "      <td>-0.057806</td>\n",
              "      <td>0.000559</td>\n",
              "      <td>0.049561</td>\n",
              "      <td>-0.010778</td>\n",
              "      <td>0.012576</td>\n",
              "      <td>normal</td>\n",
              "    </tr>\n",
              "    <tr>\n",
              "      <th>4</th>\n",
              "      <td>-0.013468</td>\n",
              "      <td>0.016299</td>\n",
              "      <td>-0.008439</td>\n",
              "      <td>0.003748</td>\n",
              "      <td>-0.002281</td>\n",
              "      <td>normal</td>\n",
              "    </tr>\n",
              "  </tbody>\n",
              "</table>\n",
              "</div>"
            ],
            "text/plain": [
              "   column 12  column 13  column 16  column 26  column 27 type_attack\n",
              "0  -0.227275  -0.083463   0.081712  -0.019738  -0.001655      normal\n",
              "1  -0.021435   0.115609  -0.275540   0.004748   0.005742      normal\n",
              "2   0.016367   0.028254  -0.016795   0.003837   0.001250         dos\n",
              "3  -0.057806   0.000559   0.049561  -0.010778   0.012576      normal\n",
              "4  -0.013468   0.016299  -0.008439   0.003748  -0.002281      normal"
            ]
          },
          "metadata": {
            "tags": []
          },
          "execution_count": 63
        }
      ]
    },
    {
      "cell_type": "code",
      "metadata": {
        "id": "m04fW-XOxHNh",
        "colab_type": "code",
        "colab": {}
      },
      "source": [
        "X = df5v2.loc[:, :'column 27']\n",
        "y = df5v2.loc[:, 'type_attack']\n",
        "\n",
        "y = y.astype(str)\n",
        "\n",
        "temp = set(y)\n",
        "\n",
        "X_train, X_test, y_train, y_test = train_test_split(X, y, test_size=0.3, train_size =0.7, random_state=5)\n",
        "\n",
        "clf = MLPClassifier(random_state = 5)\n",
        "\n"
      ],
      "execution_count": 0,
      "outputs": []
    },
    {
      "cell_type": "code",
      "metadata": {
        "id": "axV0E86LxXGV",
        "colab_type": "code",
        "colab": {}
      },
      "source": [
        "start = time.time()"
      ],
      "execution_count": 0,
      "outputs": []
    },
    {
      "cell_type": "code",
      "metadata": {
        "id": "KumnogKvxX0Z",
        "colab_type": "code",
        "outputId": "c3a5363f-697e-498d-bca1-05c001b5f3f0",
        "colab": {
          "base_uri": "https://localhost:8080/",
          "height": 170
        }
      },
      "source": [
        "clf.fit(X_train, y_train)"
      ],
      "execution_count": 66,
      "outputs": [
        {
          "output_type": "stream",
          "text": [
            "/usr/local/lib/python3.6/dist-packages/sklearn/neural_network/multilayer_perceptron.py:566: ConvergenceWarning: Stochastic Optimizer: Maximum iterations (200) reached and the optimization hasn't converged yet.\n",
            "  % self.max_iter, ConvergenceWarning)\n"
          ],
          "name": "stderr"
        },
        {
          "output_type": "execute_result",
          "data": {
            "text/plain": [
              "MLPClassifier(activation='relu', alpha=0.0001, batch_size='auto', beta_1=0.9,\n",
              "              beta_2=0.999, early_stopping=False, epsilon=1e-08,\n",
              "              hidden_layer_sizes=(100,), learning_rate='constant',\n",
              "              learning_rate_init=0.001, max_iter=200, momentum=0.9,\n",
              "              n_iter_no_change=10, nesterovs_momentum=True, power_t=0.5,\n",
              "              random_state=5, shuffle=True, solver='adam', tol=0.0001,\n",
              "              validation_fraction=0.1, verbose=False, warm_start=False)"
            ]
          },
          "metadata": {
            "tags": []
          },
          "execution_count": 66
        }
      ]
    },
    {
      "cell_type": "code",
      "metadata": {
        "id": "YyvEnRcnxaGv",
        "colab_type": "code",
        "outputId": "975fc8eb-3dad-4bdd-be7c-39f3cd4cc4f9",
        "colab": {
          "base_uri": "https://localhost:8080/",
          "height": 34
        }
      },
      "source": [
        "stop = time.time()\n",
        "print(f\"training time : {stop - start}s\")"
      ],
      "execution_count": 67,
      "outputs": [
        {
          "output_type": "stream",
          "text": [
            "training time : 186.04488158226013s\n"
          ],
          "name": "stdout"
        }
      ]
    },
    {
      "cell_type": "code",
      "metadata": {
        "id": "UbVDojl8xdzu",
        "colab_type": "code",
        "outputId": "8cb103ae-369a-4dd5-edd6-d759224a1a0c",
        "colab": {
          "base_uri": "https://localhost:8080/",
          "height": 34
        }
      },
      "source": [
        "pred = clf.predict(X_test)\n",
        "\n",
        "accuracy_score(y_test,pred)"
      ],
      "execution_count": 68,
      "outputs": [
        {
          "output_type": "execute_result",
          "data": {
            "text/plain": [
              "0.8971849634448218"
            ]
          },
          "metadata": {
            "tags": []
          },
          "execution_count": 68
        }
      ]
    },
    {
      "cell_type": "code",
      "metadata": {
        "id": "kEk3-FHFyarR",
        "colab_type": "code",
        "colab": {}
      },
      "source": [
        "clf = MLPClassifier(random_state = 5, max_iter=300)\n",
        "\n",
        "scoring = {'accuracy': make_scorer(accuracy_score)}"
      ],
      "execution_count": 0,
      "outputs": []
    },
    {
      "cell_type": "code",
      "metadata": {
        "id": "EzqyhDqCxmpD",
        "colab_type": "code",
        "colab": {}
      },
      "source": [
        "start = time.time()"
      ],
      "execution_count": 0,
      "outputs": []
    },
    {
      "cell_type": "code",
      "metadata": {
        "id": "cEqviebmxoyq",
        "colab_type": "code",
        "colab": {
          "base_uri": "https://localhost:8080/",
          "height": 119
        },
        "outputId": "a7b356a2-b449-4c5f-805f-813262ecc34d"
      },
      "source": [
        "cv = ShuffleSplit(n_splits=3, test_size=0.3, train_size = 0.7, random_state=5)\n",
        "scores = cross_validate(clf, X, y, cv=cv, scoring=scoring, return_train_score=True)"
      ],
      "execution_count": 71,
      "outputs": [
        {
          "output_type": "stream",
          "text": [
            "/usr/local/lib/python3.6/dist-packages/sklearn/neural_network/multilayer_perceptron.py:566: ConvergenceWarning: Stochastic Optimizer: Maximum iterations (300) reached and the optimization hasn't converged yet.\n",
            "  % self.max_iter, ConvergenceWarning)\n",
            "/usr/local/lib/python3.6/dist-packages/sklearn/neural_network/multilayer_perceptron.py:566: ConvergenceWarning: Stochastic Optimizer: Maximum iterations (300) reached and the optimization hasn't converged yet.\n",
            "  % self.max_iter, ConvergenceWarning)\n",
            "/usr/local/lib/python3.6/dist-packages/sklearn/neural_network/multilayer_perceptron.py:566: ConvergenceWarning: Stochastic Optimizer: Maximum iterations (300) reached and the optimization hasn't converged yet.\n",
            "  % self.max_iter, ConvergenceWarning)\n"
          ],
          "name": "stderr"
        }
      ]
    },
    {
      "cell_type": "code",
      "metadata": {
        "id": "TwS7nAgvxqjS",
        "colab_type": "code",
        "colab": {
          "base_uri": "https://localhost:8080/",
          "height": 34
        },
        "outputId": "cd8b6b53-93a7-4a65-b4a5-4d44cf761942"
      },
      "source": [
        "stop = time.time()\n",
        "print(f\"Cross Validation time : {stop - start}s\")"
      ],
      "execution_count": 72,
      "outputs": [
        {
          "output_type": "stream",
          "text": [
            "Cross Validation time : 866.7507781982422s\n"
          ],
          "name": "stdout"
        }
      ]
    },
    {
      "cell_type": "code",
      "metadata": {
        "id": "MQ_D-9iixs0S",
        "colab_type": "code",
        "colab": {}
      },
      "source": [
        "print(scores)"
      ],
      "execution_count": 0,
      "outputs": []
    },
    {
      "cell_type": "markdown",
      "metadata": {
        "id": "XvI3QTvMv7Bo",
        "colab_type": "text"
      },
      "source": [
        "# Jumlah DATA"
      ]
    },
    {
      "cell_type": "code",
      "metadata": {
        "id": "LFSqtuI2tbk2",
        "colab_type": "code",
        "outputId": "932d374f-7917-4994-aa95-dda451823eb9",
        "colab": {
          "base_uri": "https://localhost:8080/",
          "height": 34
        }
      },
      "source": [
        "datanormal = df18v2.loc[df18v2['type_attack'].isin(['normal'])]\n",
        "datanormal.shape"
      ],
      "execution_count": 0,
      "outputs": [
        {
          "output_type": "execute_result",
          "data": {
            "text/plain": [
              "(90502, 19)"
            ]
          },
          "metadata": {
            "tags": []
          },
          "execution_count": 58
        }
      ]
    },
    {
      "cell_type": "code",
      "metadata": {
        "id": "tqIlqO0KvTXc",
        "colab_type": "code",
        "outputId": "a5d29f33-75a9-4696-9897-eb05726380e9",
        "colab": {
          "base_uri": "https://localhost:8080/",
          "height": 34
        }
      },
      "source": [
        "datados = df18v2.loc[df18v2['type_attack'].isin(['dos'])]\n",
        "datados.shape"
      ],
      "execution_count": 0,
      "outputs": [
        {
          "output_type": "execute_result",
          "data": {
            "text/plain": [
              "(62621, 19)"
            ]
          },
          "metadata": {
            "tags": []
          },
          "execution_count": 59
        }
      ]
    },
    {
      "cell_type": "code",
      "metadata": {
        "id": "_PvhGz6mvY8Q",
        "colab_type": "code",
        "outputId": "1891b16c-d5ab-43a3-dee5-19ea8400f672",
        "colab": {
          "base_uri": "https://localhost:8080/",
          "height": 34
        }
      },
      "source": [
        "dataprobe = df18v2.loc[df18v2['type_attack'].isin(['probe'])]\n",
        "dataprobe.shape"
      ],
      "execution_count": 0,
      "outputs": [
        {
          "output_type": "execute_result",
          "data": {
            "text/plain": [
              "(16366, 19)"
            ]
          },
          "metadata": {
            "tags": []
          },
          "execution_count": 60
        }
      ]
    },
    {
      "cell_type": "code",
      "metadata": {
        "id": "e7mJR0LevYzT",
        "colab_type": "code",
        "outputId": "01d80797-9337-4636-f4eb-ff7ee451094a",
        "colab": {
          "base_uri": "https://localhost:8080/",
          "height": 34
        }
      },
      "source": [
        "datar2l = df18v2.loc[df18v2['type_attack'].isin(['r2l'])]\n",
        "datar2l.shape"
      ],
      "execution_count": 0,
      "outputs": [
        {
          "output_type": "execute_result",
          "data": {
            "text/plain": [
              "(4089, 19)"
            ]
          },
          "metadata": {
            "tags": []
          },
          "execution_count": 61
        }
      ]
    },
    {
      "cell_type": "code",
      "metadata": {
        "id": "RJKrahDevitT",
        "colab_type": "code",
        "outputId": "cd85c831-ab79-40bb-e60c-5776e6b07a52",
        "colab": {
          "base_uri": "https://localhost:8080/",
          "height": 34
        }
      },
      "source": [
        "datau2r = df18v2.loc[df18v2['type_attack'].isin(['u2r'])]\n",
        "datau2r.shape"
      ],
      "execution_count": 0,
      "outputs": [
        {
          "output_type": "execute_result",
          "data": {
            "text/plain": [
              "(130, 19)"
            ]
          },
          "metadata": {
            "tags": []
          },
          "execution_count": 62
        }
      ]
    }
  ]
}