{
 "cells": [
  {
   "cell_type": "code",
   "execution_count": 1,
   "metadata": {},
   "outputs": [],
   "source": [
    "import numpy"
   ]
  },
  {
   "cell_type": "code",
   "execution_count": 2,
   "metadata": {},
   "outputs": [],
   "source": [
    "import matplotlib"
   ]
  },
  {
   "cell_type": "code",
   "execution_count": 3,
   "metadata": {},
   "outputs": [],
   "source": [
    "import sklearn"
   ]
  },
  {
   "cell_type": "code",
   "execution_count": 4,
   "metadata": {},
   "outputs": [],
   "source": [
    "import seaborn"
   ]
  },
  {
   "cell_type": "code",
   "execution_count": 5,
   "metadata": {},
   "outputs": [],
   "source": [
    "import pandas"
   ]
  },
  {
   "cell_type": "code",
   "execution_count": 6,
   "metadata": {},
   "outputs": [],
   "source": [
    "# !pip install pystan"
   ]
  },
  {
   "cell_type": "code",
   "execution_count": 9,
   "metadata": {},
   "outputs": [
    {
     "name": "stdout",
     "output_type": "stream",
     "text": [
      "Collecting fbprophet\n",
      "\u001b[?25l  Downloading https://files.pythonhosted.org/packages/33/fb/ad98d46773929079657706e6b2b6e366ba6c282bc2397d8f9b0ea8e5614c/fbprophet-0.5.tar.gz (49kB)\n",
      "\u001b[K     |████████████████████████████████| 51kB 409kB/s eta 0:00:01\n",
      "\u001b[?25hRequirement already satisfied: Cython>=0.22 in /opt/conda/lib/python3.7/site-packages (from fbprophet) (0.29.13)\n",
      "Collecting pystan>=2.14 (from fbprophet)\n",
      "\u001b[?25l  Downloading https://files.pythonhosted.org/packages/9f/cc/4e88a34a015aa7aa459220bd18429f3ac6b15c703465fc7c411989f04ccc/pystan-2.19.1.1-cp37-cp37m-manylinux1_x86_64.whl (67.3MB)\n",
      "\u001b[K     |████████████████████████████████| 67.3MB 292kB/s eta 0:00:01     |██████████████████████████████▌ | 64.1MB 353kB/s eta 0:00:09\n",
      "\u001b[?25hRequirement already satisfied: numpy>=1.10.0 in /opt/conda/lib/python3.7/site-packages (from fbprophet) (1.17.2)\n",
      "Requirement already satisfied: pandas>=0.23.4 in /opt/conda/lib/python3.7/site-packages (from fbprophet) (0.25.1)\n",
      "Requirement already satisfied: matplotlib>=2.0.0 in /opt/conda/lib/python3.7/site-packages (from fbprophet) (3.1.1)\n",
      "Collecting lunardate>=0.1.5 (from fbprophet)\n",
      "  Downloading https://files.pythonhosted.org/packages/4e/7e/377a3cbba646ec0cf79433ef858881d809a3b87eb887b0901cb83c66a758/lunardate-0.2.0-py3-none-any.whl\n",
      "Collecting convertdate>=2.1.2 (from fbprophet)\n",
      "  Downloading https://files.pythonhosted.org/packages/c9/f8/02a18000b0fbfd714f78aa16359796727a181e80f679682e3f62771a5c23/convertdate-2.2.0-py3-none-any.whl\n",
      "Collecting holidays>=0.9.5 (from fbprophet)\n",
      "\u001b[?25l  Downloading https://files.pythonhosted.org/packages/d0/17/a452275a0b3e811a381137ff6a61649086af4c5bf2a25755f518cc64b39e/holidays-0.9.11.tar.gz (81kB)\n",
      "\u001b[K     |████████████████████████████████| 81kB 50kB/s eta 0:00:019\n",
      "\u001b[?25hCollecting setuptools-git>=1.2 (from fbprophet)\n",
      "  Downloading https://files.pythonhosted.org/packages/05/97/dd99fa9c0d9627a7b3c103a00f1566d8193aca8d473884ed258cca82b06f/setuptools_git-1.2-py2.py3-none-any.whl\n",
      "Requirement already satisfied: python-dateutil>=2.6.1 in /opt/conda/lib/python3.7/site-packages (from pandas>=0.23.4->fbprophet) (2.8.0)\n",
      "Requirement already satisfied: pytz>=2017.2 in /opt/conda/lib/python3.7/site-packages (from pandas>=0.23.4->fbprophet) (2019.2)\n",
      "Requirement already satisfied: cycler>=0.10 in /opt/conda/lib/python3.7/site-packages (from matplotlib>=2.0.0->fbprophet) (0.10.0)\n",
      "Requirement already satisfied: kiwisolver>=1.0.1 in /opt/conda/lib/python3.7/site-packages (from matplotlib>=2.0.0->fbprophet) (1.1.0)\n",
      "Requirement already satisfied: pyparsing!=2.0.4,!=2.1.2,!=2.1.6,>=2.0.1 in /opt/conda/lib/python3.7/site-packages (from matplotlib>=2.0.0->fbprophet) (2.4.2)\n",
      "Collecting pymeeus<=1,>=0.3.6 (from convertdate>=2.1.2->fbprophet)\n",
      "\u001b[?25l  Downloading https://files.pythonhosted.org/packages/a3/78/6aef07082e4f4ebc9ce7b86ec0560e1b12f21d90f7a5706dc341b3538c49/PyMeeus-0.3.6.tar.gz (736kB)\n",
      "\u001b[K     |████████████████████████████████| 737kB 166kB/s eta 0:00:01\n",
      "\u001b[?25hRequirement already satisfied: six in /opt/conda/lib/python3.7/site-packages (from holidays>=0.9.5->fbprophet) (1.12.0)\n",
      "Requirement already satisfied: setuptools in /opt/conda/lib/python3.7/site-packages (from kiwisolver>=1.0.1->matplotlib>=2.0.0->fbprophet) (41.0.1)\n",
      "Building wheels for collected packages: fbprophet, holidays, pymeeus\n",
      "  Building wheel for fbprophet (setup.py) ... \u001b[?25lerror\n",
      "\u001b[31m  ERROR: Command errored out with exit status 1:\n",
      "   command: /opt/conda/bin/python -u -c 'import sys, setuptools, tokenize; sys.argv[0] = '\"'\"'/tmp/pip-install-ln2idc53/fbprophet/setup.py'\"'\"'; __file__='\"'\"'/tmp/pip-install-ln2idc53/fbprophet/setup.py'\"'\"';f=getattr(tokenize, '\"'\"'open'\"'\"', open)(__file__);code=f.read().replace('\"'\"'\\r\\n'\"'\"', '\"'\"'\\n'\"'\"');f.close();exec(compile(code, __file__, '\"'\"'exec'\"'\"'))' bdist_wheel -d /tmp/pip-wheel-cuuzc9xt --python-tag cp37\n",
      "       cwd: /tmp/pip-install-ln2idc53/fbprophet/\n",
      "  Complete output (36 lines):\n",
      "  running bdist_wheel\n",
      "  running build\n",
      "  running build_py\n",
      "  creating build\n",
      "  creating build/lib\n",
      "  creating build/lib/fbprophet\n",
      "  creating build/lib/fbprophet/stan_model\n",
      "  Traceback (most recent call last):\n",
      "    File \"<string>\", line 1, in <module>\n",
      "    File \"/tmp/pip-install-ln2idc53/fbprophet/setup.py\", line 120, in <module>\n",
      "      \"\"\"\n",
      "    File \"/opt/conda/lib/python3.7/site-packages/setuptools/__init__.py\", line 145, in setup\n",
      "      return distutils.core.setup(**attrs)\n",
      "    File \"/opt/conda/lib/python3.7/distutils/core.py\", line 148, in setup\n",
      "      dist.run_commands()\n",
      "    File \"/opt/conda/lib/python3.7/distutils/dist.py\", line 966, in run_commands\n",
      "      self.run_command(cmd)\n",
      "    File \"/opt/conda/lib/python3.7/distutils/dist.py\", line 985, in run_command\n",
      "      cmd_obj.run()\n",
      "    File \"/opt/conda/lib/python3.7/site-packages/wheel/bdist_wheel.py\", line 192, in run\n",
      "      self.run_command('build')\n",
      "    File \"/opt/conda/lib/python3.7/distutils/cmd.py\", line 313, in run_command\n",
      "      self.distribution.run_command(command)\n",
      "    File \"/opt/conda/lib/python3.7/distutils/dist.py\", line 985, in run_command\n",
      "      cmd_obj.run()\n",
      "    File \"/opt/conda/lib/python3.7/distutils/command/build.py\", line 135, in run\n",
      "      self.run_command(cmd_name)\n",
      "    File \"/opt/conda/lib/python3.7/distutils/cmd.py\", line 313, in run_command\n",
      "      self.distribution.run_command(command)\n",
      "    File \"/opt/conda/lib/python3.7/distutils/dist.py\", line 985, in run_command\n",
      "      cmd_obj.run()\n",
      "    File \"/tmp/pip-install-ln2idc53/fbprophet/setup.py\", line 44, in run\n",
      "      build_stan_model(target_dir)\n",
      "    File \"/tmp/pip-install-ln2idc53/fbprophet/setup.py\", line 27, in build_stan_model\n",
      "      from pystan import StanModel\n",
      "  ModuleNotFoundError: No module named 'pystan'\n",
      "  ----------------------------------------\u001b[0m\n",
      "\u001b[31m  ERROR: Failed building wheel for fbprophet\u001b[0m\n",
      "\u001b[?25h  Running setup.py clean for fbprophet\n",
      "  Building wheel for holidays (setup.py) ... \u001b[?25ldone\n",
      "\u001b[?25h  Created wheel for holidays: filename=holidays-0.9.11-cp37-none-any.whl size=44781 sha256=bce8b30f2c3ff2fa0cfdafc2ee20e75de4a7a1c19850a3a45571d8ca9737ad2a\n",
      "  Stored in directory: /home/jovyan/.cache/pip/wheels/40/a9/2b/94ac5464363d37564a87dc93a9d21a5850aac14a4608197003\n",
      "  Building wheel for pymeeus (setup.py) ... \u001b[?25ldone\n",
      "\u001b[?25h  Created wheel for pymeeus: filename=PyMeeus-0.3.6-cp37-none-any.whl size=702823 sha256=b220dd5f33b75beb3e9f4577490453748d6b2d1e7fd0849f9c3c8843cb6cf364\n",
      "  Stored in directory: /home/jovyan/.cache/pip/wheels/d6/a7/fd/a3cc8df9eb57b13a7e8935c406627e3d7f41cd511010b02e9c\n",
      "Successfully built holidays pymeeus\n",
      "Failed to build fbprophet\n",
      "Installing collected packages: pystan, lunardate, pymeeus, convertdate, holidays, setuptools-git, fbprophet\n",
      "  Running setup.py install for fbprophet ... \u001b[?25ldone\n",
      "\u001b[?25hSuccessfully installed convertdate-2.2.0 fbprophet-0.5 holidays-0.9.11 lunardate-0.2.0 pymeeus-0.3.6 pystan-2.19.1.1 setuptools-git-1.2\n"
     ]
    }
   ],
   "source": [
    "!pip install fbprophet"
   ]
  },
  {
   "cell_type": "code",
   "execution_count": 11,
   "metadata": {},
   "outputs": [],
   "source": [
    "from fbprophet import Prophet"
   ]
  },
  {
   "cell_type": "code",
   "execution_count": null,
   "metadata": {},
   "outputs": [],
   "source": []
  }
 ],
 "metadata": {
  "kernelspec": {
   "display_name": "Python 3",
   "language": "python",
   "name": "python3"
  },
  "language_info": {
   "codemirror_mode": {
    "name": "ipython",
    "version": 3
   },
   "file_extension": ".py",
   "mimetype": "text/x-python",
   "name": "python",
   "nbconvert_exporter": "python",
   "pygments_lexer": "ipython3",
   "version": "3.7.3"
  }
 },
 "nbformat": 4,
 "nbformat_minor": 2
}
