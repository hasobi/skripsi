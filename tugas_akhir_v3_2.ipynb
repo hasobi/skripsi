{
  "nbformat": 4,
  "nbformat_minor": 0,
  "metadata": {
    "colab": {
      "name": "tugas-akhir-v3.2.ipynb",
      "provenance": [],
      "collapsed_sections": []
    },
    "kernelspec": {
      "name": "python3",
      "display_name": "Python 3"
    }
  },
  "cells": [
    {
      "cell_type": "markdown",
      "metadata": {
        "id": "qxzP5AgD-_5n",
        "colab_type": "text"
      },
      "source": [
        "# **Import Library**"
      ]
    },
    {
      "cell_type": "markdown",
      "metadata": {
        "id": "5iT4sO1Q8lUX",
        "colab_type": "text"
      },
      "source": [
        "**Import library yang dibutuhkan**"
      ]
    },
    {
      "cell_type": "code",
      "metadata": {
        "id": "uu2UygGd0fzG",
        "colab_type": "code",
        "colab": {}
      },
      "source": [
        "#import Library\n",
        "import sklearn\n",
        "import numpy as np\n",
        "import pandas as pd\n",
        "# import tensorflow as tf\n",
        "\n",
        "#import MLPClassifier\n",
        "from sklearn.neural_network import MLPClassifier"
      ],
      "execution_count": 0,
      "outputs": []
    },
    {
      "cell_type": "markdown",
      "metadata": {
        "id": "ao_Y9N558-Z-",
        "colab_type": "text"
      },
      "source": [
        "**Untuk import file dari google drive**"
      ]
    },
    {
      "cell_type": "code",
      "metadata": {
        "id": "ZqxNS6a_857a",
        "colab_type": "code",
        "colab": {}
      },
      "source": [
        "# from google.colab import drive\n",
        "# drive.mount('/content/drive')\n",
        "\n",
        "url = \"https://raw.githubusercontent.com/hasobi/skripsi/master/dataset/gabungan_train_test-original.csv\""
      ],
      "execution_count": 0,
      "outputs": []
    },
    {
      "cell_type": "code",
      "metadata": {
        "id": "W2OZcItfqeGk",
        "colab_type": "code",
        "colab": {}
      },
      "source": [
        "from sklearn.model_selection import train_test_split\n",
        "from sklearn.metrics import accuracy_score\n",
        "\n",
        "from sklearn.model_selection import cross_validate\n",
        "from sklearn.metrics import accuracy_score, make_scorer\n",
        "from sklearn.model_selection import cross_validate, ShuffleSplit\n",
        "\n",
        "import time\n",
        "\n",
        "from sklearn.model_selection import KFold"
      ],
      "execution_count": 0,
      "outputs": []
    },
    {
      "cell_type": "markdown",
      "metadata": {
        "id": "VdvY5omW_UrO",
        "colab_type": "text"
      },
      "source": [
        "# Load Dataset"
      ]
    },
    {
      "cell_type": "code",
      "metadata": {
        "id": "5zl7-2Bp6iNS",
        "colab_type": "code",
        "colab": {}
      },
      "source": [
        "# dataset = pd.read_csv(\"/content/drive/My Drive/Tugas Akhir a.k.a SKRIPSI/dataset/gabungan_train_test-original.csv\")\n",
        "dataset = pd.read_csv(url)"
      ],
      "execution_count": 0,
      "outputs": []
    },
    {
      "cell_type": "markdown",
      "metadata": {
        "id": "Hg_pncc4_a-r",
        "colab_type": "text"
      },
      "source": [
        "# Dictionary"
      ]
    },
    {
      "cell_type": "markdown",
      "metadata": {
        "id": "GqTvnKJVPW9s",
        "colab_type": "text"
      },
      "source": [
        "Mengganti atribut pada dataset dari string ke integer dengan dictionary"
      ]
    },
    {
      "cell_type": "code",
      "metadata": {
        "id": "JDQ2tgMsVuht",
        "colab_type": "code",
        "colab": {}
      },
      "source": [
        "protocol_dict ={\n",
        "    \"udp\" : 0,\n",
        "    \"tcp\" : 1,\n",
        "    \"icmp\": 2\n",
        "}"
      ],
      "execution_count": 0,
      "outputs": []
    },
    {
      "cell_type": "code",
      "metadata": {
        "id": "hBlfhs8IV-Pm",
        "colab_type": "code",
        "colab": {}
      },
      "source": [
        "service_dict={\n",
        "    \"Z39_50\" : 0,\n",
        "    \"X11\" : 1,\n",
        "    \"whois\" : 2,\n",
        "    \"vmnet\" : 3,\n",
        "    \"uucp_path\" : 4,\n",
        "    \"uucp\" : 5,\n",
        "    \"urp_i\" : 6,\n",
        "    \"urh_i\" : 7,\n",
        "    \"time\" : 8,\n",
        "    \"tim_i\" : 9,\n",
        "    \"tftp_u\" : 10,\n",
        "    \"telnet\" : 11,\n",
        "    \"systat\" : 12,\n",
        "    \"supdup\" : 13,\n",
        "    \"sunrpc\" : 14,\n",
        "    \"ssh\" : 15,\n",
        "    \"sql_net\" : 16,\n",
        "    \"smtp\" : 17,\n",
        "    \"shell\" : 18,\n",
        "    \"rje\" : 19,\n",
        "    \"remote_job\" : 20,\n",
        "    \"red_i\" : 21,\n",
        "    \"private\" : 22,\n",
        "    \"printer\" : 23,\n",
        "    \"pop_3\" : 24,\n",
        "    \"pop_2\" : 25,\n",
        "    \"pm_dump\" : 26,\n",
        "    \"other\" : 27,\n",
        "    \"ntp_u\" : 28,\n",
        "    \"nntp\" : 29,\n",
        "    \"nnsp\" : 30,\n",
        "    \"netstat\" : 31,\n",
        "    \"netbios_ssn\" : 32,\n",
        "    \"netbios_ns\" : 33,\n",
        "    \"netbios_dgm\" : 34,\n",
        "    \"name\" : 35,\n",
        "    \"mtp\" : 36,\n",
        "    \"login\" : 37,\n",
        "    \"link\" : 38,\n",
        "    \"ldap\" : 39,\n",
        "    \"kshell\" : 40,\n",
        "    \"klogin\" : 41,\n",
        "    \"iso_tsap\" : 42,\n",
        "    \"IRC\" : 43,\n",
        "    \"imap4\" : 44,\n",
        "    \"http_8001\" : 45,\n",
        "    \"http_443\" : 46,\n",
        "    \"http_2784\" : 47,\n",
        "    \"http\" : 48,\n",
        "    \"hostnames\" : 49,\n",
        "    \"harvest\" : 50,\n",
        "    \"gopher\" : 51,\n",
        "    \"ftp_data\" : 52,\n",
        "    \"ftp\" : 53,\n",
        "    \"finger\" :  54,\n",
        "    \"exec\" : 55,\n",
        "    \"efs\" : 56,\n",
        "    \"ecr_i\" : 57,\n",
        "    \"eco_i\" : 58,\n",
        "    \"echo\" : 59,\n",
        "    \"domain_u\" : 60,\n",
        "    \"domain\" : 61,\n",
        "    \"discard\" : 62,\n",
        "    \"daytime\" : 63,\n",
        "    \"ctf\" : 64,\n",
        "    \"csnet_ns\" : 65,\n",
        "    \"courier\" : 66,\n",
        "    \"bgp\" : 67,\n",
        "    \"auth\" : 68,\n",
        "    \"aol\" : 69\n",
        "\n",
        "}"
      ],
      "execution_count": 0,
      "outputs": []
    },
    {
      "cell_type": "code",
      "metadata": {
        "id": "ykVdojs8STpb",
        "colab_type": "code",
        "colab": {}
      },
      "source": [
        "# attack_dict ={ \"xterm\" : 0,\n",
        "#               \"xsnoop\" : 1,\n",
        "#               \"xlock\" : 2,\n",
        "#               \"worm\" : 3,\n",
        "#               \"warezmaster\" : 4,\n",
        "#               \"warezclient\" : 5,\n",
        "#               \"udpstorm\" : 6,\n",
        "#               \"teardrop\" : 7,\n",
        "#               \"sqlattack\" : 8,\n",
        "#               \"spy\" : 9, \n",
        "#               \"snmpguess\" : 10,\n",
        "#               \"snmpgetattack\" : 11,\n",
        "#               \"smurf\" : 12,\n",
        "#               \"sendmail\" : 13,\n",
        "#               \"satan\" : 14,\n",
        "#               \"saint\" : 15,\n",
        "#               \"rootkit\" : 16,\n",
        "#               \"ps\" : 17,\n",
        "#               \"processtable\" : 18,\n",
        "#               \"portsweep\" : 19,\n",
        "#               \"pod\" : 20,\n",
        "#               \"phf\" : 21,\n",
        "#               \"perl\" : 22,\n",
        "#               \"normal\" : 23,\n",
        "#               \"nmap\" : 24,\n",
        "#               \"neptune\" : 25,\n",
        "#               \"named\" : 26,\n",
        "#               \"multihop\" : 27,\n",
        "#               \"mscan\" : 28,\n",
        "#               \"mailbomb\" : 29,\n",
        "#               \"loadmodule\" : 30,\n",
        "#               \"land\" : 31,\n",
        "#               \"ipsweep\" : 32,\n",
        "#               \"imap\" : 33,\n",
        "#               \"httptunnel\" : 34,\n",
        "#               \"guess_passwd\" : 35,\n",
        "#               \"ftp_write\" : 36,\n",
        "#               \"buffer_overflow\" : 37,\n",
        "#               \"back\" : 38,\n",
        "#               \"apache2\" : 39\n",
        "#              }\n",
        "\n",
        "\n",
        "attack_dict={ #DOS\n",
        "    'back' : 'dos',\n",
        "    'land' : 'dos',\n",
        "    'neptune' : 'dos',\n",
        "    'pod' : 'dos',\n",
        "    'smurf' : 'dos',\n",
        "    'teardrop' : 'dos',\n",
        "    'apache2' : 'dos',\n",
        "    'udpstorm' : 'dos',\n",
        "    'processtable' : 'dos',\n",
        "    'worm' : 'dos',\n",
        "    'mailbomb' : 'dos',\n",
        "    \n",
        "    #probe\n",
        "    'satan' : 'probe',\n",
        "    'ipsweep' : 'probe',\n",
        "    'nmap' : 'probe',\n",
        "    'portsweep' : 'probe',\n",
        "    'mscan' : 'probe',\n",
        "    'saint' : 'probe',\n",
        "    \n",
        "    #R2L\n",
        "    'guess_passwd' : 'r2l',\n",
        "    'ftp_write' : 'r2l',\n",
        "    'imap' : 'r2l',\n",
        "    'phf' : 'r2l',\n",
        "    'multihop' : 'r2l',\n",
        "    'warezmaster' : 'r2l',\n",
        "    'warezclient' : 'r2l',\n",
        "    'spy' : 'r2l',\n",
        "    'xlock' : 'r2l',\n",
        "    'xsnoop': 'r2l',\n",
        "    'snmpguess' : 'r2l',\n",
        "    'snmpgetattack' : 'r2l',\n",
        "    'httptunnel' : 'r2l',\n",
        "    'sendmail' : 'r2l',\n",
        "    'named' : 'r2l',\n",
        "    \n",
        "    #U2R\n",
        "    'buffer_overflow' : 'u2r',\n",
        "    'loadmodule' : 'u2r',\n",
        "    'rootkit' : 'u2r',\n",
        "    'perl' : 'u2r',\n",
        "    'sqlattack' : 'u2r',\n",
        "    'xterm' : 'u2r',\n",
        "    'ps' : 'u2r'\n",
        "}"
      ],
      "execution_count": 0,
      "outputs": []
    },
    {
      "cell_type": "code",
      "metadata": {
        "id": "LEEZ2lazYdPu",
        "colab_type": "code",
        "colab": {}
      },
      "source": [
        "flag_dict={\n",
        "    \"SH\" : 0,\n",
        "    \"SF\" : 1,\n",
        "    \"S3\" : 2,\n",
        "    \"S2\" : 3,\n",
        "    \"S1\" : 4,\n",
        "    \"S0\" : 5,\n",
        "    \"RSTR\" : 6,\n",
        "    \"RSTOS0\" : 7,\n",
        "    \"RSTO\" : 8,\n",
        "    \"REJ\" : 9,\n",
        "    \"OTH\" : 10\n",
        "\n",
        "}"
      ],
      "execution_count": 0,
      "outputs": []
    },
    {
      "cell_type": "code",
      "metadata": {
        "id": "akZlbrJ1ZRMM",
        "colab_type": "code",
        "outputId": "5078b662-fd5b-4505-8c19-030c7dc18c45",
        "colab": {
          "base_uri": "https://localhost:8080/",
          "height": 439
        }
      },
      "source": [
        "dataset.replace(protocol_dict, inplace = True)\n",
        "dataset.replace(service_dict, inplace = True)\n",
        "dataset.replace(attack_dict, inplace = True)\n",
        "dataset.replace(flag_dict, inplace = True)\n",
        "\n",
        "dataset"
      ],
      "execution_count": 0,
      "outputs": [
        {
          "output_type": "execute_result",
          "data": {
            "text/html": [
              "<div>\n",
              "<style scoped>\n",
              "    .dataframe tbody tr th:only-of-type {\n",
              "        vertical-align: middle;\n",
              "    }\n",
              "\n",
              "    .dataframe tbody tr th {\n",
              "        vertical-align: top;\n",
              "    }\n",
              "\n",
              "    .dataframe thead th {\n",
              "        text-align: right;\n",
              "    }\n",
              "</style>\n",
              "<table border=\"1\" class=\"dataframe\">\n",
              "  <thead>\n",
              "    <tr style=\"text-align: right;\">\n",
              "      <th></th>\n",
              "      <th>duration</th>\n",
              "      <th>protocol_type</th>\n",
              "      <th>service</th>\n",
              "      <th>flag</th>\n",
              "      <th>src_bytes</th>\n",
              "      <th>dst_bytes</th>\n",
              "      <th>land</th>\n",
              "      <th>wrong_fragment</th>\n",
              "      <th>urgent</th>\n",
              "      <th>hot</th>\n",
              "      <th>num_failed_logins</th>\n",
              "      <th>logged_in</th>\n",
              "      <th>num_compromised</th>\n",
              "      <th>root_shell</th>\n",
              "      <th>su_attempted</th>\n",
              "      <th>num_root</th>\n",
              "      <th>num_file_creations</th>\n",
              "      <th>num_shells</th>\n",
              "      <th>num_access_files</th>\n",
              "      <th>num_outbound_cmds</th>\n",
              "      <th>is_host_login</th>\n",
              "      <th>is_guest_login</th>\n",
              "      <th>count</th>\n",
              "      <th>srv_count</th>\n",
              "      <th>serror_rate</th>\n",
              "      <th>srv_serror_rate</th>\n",
              "      <th>rerror_rate</th>\n",
              "      <th>srv_rerror_rate</th>\n",
              "      <th>same_srv_rate</th>\n",
              "      <th>diff_srv_rate</th>\n",
              "      <th>srv_diff_host_rate</th>\n",
              "      <th>dst_host_count</th>\n",
              "      <th>dst_host_srv_count</th>\n",
              "      <th>dst_host_same_srv_rate</th>\n",
              "      <th>dst_host_diff_srv_rate</th>\n",
              "      <th>dst_host_same_src_port_rate</th>\n",
              "      <th>dst_host_srv_diff_host_rate</th>\n",
              "      <th>dst_host_serror_rate</th>\n",
              "      <th>dst_host_srv_serror_rate</th>\n",
              "      <th>dst_host_rerror_rate</th>\n",
              "      <th>dst_host_srv_rerror_rate</th>\n",
              "      <th>num_packet</th>\n",
              "      <th>type_attack</th>\n",
              "    </tr>\n",
              "  </thead>\n",
              "  <tbody>\n",
              "    <tr>\n",
              "      <th>0</th>\n",
              "      <td>0</td>\n",
              "      <td>1</td>\n",
              "      <td>52</td>\n",
              "      <td>1</td>\n",
              "      <td>491</td>\n",
              "      <td>0</td>\n",
              "      <td>0</td>\n",
              "      <td>0</td>\n",
              "      <td>0</td>\n",
              "      <td>0</td>\n",
              "      <td>0</td>\n",
              "      <td>0</td>\n",
              "      <td>0</td>\n",
              "      <td>0</td>\n",
              "      <td>0</td>\n",
              "      <td>0</td>\n",
              "      <td>0</td>\n",
              "      <td>0</td>\n",
              "      <td>0</td>\n",
              "      <td>0</td>\n",
              "      <td>0</td>\n",
              "      <td>0</td>\n",
              "      <td>2</td>\n",
              "      <td>2</td>\n",
              "      <td>0.0</td>\n",
              "      <td>0.0</td>\n",
              "      <td>0.0</td>\n",
              "      <td>0.0</td>\n",
              "      <td>1.00</td>\n",
              "      <td>0.00</td>\n",
              "      <td>0.00</td>\n",
              "      <td>150</td>\n",
              "      <td>25</td>\n",
              "      <td>0.17</td>\n",
              "      <td>0.03</td>\n",
              "      <td>0.17</td>\n",
              "      <td>0.00</td>\n",
              "      <td>0.00</td>\n",
              "      <td>0.00</td>\n",
              "      <td>0.05</td>\n",
              "      <td>0.00</td>\n",
              "      <td>20</td>\n",
              "      <td>normal</td>\n",
              "    </tr>\n",
              "    <tr>\n",
              "      <th>1</th>\n",
              "      <td>0</td>\n",
              "      <td>0</td>\n",
              "      <td>27</td>\n",
              "      <td>1</td>\n",
              "      <td>146</td>\n",
              "      <td>0</td>\n",
              "      <td>0</td>\n",
              "      <td>0</td>\n",
              "      <td>0</td>\n",
              "      <td>0</td>\n",
              "      <td>0</td>\n",
              "      <td>0</td>\n",
              "      <td>0</td>\n",
              "      <td>0</td>\n",
              "      <td>0</td>\n",
              "      <td>0</td>\n",
              "      <td>0</td>\n",
              "      <td>0</td>\n",
              "      <td>0</td>\n",
              "      <td>0</td>\n",
              "      <td>0</td>\n",
              "      <td>0</td>\n",
              "      <td>13</td>\n",
              "      <td>1</td>\n",
              "      <td>0.0</td>\n",
              "      <td>0.0</td>\n",
              "      <td>0.0</td>\n",
              "      <td>0.0</td>\n",
              "      <td>0.08</td>\n",
              "      <td>0.15</td>\n",
              "      <td>0.00</td>\n",
              "      <td>255</td>\n",
              "      <td>1</td>\n",
              "      <td>0.00</td>\n",
              "      <td>0.60</td>\n",
              "      <td>0.88</td>\n",
              "      <td>0.00</td>\n",
              "      <td>0.00</td>\n",
              "      <td>0.00</td>\n",
              "      <td>0.00</td>\n",
              "      <td>0.00</td>\n",
              "      <td>15</td>\n",
              "      <td>normal</td>\n",
              "    </tr>\n",
              "    <tr>\n",
              "      <th>2</th>\n",
              "      <td>0</td>\n",
              "      <td>1</td>\n",
              "      <td>22</td>\n",
              "      <td>5</td>\n",
              "      <td>0</td>\n",
              "      <td>0</td>\n",
              "      <td>0</td>\n",
              "      <td>0</td>\n",
              "      <td>0</td>\n",
              "      <td>0</td>\n",
              "      <td>0</td>\n",
              "      <td>0</td>\n",
              "      <td>0</td>\n",
              "      <td>0</td>\n",
              "      <td>0</td>\n",
              "      <td>0</td>\n",
              "      <td>0</td>\n",
              "      <td>0</td>\n",
              "      <td>0</td>\n",
              "      <td>0</td>\n",
              "      <td>0</td>\n",
              "      <td>0</td>\n",
              "      <td>123</td>\n",
              "      <td>6</td>\n",
              "      <td>1.0</td>\n",
              "      <td>1.0</td>\n",
              "      <td>0.0</td>\n",
              "      <td>0.0</td>\n",
              "      <td>0.05</td>\n",
              "      <td>0.07</td>\n",
              "      <td>0.00</td>\n",
              "      <td>255</td>\n",
              "      <td>26</td>\n",
              "      <td>0.10</td>\n",
              "      <td>0.05</td>\n",
              "      <td>0.00</td>\n",
              "      <td>0.00</td>\n",
              "      <td>1.00</td>\n",
              "      <td>1.00</td>\n",
              "      <td>0.00</td>\n",
              "      <td>0.00</td>\n",
              "      <td>19</td>\n",
              "      <td>dos</td>\n",
              "    </tr>\n",
              "    <tr>\n",
              "      <th>3</th>\n",
              "      <td>0</td>\n",
              "      <td>1</td>\n",
              "      <td>48</td>\n",
              "      <td>1</td>\n",
              "      <td>232</td>\n",
              "      <td>8153</td>\n",
              "      <td>0</td>\n",
              "      <td>0</td>\n",
              "      <td>0</td>\n",
              "      <td>0</td>\n",
              "      <td>0</td>\n",
              "      <td>1</td>\n",
              "      <td>0</td>\n",
              "      <td>0</td>\n",
              "      <td>0</td>\n",
              "      <td>0</td>\n",
              "      <td>0</td>\n",
              "      <td>0</td>\n",
              "      <td>0</td>\n",
              "      <td>0</td>\n",
              "      <td>0</td>\n",
              "      <td>0</td>\n",
              "      <td>5</td>\n",
              "      <td>5</td>\n",
              "      <td>0.2</td>\n",
              "      <td>0.2</td>\n",
              "      <td>0.0</td>\n",
              "      <td>0.0</td>\n",
              "      <td>1.00</td>\n",
              "      <td>0.00</td>\n",
              "      <td>0.00</td>\n",
              "      <td>30</td>\n",
              "      <td>255</td>\n",
              "      <td>1.00</td>\n",
              "      <td>0.00</td>\n",
              "      <td>0.03</td>\n",
              "      <td>0.04</td>\n",
              "      <td>0.03</td>\n",
              "      <td>0.01</td>\n",
              "      <td>0.00</td>\n",
              "      <td>0.01</td>\n",
              "      <td>21</td>\n",
              "      <td>normal</td>\n",
              "    </tr>\n",
              "    <tr>\n",
              "      <th>4</th>\n",
              "      <td>0</td>\n",
              "      <td>1</td>\n",
              "      <td>48</td>\n",
              "      <td>1</td>\n",
              "      <td>199</td>\n",
              "      <td>420</td>\n",
              "      <td>0</td>\n",
              "      <td>0</td>\n",
              "      <td>0</td>\n",
              "      <td>0</td>\n",
              "      <td>0</td>\n",
              "      <td>1</td>\n",
              "      <td>0</td>\n",
              "      <td>0</td>\n",
              "      <td>0</td>\n",
              "      <td>0</td>\n",
              "      <td>0</td>\n",
              "      <td>0</td>\n",
              "      <td>0</td>\n",
              "      <td>0</td>\n",
              "      <td>0</td>\n",
              "      <td>0</td>\n",
              "      <td>30</td>\n",
              "      <td>32</td>\n",
              "      <td>0.0</td>\n",
              "      <td>0.0</td>\n",
              "      <td>0.0</td>\n",
              "      <td>0.0</td>\n",
              "      <td>1.00</td>\n",
              "      <td>0.00</td>\n",
              "      <td>0.09</td>\n",
              "      <td>255</td>\n",
              "      <td>255</td>\n",
              "      <td>1.00</td>\n",
              "      <td>0.00</td>\n",
              "      <td>0.00</td>\n",
              "      <td>0.00</td>\n",
              "      <td>0.00</td>\n",
              "      <td>0.00</td>\n",
              "      <td>0.00</td>\n",
              "      <td>0.00</td>\n",
              "      <td>21</td>\n",
              "      <td>normal</td>\n",
              "    </tr>\n",
              "    <tr>\n",
              "      <th>...</th>\n",
              "      <td>...</td>\n",
              "      <td>...</td>\n",
              "      <td>...</td>\n",
              "      <td>...</td>\n",
              "      <td>...</td>\n",
              "      <td>...</td>\n",
              "      <td>...</td>\n",
              "      <td>...</td>\n",
              "      <td>...</td>\n",
              "      <td>...</td>\n",
              "      <td>...</td>\n",
              "      <td>...</td>\n",
              "      <td>...</td>\n",
              "      <td>...</td>\n",
              "      <td>...</td>\n",
              "      <td>...</td>\n",
              "      <td>...</td>\n",
              "      <td>...</td>\n",
              "      <td>...</td>\n",
              "      <td>...</td>\n",
              "      <td>...</td>\n",
              "      <td>...</td>\n",
              "      <td>...</td>\n",
              "      <td>...</td>\n",
              "      <td>...</td>\n",
              "      <td>...</td>\n",
              "      <td>...</td>\n",
              "      <td>...</td>\n",
              "      <td>...</td>\n",
              "      <td>...</td>\n",
              "      <td>...</td>\n",
              "      <td>...</td>\n",
              "      <td>...</td>\n",
              "      <td>...</td>\n",
              "      <td>...</td>\n",
              "      <td>...</td>\n",
              "      <td>...</td>\n",
              "      <td>...</td>\n",
              "      <td>...</td>\n",
              "      <td>...</td>\n",
              "      <td>...</td>\n",
              "      <td>...</td>\n",
              "      <td>...</td>\n",
              "    </tr>\n",
              "    <tr>\n",
              "      <th>173703</th>\n",
              "      <td>0</td>\n",
              "      <td>1</td>\n",
              "      <td>17</td>\n",
              "      <td>1</td>\n",
              "      <td>794</td>\n",
              "      <td>333</td>\n",
              "      <td>0</td>\n",
              "      <td>0</td>\n",
              "      <td>0</td>\n",
              "      <td>0</td>\n",
              "      <td>0</td>\n",
              "      <td>1</td>\n",
              "      <td>0</td>\n",
              "      <td>0</td>\n",
              "      <td>0</td>\n",
              "      <td>0</td>\n",
              "      <td>0</td>\n",
              "      <td>0</td>\n",
              "      <td>0</td>\n",
              "      <td>0</td>\n",
              "      <td>0</td>\n",
              "      <td>0</td>\n",
              "      <td>1</td>\n",
              "      <td>1</td>\n",
              "      <td>0.0</td>\n",
              "      <td>0.0</td>\n",
              "      <td>0.0</td>\n",
              "      <td>0.0</td>\n",
              "      <td>1.00</td>\n",
              "      <td>0.00</td>\n",
              "      <td>0.00</td>\n",
              "      <td>100</td>\n",
              "      <td>141</td>\n",
              "      <td>0.72</td>\n",
              "      <td>0.06</td>\n",
              "      <td>0.01</td>\n",
              "      <td>0.01</td>\n",
              "      <td>0.01</td>\n",
              "      <td>0.00</td>\n",
              "      <td>0.00</td>\n",
              "      <td>0.00</td>\n",
              "      <td>21</td>\n",
              "      <td>normal</td>\n",
              "    </tr>\n",
              "    <tr>\n",
              "      <th>173704</th>\n",
              "      <td>0</td>\n",
              "      <td>1</td>\n",
              "      <td>48</td>\n",
              "      <td>1</td>\n",
              "      <td>317</td>\n",
              "      <td>938</td>\n",
              "      <td>0</td>\n",
              "      <td>0</td>\n",
              "      <td>0</td>\n",
              "      <td>0</td>\n",
              "      <td>0</td>\n",
              "      <td>1</td>\n",
              "      <td>0</td>\n",
              "      <td>0</td>\n",
              "      <td>0</td>\n",
              "      <td>0</td>\n",
              "      <td>0</td>\n",
              "      <td>0</td>\n",
              "      <td>0</td>\n",
              "      <td>0</td>\n",
              "      <td>0</td>\n",
              "      <td>0</td>\n",
              "      <td>2</td>\n",
              "      <td>11</td>\n",
              "      <td>0.0</td>\n",
              "      <td>0.0</td>\n",
              "      <td>0.0</td>\n",
              "      <td>0.0</td>\n",
              "      <td>1.00</td>\n",
              "      <td>0.00</td>\n",
              "      <td>0.18</td>\n",
              "      <td>197</td>\n",
              "      <td>255</td>\n",
              "      <td>1.00</td>\n",
              "      <td>0.00</td>\n",
              "      <td>0.01</td>\n",
              "      <td>0.01</td>\n",
              "      <td>0.01</td>\n",
              "      <td>0.00</td>\n",
              "      <td>0.00</td>\n",
              "      <td>0.00</td>\n",
              "      <td>21</td>\n",
              "      <td>normal</td>\n",
              "    </tr>\n",
              "    <tr>\n",
              "      <th>173705</th>\n",
              "      <td>0</td>\n",
              "      <td>1</td>\n",
              "      <td>48</td>\n",
              "      <td>1</td>\n",
              "      <td>54540</td>\n",
              "      <td>8314</td>\n",
              "      <td>0</td>\n",
              "      <td>0</td>\n",
              "      <td>0</td>\n",
              "      <td>2</td>\n",
              "      <td>0</td>\n",
              "      <td>1</td>\n",
              "      <td>1</td>\n",
              "      <td>0</td>\n",
              "      <td>0</td>\n",
              "      <td>0</td>\n",
              "      <td>0</td>\n",
              "      <td>0</td>\n",
              "      <td>0</td>\n",
              "      <td>0</td>\n",
              "      <td>0</td>\n",
              "      <td>0</td>\n",
              "      <td>5</td>\n",
              "      <td>10</td>\n",
              "      <td>0.0</td>\n",
              "      <td>0.0</td>\n",
              "      <td>0.0</td>\n",
              "      <td>0.0</td>\n",
              "      <td>1.00</td>\n",
              "      <td>0.00</td>\n",
              "      <td>0.20</td>\n",
              "      <td>255</td>\n",
              "      <td>255</td>\n",
              "      <td>1.00</td>\n",
              "      <td>0.00</td>\n",
              "      <td>0.00</td>\n",
              "      <td>0.00</td>\n",
              "      <td>0.00</td>\n",
              "      <td>0.00</td>\n",
              "      <td>0.07</td>\n",
              "      <td>0.07</td>\n",
              "      <td>15</td>\n",
              "      <td>dos</td>\n",
              "    </tr>\n",
              "    <tr>\n",
              "      <th>173706</th>\n",
              "      <td>0</td>\n",
              "      <td>0</td>\n",
              "      <td>60</td>\n",
              "      <td>1</td>\n",
              "      <td>42</td>\n",
              "      <td>42</td>\n",
              "      <td>0</td>\n",
              "      <td>0</td>\n",
              "      <td>0</td>\n",
              "      <td>0</td>\n",
              "      <td>0</td>\n",
              "      <td>0</td>\n",
              "      <td>0</td>\n",
              "      <td>0</td>\n",
              "      <td>0</td>\n",
              "      <td>0</td>\n",
              "      <td>0</td>\n",
              "      <td>0</td>\n",
              "      <td>0</td>\n",
              "      <td>0</td>\n",
              "      <td>0</td>\n",
              "      <td>0</td>\n",
              "      <td>4</td>\n",
              "      <td>6</td>\n",
              "      <td>0.0</td>\n",
              "      <td>0.0</td>\n",
              "      <td>0.0</td>\n",
              "      <td>0.0</td>\n",
              "      <td>1.00</td>\n",
              "      <td>0.00</td>\n",
              "      <td>0.33</td>\n",
              "      <td>255</td>\n",
              "      <td>252</td>\n",
              "      <td>0.99</td>\n",
              "      <td>0.01</td>\n",
              "      <td>0.00</td>\n",
              "      <td>0.00</td>\n",
              "      <td>0.00</td>\n",
              "      <td>0.00</td>\n",
              "      <td>0.00</td>\n",
              "      <td>0.00</td>\n",
              "      <td>21</td>\n",
              "      <td>normal</td>\n",
              "    </tr>\n",
              "    <tr>\n",
              "      <th>173707</th>\n",
              "      <td>0</td>\n",
              "      <td>1</td>\n",
              "      <td>14</td>\n",
              "      <td>9</td>\n",
              "      <td>0</td>\n",
              "      <td>0</td>\n",
              "      <td>0</td>\n",
              "      <td>0</td>\n",
              "      <td>0</td>\n",
              "      <td>0</td>\n",
              "      <td>0</td>\n",
              "      <td>0</td>\n",
              "      <td>0</td>\n",
              "      <td>0</td>\n",
              "      <td>0</td>\n",
              "      <td>0</td>\n",
              "      <td>0</td>\n",
              "      <td>0</td>\n",
              "      <td>0</td>\n",
              "      <td>0</td>\n",
              "      <td>0</td>\n",
              "      <td>0</td>\n",
              "      <td>4</td>\n",
              "      <td>10</td>\n",
              "      <td>0.0</td>\n",
              "      <td>0.0</td>\n",
              "      <td>1.0</td>\n",
              "      <td>1.0</td>\n",
              "      <td>0.25</td>\n",
              "      <td>1.00</td>\n",
              "      <td>1.00</td>\n",
              "      <td>255</td>\n",
              "      <td>21</td>\n",
              "      <td>0.08</td>\n",
              "      <td>0.03</td>\n",
              "      <td>0.00</td>\n",
              "      <td>0.00</td>\n",
              "      <td>0.00</td>\n",
              "      <td>0.00</td>\n",
              "      <td>0.44</td>\n",
              "      <td>1.00</td>\n",
              "      <td>14</td>\n",
              "      <td>probe</td>\n",
              "    </tr>\n",
              "  </tbody>\n",
              "</table>\n",
              "<p>173708 rows × 43 columns</p>\n",
              "</div>"
            ],
            "text/plain": [
              "        duration  protocol_type  ...  num_packet  type_attack\n",
              "0              0              1  ...          20       normal\n",
              "1              0              0  ...          15       normal\n",
              "2              0              1  ...          19          dos\n",
              "3              0              1  ...          21       normal\n",
              "4              0              1  ...          21       normal\n",
              "...          ...            ...  ...         ...          ...\n",
              "173703         0              1  ...          21       normal\n",
              "173704         0              1  ...          21       normal\n",
              "173705         0              1  ...          15          dos\n",
              "173706         0              0  ...          21       normal\n",
              "173707         0              1  ...          14        probe\n",
              "\n",
              "[173708 rows x 43 columns]"
            ]
          },
          "metadata": {
            "tags": []
          },
          "execution_count": 31
        }
      ]
    },
    {
      "cell_type": "markdown",
      "metadata": {
        "id": "1ptcrpPLD98b",
        "colab_type": "text"
      },
      "source": [
        "# Select Row"
      ]
    },
    {
      "cell_type": "code",
      "metadata": {
        "id": "8JYpAw5W0p85",
        "colab_type": "code",
        "colab": {}
      },
      "source": [
        "# dataset = pd.read_csv(url)\n",
        "# dataset"
      ],
      "execution_count": 0,
      "outputs": []
    },
    {
      "cell_type": "code",
      "metadata": {
        "id": "ni9z4nOWqLHy",
        "colab_type": "code",
        "colab": {}
      },
      "source": [
        "# X = dataset.loc[:, :'num_packet']\n",
        "X = dataset.loc[:, :'dst_host_srv_rerror_rate']\n",
        "y = dataset.loc[:, 'type_attack']"
      ],
      "execution_count": 0,
      "outputs": []
    },
    {
      "cell_type": "code",
      "metadata": {
        "id": "_rigkLsWrftR",
        "colab_type": "code",
        "colab": {}
      },
      "source": [
        "y = y.astype(str)"
      ],
      "execution_count": 0,
      "outputs": []
    },
    {
      "cell_type": "code",
      "metadata": {
        "id": "JpJQi0K_rto_",
        "colab_type": "code",
        "colab": {}
      },
      "source": [
        "temp = set(y)\n",
        "# temp"
      ],
      "execution_count": 0,
      "outputs": []
    },
    {
      "cell_type": "code",
      "metadata": {
        "id": "fyq_kNtcqzue",
        "colab_type": "code",
        "colab": {}
      },
      "source": [
        "X_train, X_test, y_train, y_test = train_test_split(X, y, test_size=0.3, train_size=0.7, random_state=5)"
      ],
      "execution_count": 0,
      "outputs": []
    },
    {
      "cell_type": "code",
      "metadata": {
        "id": "14pxODR5Galx",
        "colab_type": "code",
        "colab": {}
      },
      "source": [
        "# kf = KFold(n_splits=2, random_state=5)"
      ],
      "execution_count": 0,
      "outputs": []
    },
    {
      "cell_type": "code",
      "metadata": {
        "id": "Vn7SwL3IUHr1",
        "colab_type": "code",
        "colab": {}
      },
      "source": [
        "# clf = MLPClassifier(random_state = 5)\n",
        "clf = MLPClassifier(random_state=5)"
      ],
      "execution_count": 0,
      "outputs": []
    },
    {
      "cell_type": "code",
      "metadata": {
        "id": "hKyXNiAqqWm_",
        "colab_type": "code",
        "colab": {}
      },
      "source": [
        "start = time.time()"
      ],
      "execution_count": 0,
      "outputs": []
    },
    {
      "cell_type": "code",
      "metadata": {
        "id": "4mbPPynIq-uC",
        "colab_type": "code",
        "outputId": "647613f7-52c7-4feb-cbdb-3a78d9d03b55",
        "colab": {
          "base_uri": "https://localhost:8080/",
          "height": 170
        }
      },
      "source": [
        "clf.fit(X_train, y_train)"
      ],
      "execution_count": 0,
      "outputs": [
        {
          "output_type": "stream",
          "text": [
            "/usr/local/lib/python3.6/dist-packages/sklearn/neural_network/multilayer_perceptron.py:566: ConvergenceWarning: Stochastic Optimizer: Maximum iterations (200) reached and the optimization hasn't converged yet.\n",
            "  % self.max_iter, ConvergenceWarning)\n"
          ],
          "name": "stderr"
        },
        {
          "output_type": "execute_result",
          "data": {
            "text/plain": [
              "MLPClassifier(activation='relu', alpha=0.0001, batch_size='auto', beta_1=0.9,\n",
              "              beta_2=0.999, early_stopping=False, epsilon=1e-08,\n",
              "              hidden_layer_sizes=(100,), learning_rate='constant',\n",
              "              learning_rate_init=0.001, max_iter=200, momentum=0.9,\n",
              "              n_iter_no_change=10, nesterovs_momentum=True, power_t=0.5,\n",
              "              random_state=5, shuffle=True, solver='adam', tol=0.0001,\n",
              "              validation_fraction=0.1, verbose=False, warm_start=False)"
            ]
          },
          "metadata": {
            "tags": []
          },
          "execution_count": 40
        }
      ]
    },
    {
      "cell_type": "code",
      "metadata": {
        "id": "IYgpZP5tqX4m",
        "colab_type": "code",
        "colab": {}
      },
      "source": [
        "stop = time.time()"
      ],
      "execution_count": 0,
      "outputs": []
    },
    {
      "cell_type": "code",
      "metadata": {
        "id": "a9tnBvfothiA",
        "colab_type": "code",
        "outputId": "c74f4ffa-3e54-436f-f95d-3730d7a12c17",
        "colab": {
          "base_uri": "https://localhost:8080/",
          "height": 34
        }
      },
      "source": [
        "print(f\"Training time: {stop - start}s\")"
      ],
      "execution_count": 0,
      "outputs": [
        {
          "output_type": "stream",
          "text": [
            "Training time: 260.7103238105774s\n"
          ],
          "name": "stdout"
        }
      ]
    },
    {
      "cell_type": "code",
      "metadata": {
        "id": "H8M1KqEprBmB",
        "colab_type": "code",
        "colab": {}
      },
      "source": [
        "pred = clf.predict(X_test)"
      ],
      "execution_count": 0,
      "outputs": []
    },
    {
      "cell_type": "code",
      "metadata": {
        "id": "vapxQkGN6fik",
        "colab_type": "code",
        "outputId": "faf81cc3-4f35-4070-b824-3607e84de5a8",
        "colab": {
          "base_uri": "https://localhost:8080/",
          "height": 34
        }
      },
      "source": [
        "accuracy_score(y_test,pred)"
      ],
      "execution_count": 0,
      "outputs": [
        {
          "output_type": "execute_result",
          "data": {
            "text/plain": [
              "0.9609694318116401"
            ]
          },
          "metadata": {
            "tags": []
          },
          "execution_count": 44
        }
      ]
    },
    {
      "cell_type": "code",
      "metadata": {
        "id": "J0K5oUWfyu7N",
        "colab_type": "code",
        "colab": {}
      },
      "source": [
        "start = time.time()"
      ],
      "execution_count": 0,
      "outputs": []
    },
    {
      "cell_type": "code",
      "metadata": {
        "id": "6BxH9xY9G2gN",
        "colab_type": "code",
        "colab": {}
      },
      "source": [
        "# for train_indices, test_indices in kf.split(X):\n",
        "#     clf.fit(X_train, y_train)\n",
        "#     print(clf.score(X_test, y_test))"
      ],
      "execution_count": 0,
      "outputs": []
    },
    {
      "cell_type": "code",
      "metadata": {
        "id": "dJyrIwkgs7lp",
        "colab_type": "code",
        "outputId": "7deba177-b02d-4152-c50b-75c9aa42cf30",
        "colab": {
          "base_uri": "https://localhost:8080/",
          "height": 34
        }
      },
      "source": [
        "stop = time.time()\n",
        "print(f\"Training time: {stop - start}s\")"
      ],
      "execution_count": 0,
      "outputs": [
        {
          "output_type": "stream",
          "text": [
            "Training time: 0.022495269775390625s\n"
          ],
          "name": "stdout"
        }
      ]
    },
    {
      "cell_type": "code",
      "metadata": {
        "id": "qmTMVmfBhLz5",
        "colab_type": "code",
        "colab": {}
      },
      "source": [
        "clf = MLPClassifier(random_state = 5)"
      ],
      "execution_count": 0,
      "outputs": []
    },
    {
      "cell_type": "code",
      "metadata": {
        "id": "YaK0qJwMkwA-",
        "colab_type": "code",
        "colab": {}
      },
      "source": [
        "scoring = {'accuracy': make_scorer(accuracy_score)}"
      ],
      "execution_count": 0,
      "outputs": []
    },
    {
      "cell_type": "markdown",
      "metadata": {
        "id": "26koOOQqt-OL",
        "colab_type": "text"
      },
      "source": [
        "# CROSS VALIDATION"
      ]
    },
    {
      "cell_type": "code",
      "metadata": {
        "id": "pvFd0BeFr_IH",
        "colab_type": "code",
        "colab": {}
      },
      "source": [
        "start = time.time()"
      ],
      "execution_count": 0,
      "outputs": []
    },
    {
      "cell_type": "code",
      "metadata": {
        "id": "Vas9ZPM3hZ3m",
        "colab_type": "code",
        "outputId": "c96d8e86-5dae-474a-b5a4-b1fa4d5bc80e",
        "colab": {
          "base_uri": "https://localhost:8080/",
          "height": 139
        }
      },
      "source": [
        "cv = ShuffleSplit(n_splits=3, test_size=0.3, train_size=0.7, random_state=5)\n",
        "scores = cross_validate(clf, X, y, cv=cv, scoring=scoring, return_train_score=True)"
      ],
      "execution_count": 0,
      "outputs": [
        {
          "output_type": "stream",
          "text": [
            "/usr/local/lib/python3.6/dist-packages/sklearn/neural_network/multilayer_perceptron.py:566: ConvergenceWarning: Stochastic Optimizer: Maximum iterations (200) reached and the optimization hasn't converged yet.\n",
            "  % self.max_iter, ConvergenceWarning)\n",
            "/usr/local/lib/python3.6/dist-packages/sklearn/neural_network/multilayer_perceptron.py:566: ConvergenceWarning: Stochastic Optimizer: Maximum iterations (200) reached and the optimization hasn't converged yet.\n",
            "  % self.max_iter, ConvergenceWarning)\n",
            "/usr/local/lib/python3.6/dist-packages/sklearn/neural_network/multilayer_perceptron.py:566: ConvergenceWarning: Stochastic Optimizer: Maximum iterations (200) reached and the optimization hasn't converged yet.\n",
            "  % self.max_iter, ConvergenceWarning)\n"
          ],
          "name": "stderr"
        }
      ]
    },
    {
      "cell_type": "code",
      "metadata": {
        "id": "EebQGrOZsBXp",
        "colab_type": "code",
        "outputId": "4df7dd18-ed8a-4d67-b0e2-4e09309f2d0a",
        "colab": {
          "base_uri": "https://localhost:8080/",
          "height": 34
        }
      },
      "source": [
        "stop = time.time()\n",
        "print(f\"Cross Validation time : {stop - start}s\")\n"
      ],
      "execution_count": 0,
      "outputs": [
        {
          "output_type": "stream",
          "text": [
            "Cross Validation time : 701.5021743774414s\n"
          ],
          "name": "stdout"
        }
      ]
    },
    {
      "cell_type": "code",
      "metadata": {
        "id": "EWfxs2By2nyT",
        "colab_type": "code",
        "outputId": "dbc777b8-cb82-4d17-da87-2165380cf081",
        "colab": {
          "base_uri": "https://localhost:8080/",
          "height": 54
        }
      },
      "source": [
        "print(scores)"
      ],
      "execution_count": 0,
      "outputs": [
        {
          "output_type": "stream",
          "text": [
            "{'fit_time': array([238.29360962, 248.34544897, 211.50897503]), 'score_time': array([0.36794734, 0.40125847, 0.28826833]), 'test_accuracy': array([0.96096943, 0.95008923, 0.96423157]), 'train_accuracy': array([0.95940623, 0.95164275, 0.96420905])}\n"
          ],
          "name": "stdout"
        }
      ]
    }
  ]
}