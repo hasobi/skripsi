{
 "cells": [
  {
   "cell_type": "markdown",
   "metadata": {
    "colab_type": "text",
    "id": "view-in-github"
   },
   "source": [
    "<a href=\"https://colab.research.google.com/github/hasobi/skripsi/blob/master/plot_final_v1_4.ipynb\" target=\"_parent\"><img src=\"https://colab.research.google.com/assets/colab-badge.svg\" alt=\"Open In Colab\"/></a>"
   ]
  },
  {
   "cell_type": "markdown",
   "metadata": {
    "colab_type": "text",
    "id": "qyPSjn2wS6SL"
   },
   "source": [
    "# Inisialisasi"
   ]
  },
  {
   "cell_type": "code",
   "execution_count": 1,
   "metadata": {
    "colab": {},
    "colab_type": "code",
    "id": "-fRqArpcSAlk"
   },
   "outputs": [],
   "source": [
    "import pandas as pd\n",
    "import numpy as np\n",
    "\n",
    "import matplotlib.pyplot as plt\n",
    "import seaborn as sns"
   ]
  },
  {
   "cell_type": "code",
   "execution_count": 2,
   "metadata": {
    "colab": {},
    "colab_type": "code",
    "id": "AgLr0kKcSNrj"
   },
   "outputs": [],
   "source": [
    "# from google.colab import drive\n",
    "# drive.mount('/content/drive')\n",
    "\n",
    "url = 'https://raw.githubusercontent.com/hasobi/skripsi/master/dataset/KDDTrain%2B_v1.csv'"
   ]
  },
  {
   "cell_type": "code",
   "execution_count": null,
   "metadata": {
    "colab": {},
    "colab_type": "code",
    "id": "IjBxywOVSUUC"
   },
   "outputs": [],
   "source": [
    "# df = pd.read_csv('/content/drive/My Drive/Tugas Akhir a.k.a SKRIPSI/dataset/KDDTrain+_v1.csv')\n",
    "\n",
    "df = pd.read_csv(url)"
   ]
  },
  {
   "cell_type": "code",
   "execution_count": null,
   "metadata": {
    "colab": {},
    "colab_type": "code",
    "id": "zbSXsGNQSdU0"
   },
   "outputs": [],
   "source": [
    "data = df"
   ]
  },
  {
   "cell_type": "code",
   "execution_count": null,
   "metadata": {
    "colab": {},
    "colab_type": "code",
    "id": "LvtqoMArSoFF"
   },
   "outputs": [],
   "source": [
    "# dicitionary untuk merubah tipe serangan menjadi lebih umum seperti Normal, DoS, Probe, U2R, dan R2L\n",
    "\n",
    "attack_dict={ #DOS\n",
    "    'back' : 'dos',\n",
    "    'land' : 'dos',\n",
    "    'neptune' : 'dos',\n",
    "    'pod' : 'dos',\n",
    "    'smurf' : 'dos',\n",
    "    'teardrop' : 'dos',\n",
    "    'apache2' : 'dos',\n",
    "    'udpstorm' : 'dos',\n",
    "    'processtable' : 'dos',\n",
    "    'worm' : 'dos',\n",
    "    'mailbomb' : 'dos',\n",
    "    \n",
    "    #probe\n",
    "    'satan' : 'probe',\n",
    "    'ipsweep' : 'probe',\n",
    "    'nmap' : 'probe',\n",
    "    'portsweep' : 'probe',\n",
    "    'mscan' : 'probe',\n",
    "    'saint' : 'probe',\n",
    "    \n",
    "    #R2L\n",
    "    'guess_passwd' : 'r2l',\n",
    "    'ftp_write' : 'r2l',\n",
    "    'imap' : 'r2l',\n",
    "    'phf' : 'r2l',\n",
    "    'multihop' : 'r2l',\n",
    "    'warezmaster' : 'r2l',\n",
    "    'warezclient' : 'r2l',\n",
    "    'spy' : 'r2l',\n",
    "    'xlock' : 'r2l',\n",
    "    'xsnoop': 'r2l',\n",
    "    'snmpguess' : 'r2l',\n",
    "    'snmpgetattack' : 'r2l',\n",
    "    'httptunnel' : 'r2l',\n",
    "    'sendmail' : 'r2l',\n",
    "    'named' : 'r2l',\n",
    "    \n",
    "    #U2R\n",
    "    'buffer_overflow' : 'u2r',\n",
    "    'loadmodule' : 'u2r',\n",
    "    'rootkit' : 'u2r',\n",
    "    'perl' : 'u2r',\n",
    "    'sqlattack' : 'u2r',\n",
    "    'xterm' : 'u2r',\n",
    "    'ps' : 'u2r'\n",
    "}\n",
    "\n",
    "data.replace(attack_dict, inplace = True)"
   ]
  },
  {
   "cell_type": "code",
   "execution_count": null,
   "metadata": {
    "colab": {},
    "colab_type": "code",
    "id": "GKM-RdrHE3P9"
   },
   "outputs": [],
   "source": [
    "data.head()"
   ]
  },
  {
   "cell_type": "code",
   "execution_count": null,
   "metadata": {
    "colab": {},
    "colab_type": "code",
    "id": "lWTQTbl069MZ"
   },
   "outputs": [],
   "source": [
    "data.shape"
   ]
  },
  {
   "cell_type": "code",
   "execution_count": null,
   "metadata": {
    "colab": {},
    "colab_type": "code",
    "id": "HDOAiq2xFQGe"
   },
   "outputs": [],
   "source": [
    "data1 = data.loc[data['type_attack'].isin(['normal','dos'])]"
   ]
  },
  {
   "cell_type": "code",
   "execution_count": null,
   "metadata": {
    "colab": {},
    "colab_type": "code",
    "id": "c0KgeZUNGeUr"
   },
   "outputs": [],
   "source": [
    "# Jumlah data 113269 (Normal & Dos)\n",
    "data1.shape"
   ]
  },
  {
   "cell_type": "code",
   "execution_count": null,
   "metadata": {
    "colab": {},
    "colab_type": "code",
    "id": "jF6z1_KJImMr"
   },
   "outputs": [],
   "source": [
    "# data normal ada 67342\n",
    "data1.loc[data1['type_attack']=='normal'].shape"
   ]
  },
  {
   "cell_type": "code",
   "execution_count": null,
   "metadata": {
    "colab": {},
    "colab_type": "code",
    "id": "eMu4no9JI7bV"
   },
   "outputs": [],
   "source": [
    "#data dos ada 45927\n",
    "data1.loc[data1['type_attack']=='dos'].shape"
   ]
  },
  {
   "cell_type": "markdown",
   "metadata": {
    "colab_type": "text",
    "id": "4rJpk5Tcjnp6"
   },
   "source": [
    "# PCA"
   ]
  },
  {
   "cell_type": "code",
   "execution_count": null,
   "metadata": {
    "colab": {},
    "colab_type": "code",
    "id": "Ptaw3ewEjpzc"
   },
   "outputs": [],
   "source": [
    "from sklearn.preprocessing import StandardScaler\n",
    "from sklearn.decomposition import PCA\n"
   ]
  },
  {
   "cell_type": "code",
   "execution_count": null,
   "metadata": {
    "colab": {},
    "colab_type": "code",
    "id": "g5TjMGT_Jr9z"
   },
   "outputs": [],
   "source": [
    "data2 = data1"
   ]
  },
  {
   "cell_type": "code",
   "execution_count": null,
   "metadata": {
    "colab": {},
    "colab_type": "code",
    "id": "Dw_HD5C5JETl"
   },
   "outputs": [],
   "source": [
    "data1.head()"
   ]
  },
  {
   "cell_type": "code",
   "execution_count": null,
   "metadata": {
    "colab": {},
    "colab_type": "code",
    "id": "9s7IfZKCJFV8"
   },
   "outputs": [],
   "source": [
    "data1.drop('num_packet', axis=1, inplace=True)"
   ]
  },
  {
   "cell_type": "code",
   "execution_count": null,
   "metadata": {
    "colab": {},
    "colab_type": "code",
    "id": "4N8TOKU-JF2M"
   },
   "outputs": [],
   "source": [
    "data1.drop('type_attack', axis=1, inplace=True)"
   ]
  },
  {
   "cell_type": "code",
   "execution_count": null,
   "metadata": {
    "colab": {},
    "colab_type": "code",
    "id": "VhcXiV0vKa1r"
   },
   "outputs": [],
   "source": [
    "protocol_dict ={\n",
    "    \"udp\" : 0,\n",
    "    \"tcp\" : 1,\n",
    "    \"icmp\": 2\n",
    "}\n",
    "\n",
    "service_dict={\n",
    "    \"Z39_50\" : 0,\n",
    "    \"X11\" : 1,\n",
    "    \"whois\" : 2,\n",
    "    \"vmnet\" : 3,\n",
    "    \"uucp_path\" : 4,\n",
    "    \"uucp\" : 5,\n",
    "    \"urp_i\" : 6,\n",
    "    \"urh_i\" : 7,\n",
    "    \"time\" : 8,\n",
    "    \"tim_i\" : 9,\n",
    "    \"tftp_u\" : 10,\n",
    "    \"telnet\" : 11,\n",
    "    \"systat\" : 12,\n",
    "    \"supdup\" : 13,\n",
    "    \"sunrpc\" : 14,\n",
    "    \"ssh\" : 15,\n",
    "    \"sql_net\" : 16,\n",
    "    \"smtp\" : 17,\n",
    "    \"shell\" : 18,\n",
    "    \"rje\" : 19,\n",
    "    \"remote_job\" : 20,\n",
    "    \"red_i\" : 21,\n",
    "    \"private\" : 22,\n",
    "    \"printer\" : 23,\n",
    "    \"pop_3\" : 24,\n",
    "    \"pop_2\" : 25,\n",
    "    \"pm_dump\" : 26,\n",
    "    \"other\" : 27,\n",
    "    \"ntp_u\" : 28,\n",
    "    \"nntp\" : 29,\n",
    "    \"nnsp\" : 30,\n",
    "    \"netstat\" : 31,\n",
    "    \"netbios_ssn\" : 32,\n",
    "    \"netbios_ns\" : 33,\n",
    "    \"netbios_dgm\" : 34,\n",
    "    \"name\" : 35,\n",
    "    \"mtp\" : 36,\n",
    "    \"login\" : 37,\n",
    "    \"link\" : 38,\n",
    "    \"ldap\" : 39,\n",
    "    \"kshell\" : 40,\n",
    "    \"klogin\" : 41,\n",
    "    \"iso_tsap\" : 42,\n",
    "    \"IRC\" : 43,\n",
    "    \"imap4\" : 44,\n",
    "    \"http_8001\" : 45,\n",
    "    \"http_443\" : 46,\n",
    "    \"http_2784\" : 47,\n",
    "    \"http\" : 48,\n",
    "    \"hostnames\" : 49,\n",
    "    \"harvest\" : 50,\n",
    "    \"gopher\" : 51,\n",
    "    \"ftp_data\" : 52,\n",
    "    \"ftp\" : 53,\n",
    "    \"finger\" :  54,\n",
    "    \"exec\" : 55,\n",
    "    \"efs\" : 56,\n",
    "    \"ecr_i\" : 57,\n",
    "    \"eco_i\" : 58,\n",
    "    \"echo\" : 59,\n",
    "    \"domain_u\" : 60,\n",
    "    \"domain\" : 61,\n",
    "    \"discard\" : 62,\n",
    "    \"daytime\" : 63,\n",
    "    \"ctf\" : 64,\n",
    "    \"csnet_ns\" : 65,\n",
    "    \"courier\" : 66,\n",
    "    \"bgp\" : 67,\n",
    "    \"auth\" : 68,\n",
    "    \"aol\" : 69\n",
    "\n",
    "}\n",
    "\n",
    "flag_dict={\n",
    "    \"SH\" : 0,\n",
    "    \"SF\" : 1,\n",
    "    \"S3\" : 2,\n",
    "    \"S2\" : 3,\n",
    "    \"S1\" : 4,\n",
    "    \"S0\" : 5,\n",
    "    \"RSTR\" : 6,\n",
    "    \"RSTOS0\" : 7,\n",
    "    \"RSTO\" : 8,\n",
    "    \"REJ\" : 9,\n",
    "    \"OTH\" : 10\n",
    "\n",
    "}\n",
    "\n",
    "data1.replace(flag_dict, inplace = True)\n",
    "data1.replace(service_dict, inplace = True)\n",
    "data1.replace(protocol_dict, inplace = True)\n"
   ]
  },
  {
   "cell_type": "code",
   "execution_count": null,
   "metadata": {
    "colab": {},
    "colab_type": "code",
    "id": "XlzSGkGcLUAJ"
   },
   "outputs": [],
   "source": [
    "data1.head()"
   ]
  },
  {
   "cell_type": "code",
   "execution_count": null,
   "metadata": {
    "colab": {},
    "colab_type": "code",
    "id": "-7OpPg2fJGPd"
   },
   "outputs": [],
   "source": [
    "# data_src_bytes4 = data_src_bytes3[['normal','dos']]\n",
    "\n",
    "# Standardizing the features\n",
    "x = data1.values\n",
    "\n",
    "x = StandardScaler().fit_transform(x)\n",
    "\n",
    "pca = PCA(n_components=2)\n",
    "principalComponents = pca.fit_transform(x)\n",
    "\n",
    "principalDf = pd.DataFrame(data = principalComponents)\n",
    "\n",
    "# finalDf = pd.concat([principalDf, df[['target']]], axis = 1)\n",
    "finalDF = principalDf\n",
    "\n",
    "# finalDF.reset_index(level=0, inplace=True)"
   ]
  },
  {
   "cell_type": "code",
   "execution_count": null,
   "metadata": {
    "colab": {},
    "colab_type": "code",
    "id": "sUZYZDWXL1cL"
   },
   "outputs": [],
   "source": [
    "finalDF"
   ]
  }
 ],
 "metadata": {
  "accelerator": "GPU",
  "colab": {
   "collapsed_sections": [],
   "include_colab_link": true,
   "name": "plot-final-v1.4.ipynb",
   "provenance": [],
   "toc_visible": true
  },
  "kernelspec": {
   "display_name": "Python 3",
   "language": "python",
   "name": "python3"
  },
  "language_info": {
   "codemirror_mode": {
    "name": "ipython",
    "version": 3
   },
   "file_extension": ".py",
   "mimetype": "text/x-python",
   "name": "python",
   "nbconvert_exporter": "python",
   "pygments_lexer": "ipython3",
   "version": "3.7.4"
  }
 },
 "nbformat": 4,
 "nbformat_minor": 1
}
