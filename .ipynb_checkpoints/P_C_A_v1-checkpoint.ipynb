{
 "cells": [
  {
   "cell_type": "markdown",
   "metadata": {
    "colab_type": "text",
    "id": "mGu3r_lkClIv"
   },
   "source": [
    "#**Initialization**"
   ]
  },
  {
   "cell_type": "code",
   "execution_count": 1,
   "metadata": {
    "colab": {},
    "colab_type": "code",
    "id": "iugcO6p3CDpo"
   },
   "outputs": [],
   "source": [
    "import numpy as np\n",
    "import pandas as pd\n",
    "import matplotlib.pyplot as plt\n",
    "import seaborn as sns\n",
    "import sklearn\n",
    "\n",
    "from sklearn.decomposition import PCA\n",
    "from sklearn.preprocessing import MinMaxScaler"
   ]
  },
  {
   "cell_type": "code",
   "execution_count": 2,
   "metadata": {
    "colab": {},
    "colab_type": "code",
    "id": "qWveepWMCgqp"
   },
   "outputs": [],
   "source": [
    "url = 'https://raw.githubusercontent.com/hasobi/skripsi/master/dataset/KDDTrain%2B_v1.csv'"
   ]
  },
  {
   "cell_type": "code",
   "execution_count": 3,
   "metadata": {
    "colab": {},
    "colab_type": "code",
    "id": "xrG7iWPuCv6M"
   },
   "outputs": [],
   "source": [
    "# from google.colab import drive\n",
    "# drive.mount('/content/drive')"
   ]
  },
  {
   "cell_type": "code",
   "execution_count": 4,
   "metadata": {
    "colab": {},
    "colab_type": "code",
    "id": "bsGCXcuHCyAL"
   },
   "outputs": [],
   "source": [
    "# df = pd.read_csv('/content/drive/My Drive/Tugas Akhir a.k.a SKRIPSI/dataset/KDDTrain+_v1.csv')\n",
    "\n",
    "df = pd.read_csv(url)"
   ]
  },
  {
   "cell_type": "code",
   "execution_count": 5,
   "metadata": {
    "colab": {},
    "colab_type": "code",
    "id": "bOfbLozWC4xl"
   },
   "outputs": [],
   "source": [
    "data = df"
   ]
  },
  {
   "cell_type": "code",
   "execution_count": 6,
   "metadata": {
    "colab": {},
    "colab_type": "code",
    "id": "RpL3-6foC0hC"
   },
   "outputs": [],
   "source": [
    "# dicitionary untuk merubah tipe serangan menjadi lebih umum seperti Normal, DoS, Probe, U2R, dan R2L\n",
    "\n",
    "attack_dict={ #DOS\n",
    "    'back' : 'dos',\n",
    "    'land' : 'dos',\n",
    "    'neptune' : 'dos',\n",
    "    'pod' : 'dos',\n",
    "    'smurf' : 'dos',\n",
    "    'teardrop' : 'dos',\n",
    "    'apache2' : 'dos',\n",
    "    'udpstorm' : 'dos',\n",
    "    'processtable' : 'dos',\n",
    "    'worm' : 'dos',\n",
    "    'mailbomb' : 'dos',\n",
    "    \n",
    "    #probe\n",
    "    'satan' : 'probe',\n",
    "    'ipsweep' : 'probe',\n",
    "    'nmap' : 'probe',\n",
    "    'portsweep' : 'probe',\n",
    "    'mscan' : 'probe',\n",
    "    'saint' : 'probe',\n",
    "    \n",
    "    #R2L\n",
    "    'guess_passwd' : 'r2l',\n",
    "    'ftp_write' : 'r2l',\n",
    "    'imap' : 'r2l',\n",
    "    'phf' : 'r2l',\n",
    "    'multihop' : 'r2l',\n",
    "    'warezmaster' : 'r2l',\n",
    "    'warezclient' : 'r2l',\n",
    "    'spy' : 'r2l',\n",
    "    'xlock' : 'r2l',\n",
    "    'xsnoop': 'r2l',\n",
    "    'snmpguess' : 'r2l',\n",
    "    'snmpgetattack' : 'r2l',\n",
    "    'httptunnel' : 'r2l',\n",
    "    'sendmail' : 'r2l',\n",
    "    'named' : 'r2l',\n",
    "    \n",
    "    #U2R\n",
    "    'buffer_overflow' : 'u2r',\n",
    "    'loadmodule' : 'u2r',\n",
    "    'rootkit' : 'u2r',\n",
    "    'perl' : 'u2r',\n",
    "    'sqlattack' : 'u2r',\n",
    "    'xterm' : 'u2r',\n",
    "    'ps' : 'u2r'\n",
    "}\n",
    "\n",
    "data.replace(attack_dict, inplace = True)"
   ]
  },
  {
   "cell_type": "code",
   "execution_count": 7,
   "metadata": {
    "colab": {
     "base_uri": "https://localhost:8080/",
     "height": 224
    },
    "colab_type": "code",
    "id": "L9uEWX5XC6v1",
    "outputId": "83365491-5695-4d56-e12d-a64984ef15cf"
   },
   "outputs": [
    {
     "data": {
      "text/html": [
       "<div>\n",
       "<style scoped>\n",
       "    .dataframe tbody tr th:only-of-type {\n",
       "        vertical-align: middle;\n",
       "    }\n",
       "\n",
       "    .dataframe tbody tr th {\n",
       "        vertical-align: top;\n",
       "    }\n",
       "\n",
       "    .dataframe thead th {\n",
       "        text-align: right;\n",
       "    }\n",
       "</style>\n",
       "<table border=\"1\" class=\"dataframe\">\n",
       "  <thead>\n",
       "    <tr style=\"text-align: right;\">\n",
       "      <th></th>\n",
       "      <th>duration</th>\n",
       "      <th>protocol_type</th>\n",
       "      <th>service</th>\n",
       "      <th>flag</th>\n",
       "      <th>src_bytes</th>\n",
       "      <th>dst_bytes</th>\n",
       "      <th>land</th>\n",
       "      <th>wrong_fragment</th>\n",
       "      <th>urgent</th>\n",
       "      <th>hot</th>\n",
       "      <th>...</th>\n",
       "      <th>dst_host_same_srv_rate</th>\n",
       "      <th>dst_host_diff_srv_rate</th>\n",
       "      <th>dst_host_same_src_port_rate</th>\n",
       "      <th>dst_host_srv_diff_host_rate</th>\n",
       "      <th>dst_host_serror_rate</th>\n",
       "      <th>dst_host_srv_serror_rate</th>\n",
       "      <th>dst_host_rerror_rate</th>\n",
       "      <th>dst_host_srv_rerror_rate</th>\n",
       "      <th>num_packet</th>\n",
       "      <th>type_attack</th>\n",
       "    </tr>\n",
       "  </thead>\n",
       "  <tbody>\n",
       "    <tr>\n",
       "      <td>0</td>\n",
       "      <td>0</td>\n",
       "      <td>udp</td>\n",
       "      <td>other</td>\n",
       "      <td>SF</td>\n",
       "      <td>146</td>\n",
       "      <td>0</td>\n",
       "      <td>0</td>\n",
       "      <td>0</td>\n",
       "      <td>0</td>\n",
       "      <td>0</td>\n",
       "      <td>...</td>\n",
       "      <td>0.00</td>\n",
       "      <td>0.60</td>\n",
       "      <td>0.88</td>\n",
       "      <td>0.00</td>\n",
       "      <td>0.00</td>\n",
       "      <td>0.00</td>\n",
       "      <td>0.0</td>\n",
       "      <td>0.00</td>\n",
       "      <td>15</td>\n",
       "      <td>normal</td>\n",
       "    </tr>\n",
       "    <tr>\n",
       "      <td>1</td>\n",
       "      <td>0</td>\n",
       "      <td>tcp</td>\n",
       "      <td>private</td>\n",
       "      <td>S0</td>\n",
       "      <td>0</td>\n",
       "      <td>0</td>\n",
       "      <td>0</td>\n",
       "      <td>0</td>\n",
       "      <td>0</td>\n",
       "      <td>0</td>\n",
       "      <td>...</td>\n",
       "      <td>0.10</td>\n",
       "      <td>0.05</td>\n",
       "      <td>0.00</td>\n",
       "      <td>0.00</td>\n",
       "      <td>1.00</td>\n",
       "      <td>1.00</td>\n",
       "      <td>0.0</td>\n",
       "      <td>0.00</td>\n",
       "      <td>19</td>\n",
       "      <td>dos</td>\n",
       "    </tr>\n",
       "    <tr>\n",
       "      <td>2</td>\n",
       "      <td>0</td>\n",
       "      <td>tcp</td>\n",
       "      <td>http</td>\n",
       "      <td>SF</td>\n",
       "      <td>232</td>\n",
       "      <td>8153</td>\n",
       "      <td>0</td>\n",
       "      <td>0</td>\n",
       "      <td>0</td>\n",
       "      <td>0</td>\n",
       "      <td>...</td>\n",
       "      <td>1.00</td>\n",
       "      <td>0.00</td>\n",
       "      <td>0.03</td>\n",
       "      <td>0.04</td>\n",
       "      <td>0.03</td>\n",
       "      <td>0.01</td>\n",
       "      <td>0.0</td>\n",
       "      <td>0.01</td>\n",
       "      <td>21</td>\n",
       "      <td>normal</td>\n",
       "    </tr>\n",
       "    <tr>\n",
       "      <td>3</td>\n",
       "      <td>0</td>\n",
       "      <td>tcp</td>\n",
       "      <td>http</td>\n",
       "      <td>SF</td>\n",
       "      <td>199</td>\n",
       "      <td>420</td>\n",
       "      <td>0</td>\n",
       "      <td>0</td>\n",
       "      <td>0</td>\n",
       "      <td>0</td>\n",
       "      <td>...</td>\n",
       "      <td>1.00</td>\n",
       "      <td>0.00</td>\n",
       "      <td>0.00</td>\n",
       "      <td>0.00</td>\n",
       "      <td>0.00</td>\n",
       "      <td>0.00</td>\n",
       "      <td>0.0</td>\n",
       "      <td>0.00</td>\n",
       "      <td>21</td>\n",
       "      <td>normal</td>\n",
       "    </tr>\n",
       "    <tr>\n",
       "      <td>4</td>\n",
       "      <td>0</td>\n",
       "      <td>tcp</td>\n",
       "      <td>private</td>\n",
       "      <td>REJ</td>\n",
       "      <td>0</td>\n",
       "      <td>0</td>\n",
       "      <td>0</td>\n",
       "      <td>0</td>\n",
       "      <td>0</td>\n",
       "      <td>0</td>\n",
       "      <td>...</td>\n",
       "      <td>0.07</td>\n",
       "      <td>0.07</td>\n",
       "      <td>0.00</td>\n",
       "      <td>0.00</td>\n",
       "      <td>0.00</td>\n",
       "      <td>0.00</td>\n",
       "      <td>1.0</td>\n",
       "      <td>1.00</td>\n",
       "      <td>21</td>\n",
       "      <td>dos</td>\n",
       "    </tr>\n",
       "  </tbody>\n",
       "</table>\n",
       "<p>5 rows × 43 columns</p>\n",
       "</div>"
      ],
      "text/plain": [
       "   duration protocol_type  service flag  src_bytes  dst_bytes  land  \\\n",
       "0         0           udp    other   SF        146          0     0   \n",
       "1         0           tcp  private   S0          0          0     0   \n",
       "2         0           tcp     http   SF        232       8153     0   \n",
       "3         0           tcp     http   SF        199        420     0   \n",
       "4         0           tcp  private  REJ          0          0     0   \n",
       "\n",
       "   wrong_fragment  urgent  hot  ...  dst_host_same_srv_rate  \\\n",
       "0               0       0    0  ...                    0.00   \n",
       "1               0       0    0  ...                    0.10   \n",
       "2               0       0    0  ...                    1.00   \n",
       "3               0       0    0  ...                    1.00   \n",
       "4               0       0    0  ...                    0.07   \n",
       "\n",
       "   dst_host_diff_srv_rate  dst_host_same_src_port_rate  \\\n",
       "0                    0.60                         0.88   \n",
       "1                    0.05                         0.00   \n",
       "2                    0.00                         0.03   \n",
       "3                    0.00                         0.00   \n",
       "4                    0.07                         0.00   \n",
       "\n",
       "   dst_host_srv_diff_host_rate  dst_host_serror_rate  \\\n",
       "0                         0.00                  0.00   \n",
       "1                         0.00                  1.00   \n",
       "2                         0.04                  0.03   \n",
       "3                         0.00                  0.00   \n",
       "4                         0.00                  0.00   \n",
       "\n",
       "   dst_host_srv_serror_rate  dst_host_rerror_rate  dst_host_srv_rerror_rate  \\\n",
       "0                      0.00                   0.0                      0.00   \n",
       "1                      1.00                   0.0                      0.00   \n",
       "2                      0.01                   0.0                      0.01   \n",
       "3                      0.00                   0.0                      0.00   \n",
       "4                      0.00                   1.0                      1.00   \n",
       "\n",
       "   num_packet  type_attack  \n",
       "0          15       normal  \n",
       "1          19          dos  \n",
       "2          21       normal  \n",
       "3          21       normal  \n",
       "4          21          dos  \n",
       "\n",
       "[5 rows x 43 columns]"
      ]
     },
     "execution_count": 7,
     "metadata": {},
     "output_type": "execute_result"
    }
   ],
   "source": [
    "data.head()"
   ]
  },
  {
   "cell_type": "markdown",
   "metadata": {
    "colab_type": "text",
    "id": "FF2wwVT9DUeG"
   },
   "source": [
    "# Define Data"
   ]
  },
  {
   "cell_type": "code",
   "execution_count": 8,
   "metadata": {
    "colab": {},
    "colab_type": "code",
    "id": "3Qq0_q5CDWOD"
   },
   "outputs": [],
   "source": [
    "data1 = data.loc[data['type_attack'].isin(['normal','dos'])]"
   ]
  },
  {
   "cell_type": "code",
   "execution_count": 9,
   "metadata": {
    "colab": {
     "base_uri": "https://localhost:8080/",
     "height": 102
    },
    "colab_type": "code",
    "id": "rsofc4k6DgYb",
    "outputId": "ea527649-5595-4d87-dd2a-d69b01a05d62"
   },
   "outputs": [
    {
     "name": "stderr",
     "output_type": "stream",
     "text": [
      "C:\\Users\\sobi\\Anaconda3\\lib\\site-packages\\pandas\\core\\frame.py:4102: SettingWithCopyWarning: \n",
      "A value is trying to be set on a copy of a slice from a DataFrame\n",
      "\n",
      "See the caveats in the documentation: http://pandas.pydata.org/pandas-docs/stable/user_guide/indexing.html#returning-a-view-versus-a-copy\n",
      "  errors=errors,\n"
     ]
    }
   ],
   "source": [
    "data1.drop('num_packet', axis=1, inplace=True)"
   ]
  },
  {
   "cell_type": "code",
   "execution_count": 10,
   "metadata": {
    "colab": {
     "base_uri": "https://localhost:8080/",
     "height": 102
    },
    "colab_type": "code",
    "id": "C0y4RceTDh8a",
    "outputId": "01477d7a-2954-4286-9f97-bbdf3aef3e4b"
   },
   "outputs": [],
   "source": [
    "data1.drop('type_attack', axis=1, inplace=True)"
   ]
  },
  {
   "cell_type": "code",
   "execution_count": 11,
   "metadata": {
    "colab": {
     "base_uri": "https://localhost:8080/",
     "height": 102
    },
    "colab_type": "code",
    "id": "89aYXfD5Dmhv",
    "outputId": "d5c7c42e-3457-40c3-d314-71d90f0edb37"
   },
   "outputs": [
    {
     "name": "stderr",
     "output_type": "stream",
     "text": [
      "C:\\Users\\sobi\\Anaconda3\\lib\\site-packages\\pandas\\core\\frame.py:4263: SettingWithCopyWarning: \n",
      "A value is trying to be set on a copy of a slice from a DataFrame\n",
      "\n",
      "See the caveats in the documentation: http://pandas.pydata.org/pandas-docs/stable/user_guide/indexing.html#returning-a-view-versus-a-copy\n",
      "  method=method,\n"
     ]
    }
   ],
   "source": [
    "protocol_dict ={\n",
    "    \"udp\" : 0,\n",
    "    \"tcp\" : 1,\n",
    "    \"icmp\": 2\n",
    "}\n",
    "\n",
    "service_dict={\n",
    "    \"Z39_50\" : 0,\n",
    "    \"X11\" : 1,\n",
    "    \"whois\" : 2,\n",
    "    \"vmnet\" : 3,\n",
    "    \"uucp_path\" : 4,\n",
    "    \"uucp\" : 5,\n",
    "    \"urp_i\" : 6,\n",
    "    \"urh_i\" : 7,\n",
    "    \"time\" : 8,\n",
    "    \"tim_i\" : 9,\n",
    "    \"tftp_u\" : 10,\n",
    "    \"telnet\" : 11,\n",
    "    \"systat\" : 12,\n",
    "    \"supdup\" : 13,\n",
    "    \"sunrpc\" : 14,\n",
    "    \"ssh\" : 15,\n",
    "    \"sql_net\" : 16,\n",
    "    \"smtp\" : 17,\n",
    "    \"shell\" : 18,\n",
    "    \"rje\" : 19,\n",
    "    \"remote_job\" : 20,\n",
    "    \"red_i\" : 21,\n",
    "    \"private\" : 22,\n",
    "    \"printer\" : 23,\n",
    "    \"pop_3\" : 24,\n",
    "    \"pop_2\" : 25,\n",
    "    \"pm_dump\" : 26,\n",
    "    \"other\" : 27,\n",
    "    \"ntp_u\" : 28,\n",
    "    \"nntp\" : 29,\n",
    "    \"nnsp\" : 30,\n",
    "    \"netstat\" : 31,\n",
    "    \"netbios_ssn\" : 32,\n",
    "    \"netbios_ns\" : 33,\n",
    "    \"netbios_dgm\" : 34,\n",
    "    \"name\" : 35,\n",
    "    \"mtp\" : 36,\n",
    "    \"login\" : 37,\n",
    "    \"link\" : 38,\n",
    "    \"ldap\" : 39,\n",
    "    \"kshell\" : 40,\n",
    "    \"klogin\" : 41,\n",
    "    \"iso_tsap\" : 42,\n",
    "    \"IRC\" : 43,\n",
    "    \"imap4\" : 44,\n",
    "    \"http_8001\" : 45,\n",
    "    \"http_443\" : 46,\n",
    "    \"http_2784\" : 47,\n",
    "    \"http\" : 48,\n",
    "    \"hostnames\" : 49,\n",
    "    \"harvest\" : 50,\n",
    "    \"gopher\" : 51,\n",
    "    \"ftp_data\" : 52,\n",
    "    \"ftp\" : 53,\n",
    "    \"finger\" :  54,\n",
    "    \"exec\" : 55,\n",
    "    \"efs\" : 56,\n",
    "    \"ecr_i\" : 57,\n",
    "    \"eco_i\" : 58,\n",
    "    \"echo\" : 59,\n",
    "    \"domain_u\" : 60,\n",
    "    \"domain\" : 61,\n",
    "    \"discard\" : 62,\n",
    "    \"daytime\" : 63,\n",
    "    \"ctf\" : 64,\n",
    "    \"csnet_ns\" : 65,\n",
    "    \"courier\" : 66,\n",
    "    \"bgp\" : 67,\n",
    "    \"auth\" : 68,\n",
    "    \"aol\" : 69\n",
    "\n",
    "}\n",
    "\n",
    "flag_dict={\n",
    "    \"SH\" : 0,\n",
    "    \"SF\" : 1,\n",
    "    \"S3\" : 2,\n",
    "    \"S2\" : 3,\n",
    "    \"S1\" : 4,\n",
    "    \"S0\" : 5,\n",
    "    \"RSTR\" : 6,\n",
    "    \"RSTOS0\" : 7,\n",
    "    \"RSTO\" : 8,\n",
    "    \"REJ\" : 9,\n",
    "    \"OTH\" : 10\n",
    "\n",
    "}\n",
    "\n",
    "data1.replace(flag_dict, inplace = True)\n",
    "data1.replace(service_dict, inplace = True)\n",
    "data1.replace(protocol_dict, inplace = True)\n"
   ]
  },
  {
   "cell_type": "markdown",
   "metadata": {
    "colab_type": "text",
    "id": "a5qksE3yDMyg"
   },
   "source": [
    "# PCA 41 column"
   ]
  },
  {
   "cell_type": "code",
   "execution_count": 12,
   "metadata": {
    "colab": {},
    "colab_type": "code",
    "id": "6YcOnyK9DQCT"
   },
   "outputs": [],
   "source": [
    "from sklearn.preprocessing import StandardScaler\n",
    "from sklearn.decomposition import PCA"
   ]
  },
  {
   "cell_type": "code",
   "execution_count": 13,
   "metadata": {
    "colab": {
     "base_uri": "https://localhost:8080/",
     "height": 439
    },
    "colab_type": "code",
    "id": "BCKxdSB1F8he",
    "outputId": "b528b802-5538-4578-ff6d-e3bdb8059a26"
   },
   "outputs": [
    {
     "data": {
      "text/html": [
       "<div>\n",
       "<style scoped>\n",
       "    .dataframe tbody tr th:only-of-type {\n",
       "        vertical-align: middle;\n",
       "    }\n",
       "\n",
       "    .dataframe tbody tr th {\n",
       "        vertical-align: top;\n",
       "    }\n",
       "\n",
       "    .dataframe thead th {\n",
       "        text-align: right;\n",
       "    }\n",
       "</style>\n",
       "<table border=\"1\" class=\"dataframe\">\n",
       "  <thead>\n",
       "    <tr style=\"text-align: right;\">\n",
       "      <th></th>\n",
       "      <th>duration</th>\n",
       "      <th>protocol_type</th>\n",
       "      <th>service</th>\n",
       "      <th>flag</th>\n",
       "      <th>src_bytes</th>\n",
       "      <th>dst_bytes</th>\n",
       "      <th>land</th>\n",
       "      <th>wrong_fragment</th>\n",
       "      <th>urgent</th>\n",
       "      <th>hot</th>\n",
       "      <th>...</th>\n",
       "      <th>dst_host_count</th>\n",
       "      <th>dst_host_srv_count</th>\n",
       "      <th>dst_host_same_srv_rate</th>\n",
       "      <th>dst_host_diff_srv_rate</th>\n",
       "      <th>dst_host_same_src_port_rate</th>\n",
       "      <th>dst_host_srv_diff_host_rate</th>\n",
       "      <th>dst_host_serror_rate</th>\n",
       "      <th>dst_host_srv_serror_rate</th>\n",
       "      <th>dst_host_rerror_rate</th>\n",
       "      <th>dst_host_srv_rerror_rate</th>\n",
       "    </tr>\n",
       "  </thead>\n",
       "  <tbody>\n",
       "    <tr>\n",
       "      <td>0</td>\n",
       "      <td>0.572030</td>\n",
       "      <td>-0.113497</td>\n",
       "      <td>0.746554</td>\n",
       "      <td>-4.599044</td>\n",
       "      <td>-3.244708</td>\n",
       "      <td>-1.821022</td>\n",
       "      <td>-0.136741</td>\n",
       "      <td>-0.380010</td>\n",
       "      <td>1.291472</td>\n",
       "      <td>0.316671</td>\n",
       "      <td>...</td>\n",
       "      <td>-0.963147</td>\n",
       "      <td>0.722360</td>\n",
       "      <td>-0.006047</td>\n",
       "      <td>0.034227</td>\n",
       "      <td>-0.017748</td>\n",
       "      <td>0.042224</td>\n",
       "      <td>-0.018583</td>\n",
       "      <td>0.054031</td>\n",
       "      <td>-0.001606</td>\n",
       "      <td>-2.025396e-17</td>\n",
       "    </tr>\n",
       "    <tr>\n",
       "      <td>1</td>\n",
       "      <td>3.816695</td>\n",
       "      <td>-1.187686</td>\n",
       "      <td>-0.017001</td>\n",
       "      <td>0.596179</td>\n",
       "      <td>-0.071809</td>\n",
       "      <td>-0.208397</td>\n",
       "      <td>-0.091884</td>\n",
       "      <td>-0.023221</td>\n",
       "      <td>-0.002556</td>\n",
       "      <td>0.025236</td>\n",
       "      <td>...</td>\n",
       "      <td>-0.199279</td>\n",
       "      <td>0.154129</td>\n",
       "      <td>-0.038288</td>\n",
       "      <td>-0.016944</td>\n",
       "      <td>0.002379</td>\n",
       "      <td>0.001301</td>\n",
       "      <td>0.000755</td>\n",
       "      <td>0.004520</td>\n",
       "      <td>0.000848</td>\n",
       "      <td>-4.228949e-17</td>\n",
       "    </tr>\n",
       "    <tr>\n",
       "      <td>2</td>\n",
       "      <td>-2.627736</td>\n",
       "      <td>-0.588114</td>\n",
       "      <td>-0.146299</td>\n",
       "      <td>1.130697</td>\n",
       "      <td>0.096293</td>\n",
       "      <td>-0.276581</td>\n",
       "      <td>0.355233</td>\n",
       "      <td>-0.010468</td>\n",
       "      <td>-0.047542</td>\n",
       "      <td>-0.043964</td>\n",
       "      <td>...</td>\n",
       "      <td>-0.091170</td>\n",
       "      <td>-0.104928</td>\n",
       "      <td>0.052555</td>\n",
       "      <td>0.268434</td>\n",
       "      <td>-0.083797</td>\n",
       "      <td>-0.238098</td>\n",
       "      <td>-0.081580</td>\n",
       "      <td>0.025233</td>\n",
       "      <td>0.000425</td>\n",
       "      <td>-1.074602e-16</td>\n",
       "    </tr>\n",
       "    <tr>\n",
       "      <td>3</td>\n",
       "      <td>-2.408812</td>\n",
       "      <td>-0.591713</td>\n",
       "      <td>-0.251949</td>\n",
       "      <td>0.355271</td>\n",
       "      <td>0.661953</td>\n",
       "      <td>0.272510</td>\n",
       "      <td>-0.783401</td>\n",
       "      <td>0.097655</td>\n",
       "      <td>-0.204831</td>\n",
       "      <td>-0.258324</td>\n",
       "      <td>...</td>\n",
       "      <td>0.085304</td>\n",
       "      <td>0.065232</td>\n",
       "      <td>-0.015227</td>\n",
       "      <td>0.010703</td>\n",
       "      <td>0.008145</td>\n",
       "      <td>0.022565</td>\n",
       "      <td>-0.004970</td>\n",
       "      <td>-0.002273</td>\n",
       "      <td>0.001975</td>\n",
       "      <td>-1.472210e-16</td>\n",
       "    </tr>\n",
       "    <tr>\n",
       "      <td>4</td>\n",
       "      <td>2.144669</td>\n",
       "      <td>7.056901</td>\n",
       "      <td>-0.009669</td>\n",
       "      <td>0.002356</td>\n",
       "      <td>0.017880</td>\n",
       "      <td>0.173285</td>\n",
       "      <td>-0.796322</td>\n",
       "      <td>0.155840</td>\n",
       "      <td>-0.039598</td>\n",
       "      <td>-0.156570</td>\n",
       "      <td>...</td>\n",
       "      <td>-0.231718</td>\n",
       "      <td>0.117152</td>\n",
       "      <td>0.005072</td>\n",
       "      <td>0.041924</td>\n",
       "      <td>-0.002188</td>\n",
       "      <td>0.045803</td>\n",
       "      <td>0.018157</td>\n",
       "      <td>0.003892</td>\n",
       "      <td>0.000045</td>\n",
       "      <td>9.246184e-18</td>\n",
       "    </tr>\n",
       "    <tr>\n",
       "      <td>...</td>\n",
       "      <td>...</td>\n",
       "      <td>...</td>\n",
       "      <td>...</td>\n",
       "      <td>...</td>\n",
       "      <td>...</td>\n",
       "      <td>...</td>\n",
       "      <td>...</td>\n",
       "      <td>...</td>\n",
       "      <td>...</td>\n",
       "      <td>...</td>\n",
       "      <td>...</td>\n",
       "      <td>...</td>\n",
       "      <td>...</td>\n",
       "      <td>...</td>\n",
       "      <td>...</td>\n",
       "      <td>...</td>\n",
       "      <td>...</td>\n",
       "      <td>...</td>\n",
       "      <td>...</td>\n",
       "      <td>...</td>\n",
       "      <td>...</td>\n",
       "    </tr>\n",
       "    <tr>\n",
       "      <td>113264</td>\n",
       "      <td>3.865583</td>\n",
       "      <td>-1.191075</td>\n",
       "      <td>-0.042497</td>\n",
       "      <td>0.322046</td>\n",
       "      <td>0.167070</td>\n",
       "      <td>-0.041572</td>\n",
       "      <td>0.061032</td>\n",
       "      <td>-0.005641</td>\n",
       "      <td>-0.047674</td>\n",
       "      <td>0.013842</td>\n",
       "      <td>...</td>\n",
       "      <td>0.032640</td>\n",
       "      <td>-0.023388</td>\n",
       "      <td>0.008188</td>\n",
       "      <td>-0.015628</td>\n",
       "      <td>0.011346</td>\n",
       "      <td>-0.004801</td>\n",
       "      <td>0.002108</td>\n",
       "      <td>-0.001575</td>\n",
       "      <td>0.001031</td>\n",
       "      <td>7.793886e-19</td>\n",
       "    </tr>\n",
       "    <tr>\n",
       "      <td>113265</td>\n",
       "      <td>-1.688780</td>\n",
       "      <td>-0.458238</td>\n",
       "      <td>-0.097977</td>\n",
       "      <td>-0.731804</td>\n",
       "      <td>0.159732</td>\n",
       "      <td>-0.270448</td>\n",
       "      <td>-2.055399</td>\n",
       "      <td>0.039122</td>\n",
       "      <td>0.189605</td>\n",
       "      <td>0.575613</td>\n",
       "      <td>...</td>\n",
       "      <td>0.158109</td>\n",
       "      <td>-0.133378</td>\n",
       "      <td>0.029733</td>\n",
       "      <td>-0.037550</td>\n",
       "      <td>-0.002595</td>\n",
       "      <td>-0.047375</td>\n",
       "      <td>-0.003050</td>\n",
       "      <td>-0.009855</td>\n",
       "      <td>0.003209</td>\n",
       "      <td>5.707925e-19</td>\n",
       "    </tr>\n",
       "    <tr>\n",
       "      <td>113266</td>\n",
       "      <td>-0.375499</td>\n",
       "      <td>-0.663823</td>\n",
       "      <td>0.153631</td>\n",
       "      <td>0.355446</td>\n",
       "      <td>-0.881606</td>\n",
       "      <td>-0.429550</td>\n",
       "      <td>-0.811276</td>\n",
       "      <td>0.099759</td>\n",
       "      <td>0.033982</td>\n",
       "      <td>-0.187322</td>\n",
       "      <td>...</td>\n",
       "      <td>0.135953</td>\n",
       "      <td>-0.357977</td>\n",
       "      <td>0.148998</td>\n",
       "      <td>-0.878233</td>\n",
       "      <td>-0.861352</td>\n",
       "      <td>0.114385</td>\n",
       "      <td>-0.048985</td>\n",
       "      <td>0.138741</td>\n",
       "      <td>0.003102</td>\n",
       "      <td>1.190215e-18</td>\n",
       "    </tr>\n",
       "    <tr>\n",
       "      <td>113267</td>\n",
       "      <td>3.756811</td>\n",
       "      <td>-1.188278</td>\n",
       "      <td>-0.092241</td>\n",
       "      <td>0.432825</td>\n",
       "      <td>0.211388</td>\n",
       "      <td>0.097048</td>\n",
       "      <td>0.092474</td>\n",
       "      <td>-0.018064</td>\n",
       "      <td>-0.046976</td>\n",
       "      <td>0.041462</td>\n",
       "      <td>...</td>\n",
       "      <td>-0.162041</td>\n",
       "      <td>0.108997</td>\n",
       "      <td>-0.032067</td>\n",
       "      <td>0.000454</td>\n",
       "      <td>0.005022</td>\n",
       "      <td>0.007590</td>\n",
       "      <td>0.000365</td>\n",
       "      <td>0.004398</td>\n",
       "      <td>-0.000673</td>\n",
       "      <td>5.881840e-19</td>\n",
       "    </tr>\n",
       "    <tr>\n",
       "      <td>113268</td>\n",
       "      <td>-1.568450</td>\n",
       "      <td>-0.462844</td>\n",
       "      <td>-0.008779</td>\n",
       "      <td>-0.336219</td>\n",
       "      <td>-0.341570</td>\n",
       "      <td>-0.011711</td>\n",
       "      <td>-0.122352</td>\n",
       "      <td>0.028041</td>\n",
       "      <td>0.043042</td>\n",
       "      <td>-0.258285</td>\n",
       "      <td>...</td>\n",
       "      <td>0.005075</td>\n",
       "      <td>-0.225858</td>\n",
       "      <td>0.034254</td>\n",
       "      <td>0.125596</td>\n",
       "      <td>0.035482</td>\n",
       "      <td>0.026872</td>\n",
       "      <td>0.015610</td>\n",
       "      <td>-0.017377</td>\n",
       "      <td>-0.002864</td>\n",
       "      <td>1.168106e-18</td>\n",
       "    </tr>\n",
       "  </tbody>\n",
       "</table>\n",
       "<p>113269 rows × 41 columns</p>\n",
       "</div>"
      ],
      "text/plain": [
       "        duration  protocol_type   service      flag  src_bytes  dst_bytes  \\\n",
       "0       0.572030      -0.113497  0.746554 -4.599044  -3.244708  -1.821022   \n",
       "1       3.816695      -1.187686 -0.017001  0.596179  -0.071809  -0.208397   \n",
       "2      -2.627736      -0.588114 -0.146299  1.130697   0.096293  -0.276581   \n",
       "3      -2.408812      -0.591713 -0.251949  0.355271   0.661953   0.272510   \n",
       "4       2.144669       7.056901 -0.009669  0.002356   0.017880   0.173285   \n",
       "...          ...            ...       ...       ...        ...        ...   \n",
       "113264  3.865583      -1.191075 -0.042497  0.322046   0.167070  -0.041572   \n",
       "113265 -1.688780      -0.458238 -0.097977 -0.731804   0.159732  -0.270448   \n",
       "113266 -0.375499      -0.663823  0.153631  0.355446  -0.881606  -0.429550   \n",
       "113267  3.756811      -1.188278 -0.092241  0.432825   0.211388   0.097048   \n",
       "113268 -1.568450      -0.462844 -0.008779 -0.336219  -0.341570  -0.011711   \n",
       "\n",
       "            land  wrong_fragment    urgent       hot  ...  dst_host_count  \\\n",
       "0      -0.136741       -0.380010  1.291472  0.316671  ...       -0.963147   \n",
       "1      -0.091884       -0.023221 -0.002556  0.025236  ...       -0.199279   \n",
       "2       0.355233       -0.010468 -0.047542 -0.043964  ...       -0.091170   \n",
       "3      -0.783401        0.097655 -0.204831 -0.258324  ...        0.085304   \n",
       "4      -0.796322        0.155840 -0.039598 -0.156570  ...       -0.231718   \n",
       "...          ...             ...       ...       ...  ...             ...   \n",
       "113264  0.061032       -0.005641 -0.047674  0.013842  ...        0.032640   \n",
       "113265 -2.055399        0.039122  0.189605  0.575613  ...        0.158109   \n",
       "113266 -0.811276        0.099759  0.033982 -0.187322  ...        0.135953   \n",
       "113267  0.092474       -0.018064 -0.046976  0.041462  ...       -0.162041   \n",
       "113268 -0.122352        0.028041  0.043042 -0.258285  ...        0.005075   \n",
       "\n",
       "        dst_host_srv_count  dst_host_same_srv_rate  dst_host_diff_srv_rate  \\\n",
       "0                 0.722360               -0.006047                0.034227   \n",
       "1                 0.154129               -0.038288               -0.016944   \n",
       "2                -0.104928                0.052555                0.268434   \n",
       "3                 0.065232               -0.015227                0.010703   \n",
       "4                 0.117152                0.005072                0.041924   \n",
       "...                    ...                     ...                     ...   \n",
       "113264           -0.023388                0.008188               -0.015628   \n",
       "113265           -0.133378                0.029733               -0.037550   \n",
       "113266           -0.357977                0.148998               -0.878233   \n",
       "113267            0.108997               -0.032067                0.000454   \n",
       "113268           -0.225858                0.034254                0.125596   \n",
       "\n",
       "        dst_host_same_src_port_rate  dst_host_srv_diff_host_rate  \\\n",
       "0                         -0.017748                     0.042224   \n",
       "1                          0.002379                     0.001301   \n",
       "2                         -0.083797                    -0.238098   \n",
       "3                          0.008145                     0.022565   \n",
       "4                         -0.002188                     0.045803   \n",
       "...                             ...                          ...   \n",
       "113264                     0.011346                    -0.004801   \n",
       "113265                    -0.002595                    -0.047375   \n",
       "113266                    -0.861352                     0.114385   \n",
       "113267                     0.005022                     0.007590   \n",
       "113268                     0.035482                     0.026872   \n",
       "\n",
       "        dst_host_serror_rate  dst_host_srv_serror_rate  dst_host_rerror_rate  \\\n",
       "0                  -0.018583                  0.054031             -0.001606   \n",
       "1                   0.000755                  0.004520              0.000848   \n",
       "2                  -0.081580                  0.025233              0.000425   \n",
       "3                  -0.004970                 -0.002273              0.001975   \n",
       "4                   0.018157                  0.003892              0.000045   \n",
       "...                      ...                       ...                   ...   \n",
       "113264              0.002108                 -0.001575              0.001031   \n",
       "113265             -0.003050                 -0.009855              0.003209   \n",
       "113266             -0.048985                  0.138741              0.003102   \n",
       "113267              0.000365                  0.004398             -0.000673   \n",
       "113268              0.015610                 -0.017377             -0.002864   \n",
       "\n",
       "        dst_host_srv_rerror_rate  \n",
       "0                  -2.025396e-17  \n",
       "1                  -4.228949e-17  \n",
       "2                  -1.074602e-16  \n",
       "3                  -1.472210e-16  \n",
       "4                   9.246184e-18  \n",
       "...                          ...  \n",
       "113264              7.793886e-19  \n",
       "113265              5.707925e-19  \n",
       "113266              1.190215e-18  \n",
       "113267              5.881840e-19  \n",
       "113268              1.168106e-18  \n",
       "\n",
       "[113269 rows x 41 columns]"
      ]
     },
     "execution_count": 13,
     "metadata": {},
     "output_type": "execute_result"
    }
   ],
   "source": [
    "# data_src_bytes4 = data_src_bytes3[['normal','dos']]\n",
    "\n",
    "# Standardizing the features\n",
    "x = data1.values\n",
    "\n",
    "x = StandardScaler().fit_transform(x)\n",
    "\n",
    "pca = PCA(n_components=41)\n",
    "principalComponents = pca.fit_transform(x)\n",
    "\n",
    "# principalDf = pd.DataFrame(data = principalComponents)\n",
    "\n",
    "principalDf = pd.DataFrame(data = principalComponents, columns = ['duration','protocol_type','service','flag','src_bytes','dst_bytes','land','wrong_fragment','urgent','hot','num_failed_logins','logged_in','num_compromised','root_shell','su_attempted','num_root','num_file_creations','num_shells','num_access_files','num_outbound_cmds','is_host_login','is_guest_login','count','srv_count','serror_rate','srv_serror_rate','rerror_rate','srv_rerror_rate','same_srv_rate','diff_srv_rate','srv_diff_host_rate','dst_host_count','dst_host_srv_count','dst_host_same_srv_rate','dst_host_diff_srv_rate','dst_host_same_src_port_rate','dst_host_srv_diff_host_rate','dst_host_serror_rate','dst_host_srv_serror_rate','dst_host_rerror_rate','dst_host_srv_rerror_rate'])\n",
    "# finalDf = pd.concat([principalDf, df[['target']]], axis = 1)\n",
    "finalDF = principalDf\n",
    "\n",
    "# finalDF.reset_index(level=0, inplace=True)\n",
    "finalDF\n"
   ]
  },
  {
   "cell_type": "markdown",
   "metadata": {
    "colab_type": "text",
    "id": "QDsLYW9-kAGU"
   },
   "source": [
    "# PCA 5 terbaik dengan cara beda\n",
    "[towards datascience](https://towardsdatascience.com/an-approach-to-choosing-the-number-of-components-in-a-principal-component-analysis-pca-3b9f3d6e73fe)"
   ]
  },
  {
   "cell_type": "code",
   "execution_count": 14,
   "metadata": {
    "colab": {},
    "colab_type": "code",
    "id": "x10DbqUVhQP2"
   },
   "outputs": [],
   "source": [
    "scaler = MinMaxScaler(feature_range=[0, 1])\n",
    "data_rescaled = scaler.fit_transform(data1.iloc[:,:])"
   ]
  },
  {
   "cell_type": "code",
   "execution_count": 15,
   "metadata": {
    "colab": {
     "base_uri": "https://localhost:8080/",
     "height": 295
    },
    "colab_type": "code",
    "id": "rXb8HY3mjr2Y",
    "outputId": "99f5a729-32f9-49c9-dc11-2e8b9ea0daf2"
   },
   "outputs": [
    {
     "data": {
      "image/png": "[encoded data removed]",
      "text/plain": [
       "<Figure size 432x288 with 1 Axes>"
      ]
     },
     "metadata": {
      "needs_background": "light"
     },
     "output_type": "display_data"
    }
   ],
   "source": [
    "#Fitting the PCA algorithm with our Data\n",
    "pca = PCA().fit(data_rescaled)\n",
    "#Plotting the Cumulative Summation of the Explained Variance\n",
    "plt.figure()\n",
    "plt.plot(np.cumsum(pca.explained_variance_ratio_))\n",
    "plt.xlabel('Number of Components')\n",
    "plt.ylabel('Variance (%)') #for each component\n",
    "plt.title('Pulsar Dataset Explained Variance')\n",
    "plt.show()"
   ]
  },
  {
   "cell_type": "code",
   "execution_count": 16,
   "metadata": {
    "colab": {},
    "colab_type": "code",
    "id": "BVMnIExyj-US"
   },
   "outputs": [],
   "source": [
    "pca = PCA(n_components=5)\n",
    "dataset = pca.fit_transform(data_rescaled)"
   ]
  },
  {
   "cell_type": "code",
   "execution_count": 17,
   "metadata": {},
   "outputs": [
    {
     "data": {
      "text/plain": [
       "array([[ 0.18847314,  0.44401665,  0.64742034,  1.09644151,  0.01660773],\n",
       "       [ 1.70506774, -0.27873403, -0.08850229, -0.08767715, -0.02404567],\n",
       "       [-1.03754382, -0.42476886, -0.41846883, -0.22433386,  0.23517192],\n",
       "       ...,\n",
       "       [-0.20089157, -0.14256299, -0.21111035,  0.69570128, -0.62144819],\n",
       "       [ 1.72602544, -0.26316147, -0.03283361, -0.07624842,  0.01095579],\n",
       "       [-0.63058239, -0.0768932 ,  0.04211229,  0.56982329, -0.4453079 ]])"
      ]
     },
     "execution_count": 17,
     "metadata": {},
     "output_type": "execute_result"
    }
   ],
   "source": [
    "dataset"
   ]
  },
  {
   "cell_type": "code",
   "execution_count": 18,
   "metadata": {
    "colab": {
     "base_uri": "https://localhost:8080/",
     "height": 34
    },
    "colab_type": "code",
    "id": "J6bUYhpVkRKy",
    "outputId": "dd273dcb-1f08-40b4-c373-9676ab470aab"
   },
   "outputs": [
    {
     "data": {
      "text/plain": [
       "'HOW IT WORKS?'"
      ]
     },
     "execution_count": 18,
     "metadata": {},
     "output_type": "execute_result"
    }
   ],
   "source": [
    "'''HOW IT WORKS?'''"
   ]
  },
  {
   "cell_type": "code",
   "execution_count": 19,
   "metadata": {
    "colab": {},
    "colab_type": "code",
    "id": "l7R4lOD0kX2B"
   },
   "outputs": [],
   "source": [
    "data_mean = np.mean(data_rescaled)"
   ]
  },
  {
   "cell_type": "code",
   "execution_count": 20,
   "metadata": {
    "colab": {
     "base_uri": "https://localhost:8080/",
     "height": 238
    },
    "colab_type": "code",
    "id": "xJVTHxkSkbkd",
    "outputId": "8bb78b57-ac21-475c-bbe2-6b22e2cfe705"
   },
   "outputs": [
    {
     "data": {
      "text/plain": [
       "array([[-0.15372345, -0.15372345,  0.24333537, ..., -0.15372345,\n",
       "        -0.15372345, -0.15372345],\n",
       "       [-0.15372345,  0.34627655,  0.16980596, ...,  0.84627655,\n",
       "        -0.15372345, -0.15372345],\n",
       "       [-0.15372345,  0.34627655,  0.5521589 , ..., -0.14372345,\n",
       "        -0.15372345, -0.14372345],\n",
       "       ...,\n",
       "       [-0.15372345,  0.34627655,  0.09627655, ..., -0.15372345,\n",
       "        -0.14372345, -0.15372345],\n",
       "       [-0.15372345,  0.34627655,  0.44921773, ...,  0.84627655,\n",
       "        -0.15372345, -0.15372345],\n",
       "       [-0.15372345,  0.34627655,  0.61098243, ..., -0.15372345,\n",
       "        -0.15372345, -0.15372345]])"
      ]
     },
     "execution_count": 20,
     "metadata": {},
     "output_type": "execute_result"
    }
   ],
   "source": [
    "data_center = data_rescaled - data_mean\n",
    "\n",
    "data_center"
   ]
  },
  {
   "cell_type": "code",
   "execution_count": 21,
   "metadata": {
    "colab": {},
    "colab_type": "code",
    "id": "4LLQsuznkelh"
   },
   "outputs": [
    {
     "ename": "MemoryError",
     "evalue": "",
     "output_type": "error",
     "traceback": [
      "\u001b[1;31m---------------------------------------------------------------------------\u001b[0m",
      "\u001b[1;31mMemoryError\u001b[0m                               Traceback (most recent call last)",
      "\u001b[1;32m<ipython-input-21-1005fd100d62>\u001b[0m in \u001b[0;36m<module>\u001b[1;34m\u001b[0m\n\u001b[1;32m----> 1\u001b[1;33m \u001b[0mcov_matrix\u001b[0m \u001b[1;33m=\u001b[0m \u001b[0mnp\u001b[0m\u001b[1;33m.\u001b[0m\u001b[0mcov\u001b[0m\u001b[1;33m(\u001b[0m\u001b[0mdata_center\u001b[0m\u001b[1;33m)\u001b[0m\u001b[1;33m\u001b[0m\u001b[1;33m\u001b[0m\u001b[0m\n\u001b[0m",
      "\u001b[1;32m~\\Anaconda3\\lib\\site-packages\\numpy\\lib\\function_base.py\u001b[0m in \u001b[0;36mcov\u001b[1;34m(m, y, rowvar, bias, ddof, fweights, aweights)\u001b[0m\n\u001b[0;32m   2448\u001b[0m     \u001b[1;32melse\u001b[0m\u001b[1;33m:\u001b[0m\u001b[1;33m\u001b[0m\u001b[1;33m\u001b[0m\u001b[0m\n\u001b[0;32m   2449\u001b[0m         \u001b[0mX_T\u001b[0m \u001b[1;33m=\u001b[0m \u001b[1;33m(\u001b[0m\u001b[0mX\u001b[0m\u001b[1;33m*\u001b[0m\u001b[0mw\u001b[0m\u001b[1;33m)\u001b[0m\u001b[1;33m.\u001b[0m\u001b[0mT\u001b[0m\u001b[1;33m\u001b[0m\u001b[1;33m\u001b[0m\u001b[0m\n\u001b[1;32m-> 2450\u001b[1;33m     \u001b[0mc\u001b[0m \u001b[1;33m=\u001b[0m \u001b[0mdot\u001b[0m\u001b[1;33m(\u001b[0m\u001b[0mX\u001b[0m\u001b[1;33m,\u001b[0m \u001b[0mX_T\u001b[0m\u001b[1;33m.\u001b[0m\u001b[0mconj\u001b[0m\u001b[1;33m(\u001b[0m\u001b[1;33m)\u001b[0m\u001b[1;33m)\u001b[0m\u001b[1;33m\u001b[0m\u001b[1;33m\u001b[0m\u001b[0m\n\u001b[0m\u001b[0;32m   2451\u001b[0m     \u001b[0mc\u001b[0m \u001b[1;33m*=\u001b[0m \u001b[0mnp\u001b[0m\u001b[1;33m.\u001b[0m\u001b[0mtrue_divide\u001b[0m\u001b[1;33m(\u001b[0m\u001b[1;36m1\u001b[0m\u001b[1;33m,\u001b[0m \u001b[0mfact\u001b[0m\u001b[1;33m)\u001b[0m\u001b[1;33m\u001b[0m\u001b[1;33m\u001b[0m\u001b[0m\n\u001b[0;32m   2452\u001b[0m     \u001b[1;32mreturn\u001b[0m \u001b[0mc\u001b[0m\u001b[1;33m.\u001b[0m\u001b[0msqueeze\u001b[0m\u001b[1;33m(\u001b[0m\u001b[1;33m)\u001b[0m\u001b[1;33m\u001b[0m\u001b[1;33m\u001b[0m\u001b[0m\n",
      "\u001b[1;31mMemoryError\u001b[0m: "
     ]
    }
   ],
   "source": [
    "cov_matrix = np.cov(data_center)"
   ]
  },
  {
   "cell_type": "code",
   "execution_count": null,
   "metadata": {
    "colab": {},
    "colab_type": "code",
    "id": "oGrkwSyYkqXw"
   },
   "outputs": [],
   "source": [
    "eigenval, eigenvec = np.linalg.eig(cov_matrix)"
   ]
  },
  {
   "cell_type": "code",
   "execution_count": null,
   "metadata": {
    "colab": {},
    "colab_type": "code",
    "id": "zXVxI3vJkxGn"
   },
   "outputs": [],
   "source": [
    "significance = [np.abs(i)/np.sum(eigenval) for i in eigenval]\n",
    "#Plotting the Cumulative Summation of the Explained Variance\n",
    "plt.figure()\n",
    "plt.plot(np.cumsum(significance))\n",
    "plt.xlabel('Number of Components')\n",
    "plt.ylabel('Variance (%)') #for each component\n",
    "plt.title('Pulsar Dataset Explained Variance')\n",
    "plt.show()"
   ]
  }
 ],
 "metadata": {
  "accelerator": "GPU",
  "colab": {
   "collapsed_sections": [],
   "machine_shape": "hm",
   "name": "P.C.A-v1.ipynb",
   "provenance": [],
   "toc_visible": true
  },
  "kernelspec": {
   "display_name": "Python 3",
   "language": "python",
   "name": "python3"
  },
  "language_info": {
   "codemirror_mode": {
    "name": "ipython",
    "version": 3
   },
   "file_extension": ".py",
   "mimetype": "text/x-python",
   "name": "python",
   "nbconvert_exporter": "python",
   "pygments_lexer": "ipython3",
   "version": "3.7.4"
  }
 },
 "nbformat": 4,
 "nbformat_minor": 1
}
